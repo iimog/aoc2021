{
 "cells": [
  {
   "cell_type": "code",
   "execution_count": 1,
   "id": "eddb1e31-95c2-409c-b01d-95a27dd5c2df",
   "metadata": {},
   "outputs": [],
   "source": [
    "using CSV\n",
    "using DataFrames"
   ]
  },
  {
   "cell_type": "code",
   "execution_count": 11,
   "id": "2ed61581-7aa7-4221-8aff-0b3643c066f9",
   "metadata": {},
   "outputs": [],
   "source": [
    "data = CSV.read(\"1/input1.csv\", DataFrame, header=false).Column1;"
   ]
  },
  {
   "cell_type": "code",
   "execution_count": 16,
   "id": "02c45064-88a8-4e75-9eb9-4e3db57f418b",
   "metadata": {},
   "outputs": [
    {
     "data": {
      "text/plain": [
       "1616"
      ]
     },
     "execution_count": 16,
     "metadata": {},
     "output_type": "execute_result"
    }
   ],
   "source": [
    "sum((data[1:end-1] .- data[2:end]) .< 0)"
   ]
  },
  {
   "cell_type": "code",
   "execution_count": 17,
   "id": "7facfae7-fa5d-49bb-a224-74a3abf2ac12",
   "metadata": {},
   "outputs": [
    {
     "data": {
      "text/plain": [
       "1998-element Vector{Int64}:\n",
       "   477\n",
       "   488\n",
       "   504\n",
       "   523\n",
       "   549\n",
       "   569\n",
       "   592\n",
       "   616\n",
       "   628\n",
       "   633\n",
       "   651\n",
       "   681\n",
       "   711\n",
       "     ⋮\n",
       " 26562\n",
       " 26574\n",
       " 26590\n",
       " 26617\n",
       " 26647\n",
       " 26667\n",
       " 26662\n",
       " 26657\n",
       " 26661\n",
       " 26668\n",
       " 26675\n",
       " 26682"
      ]
     },
     "execution_count": 17,
     "metadata": {},
     "output_type": "execute_result"
    }
   ],
   "source": [
    "window3 = data[1:end-2] .+ data[2:end-1] .+ data[3:end]"
   ]
  },
  {
   "cell_type": "code",
   "execution_count": 18,
   "id": "874774c3-c419-4310-a6a1-fdd2e8682a04",
   "metadata": {},
   "outputs": [
    {
     "data": {
      "text/plain": [
       "1645"
      ]
     },
     "execution_count": 18,
     "metadata": {},
     "output_type": "execute_result"
    }
   ],
   "source": [
    "sum((window3[1:end-1] .- window3[2:end]) .< 0)"
   ]
  },
  {
   "cell_type": "code",
   "execution_count": null,
   "id": "ce969246-9f29-422f-b1db-a4515f360b7a",
   "metadata": {},
   "outputs": [],
   "source": []
  }
 ],
 "metadata": {
  "kernelspec": {
   "display_name": "Julia 1.6.1",
   "language": "julia",
   "name": "julia-1.6"
  },
  "language_info": {
   "file_extension": ".jl",
   "mimetype": "application/julia",
   "name": "julia",
   "version": "1.6.1"
  }
 },
 "nbformat": 4,
 "nbformat_minor": 5
}
