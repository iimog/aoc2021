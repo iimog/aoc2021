{
 "cells": [
  {
   "cell_type": "code",
   "execution_count": 1,
   "id": "69b919be-8c91-48d2-a782-6b36c03b36bd",
   "metadata": {},
   "outputs": [
    {
     "data": {
      "text/plain": [
       "98-element Vector{String}:\n",
       " \"{<{[<((<[<({<{(){}}(()())>[<<><>>((){})]}(<<{}{}>(<><>)>))(<[(<>{}){()()}]{{{}[]}(()())}>[\"\n",
       " \"((<{[<([<<{[<(()())([]())>)<<<{}{}>{[][]}>{<<>>(()[])}>}<(((()[])[{}<>])[<[]{}>{{}[]}])[[({}{})\"\n",
       " \"({(<[([((<(<[(<>{}){()[]}]<[[]<>]<(){}]>><{(<>())[<>{}]}{(<>[])(<>{})}>)([(<(){}>[(){}]){{()[]}{<>{}}}][<<[]\"\n",
       " \"{{{[(([{{{[{[(()())[<>[]]]{([]{}){()<>}}}]{{{((){})[[][]]}[[{}{}]<[]()>]}(<(<>()){{}{}>>([{}()\"\n",
       " \"[<{{{[[(<[(([<{}[]>{()()}][[<>{}]]))]([<<{{}[]}>>([(<>[])<(){}>][[{}{}](()())])]{[{[<><>]}((<>{})[\"\n",
       " \"{<[<[[<<(<<<<(<>[])(<>[])>{([]())}>[{{[]()}}<({}())[<>()]>]>{[((<>{})[[]<>])([()<>]{<>()})](((<>()\"\n",
       " \"([({({[{(([<[<[]>]>]<<({[]()}<[]<>>)[[()[]]{[]{}}]>>))((<<{<<><>>}{(<>{})<[]()>}>([[<>{}]<<>{}>\"\n",
       " \"{(<([{{{{(((({{}[]}))){[(({}<>))({<><>}<[][]])][<<[]{}>[{}{}]>{<[]>{[]{}}}]})({[{([]<>)([]<>)}\"\n",
       " \"{([{{{(([<[[[<(){}>{()[]}][([]<>)<[]{}>]]<{(<>())[[]()]}[{(){}}[()<>]]>]([({[]{}}{()[])){{<>()}{()[]}}])>[<[\"\n",
       " \"[([{<{(<({<{[[<>{}][<>[]]]<{{}<>}<{}{}>>}[({()[]])[[<>()]({}<>)]]>{<([{}<>]<[]<>>)[{[]()}{{}[]}]>[[{[][]\"\n",
       " \"{{<(<{(<[<(((<[]<>><{}[]>))({(<>{}){[][]}}([[]()]({}<>))>)>[((((()<>)<<>[]>){(<>{}){<>{}}})(<({}(\"\n",
       " \"{{[{<{<([{[<{[{}{}]{(){}}}{{[]<>}<()[]>}>]<[({[][]}<{}<>>)(<{}{}><[]()>)]<[{<>{}}(()())]([[]{}]<[]<>>)>>>[{[{\"\n",
       " \"<(([<<{{<(([(({}{})[[]{}])[<{}>(<>{})]]<([{}{}]{()[]})>))({(<(()<>)<<><>>>(([]<>)))}<<<[()\"\n",
       " ⋮\n",
       " \"[[[[<<(<({(<[{(){}}[()[]]][[{}[]]{[]{}}]>([{[][]}([]{})][{{}[]}<[]()>]))[{[{()()}({})]({(){}}[<>[]\"\n",
       " \"{<{(<[<(<<<{<[()<>]>{{()[]}}}<<([]<>)[()<>]>>>[{[<<><>>[{}<>]][<<><>>{(){}}]}[{[[]()]{<>()}}\"\n",
       " \"<[[<{<<[{{[[(([][])[[][]])<({}<>){{}[]}>]](<<({}[])[[][]]>((<><>))>[([()[]]((){}))])}}{[([((<>())\"\n",
       " \"{(<{[[((<<<{<{<>{}}([]{})><{()}>}[{(()<>)[[][]]}{<{}{}><{}{}>}]]<[[<{}()>]<([]{})>]{{[<>()]{{}{\"\n",
       " \"<{<{<{[{(((<(<[]{}>)([{}{}]({}{}))>([{[]<>}[[]{}]]<([]()){[]<>}>))<[(<[]{}>[()[]])]>)<{{[{{\"\n",
       " \"{{<([<{[(([(({[]<>}{()[]})<(()){(){}}>)[{({}<>)<[]<>>}<{{}()}<<><>>>>][{<({}<>)[()()]><<()<>>>\"\n",
       " \"[[[<([<<[[[{<<[][]>{()()}>[[(){}][<><>]]}{[{<>[]}[[]{}]]}]{<<({}<>)[[]]>[(<>[])]><<[()[]]<[]>>[{[]<>}({}{})]>\"\n",
       " \"{{{[{(<<{({{<{<>[]}>[{<><>}[()[]]]}[({()()})([<><>]<<>[]>)]}({[{{}[]}{{}[]}]}[(<[]()>[<>[]])({<><>}[(){}])]\"\n",
       " \"(<<[{[{[({<[{{(){}}<(){}>}{{()[]}[<>{}]}]{{(<>{})<{}>}{((){})}}>[{([<>()](<>{}))<{{}[]}[[]{}]>}{(<[][\"\n",
       " \"(<[[{<<{({<([<<>()>[<>()]]{{()<>}[<>[]]))>({<<<>()><()<>>>}({{[]<>}{{}()}}{<(){}><<>{}>}))})}<([<({[[]]{{}<\"\n",
       " \"([((<[((([{<((()<>))[([])]>({(()<>)([]{})}([{}<>](()<>)))}{<[[[]()]([]{})]>}]({([{[]{}}][{(){}}{(){}\"\n",
       " \"(({{<[<{<{([<([]<>){()}><([]<>)<[][]>>]<<[()<>][[]<>]><{()()}>>)[(<[[]{}](<>())>{{{}()}{[]()}}\""
      ]
     },
     "execution_count": 1,
     "metadata": {},
     "output_type": "execute_result"
    }
   ],
   "source": [
    "lines = readlines(\"input\")"
   ]
  },
  {
   "cell_type": "code",
   "execution_count": 2,
   "id": "6df50765-b619-44d8-a399-b5039ab87451",
   "metadata": {},
   "outputs": [
    {
     "data": {
      "text/plain": [
       "Dict{Char, Int64} with 4 entries:\n",
       "  '}' => 1197\n",
       "  ']' => 57\n",
       "  ')' => 3\n",
       "  '>' => 25137"
      ]
     },
     "execution_count": 2,
     "metadata": {},
     "output_type": "execute_result"
    }
   ],
   "source": [
    "scores = Dict(')'=>3, ']'=>57, '}'=>1197, '>'=>25137)"
   ]
  },
  {
   "cell_type": "code",
   "execution_count": 5,
   "id": "cbedc7ea-a77e-4afe-a08b-fd9933623366",
   "metadata": {},
   "outputs": [
    {
     "data": {
      "text/plain": [
       "Dict{Char, Char} with 4 entries:\n",
       "  '}' => '{'\n",
       "  ']' => '['\n",
       "  ')' => '('\n",
       "  '>' => '<'"
      ]
     },
     "execution_count": 5,
     "metadata": {},
     "output_type": "execute_result"
    }
   ],
   "source": [
    "matching = Dict(')'=>'(', ']'=>'[', '}'=>'{', '>'=>'<')"
   ]
  },
  {
   "cell_type": "code",
   "execution_count": 7,
   "id": "bbd7e174-d33a-45fe-b147-a4ccf658090f",
   "metadata": {},
   "outputs": [
    {
     "data": {
      "text/plain": [
       "ValueIterator for a Dict{Char, Char} with 4 entries. Values:\n",
       "  '{'\n",
       "  '['\n",
       "  '('\n",
       "  '<'"
      ]
     },
     "execution_count": 7,
     "metadata": {},
     "output_type": "execute_result"
    }
   ],
   "source": [
    "opening = values(matching)"
   ]
  },
  {
   "cell_type": "code",
   "execution_count": 3,
   "id": "fcced4b4-2bab-4f98-9941-8af2aac5b89b",
   "metadata": {},
   "outputs": [
    {
     "data": {
      "text/plain": [
       "4-element Vector{Int64}:\n",
       " 1\n",
       " 2\n",
       " 3\n",
       " 4"
      ]
     },
     "execution_count": 3,
     "metadata": {},
     "output_type": "execute_result"
    }
   ],
   "source": [
    "# can we use a normal vector as a stack?\n",
    "st = [1,2,3]\n",
    "push!(st, 4)"
   ]
  },
  {
   "cell_type": "code",
   "execution_count": 4,
   "id": "10292a10-7970-4e11-9ab0-675b934ec634",
   "metadata": {},
   "outputs": [
    {
     "data": {
      "text/plain": [
       "4"
      ]
     },
     "execution_count": 4,
     "metadata": {},
     "output_type": "execute_result"
    }
   ],
   "source": [
    "pop!(st)"
   ]
  },
  {
   "cell_type": "code",
   "execution_count": 8,
   "id": "f9aead0e-537a-4414-8fa3-a1d883ce7370",
   "metadata": {},
   "outputs": [
    {
     "data": {
      "text/plain": [
       "3-element Vector{Int64}:\n",
       " 1\n",
       " 2\n",
       " 3"
      ]
     },
     "execution_count": 8,
     "metadata": {},
     "output_type": "execute_result"
    }
   ],
   "source": [
    "st"
   ]
  },
  {
   "cell_type": "code",
   "execution_count": 22,
   "id": "86bf4c59-dcf2-42be-9016-9d53845e4180",
   "metadata": {},
   "outputs": [
    {
     "data": {
      "text/plain": [
       "390993"
      ]
     },
     "execution_count": 22,
     "metadata": {},
     "output_type": "execute_result"
    }
   ],
   "source": [
    "total_score = 0\n",
    "for line in lines\n",
    "    mystack = []\n",
    "    for c in line\n",
    "        if c in opening\n",
    "            push!(mystack, c)\n",
    "        else\n",
    "            top = pop!(mystack)\n",
    "            if top !== matching[c]\n",
    "                #println(\"Mismatch \", top, c)\n",
    "                total_score += scores[c]\n",
    "                break\n",
    "            end\n",
    "        end\n",
    "    end\n",
    "end\n",
    "total_score"
   ]
  },
  {
   "cell_type": "markdown",
   "id": "e0400b47-078e-4fde-9b48-4c42a382fdc2",
   "metadata": {},
   "source": [
    "## Part II"
   ]
  },
  {
   "cell_type": "code",
   "execution_count": 12,
   "id": "f0b07c4d-d0bc-4d58-a782-4a4076a463b4",
   "metadata": {},
   "outputs": [
    {
     "data": {
      "text/plain": [
       "Dict{Char, Int64} with 4 entries:\n",
       "  '<' => 4\n",
       "  '(' => 1\n",
       "  '[' => 2\n",
       "  '{' => 3"
      ]
     },
     "execution_count": 12,
     "metadata": {},
     "output_type": "execute_result"
    }
   ],
   "source": [
    "ac_scores = Dict('('=>1, '['=>2, '{'=>3, '<'=>4)"
   ]
  },
  {
   "cell_type": "code",
   "execution_count": 17,
   "id": "4c0b011e-1b23-4eae-831f-b0ccf5616fae",
   "metadata": {},
   "outputs": [],
   "source": [
    "ac = []\n",
    "for line in lines\n",
    "    discard = false\n",
    "    mystack = []\n",
    "    for c in line\n",
    "        if c in opening\n",
    "            push!(mystack, c)\n",
    "        else\n",
    "            top = pop!(mystack)\n",
    "            if top !== matching[c]\n",
    "                # discard this line, it is corrupt\n",
    "                discard = true\n",
    "            end\n",
    "        end\n",
    "    end\n",
    "    if discard\n",
    "        continue\n",
    "    end\n",
    "    # the line is not corrupt so calculate its score by completing all parentheses\n",
    "    score = 0\n",
    "    while length(mystack)>0\n",
    "        top = pop!(mystack)\n",
    "        score = score*5 + ac_scores[top]\n",
    "    end\n",
    "    push!(ac, score)\n",
    "end"
   ]
  },
  {
   "cell_type": "code",
   "execution_count": 21,
   "id": "261637cd-95f6-45df-90c5-b3c9e7efded1",
   "metadata": {},
   "outputs": [
    {
     "data": {
      "text/plain": [
       "2391385187"
      ]
     },
     "execution_count": 21,
     "metadata": {},
     "output_type": "execute_result"
    }
   ],
   "source": [
    "sort(ac)[Int((length(ac)+1)/2)]"
   ]
  },
  {
   "cell_type": "code",
   "execution_count": null,
   "id": "8862b8f0-744d-47b3-9524-fc87e0cc9221",
   "metadata": {},
   "outputs": [],
   "source": []
  }
 ],
 "metadata": {
  "kernelspec": {
   "display_name": "Julia 1.6.1",
   "language": "julia",
   "name": "julia-1.6"
  },
  "language_info": {
   "file_extension": ".jl",
   "mimetype": "application/julia",
   "name": "julia",
   "version": "1.6.1"
  }
 },
 "nbformat": 4,
 "nbformat_minor": 5
}
