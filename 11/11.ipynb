{
 "cells": [
  {
   "cell_type": "code",
   "execution_count": 12,
   "id": "a7b69f94-13f4-4e24-afe3-12bb84a40446",
   "metadata": {},
   "outputs": [
    {
     "data": {
      "text/plain": [
       "10×10 transpose(::Matrix{Int64}) with eltype Int64:\n",
       " 5  2  1  2  1  6  6  7  1  6\n",
       " 1  5  6  7  3  2  2  5  8  1\n",
       " 2  2  6  8  4  6  1  5  4  8\n",
       " 3  4  8  1  5  6  1  7  4  4\n",
       " 6  2  4  8  3  4  2  2  4  8\n",
       " 6  5  2  6  6  6  7  3  6  8\n",
       " 5  6  2  7  3  3  5  7  7  5\n",
       " 8  1  2  4  5  1  1  7  5  4\n",
       " 4  6  1  4  1  3  7  6  8  3\n",
       " 4  7  2  4  5  6  1  1  5  6"
      ]
     },
     "execution_count": 12,
     "metadata": {},
     "output_type": "execute_result"
    }
   ],
   "source": [
    "octo = parse.(Int, reduce(hcat, collect.(readlines(\"input\")))) |> transpose"
   ]
  },
  {
   "cell_type": "code",
   "execution_count": 94,
   "id": "a4bf136e-09cb-4a93-b136-d0f5efcd2705",
   "metadata": {},
   "outputs": [
    {
     "data": {
      "text/plain": [
       "12×12 Matrix{Float64}:\n",
       " -Inf  -Inf   -Inf   -Inf   -Inf   -Inf   …  -Inf   -Inf   -Inf   -Inf   -Inf\n",
       " -Inf    5.0    2.0    1.0    2.0    1.0       6.0    7.0    1.0    6.0  -Inf\n",
       " -Inf    1.0    5.0    6.0    7.0    3.0       2.0    5.0    8.0    1.0  -Inf\n",
       " -Inf    2.0    2.0    6.0    8.0    4.0       1.0    5.0    4.0    8.0  -Inf\n",
       " -Inf    3.0    4.0    8.0    1.0    5.0       1.0    7.0    4.0    4.0  -Inf\n",
       " -Inf    6.0    2.0    4.0    8.0    3.0  …    2.0    2.0    4.0    8.0  -Inf\n",
       " -Inf    6.0    5.0    2.0    6.0    6.0       7.0    3.0    6.0    8.0  -Inf\n",
       " -Inf    5.0    6.0    2.0    7.0    3.0       5.0    7.0    7.0    5.0  -Inf\n",
       " -Inf    8.0    1.0    2.0    4.0    5.0       1.0    7.0    5.0    4.0  -Inf\n",
       " -Inf    4.0    6.0    1.0    4.0    1.0       7.0    6.0    8.0    3.0  -Inf\n",
       " -Inf    4.0    7.0    2.0    4.0    5.0  …    1.0    1.0    5.0    6.0  -Inf\n",
       " -Inf  -Inf   -Inf   -Inf   -Inf   -Inf      -Inf   -Inf   -Inf   -Inf   -Inf"
      ]
     },
     "execution_count": 94,
     "metadata": {},
     "output_type": "execute_result"
    }
   ],
   "source": [
    "# pad border\n",
    "pad = zeros(Int,12,12) .- Inf\n",
    "pad[2:11,2:11] .= octo\n",
    "pad"
   ]
  },
  {
   "cell_type": "code",
   "execution_count": 23,
   "id": "42b2e982-5f20-4b7c-9cc4-3c5faf23845e",
   "metadata": {},
   "outputs": [
    {
     "data": {
      "text/plain": [
       "2×2 Matrix{Int64}:\n",
       " 0  0\n",
       " 1  0"
      ]
     },
     "execution_count": 23,
     "metadata": {},
     "output_type": "execute_result"
    }
   ],
   "source": [
    "([1 2; 3 4] .> 2) .& [0 1; 1 0]"
   ]
  },
  {
   "cell_type": "code",
   "execution_count": 28,
   "id": "bab4eb68-3478-4531-8c26-03558b9310e9",
   "metadata": {},
   "outputs": [
    {
     "data": {
      "text/plain": [
       "2×2 BitMatrix:\n",
       " 0  0\n",
       " 1  1"
      ]
     },
     "execution_count": 28,
     "metadata": {},
     "output_type": "execute_result"
    }
   ],
   "source": [
    "[1 2; 3 4] .> 2"
   ]
  },
  {
   "cell_type": "code",
   "execution_count": 38,
   "id": "436e57cf-cd71-498a-91a5-d431157dc188",
   "metadata": {},
   "outputs": [
    {
     "data": {
      "text/plain": [
       "CartesianIndex(2, 1)"
      ]
     },
     "execution_count": 38,
     "metadata": {},
     "output_type": "execute_result"
    }
   ],
   "source": [
    "pos = findfirst(([1 2; 3 4] .> 2) .& BitArray([0 1; 1 0]))\n",
    "pos"
   ]
  },
  {
   "cell_type": "code",
   "execution_count": 95,
   "id": "cee98306-8750-41f7-a1b0-2625b8b2f982",
   "metadata": {},
   "outputs": [
    {
     "data": {
      "text/plain": [
       "step (generic function with 1 method)"
      ]
     },
     "execution_count": 95,
     "metadata": {},
     "output_type": "execute_result"
    }
   ],
   "source": [
    "function step(pad)\n",
    "    pad .+= 1\n",
    "    blinked = BitArray(zeros(12, 12))\n",
    "    while (sum(pad .> 9) > sum(blinked))\n",
    "        pos = findfirst((pad .> 9) .& (!).(blinked))\n",
    "        blinked[pos[1],pos[2]] = true\n",
    "        pad[(pos[1]-1):(pos[1]+1),(pos[2]-1):(pos[2]+1)] .+= 1\n",
    "    end\n",
    "    pad[pad .> 9] .= 0\n",
    "    return pad\n",
    "end"
   ]
  },
  {
   "cell_type": "code",
   "execution_count": 101,
   "id": "5b6f72e0-61a1-4f9d-8fed-35b255608a6e",
   "metadata": {},
   "outputs": [
    {
     "data": {
      "text/plain": [
       "12×12 Matrix{Float64}:\n",
       " -Inf  -Inf   -Inf   -Inf   -Inf   -Inf   …  -Inf   -Inf   -Inf   -Inf   -Inf\n",
       " -Inf    4.0    1.0    1.0    1.0    1.0       7.0    6.0    1.0    5.0  -Inf\n",
       " -Inf    1.0    8.0    9.0    9.0    5.0       3.0    7.0    7.0    1.0  -Inf\n",
       " -Inf    3.0    6.0    9.0    9.0    3.0       3.0    7.0    5.0    5.0  -Inf\n",
       " -Inf    4.0    5.0    0.0    5.0    4.0       3.0    7.0    4.0    4.0  -Inf\n",
       " -Inf    3.0    4.0    6.0    0.0    7.0  …    4.0    6.0    4.0    4.0  -Inf\n",
       " -Inf    3.0    3.0    6.0    0.0    0.0       8.0    5.0    4.0    4.0  -Inf\n",
       " -Inf    3.0    3.0    5.0    0.0    7.0       8.0    5.0    4.0    4.0  -Inf\n",
       " -Inf    9.0    3.0    4.0    4.0    4.0       4.0    6.0    5.0    5.0  -Inf\n",
       " -Inf    3.0    3.0    3.0    3.0    3.0       0.0    9.0    8.0    3.0  -Inf\n",
       " -Inf    3.0    3.0    3.0    3.0    3.0  …    2.0    2.0    4.0    3.0  -Inf\n",
       " -Inf  -Inf   -Inf   -Inf   -Inf   -Inf      -Inf   -Inf   -Inf   -Inf   -Inf"
      ]
     },
     "execution_count": 101,
     "metadata": {},
     "output_type": "execute_result"
    }
   ],
   "source": [
    "step(pad)"
   ]
  },
  {
   "cell_type": "code",
   "execution_count": 103,
   "id": "c9034819-18e0-4b1e-9e26-bf274852ccba",
   "metadata": {},
   "outputs": [
    {
     "data": {
      "text/plain": [
       "1719"
      ]
     },
     "execution_count": 103,
     "metadata": {},
     "output_type": "execute_result"
    }
   ],
   "source": [
    "pad = zeros(Int,12,12) .- Inf\n",
    "pad[2:11,2:11] .= octo\n",
    "blinks = 0\n",
    "for i in 1:100\n",
    "    pad = step(pad)\n",
    "    blinks += sum(pad .== 0)\n",
    "end\n",
    "blinks"
   ]
  },
  {
   "cell_type": "markdown",
   "id": "049e28f0-4420-4133-bdb8-604785c04453",
   "metadata": {},
   "source": [
    "## Part II"
   ]
  },
  {
   "cell_type": "code",
   "execution_count": 106,
   "id": "39273ba0-30f2-4cc2-8839-9759a529f304",
   "metadata": {},
   "outputs": [
    {
     "data": {
      "text/plain": [
       "232"
      ]
     },
     "execution_count": 106,
     "metadata": {},
     "output_type": "execute_result"
    }
   ],
   "source": [
    "pad = zeros(Int,12,12) .- Inf\n",
    "pad[2:11,2:11] .= octo\n",
    "steps = 0\n",
    "while true\n",
    "    steps += 1\n",
    "    pad = step(pad)\n",
    "    if sum(pad .== 0) == 100\n",
    "        break\n",
    "    end\n",
    "end\n",
    "steps"
   ]
  },
  {
   "cell_type": "code",
   "execution_count": null,
   "id": "20313658-dd77-47c5-9eb4-ea9ca495a26c",
   "metadata": {},
   "outputs": [],
   "source": []
  }
 ],
 "metadata": {
  "kernelspec": {
   "display_name": "Julia 1.6.1",
   "language": "julia",
   "name": "julia-1.6"
  },
  "language_info": {
   "file_extension": ".jl",
   "mimetype": "application/julia",
   "name": "julia",
   "version": "1.6.1"
  }
 },
 "nbformat": 4,
 "nbformat_minor": 5
}
