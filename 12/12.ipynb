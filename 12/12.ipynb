{
 "cells": [
  {
   "cell_type": "markdown",
   "id": "02391a8a-aedc-4481-a0e7-22b9cbeeb951",
   "metadata": {},
   "source": [
    "It looks like a dynamic programming challenge. However, the rule to allow visiting large caves more than once complicates things a lot. So I'll try to brute force it 😥"
   ]
  },
  {
   "cell_type": "code",
   "execution_count": 3,
   "id": "fa08815c-053e-4b5e-a4da-01790f715118",
   "metadata": {},
   "outputs": [
    {
     "data": {
      "text/plain": [
       "23-element Vector{Vector{SubString{String}}}:\n",
       " [\"QR\", \"da\"]\n",
       " [\"QR\", \"end\"]\n",
       " [\"QR\", \"al\"]\n",
       " [\"start\", \"op\"]\n",
       " [\"zh\", \"iw\"]\n",
       " [\"zh\", \"start\"]\n",
       " [\"da\", \"PF\"]\n",
       " [\"op\", \"bj\"]\n",
       " [\"iw\", \"QR\"]\n",
       " [\"end\", \"HR\"]\n",
       " [\"bj\", \"PF\"]\n",
       " [\"da\", \"LY\"]\n",
       " [\"op\", \"PF\"]\n",
       " [\"bj\", \"iw\"]\n",
       " [\"end\", \"da\"]\n",
       " [\"bj\", \"zh\"]\n",
       " [\"HR\", \"iw\"]\n",
       " [\"zh\", \"op\"]\n",
       " [\"zh\", \"PF\"]\n",
       " [\"HR\", \"bj\"]\n",
       " [\"start\", \"PF\"]\n",
       " [\"HR\", \"da\"]\n",
       " [\"QR\", \"bj\"]"
      ]
     },
     "execution_count": 3,
     "metadata": {},
     "output_type": "execute_result"
    }
   ],
   "source": [
    "edges = split.(readlines(\"input\"),\"-\")"
   ]
  },
  {
   "cell_type": "code",
   "execution_count": 7,
   "id": "9d823ede-f4f0-460c-be70-e94fa165fc6a",
   "metadata": {},
   "outputs": [],
   "source": [
    "using DataStructures"
   ]
  },
  {
   "cell_type": "code",
   "execution_count": 11,
   "id": "33d50b80-df8a-4909-94c9-0c72efd99618",
   "metadata": {},
   "outputs": [
    {
     "data": {
      "text/plain": [
       "DefaultDict{Any, Any, DataType}()"
      ]
     },
     "execution_count": 11,
     "metadata": {},
     "output_type": "execute_result"
    }
   ],
   "source": [
    "dd = DefaultDict(Vector{String})"
   ]
  },
  {
   "cell_type": "code",
   "execution_count": 12,
   "id": "0344b65f-4c1e-4b68-b623-ff008cb7591d",
   "metadata": {},
   "outputs": [
    {
     "data": {
      "text/plain": [
       "String[]"
      ]
     },
     "execution_count": 12,
     "metadata": {},
     "output_type": "execute_result"
    }
   ],
   "source": [
    "dd[\"bla\"]"
   ]
  },
  {
   "cell_type": "code",
   "execution_count": 20,
   "id": "aba3ccf8-a808-4cdc-ba1b-3ce2e5e0b173",
   "metadata": {},
   "outputs": [],
   "source": [
    "graph = DefaultDict(Vector{String})\n",
    "for e in edges\n",
    "    if e[1] != \"end\" && e[2] != \"start\"\n",
    "        push!(graph[e[1]], e[2])\n",
    "    end\n",
    "    if e[2] != \"end\" && e[1] != \"start\"\n",
    "        push!(graph[e[2]], e[1])\n",
    "    end\n",
    "end"
   ]
  },
  {
   "cell_type": "code",
   "execution_count": 21,
   "id": "ac19d154-a582-4b4a-9789-5b62fc8c6a5a",
   "metadata": {},
   "outputs": [
    {
     "data": {
      "text/plain": [
       "DefaultDict{Any, Any, DataType} with 11 entries:\n",
       "  \"QR\"    => [\"da\", \"end\", \"al\", \"iw\", \"bj\"]\n",
       "  \"PF\"    => [\"da\", \"bj\", \"op\", \"zh\"]\n",
       "  \"da\"    => [\"QR\", \"PF\", \"LY\", \"end\", \"HR\"]\n",
       "  \"LY\"    => [\"da\"]\n",
       "  \"op\"    => [\"bj\", \"PF\", \"zh\"]\n",
       "  \"iw\"    => [\"zh\", \"QR\", \"bj\", \"HR\"]\n",
       "  \"HR\"    => [\"end\", \"iw\", \"bj\", \"da\"]\n",
       "  \"start\" => [\"op\", \"zh\", \"PF\"]\n",
       "  \"bj\"    => [\"op\", \"PF\", \"iw\", \"zh\", \"HR\", \"QR\"]\n",
       "  \"zh\"    => [\"iw\", \"bj\", \"op\", \"PF\"]\n",
       "  \"al\"    => [\"QR\"]"
      ]
     },
     "execution_count": 21,
     "metadata": {},
     "output_type": "execute_result"
    }
   ],
   "source": [
    "graph"
   ]
  },
  {
   "cell_type": "code",
   "execution_count": 36,
   "id": "8a528553-50a1-4c41-b39d-91ffa6048946",
   "metadata": {},
   "outputs": [
    {
     "data": {
      "text/plain": [
       "is_small (generic function with 1 method)"
      ]
     },
     "execution_count": 36,
     "metadata": {},
     "output_type": "execute_result"
    }
   ],
   "source": [
    "is_large(x) = uppercase(x[1]) == x[1]\n",
    "is_small(x) = !is_large(x)"
   ]
  },
  {
   "cell_type": "code",
   "execution_count": 29,
   "id": "06e064d1-2c46-4499-823c-d3febf30b5e2",
   "metadata": {},
   "outputs": [
    {
     "data": {
      "text/plain": [
       "false"
      ]
     },
     "execution_count": 29,
     "metadata": {},
     "output_type": "execute_result"
    }
   ],
   "source": [
    "\"d\" ∉ [\"a\", \"B\", \"d\", \"c\"]"
   ]
  },
  {
   "cell_type": "code",
   "execution_count": 33,
   "id": "2b3c830e-d6e3-4b5b-bac1-4a7c813c3ecd",
   "metadata": {},
   "outputs": [
    {
     "data": {
      "text/plain": [
       "5576"
      ]
     },
     "execution_count": 33,
     "metadata": {},
     "output_type": "execute_result"
    }
   ],
   "source": [
    "complete_paths = 0\n",
    "current_paths = [[\"start\"]]\n",
    "while length(current_paths) > 0\n",
    "    next_paths = []\n",
    "    for p in current_paths\n",
    "        pos = p[end]\n",
    "        for opt in graph[pos]\n",
    "            if opt == \"end\"\n",
    "                complete_paths += 1\n",
    "            elseif is_large(opt) || opt ∉ p\n",
    "                push!(next_paths, push!(copy(p), opt))\n",
    "            end\n",
    "        end\n",
    "    end\n",
    "    current_paths = next_paths\n",
    "end\n",
    "complete_paths"
   ]
  },
  {
   "cell_type": "markdown",
   "id": "afb09d6c-15bc-4982-8c27-30f81bbafadc",
   "metadata": {},
   "source": [
    "## Part II"
   ]
  },
  {
   "cell_type": "code",
   "execution_count": 44,
   "id": "2235b5db-3305-4c4b-b878-49711db55fb7",
   "metadata": {},
   "outputs": [
    {
     "data": {
      "text/plain": [
       "no_small_duplicates_yet (generic function with 1 method)"
      ]
     },
     "execution_count": 44,
     "metadata": {},
     "output_type": "execute_result"
    }
   ],
   "source": [
    "function no_small_duplicates_yet(l)\n",
    "    small = filter(is_small, l)\n",
    "    return length(small) == length(unique(small))\n",
    "end"
   ]
  },
  {
   "cell_type": "code",
   "execution_count": 47,
   "id": "3cb4aba6-09c1-4561-a6e7-00bb9a613d4c",
   "metadata": {},
   "outputs": [
    {
     "data": {
      "text/plain": [
       "true"
      ]
     },
     "execution_count": 47,
     "metadata": {},
     "output_type": "execute_result"
    }
   ],
   "source": [
    "no_small_duplicates_yet([\"a\", \"b\", \"C\", \"In\", \"out\"])"
   ]
  },
  {
   "cell_type": "code",
   "execution_count": 46,
   "id": "f7481140-5a15-403b-8a62-d191a2d8c07e",
   "metadata": {},
   "outputs": [
    {
     "data": {
      "text/plain": [
       "false"
      ]
     },
     "execution_count": 46,
     "metadata": {},
     "output_type": "execute_result"
    }
   ],
   "source": [
    "no_small_duplicates_yet([\"a\", \"b\", \"C\", \"In\", \"out\", \"a\", \"a\", \"b\"])"
   ]
  },
  {
   "cell_type": "code",
   "execution_count": 49,
   "id": "5717a66f-0a29-4572-8e0f-2b52c4b19566",
   "metadata": {},
   "outputs": [
    {
     "data": {
      "text/plain": [
       "152837"
      ]
     },
     "execution_count": 49,
     "metadata": {},
     "output_type": "execute_result"
    }
   ],
   "source": [
    "complete_paths = 0\n",
    "current_paths = [[\"start\"]]\n",
    "while length(current_paths) > 0\n",
    "    next_paths = []\n",
    "    for p in current_paths\n",
    "        pos = p[end]\n",
    "        for opt in graph[pos]\n",
    "            if opt == \"end\"\n",
    "                complete_paths += 1\n",
    "            elseif is_large(opt) || opt ∉ p || no_small_duplicates_yet(p)\n",
    "                push!(next_paths, push!(copy(p), opt))\n",
    "            end\n",
    "        end\n",
    "    end\n",
    "    current_paths = next_paths\n",
    "end\n",
    "complete_paths"
   ]
  }
 ],
 "metadata": {
  "kernelspec": {
   "display_name": "Julia 1.6.1",
   "language": "julia",
   "name": "julia-1.6"
  },
  "language_info": {
   "file_extension": ".jl",
   "mimetype": "application/julia",
   "name": "julia",
   "version": "1.6.1"
  }
 },
 "nbformat": 4,
 "nbformat_minor": 5
}
