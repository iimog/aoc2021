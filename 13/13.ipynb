{
 "cells": [
  {
   "cell_type": "code",
   "execution_count": 1,
   "id": "a3118259-bf32-49b4-8ee2-fbc42ae9be9c",
   "metadata": {},
   "outputs": [
    {
     "data": {
      "text/plain": [
       "754-element Vector{String}:\n",
       " \"872,101\"\n",
       " \"202,854\"\n",
       " \"743,192\"\n",
       " \"555,292\"\n",
       " \"972,40\"\n",
       " \"663,740\"\n",
       " \"1266,656\"\n",
       " \"666,844\"\n",
       " \"418,348\"\n",
       " \"1119,857\"\n",
       " \"755,796\"\n",
       " \"845,199\"\n",
       " \"1210,112\"\n",
       " ⋮\n",
       " \"fold along x=655\"\n",
       " \"fold along y=447\"\n",
       " \"fold along x=327\"\n",
       " \"fold along y=223\"\n",
       " \"fold along x=163\"\n",
       " \"fold along y=111\"\n",
       " \"fold along x=81\"\n",
       " \"fold along y=55\"\n",
       " \"fold along x=40\"\n",
       " \"fold along y=27\"\n",
       " \"fold along y=13\"\n",
       " \"fold along y=6\""
      ]
     },
     "execution_count": 1,
     "metadata": {},
     "output_type": "execute_result"
    }
   ],
   "source": [
    "lines = readlines(\"input\")"
   ]
  },
  {
   "cell_type": "code",
   "execution_count": 17,
   "id": "2c5058df-f222-47b3-aebc-d97b235cc9f0",
   "metadata": {},
   "outputs": [
    {
     "data": {
      "text/plain": [
       "741×2 transpose(::Matrix{Int64}) with eltype Int64:\n",
       "  872  101\n",
       "  202  854\n",
       "  743  192\n",
       "  555  292\n",
       "  972   40\n",
       "  663  740\n",
       " 1266  656\n",
       "  666  844\n",
       "  418  348\n",
       " 1119  857\n",
       "  755  796\n",
       "  845  199\n",
       " 1210  112\n",
       "    ⋮  \n",
       "  278  185\n",
       "  818   73\n",
       "  820  131\n",
       "  239  864\n",
       "  606  638\n",
       "  546  145\n",
       "  713  570\n",
       " 1058  560\n",
       " 1056  432\n",
       "  329  324\n",
       "  243  576\n",
       "  900  710"
      ]
     },
     "execution_count": 17,
     "metadata": {},
     "output_type": "execute_result"
    }
   ],
   "source": [
    "dots = split.(filter(x->occursin(\",\",x), lines), \",\")\n",
    "dots = reduce(hcat, dots) |> x -> parse.(Int,x) |> transpose"
   ]
  },
  {
   "cell_type": "code",
   "execution_count": 20,
   "id": "8e54c2d5-2cf4-418a-8453-25f68c21cd89",
   "metadata": {},
   "outputs": [
    {
     "data": {
      "text/plain": [
       "12-element Vector{Vector{SubString{String}}}:\n",
       " [\"x\", \"655\"]\n",
       " [\"y\", \"447\"]\n",
       " [\"x\", \"327\"]\n",
       " [\"y\", \"223\"]\n",
       " [\"x\", \"163\"]\n",
       " [\"y\", \"111\"]\n",
       " [\"x\", \"81\"]\n",
       " [\"y\", \"55\"]\n",
       " [\"x\", \"40\"]\n",
       " [\"y\", \"27\"]\n",
       " [\"y\", \"13\"]\n",
       " [\"y\", \"6\"]"
      ]
     },
     "execution_count": 20,
     "metadata": {},
     "output_type": "execute_result"
    }
   ],
   "source": [
    "fold_instructions = split.(filter(x->occursin(\"fold\",x), lines), \" \")\n",
    "fold_instructions = [split(x[3],\"=\") for x in fold_instructions]"
   ]
  },
  {
   "cell_type": "code",
   "execution_count": 23,
   "id": "50885927-7221-4fc4-ad4d-d587f9dccb8f",
   "metadata": {},
   "outputs": [
    {
     "data": {
      "text/plain": [
       "fold (generic function with 1 method)"
      ]
     },
     "execution_count": 23,
     "metadata": {},
     "output_type": "execute_result"
    }
   ],
   "source": [
    "fold(coord, foldpos) = coord <= foldpos ? coord : 2*foldpos - coord"
   ]
  },
  {
   "cell_type": "code",
   "execution_count": 24,
   "id": "2a01345d-d7ea-43fc-a5ba-43b7d0c6a69f",
   "metadata": {},
   "outputs": [
    {
     "data": {
      "text/plain": [
       "8"
      ]
     },
     "execution_count": 24,
     "metadata": {},
     "output_type": "execute_result"
    }
   ],
   "source": [
    "fold(8,10)"
   ]
  },
  {
   "cell_type": "code",
   "execution_count": 25,
   "id": "1566e224-eab8-4d23-9a05-9cf77851c86c",
   "metadata": {},
   "outputs": [
    {
     "data": {
      "text/plain": [
       "8"
      ]
     },
     "execution_count": 25,
     "metadata": {},
     "output_type": "execute_result"
    }
   ],
   "source": [
    "fold(12,10)"
   ]
  },
  {
   "cell_type": "code",
   "execution_count": 28,
   "id": "9eddfb4b-95e9-4ffa-b157-07bd7b4b872f",
   "metadata": {},
   "outputs": [
    {
     "data": {
      "text/plain": [
       "741-element Vector{Int64}:\n",
       " 438\n",
       " 202\n",
       " 567\n",
       " 555\n",
       " 338\n",
       " 647\n",
       "  44\n",
       " 644\n",
       " 418\n",
       " 191\n",
       " 555\n",
       " 465\n",
       " 100\n",
       "   ⋮\n",
       " 278\n",
       " 492\n",
       " 490\n",
       " 239\n",
       " 606\n",
       " 546\n",
       " 597\n",
       " 252\n",
       " 254\n",
       " 329\n",
       " 243\n",
       " 410"
      ]
     },
     "execution_count": 28,
     "metadata": {},
     "output_type": "execute_result"
    }
   ],
   "source": [
    "fold.(dots[:,1], 655)"
   ]
  },
  {
   "cell_type": "code",
   "execution_count": 33,
   "id": "bbbfe278-03b2-455e-81d8-356ffe71d05a",
   "metadata": {},
   "outputs": [
    {
     "data": {
      "text/plain": [
       "3×2 Matrix{Int64}:\n",
       " 1  2\n",
       " 2  3\n",
       " 3  4"
      ]
     },
     "execution_count": 33,
     "metadata": {},
     "output_type": "execute_result"
    }
   ],
   "source": [
    "mat = [1 2; 2 3; 1 2; 3 4]\n",
    "unique(mat, dims=1)"
   ]
  },
  {
   "cell_type": "code",
   "execution_count": 38,
   "id": "02f36a83-0f0a-4058-98b6-68a35d06c7b3",
   "metadata": {},
   "outputs": [
    {
     "data": {
      "text/plain": [
       "vfold (generic function with 1 method)"
      ]
     },
     "execution_count": 38,
     "metadata": {},
     "output_type": "execute_result"
    }
   ],
   "source": [
    "function vfold(x, dots)\n",
    "    xs = fold.(dots[:,1], x)\n",
    "    ys = dots[:,2]\n",
    "    return unique(hcat(xs, ys), dims=1)\n",
    "end"
   ]
  },
  {
   "cell_type": "code",
   "execution_count": 39,
   "id": "a0489463-d042-47d6-9e5b-bda0912c0516",
   "metadata": {},
   "outputs": [
    {
     "data": {
      "text/plain": [
       "631×2 Matrix{Int64}:\n",
       " 438  101\n",
       " 202  854\n",
       " 567  192\n",
       " 555  292\n",
       " 338   40\n",
       " 647  740\n",
       "  44  656\n",
       " 644  844\n",
       " 418  348\n",
       " 191  857\n",
       " 555  796\n",
       " 465  199\n",
       " 100  112\n",
       "   ⋮  \n",
       " 229  359\n",
       " 382  749\n",
       " 580  224\n",
       " 278  185\n",
       " 492   73\n",
       " 490  131\n",
       " 239  864\n",
       " 606  638\n",
       " 597  570\n",
       " 254  432\n",
       " 243  576\n",
       " 410  710"
      ]
     },
     "execution_count": 39,
     "metadata": {},
     "output_type": "execute_result"
    }
   ],
   "source": [
    "vfold(parse(Int, fold_instructions[1][2]), dots)"
   ]
  },
  {
   "cell_type": "markdown",
   "id": "a7c05b48-c9cb-4a43-8617-fa084b4cb3c7",
   "metadata": {},
   "source": [
    "## Part II"
   ]
  },
  {
   "cell_type": "code",
   "execution_count": 40,
   "id": "433ce662-184d-4f97-9f1f-8d990539e5fb",
   "metadata": {},
   "outputs": [
    {
     "data": {
      "text/plain": [
       "hfold (generic function with 1 method)"
      ]
     },
     "execution_count": 40,
     "metadata": {},
     "output_type": "execute_result"
    }
   ],
   "source": [
    "function hfold(y, dots)\n",
    "    ys = fold.(dots[:,2], y)\n",
    "    xs = dots[:,1]\n",
    "    return unique(hcat(xs, ys), dims=1)\n",
    "end"
   ]
  },
  {
   "cell_type": "code",
   "execution_count": 43,
   "id": "9b35231c-d072-4a25-b8ea-acf9a031ddd2",
   "metadata": {},
   "outputs": [],
   "source": [
    "folded = dots\n",
    "for inst in fold_instructions\n",
    "    folded = inst[1]==\"x\" ? vfold(parse(Int,inst[2]),folded) : hfold(parse(Int,inst[2]),folded)\n",
    "end"
   ]
  },
  {
   "cell_type": "code",
   "execution_count": 45,
   "id": "c811f874-1c0c-436d-8955-6a77b75b89f6",
   "metadata": {},
   "outputs": [
    {
     "data": {
      "text/plain": [
       "1×2 Matrix{Int64}:\n",
       " 38  5"
      ]
     },
     "execution_count": 45,
     "metadata": {},
     "output_type": "execute_result"
    }
   ],
   "source": [
    "maximum(folded,dims=1)"
   ]
  },
  {
   "cell_type": "code",
   "execution_count": 65,
   "id": "cde1fc97-7b1c-40f9-95e0-1fa69599f576",
   "metadata": {},
   "outputs": [
    {
     "data": {
      "text/plain": [
       "6×39 Matrix{Int64}:\n",
       " 0  0  0  0  0  0  0  0  0  0  0  0  0  …  0  0  0  0  0  0  0  0  0  0  0  0\n",
       " 0  0  0  0  0  0  0  0  0  0  0  0  0     0  0  0  0  0  0  0  0  0  0  0  0\n",
       " 0  0  0  0  0  0  0  0  0  0  0  0  0     0  0  0  0  0  0  0  0  0  0  0  0\n",
       " 0  0  0  0  0  0  0  0  0  0  0  0  0     0  0  0  0  0  0  0  0  0  0  0  0\n",
       " 0  0  0  0  0  0  0  0  0  0  0  0  0     0  0  0  0  0  0  0  0  0  0  0  0\n",
       " 0  0  0  0  0  0  0  0  0  0  0  0  0  …  0  0  0  0  0  0  0  0  0  0  0  0"
      ]
     },
     "execution_count": 65,
     "metadata": {},
     "output_type": "execute_result"
    }
   ],
   "source": [
    "final = zeros(Int, 6,39)"
   ]
  },
  {
   "cell_type": "code",
   "execution_count": 66,
   "id": "fd58a936-5803-40c9-9ce6-2f3d19cbb2a1",
   "metadata": {},
   "outputs": [
    {
     "data": {
      "text/plain": [
       "6×39 Matrix{Int64}:\n",
       " 1  1  1  1  0  1  0  0  0  0  1  1  1  …  1  1  0  1  0  0  1  0  1  0  0  0\n",
       " 1  0  0  0  0  1  0  0  0  0  1  0  0     0  1  0  1  0  1  0  0  1  0  0  0\n",
       " 1  0  0  0  0  1  0  0  0  0  1  0  0     1  1  0  1  1  1  0  0  1  0  0  0\n",
       " 1  1  1  0  0  1  1  1  0  0  1  0  0     0  0  0  1  0  0  1  0  1  1  1  0\n",
       " 1  0  0  0  0  1  0  0  0  0  1  0  0     0  1  0  1  0  0  1  0  1  0  0  0\n",
       " 1  1  1  1  0  1  1  1  1  0  1  0  0  …  1  0  0  1  1  1  0  0  1  1  1  1"
      ]
     },
     "execution_count": 66,
     "metadata": {},
     "output_type": "execute_result"
    }
   ],
   "source": [
    "for pos in eachrow(folded)\n",
    "    final[6-pos[2],pos[1]+1] = 1\n",
    "end\n",
    "final"
   ]
  },
  {
   "cell_type": "code",
   "execution_count": 59,
   "id": "7c3370d9-a994-43cd-8964-030d74732194",
   "metadata": {},
   "outputs": [],
   "source": [
    "using Plots"
   ]
  },
  {
   "cell_type": "code",
   "execution_count": 67,
   "id": "8cba7399-9737-4a4c-9e9b-f4e37564bc79",
   "metadata": {},
   "outputs": [
    {
     "data": {
      "image/svg+xml": [
       "<?xml version=\"1.0\" encoding=\"utf-8\"?>\n",
       "<svg xmlns=\"http://www.w3.org/2000/svg\" xmlns:xlink=\"http://www.w3.org/1999/xlink\" width=\"600\" height=\"400\" viewBox=\"0 0 2400 1600\">\n",
       "<defs>\n",
       "  <clipPath id=\"clip690\">\n",
       "    <rect x=\"0\" y=\"0\" width=\"2400\" height=\"1600\"/>\n",
       "  </clipPath>\n",
       "</defs>\n",
       "<path clip-path=\"url(#clip690)\" d=\"\n",
       "M0 1600 L2400 1600 L2400 0 L0 0  Z\n",
       "  \" fill=\"#ffffff\" fill-rule=\"evenodd\" fill-opacity=\"1\"/>\n",
       "<defs>\n",
       "  <clipPath id=\"clip691\">\n",
       "    <rect x=\"480\" y=\"0\" width=\"1681\" height=\"1600\"/>\n",
       "  </clipPath>\n",
       "</defs>\n",
       "<path clip-path=\"url(#clip690)\" d=\"\n",
       "M112.177 1409.37 L2112.76 1409.37 L2112.76 124.324 L112.177 124.324  Z\n",
       "  \" fill=\"#ffffff\" fill-rule=\"evenodd\" fill-opacity=\"1\"/>\n",
       "<defs>\n",
       "  <clipPath id=\"clip692\">\n",
       "    <rect x=\"112\" y=\"124\" width=\"2002\" height=\"1286\"/>\n",
       "  </clipPath>\n",
       "</defs>\n",
       "<polyline clip-path=\"url(#clip692)\" style=\"stroke:#000000; stroke-linecap:butt; stroke-linejoin:round; stroke-width:2; stroke-opacity:0.1; fill:none\" points=\"\n",
       "  343.013,1409.37 343.013,124.324 \n",
       "  \"/>\n",
       "<polyline clip-path=\"url(#clip692)\" style=\"stroke:#000000; stroke-linecap:butt; stroke-linejoin:round; stroke-width:2; stroke-opacity:0.1; fill:none\" points=\"\n",
       "  599.498,1409.37 599.498,124.324 \n",
       "  \"/>\n",
       "<polyline clip-path=\"url(#clip692)\" style=\"stroke:#000000; stroke-linecap:butt; stroke-linejoin:round; stroke-width:2; stroke-opacity:0.1; fill:none\" points=\"\n",
       "  855.982,1409.37 855.982,124.324 \n",
       "  \"/>\n",
       "<polyline clip-path=\"url(#clip692)\" style=\"stroke:#000000; stroke-linecap:butt; stroke-linejoin:round; stroke-width:2; stroke-opacity:0.1; fill:none\" points=\"\n",
       "  1112.47,1409.37 1112.47,124.324 \n",
       "  \"/>\n",
       "<polyline clip-path=\"url(#clip692)\" style=\"stroke:#000000; stroke-linecap:butt; stroke-linejoin:round; stroke-width:2; stroke-opacity:0.1; fill:none\" points=\"\n",
       "  1368.95,1409.37 1368.95,124.324 \n",
       "  \"/>\n",
       "<polyline clip-path=\"url(#clip692)\" style=\"stroke:#000000; stroke-linecap:butt; stroke-linejoin:round; stroke-width:2; stroke-opacity:0.1; fill:none\" points=\"\n",
       "  1625.44,1409.37 1625.44,124.324 \n",
       "  \"/>\n",
       "<polyline clip-path=\"url(#clip692)\" style=\"stroke:#000000; stroke-linecap:butt; stroke-linejoin:round; stroke-width:2; stroke-opacity:0.1; fill:none\" points=\"\n",
       "  1881.92,1409.37 1881.92,124.324 \n",
       "  \"/>\n",
       "<polyline clip-path=\"url(#clip690)\" style=\"stroke:#000000; stroke-linecap:butt; stroke-linejoin:round; stroke-width:4; stroke-opacity:1; fill:none\" points=\"\n",
       "  112.177,1409.37 2112.76,1409.37 \n",
       "  \"/>\n",
       "<polyline clip-path=\"url(#clip690)\" style=\"stroke:#000000; stroke-linecap:butt; stroke-linejoin:round; stroke-width:4; stroke-opacity:1; fill:none\" points=\"\n",
       "  343.013,1409.37 343.013,1392.49 \n",
       "  \"/>\n",
       "<polyline clip-path=\"url(#clip690)\" style=\"stroke:#000000; stroke-linecap:butt; stroke-linejoin:round; stroke-width:4; stroke-opacity:1; fill:none\" points=\"\n",
       "  599.498,1409.37 599.498,1392.49 \n",
       "  \"/>\n",
       "<polyline clip-path=\"url(#clip690)\" style=\"stroke:#000000; stroke-linecap:butt; stroke-linejoin:round; stroke-width:4; stroke-opacity:1; fill:none\" points=\"\n",
       "  855.982,1409.37 855.982,1392.49 \n",
       "  \"/>\n",
       "<polyline clip-path=\"url(#clip690)\" style=\"stroke:#000000; stroke-linecap:butt; stroke-linejoin:round; stroke-width:4; stroke-opacity:1; fill:none\" points=\"\n",
       "  1112.47,1409.37 1112.47,1392.49 \n",
       "  \"/>\n",
       "<polyline clip-path=\"url(#clip690)\" style=\"stroke:#000000; stroke-linecap:butt; stroke-linejoin:round; stroke-width:4; stroke-opacity:1; fill:none\" points=\"\n",
       "  1368.95,1409.37 1368.95,1392.49 \n",
       "  \"/>\n",
       "<polyline clip-path=\"url(#clip690)\" style=\"stroke:#000000; stroke-linecap:butt; stroke-linejoin:round; stroke-width:4; stroke-opacity:1; fill:none\" points=\"\n",
       "  1625.44,1409.37 1625.44,1392.49 \n",
       "  \"/>\n",
       "<polyline clip-path=\"url(#clip690)\" style=\"stroke:#000000; stroke-linecap:butt; stroke-linejoin:round; stroke-width:4; stroke-opacity:1; fill:none\" points=\"\n",
       "  1881.92,1409.37 1881.92,1392.49 \n",
       "  \"/>\n",
       "<path clip-path=\"url(#clip690)\" d=\"M333.291 1435.48 L351.647 1435.48 L351.647 1439.41 L337.573 1439.41 L337.573 1447.89 Q338.592 1447.54 339.61 1447.38 Q340.629 1447.19 341.647 1447.19 Q347.434 1447.19 350.814 1450.36 Q354.194 1453.54 354.194 1458.95 Q354.194 1464.53 350.721 1467.63 Q347.249 1470.71 340.93 1470.71 Q338.754 1470.71 336.485 1470.34 Q334.24 1469.97 331.833 1469.23 L331.833 1464.53 Q333.916 1465.66 336.138 1466.22 Q338.36 1466.78 340.837 1466.78 Q344.842 1466.78 347.18 1464.67 Q349.518 1462.56 349.518 1458.95 Q349.518 1455.34 347.18 1453.23 Q344.842 1451.13 340.837 1451.13 Q338.962 1451.13 337.087 1451.54 Q335.235 1451.96 333.291 1452.84 L333.291 1435.48 Z\" fill=\"#000000\" fill-rule=\"evenodd\" fill-opacity=\"1\" /><path clip-path=\"url(#clip690)\" d=\"M574.185 1466.1 L581.824 1466.1 L581.824 1439.74 L573.514 1441.41 L573.514 1437.15 L581.778 1435.48 L586.454 1435.48 L586.454 1466.1 L594.093 1466.1 L594.093 1470.04 L574.185 1470.04 L574.185 1466.1 Z\" fill=\"#000000\" fill-rule=\"evenodd\" fill-opacity=\"1\" /><path clip-path=\"url(#clip690)\" d=\"M613.537 1438.56 Q609.926 1438.56 608.097 1442.12 Q606.292 1445.66 606.292 1452.79 Q606.292 1459.9 608.097 1463.47 Q609.926 1467.01 613.537 1467.01 Q617.171 1467.01 618.977 1463.47 Q620.805 1459.9 620.805 1452.79 Q620.805 1445.66 618.977 1442.12 Q617.171 1438.56 613.537 1438.56 M613.537 1434.85 Q619.347 1434.85 622.403 1439.46 Q625.481 1444.04 625.481 1452.79 Q625.481 1461.52 622.403 1466.13 Q619.347 1470.71 613.537 1470.71 Q607.727 1470.71 604.648 1466.13 Q601.593 1461.52 601.593 1452.79 Q601.593 1444.04 604.648 1439.46 Q607.727 1434.85 613.537 1434.85 Z\" fill=\"#000000\" fill-rule=\"evenodd\" fill-opacity=\"1\" /><path clip-path=\"url(#clip690)\" d=\"M831.167 1466.1 L838.806 1466.1 L838.806 1439.74 L830.496 1441.41 L830.496 1437.15 L838.76 1435.48 L843.436 1435.48 L843.436 1466.1 L851.075 1466.1 L851.075 1470.04 L831.167 1470.04 L831.167 1466.1 Z\" fill=\"#000000\" fill-rule=\"evenodd\" fill-opacity=\"1\" /><path clip-path=\"url(#clip690)\" d=\"M860.565 1435.48 L878.922 1435.48 L878.922 1439.41 L864.848 1439.41 L864.848 1447.89 Q865.866 1447.54 866.885 1447.38 Q867.903 1447.19 868.922 1447.19 Q874.709 1447.19 878.088 1450.36 Q881.468 1453.54 881.468 1458.95 Q881.468 1464.53 877.996 1467.63 Q874.524 1470.71 868.204 1470.71 Q866.028 1470.71 863.76 1470.34 Q861.514 1469.97 859.107 1469.23 L859.107 1464.53 Q861.19 1465.66 863.413 1466.22 Q865.635 1466.78 868.112 1466.78 Q872.116 1466.78 874.454 1464.67 Q876.792 1462.56 876.792 1458.95 Q876.792 1455.34 874.454 1453.23 Q872.116 1451.13 868.112 1451.13 Q866.237 1451.13 864.362 1451.54 Q862.51 1451.96 860.565 1452.84 L860.565 1435.48 Z\" fill=\"#000000\" fill-rule=\"evenodd\" fill-opacity=\"1\" /><path clip-path=\"url(#clip690)\" d=\"M1091.24 1466.1 L1107.56 1466.1 L1107.56 1470.04 L1085.61 1470.04 L1085.61 1466.1 Q1088.28 1463.35 1092.86 1458.72 Q1097.47 1454.07 1098.65 1452.72 Q1100.89 1450.2 1101.77 1448.47 Q1102.67 1446.71 1102.67 1445.02 Q1102.67 1442.26 1100.73 1440.53 Q1098.81 1438.79 1095.71 1438.79 Q1093.51 1438.79 1091.05 1439.55 Q1088.62 1440.32 1085.85 1441.87 L1085.85 1437.15 Q1088.67 1436.01 1091.12 1435.43 Q1093.58 1434.85 1095.61 1434.85 Q1100.99 1434.85 1104.18 1437.54 Q1107.37 1440.22 1107.37 1444.72 Q1107.37 1446.85 1106.56 1448.77 Q1105.78 1450.66 1103.67 1453.26 Q1103.09 1453.93 1099.99 1457.15 Q1096.89 1460.34 1091.24 1466.1 Z\" fill=\"#000000\" fill-rule=\"evenodd\" fill-opacity=\"1\" /><path clip-path=\"url(#clip690)\" d=\"M1127.37 1438.56 Q1123.76 1438.56 1121.93 1442.12 Q1120.13 1445.66 1120.13 1452.79 Q1120.13 1459.9 1121.93 1463.47 Q1123.76 1467.01 1127.37 1467.01 Q1131.01 1467.01 1132.81 1463.47 Q1134.64 1459.9 1134.64 1452.79 Q1134.64 1445.66 1132.81 1442.12 Q1131.01 1438.56 1127.37 1438.56 M1127.37 1434.85 Q1133.18 1434.85 1136.24 1439.46 Q1139.32 1444.04 1139.32 1452.79 Q1139.32 1461.52 1136.24 1466.13 Q1133.18 1470.71 1127.37 1470.71 Q1121.56 1470.71 1118.49 1466.13 Q1115.43 1461.52 1115.43 1452.79 Q1115.43 1444.04 1118.49 1439.46 Q1121.56 1434.85 1127.37 1434.85 Z\" fill=\"#000000\" fill-rule=\"evenodd\" fill-opacity=\"1\" /><path clip-path=\"url(#clip690)\" d=\"M1348.22 1466.1 L1364.54 1466.1 L1364.54 1470.04 L1342.6 1470.04 L1342.6 1466.1 Q1345.26 1463.35 1349.84 1458.72 Q1354.45 1454.07 1355.63 1452.72 Q1357.87 1450.2 1358.75 1448.47 Q1359.66 1446.71 1359.66 1445.02 Q1359.66 1442.26 1357.71 1440.53 Q1355.79 1438.79 1352.69 1438.79 Q1350.49 1438.79 1348.04 1439.55 Q1345.61 1440.32 1342.83 1441.87 L1342.83 1437.15 Q1345.65 1436.01 1348.11 1435.43 Q1350.56 1434.85 1352.6 1434.85 Q1357.97 1434.85 1361.16 1437.54 Q1364.36 1440.22 1364.36 1444.72 Q1364.36 1446.85 1363.55 1448.77 Q1362.76 1450.66 1360.65 1453.26 Q1360.07 1453.93 1356.97 1457.15 Q1353.87 1460.34 1348.22 1466.1 Z\" fill=\"#000000\" fill-rule=\"evenodd\" fill-opacity=\"1\" /><path clip-path=\"url(#clip690)\" d=\"M1374.4 1435.48 L1392.76 1435.48 L1392.76 1439.41 L1378.68 1439.41 L1378.68 1447.89 Q1379.7 1447.54 1380.72 1447.38 Q1381.74 1447.19 1382.76 1447.19 Q1388.55 1447.19 1391.93 1450.36 Q1395.31 1453.54 1395.31 1458.95 Q1395.31 1464.53 1391.83 1467.63 Q1388.36 1470.71 1382.04 1470.71 Q1379.87 1470.71 1377.6 1470.34 Q1375.35 1469.97 1372.94 1469.23 L1372.94 1464.53 Q1375.03 1465.66 1377.25 1466.22 Q1379.47 1466.78 1381.95 1466.78 Q1385.95 1466.78 1388.29 1464.67 Q1390.63 1462.56 1390.63 1458.95 Q1390.63 1455.34 1388.29 1453.23 Q1385.95 1451.13 1381.95 1451.13 Q1380.07 1451.13 1378.2 1451.54 Q1376.35 1451.96 1374.4 1452.84 L1374.4 1435.48 Z\" fill=\"#000000\" fill-rule=\"evenodd\" fill-opacity=\"1\" /><path clip-path=\"url(#clip690)\" d=\"M1614.28 1451.41 Q1617.63 1452.12 1619.51 1454.39 Q1621.41 1456.66 1621.41 1459.99 Q1621.41 1465.11 1617.89 1467.91 Q1614.37 1470.71 1607.89 1470.71 Q1605.71 1470.71 1603.4 1470.27 Q1601.11 1469.85 1598.65 1469 L1598.65 1464.48 Q1600.6 1465.62 1602.91 1466.2 Q1605.23 1466.78 1607.75 1466.78 Q1612.15 1466.78 1614.44 1465.04 Q1616.75 1463.3 1616.75 1459.99 Q1616.75 1456.94 1614.6 1455.22 Q1612.47 1453.49 1608.65 1453.49 L1604.63 1453.49 L1604.63 1449.65 L1608.84 1449.65 Q1612.29 1449.65 1614.12 1448.28 Q1615.94 1446.89 1615.94 1444.3 Q1615.94 1441.64 1614.05 1440.22 Q1612.17 1438.79 1608.65 1438.79 Q1606.73 1438.79 1604.53 1439.21 Q1602.33 1439.62 1599.69 1440.5 L1599.69 1436.34 Q1602.36 1435.6 1604.67 1435.22 Q1607.01 1434.85 1609.07 1434.85 Q1614.39 1434.85 1617.5 1437.29 Q1620.6 1439.69 1620.6 1443.81 Q1620.6 1446.68 1618.95 1448.67 Q1617.31 1450.64 1614.28 1451.41 Z\" fill=\"#000000\" fill-rule=\"evenodd\" fill-opacity=\"1\" /><path clip-path=\"url(#clip690)\" d=\"M1640.27 1438.56 Q1636.66 1438.56 1634.83 1442.12 Q1633.03 1445.66 1633.03 1452.79 Q1633.03 1459.9 1634.83 1463.47 Q1636.66 1467.01 1640.27 1467.01 Q1643.91 1467.01 1645.71 1463.47 Q1647.54 1459.9 1647.54 1452.79 Q1647.54 1445.66 1645.71 1442.12 Q1643.91 1438.56 1640.27 1438.56 M1640.27 1434.85 Q1646.08 1434.85 1649.14 1439.46 Q1652.22 1444.04 1652.22 1452.79 Q1652.22 1461.52 1649.14 1466.13 Q1646.08 1470.71 1640.27 1470.71 Q1634.46 1470.71 1631.38 1466.13 Q1628.33 1461.52 1628.33 1452.79 Q1628.33 1444.04 1631.38 1439.46 Q1634.46 1434.85 1640.27 1434.85 Z\" fill=\"#000000\" fill-rule=\"evenodd\" fill-opacity=\"1\" /><path clip-path=\"url(#clip690)\" d=\"M1871.26 1451.41 Q1874.62 1452.12 1876.49 1454.39 Q1878.39 1456.66 1878.39 1459.99 Q1878.39 1465.11 1874.87 1467.91 Q1871.35 1470.71 1864.87 1470.71 Q1862.7 1470.71 1860.38 1470.27 Q1858.09 1469.85 1855.64 1469 L1855.64 1464.48 Q1857.58 1465.62 1859.89 1466.2 Q1862.21 1466.78 1864.73 1466.78 Q1869.13 1466.78 1871.42 1465.04 Q1873.74 1463.3 1873.74 1459.99 Q1873.74 1456.94 1871.58 1455.22 Q1869.45 1453.49 1865.64 1453.49 L1861.61 1453.49 L1861.61 1449.65 L1865.82 1449.65 Q1869.27 1449.65 1871.1 1448.28 Q1872.93 1446.89 1872.93 1444.3 Q1872.93 1441.64 1871.03 1440.22 Q1869.15 1438.79 1865.64 1438.79 Q1863.71 1438.79 1861.51 1439.21 Q1859.32 1439.62 1856.68 1440.5 L1856.68 1436.34 Q1859.34 1435.6 1861.65 1435.22 Q1863.99 1434.85 1866.05 1434.85 Q1871.38 1434.85 1874.48 1437.29 Q1877.58 1439.69 1877.58 1443.81 Q1877.58 1446.68 1875.94 1448.67 Q1874.29 1450.64 1871.26 1451.41 Z\" fill=\"#000000\" fill-rule=\"evenodd\" fill-opacity=\"1\" /><path clip-path=\"url(#clip690)\" d=\"M1887.3 1435.48 L1905.66 1435.48 L1905.66 1439.41 L1891.58 1439.41 L1891.58 1447.89 Q1892.6 1447.54 1893.62 1447.38 Q1894.64 1447.19 1895.66 1447.19 Q1901.45 1447.19 1904.82 1450.36 Q1908.2 1453.54 1908.2 1458.95 Q1908.2 1464.53 1904.73 1467.63 Q1901.26 1470.71 1894.94 1470.71 Q1892.76 1470.71 1890.5 1470.34 Q1888.25 1469.97 1885.84 1469.23 L1885.84 1464.53 Q1887.93 1465.66 1890.15 1466.22 Q1892.37 1466.78 1894.85 1466.78 Q1898.85 1466.78 1901.19 1464.67 Q1903.53 1462.56 1903.53 1458.95 Q1903.53 1455.34 1901.19 1453.23 Q1898.85 1451.13 1894.85 1451.13 Q1892.97 1451.13 1891.1 1451.54 Q1889.25 1451.96 1887.3 1452.84 L1887.3 1435.48 Z\" fill=\"#000000\" fill-rule=\"evenodd\" fill-opacity=\"1\" /><polyline clip-path=\"url(#clip692)\" style=\"stroke:#000000; stroke-linecap:butt; stroke-linejoin:round; stroke-width:2; stroke-opacity:0.1; fill:none\" points=\"\n",
       "  112.177,1202.87 2112.76,1202.87 \n",
       "  \"/>\n",
       "<polyline clip-path=\"url(#clip692)\" style=\"stroke:#000000; stroke-linecap:butt; stroke-linejoin:round; stroke-width:2; stroke-opacity:0.1; fill:none\" points=\"\n",
       "  112.177,946.385 2112.76,946.385 \n",
       "  \"/>\n",
       "<polyline clip-path=\"url(#clip692)\" style=\"stroke:#000000; stroke-linecap:butt; stroke-linejoin:round; stroke-width:2; stroke-opacity:0.1; fill:none\" points=\"\n",
       "  112.177,689.901 2112.76,689.901 \n",
       "  \"/>\n",
       "<polyline clip-path=\"url(#clip692)\" style=\"stroke:#000000; stroke-linecap:butt; stroke-linejoin:round; stroke-width:2; stroke-opacity:0.1; fill:none\" points=\"\n",
       "  112.177,433.416 2112.76,433.416 \n",
       "  \"/>\n",
       "<polyline clip-path=\"url(#clip692)\" style=\"stroke:#000000; stroke-linecap:butt; stroke-linejoin:round; stroke-width:2; stroke-opacity:0.1; fill:none\" points=\"\n",
       "  112.177,176.932 2112.76,176.932 \n",
       "  \"/>\n",
       "<polyline clip-path=\"url(#clip690)\" style=\"stroke:#000000; stroke-linecap:butt; stroke-linejoin:round; stroke-width:4; stroke-opacity:1; fill:none\" points=\"\n",
       "  112.177,1409.37 112.177,124.324 \n",
       "  \"/>\n",
       "<polyline clip-path=\"url(#clip690)\" style=\"stroke:#000000; stroke-linecap:butt; stroke-linejoin:round; stroke-width:4; stroke-opacity:1; fill:none\" points=\"\n",
       "  112.177,1202.87 129.051,1202.87 \n",
       "  \"/>\n",
       "<polyline clip-path=\"url(#clip690)\" style=\"stroke:#000000; stroke-linecap:butt; stroke-linejoin:round; stroke-width:4; stroke-opacity:1; fill:none\" points=\"\n",
       "  112.177,946.385 129.051,946.385 \n",
       "  \"/>\n",
       "<polyline clip-path=\"url(#clip690)\" style=\"stroke:#000000; stroke-linecap:butt; stroke-linejoin:round; stroke-width:4; stroke-opacity:1; fill:none\" points=\"\n",
       "  112.177,689.901 129.051,689.901 \n",
       "  \"/>\n",
       "<polyline clip-path=\"url(#clip690)\" style=\"stroke:#000000; stroke-linecap:butt; stroke-linejoin:round; stroke-width:4; stroke-opacity:1; fill:none\" points=\"\n",
       "  112.177,433.416 129.051,433.416 \n",
       "  \"/>\n",
       "<polyline clip-path=\"url(#clip690)\" style=\"stroke:#000000; stroke-linecap:butt; stroke-linejoin:round; stroke-width:4; stroke-opacity:1; fill:none\" points=\"\n",
       "  112.177,176.932 129.051,176.932 \n",
       "  \"/>\n",
       "<path clip-path=\"url(#clip690)\" d=\"M15.4599 1203.32 L45.1357 1203.32 L45.1357 1207.26 L15.4599 1207.26 L15.4599 1203.32 Z\" fill=\"#000000\" fill-rule=\"evenodd\" fill-opacity=\"1\" /><path clip-path=\"url(#clip690)\" d=\"M55.2745 1185.59 L73.6309 1185.59 L73.6309 1189.52 L59.5569 1189.52 L59.5569 1198 Q60.5754 1197.65 61.5939 1197.49 Q62.6124 1197.3 63.6309 1197.3 Q69.418 1197.3 72.7976 1200.47 Q76.1772 1203.65 76.1772 1209.06 Q76.1772 1214.64 72.705 1217.74 Q69.2328 1220.82 62.9134 1220.82 Q60.7374 1220.82 58.4689 1220.45 Q56.2236 1220.08 53.8162 1219.34 L53.8162 1214.64 Q55.8995 1215.77 58.1217 1216.33 Q60.3439 1216.89 62.8208 1216.89 Q66.8254 1216.89 69.1633 1214.78 Q71.5013 1212.67 71.5013 1209.06 Q71.5013 1205.45 69.1633 1203.34 Q66.8254 1201.24 62.8208 1201.24 Q60.9458 1201.24 59.0708 1201.65 Q57.2189 1202.07 55.2745 1202.95 L55.2745 1185.59 Z\" fill=\"#000000\" fill-rule=\"evenodd\" fill-opacity=\"1\" /><path clip-path=\"url(#clip690)\" d=\"M64.2328 932.184 Q60.6217 932.184 58.793 935.749 Q56.9875 939.29 56.9875 946.42 Q56.9875 953.526 58.793 957.091 Q60.6217 960.633 64.2328 960.633 Q67.867 960.633 69.6726 957.091 Q71.5013 953.526 71.5013 946.42 Q71.5013 939.29 69.6726 935.749 Q67.867 932.184 64.2328 932.184 M64.2328 928.48 Q70.0429 928.48 73.0985 933.087 Q76.1772 937.67 76.1772 946.42 Q76.1772 955.147 73.0985 959.753 Q70.0429 964.336 64.2328 964.336 Q58.4226 964.336 55.344 959.753 Q52.2884 955.147 52.2884 946.42 Q52.2884 937.67 55.344 933.087 Q58.4226 928.48 64.2328 928.48 Z\" fill=\"#000000\" fill-rule=\"evenodd\" fill-opacity=\"1\" /><path clip-path=\"url(#clip690)\" d=\"M55.2745 672.621 L73.6309 672.621 L73.6309 676.556 L59.5569 676.556 L59.5569 685.028 Q60.5754 684.681 61.5939 684.519 Q62.6124 684.334 63.6309 684.334 Q69.418 684.334 72.7976 687.505 Q76.1772 690.676 76.1772 696.093 Q76.1772 701.671 72.705 704.773 Q69.2328 707.852 62.9134 707.852 Q60.7374 707.852 58.4689 707.482 Q56.2236 707.111 53.8162 706.37 L53.8162 701.671 Q55.8995 702.806 58.1217 703.361 Q60.3439 703.917 62.8208 703.917 Q66.8254 703.917 69.1633 701.81 Q71.5013 699.704 71.5013 696.093 Q71.5013 692.482 69.1633 690.375 Q66.8254 688.269 62.8208 688.269 Q60.9458 688.269 59.0708 688.685 Q57.2189 689.102 55.2745 689.982 L55.2745 672.621 Z\" fill=\"#000000\" fill-rule=\"evenodd\" fill-opacity=\"1\" /><path clip-path=\"url(#clip690)\" d=\"M24.8812 446.761 L32.52 446.761 L32.52 420.395 L24.2099 422.062 L24.2099 417.803 L32.4737 416.136 L37.1496 416.136 L37.1496 446.761 L44.7885 446.761 L44.7885 450.696 L24.8812 450.696 L24.8812 446.761 Z\" fill=\"#000000\" fill-rule=\"evenodd\" fill-opacity=\"1\" /><path clip-path=\"url(#clip690)\" d=\"M64.2328 419.215 Q60.6217 419.215 58.793 422.78 Q56.9875 426.321 56.9875 433.451 Q56.9875 440.557 58.793 444.122 Q60.6217 447.664 64.2328 447.664 Q67.867 447.664 69.6726 444.122 Q71.5013 440.557 71.5013 433.451 Q71.5013 426.321 69.6726 422.78 Q67.867 419.215 64.2328 419.215 M64.2328 415.511 Q70.0429 415.511 73.0985 420.118 Q76.1772 424.701 76.1772 433.451 Q76.1772 442.178 73.0985 446.784 Q70.0429 451.367 64.2328 451.367 Q58.4226 451.367 55.344 446.784 Q52.2884 442.178 52.2884 433.451 Q52.2884 424.701 55.344 420.118 Q58.4226 415.511 64.2328 415.511 Z\" fill=\"#000000\" fill-rule=\"evenodd\" fill-opacity=\"1\" /><path clip-path=\"url(#clip690)\" d=\"M25.8765 190.277 L33.5154 190.277 L33.5154 163.911 L25.2052 165.578 L25.2052 161.318 L33.4691 159.652 L38.145 159.652 L38.145 190.277 L45.7838 190.277 L45.7838 194.212 L25.8765 194.212 L25.8765 190.277 Z\" fill=\"#000000\" fill-rule=\"evenodd\" fill-opacity=\"1\" /><path clip-path=\"url(#clip690)\" d=\"M55.2745 159.652 L73.6309 159.652 L73.6309 163.587 L59.5569 163.587 L59.5569 172.059 Q60.5754 171.712 61.5939 171.55 Q62.6124 171.365 63.6309 171.365 Q69.418 171.365 72.7976 174.536 Q76.1772 177.707 76.1772 183.124 Q76.1772 188.703 72.705 191.804 Q69.2328 194.883 62.9134 194.883 Q60.7374 194.883 58.4689 194.513 Q56.2236 194.142 53.8162 193.402 L53.8162 188.703 Q55.8995 189.837 58.1217 190.392 Q60.3439 190.948 62.8208 190.948 Q66.8254 190.948 69.1633 188.841 Q71.5013 186.735 71.5013 183.124 Q71.5013 179.513 69.1633 177.406 Q66.8254 175.3 62.8208 175.3 Q60.9458 175.3 59.0708 175.716 Q57.2189 176.133 55.2745 177.013 L55.2745 159.652 Z\" fill=\"#000000\" fill-rule=\"evenodd\" fill-opacity=\"1\" /><g clip-path=\"url(#clip692)\">\n",
       "<image width=\"2001\" height=\"308\" xlink:href=\"data:image/png;base64,\n",
       "iVBORw0KGgoAAAANSUhEUgAAB9EAAAE0CAYAAACb/8PpAAAMrUlEQVR4nO3bQarbMBRA0bh4oVla\n",
       "Bl2mwZ3cUcmgHxxLVc5ZwQP7KSIXb8f5+3wAP7Jvz9EjXOY4X6NHgP/KSvv/eKx1Bqz2bODTVtp/\n",
       "uIPfGe7gbJ6XM2BOdmZedmZe9oY7OAPmZP/hZ36NHgAAAAAAAAAAZiGiAwAAAAAAAEBEdAAAAAAA\n",
       "AACIiA4AAAAAAAAAEdEBAAAAAAAAICI6AAAAAAAAAEREBwAAAAAAAICI6AAAAAAAAAAQER0AAAAA\n",
       "AAAAIqIDAAAAAAAAQER0AAAAAAAAAIiIDgAAAAAAAAAR0QEAAAAAAAAgIjoAAAAAAAAAREQHAAAA\n",
       "AAAAgIjoAAAAAAAAABARHQAAAAAAAAAiogMAAAAAAABARHQAAAAAAAAAiIgOAAAAAAAAABHRAQAA\n",
       "AAAAACAiOgAAAAAAAABERAcAAAAAAACAiOgAAAAAAAAAEBEdAAAAAAAAACKiAwAAAAAAAEBEdAAA\n",
       "AAAAAACIiA4AAAAAAAAAEdEBAAAAAAAAICI6AAAAAAAAAEREBwAAAAAAAICI6AAAAAAAAAAQER0A\n",
       "AAAAAAAAIqIDAAAAAAAAQER0AAAAAAAAAIiIDgAAAAAAAAAR0QEAAAAAAAAgIjoAAAAAAAAAREQH\n",
       "AAAAAAAAgIjoAAAAAAAAABARHQAAAAAAAAAiogMAAAAAAABARHQAAAAAAAAAiIgOAAAAAAAAABHR\n",
       "AQAAAAAAACAiOgAAAAAAAABERAcAAAAAAACAiOgAAAAAAAAAEBEdAAAAAAAAACKiAwAAAAAAAEBE\n",
       "dAAAAAAAAADIPnqAq+3bc/QIwCD2HwC+kzsAsIrVzrPjfI0egTdWei6r7cxKvGfcwbOZlzOAO3g2\n",
       "fJov0QEAAAAAAAAgIjoAAAAAAAAAREQHAAAAAAAAgIjoAAAAAAAAABARHQAAAAAAAAAiogMAAAAA\n",
       "AABARHQAAAAAAAAAiIgOAAAAAAAAABHRAQAAAAAAACAiOgAAAAAAAABERAcAAAAAAACAiOgAAAAA\n",
       "AAAAEBEdAAAAAAAAACKiAwAAAAAAAEBEdAAAAAAAAACIiA4AAAAAAAAAEdEBAAAAAAAAICI6AAAA\n",
       "AAAAAEREBwAAAAAAAICI6AAAAAAAAAAQER0AAAAAAAAAIqIDAAAAAAAAQER0AAAAAAAAAIiIDgAA\n",
       "AAAAAAAR0QEAAAAAAAAgIjoAAAAAAAAAREQHAAAAAAAAgIjoAAAAAAAAABARHQAAAAAAAAAiogMA\n",
       "AAAAAABARHQAAAAAAAAAiIgOAAAAAAAAABHRAQAAAAAAACAiOgAAAAAAAABERAcAAAAAAACAiOgA\n",
       "AAAAAAAAEBEdAAAAAAAAACKiAwAAAAAAAEBEdAAAAAAAAACIiA4AAAAAAAAAEdEBAAAAAAAAICI6\n",
       "AAAAAAAAAEREBwAAAAAAAICI6AAAAAAAAAAQER0AAAAAAAAAIqIDAAAAAAAAQER0AAAAAAAAAIiI\n",
       "DgAAAAAAAAAR0QEAAAAAAAAgIjoAAAAAAAAAZB89wNWO8zV6BN7Yt+foEfgC9n9ezgAAPskdYF7u\n",
       "AADwndwBAPg0/wXMaaU7gC/RAQAAAAAAACAiOgAAAAAAAABERAcAAAAAAACAiOgAAAAAAAAAEBEd\n",
       "AAAAAAAAACKiAwAAAAAAAEBEdAAAAAAAAACIiA4AAAAAAAAAEdEBAAAAAAAAICI6AAAAAAAAAERE\n",
       "BwAAAAAAAICI6AAAAAAAAAAQER0AAAAAAAAAIqIDAAAAAAAAQER0AAAAAAAAAIiIDgAAAAAAAAAR\n",
       "0QEAAAAAAAAgIjoAAAAAAAAAREQHAAAAAAAAgIjoAAAAAAAAABARHQAAAAAAAAAiogMAAAAAAABA\n",
       "RHQAAAAAAAAAiIgOAAAAAAAAABHRAQAAAAAAACAiOgAAAAAAAABERAcAAAAAAACAiOgAAAAAAAAA\n",
       "EBEdAAAAAAAAACKiAwAAAAAAAEBEdAAAAAAAAACIiA4AAAAAAAAAEdEBAAAAAAAAICI6AAAAAAAA\n",
       "AEREBwAAAAAAAICI6AAAAAAAAAAQER0AAAAAAAAAIqIDAAAAAAAAQER0AAAAAAAAAIiIDgAAAAAA\n",
       "AAAR0QEAAAAAAAAgIjoAAAAAAAAAREQHAAAAAAAAgIjoAAAAAAAAABARHQAAAAAAAAAiogMAAAAA\n",
       "AABARHQAAAAAAAAAiIgOAAAAAAAAABHRAQAAAAAAACAiOgAAAAAAAABkHz3A1fbtOXoEYBD7DwDf\n",
       "yR0AAFjBcb5Gj8Ab7przsjPzsjfcwXvGp/kSHQAAAAAAAAAiogMAAAAAAABARHQAAAAAAAAAiIgO\n",
       "AAAAAAAAABHRAQAAAAAAACAiOgAAAAAAAABERAcAAAAAAACAiOgAAAAAAAAAEBEdAAAAAAAAACKi\n",
       "AwAAAAAAAEBEdAAAAAAAAACIiA4AAAAAAAAAEdEBAAAAAAAAICI6AAAAAAAAAEREBwAAAAAAAICI\n",
       "6AAAAAAAAAAQER0AAAAAAAAAIqIDAAAAAAAAQER0AAAAAAAAAIiIDgAAAAAAAAAR0QEAAAAAAAAg\n",
       "IjoAAAAAAAAAREQHAAAAAAAAgIjoAAAAAAAAABARHQAAAAAAAAAiogMAAAAAAABARHQAAAAAAAAA\n",
       "iIgOAAAAAAAAABHRAQAAAAAAACAiOgAAAAAAAABERAcAAAAAAACAiOgAAAAAAAAAEBEdAAAAAAAA\n",
       "ACKiAwAAAAAAAEBEdAAAAAAAAACIiA4AAAAAAAAAEdEBAAAAAAAAICI6AAAAAAAAAEREBwAAAAAA\n",
       "AICI6AAAAAAAAAAQER0AAAAAAAAAIqIDAAAAAAAAQER0AAAAAAAAAIiIDgAAAAAAAAAR0QEAAAAA\n",
       "AAAgIjoAAAAAAAAAREQHAAAAAAAAgIjoAAAAAAAAABARHQAAAAAAAAAiogMAAAAAAABARHQAAAAA\n",
       "AAAAyD56AAAAAOBex/kaPcJl9u05egSAS6x0nq30O8O87AwAn+RLdAAAAAAAAACIiA4AAAAAAAAA\n",
       "EdEBAAAAAAAAICI6AAAAAAAAAEREBwAAAAAAAICI6AAAAAAAAAAQER0AAAAAAAAAIqIDAAAAAAAA\n",
       "QER0AAAAAAAAAIiIDgAAAAAAAAAR0QEAAAAAAAAgIjoAAAAAAAAAREQHAAAAAAAAgIjoAAAAAAAA\n",
       "ABARHQAAAAAAAAAiogMAAAAAAABARHQAAAAAAAAAiIgOAAAAAAAAABHRAQAAAAAAACAiOgAAAAAA\n",
       "AABERAcAAAAAAACAiOgAAAAAAAAAEBEdAAAAAAAAACKiAwAAAAAAAEBEdAAAAAAAAACIiA4AAAAA\n",
       "AAAAEdEBAAAAAAAAICI6AAAAAAAAAEREBwAAAAAAAICI6AAAAAAAAAAQER0AAAAAAAAAIqIDAAAA\n",
       "AAAAQER0AAAAAAAAAIiIDgAAAAAAAAAR0QEAAAAAAAAgIjoAAAAAAAAAREQHAAAAAAAAgIjoAAAA\n",
       "AAAAABARHQAAAAAAAAAiogMAAAAAAABARHQAAAAAAAAAiIgOAAAAAAAAABHRAQAAAAAAACAiOgAA\n",
       "AAAAAABERAcAAAAAAACAiOgAAAAAAAAAEBEdAAAAAAAAACKiAwAAAAAAAEBEdAAAAAAAAACIiA4A\n",
       "AAAAAAAA2UcPcLXjfI0egS+wb8/RIwDwF3cA7uAOAKxipfPMHWBeK71nK1npudh/YBUrnc2Px1rn\n",
       "82rPBvh3vkQHAAAAAAAAgIjoAAAAAAAAABARHQAAAAAAAAAiogMAAAAAAABARHQAAAAAAAAAiIgO\n",
       "AAAAAAAAABHRAQAAAAAAACAiOgAAAAAAAABERAcAAAAAAACAiOgAAAAAAAAAEBEdAAAAAAAAACKi\n",
       "AwAAAAAAAEBEdAAAAAAAAACIiA4AAAAAAAAAEdEBAAAAAAAAICI6AAAAAAAAAEREBwAAAAAAAICI\n",
       "6AAAAAAAAAAQER0AAAAAAAAAIqIDAAAAAAAAQER0AAAAAAAAAIiIDgAAAAAAAAAR0QEAAAAAAAAg\n",
       "IjoAAAAAAAAAREQHAAAAAAAAgIjoAAAAAAAAABARHQAAAAAAAAAiogMAAAAAAABARHQAAAAAAAAA\n",
       "iIgOAAAAAAAAABHRAQAAAAAAACAiOgAAAAAAAABERAcAAAAAAACAiOgAAAAAAAAAEBEdAAAAAAAA\n",
       "ACKiAwAAAAAAAEBEdAAAAAAAAACIiA4AAAAAAAAAEdEBAAAAAAAAICI6AAAAAAAAAEREBwAAAAAA\n",
       "AICI6AAAAAAAAAAQER0AAAAAAAAAIqIDAAAAAAAAQER0AAAAAAAAAIiIDgAAAAAAAAAR0QEAAAAA\n",
       "AAAgIjoAAAAAAAAAREQHAAAAAAAAgIjoAAAAAAAAAJA/LP9VzEhthLUAAAAASUVORK5CYII=\n",
       "\" transform=\"translate(112, 613)\"/>\n",
       "</g>\n",
       "<defs>\n",
       "  <clipPath id=\"clip693\">\n",
       "    <rect x=\"2160\" y=\"124\" width=\"73\" height=\"1286\"/>\n",
       "  </clipPath>\n",
       "</defs>\n",
       "<g clip-path=\"url(#clip693)\">\n",
       "<image width=\"72\" height=\"1285\" xlink:href=\"data:image/png;base64,\n",
       "iVBORw0KGgoAAAANSUhEUgAAAEgAAAUFCAYAAAC0E4VSAAALMElEQVR4nO3dwa3kRhAFQY5Q/lsh\n",
       "L6XtlgWqPJKHCAsGiQeit4d/9vfv+fs+/K+/3v4AXydQECgIFAQKc+6/b3+GT7OgIFAQKAgU5t4/\n",
       "b3+GT7OgIFAQKAgUnKSDBQWBgkBBoDDXQ3plQUGgIFAQKMw9HtIbCwoCBYGCQMFJOlhQECgIFAQK\n",
       "HtLBgoJAQaAgUHDdESwoCBQECgKFeZykVxYUBAoCBYGC645gQUGgIFAQKMzjumNlQUGgIFAQKMxz\n",
       "/nn7M3yaBQWBgkBBoOBOOlhQECgIFAQKrjuCBQWBgkBBoOAhHSwoCBQECgIF1x3BgoJAQaAgUJif\n",
       "k/TKgoJAQaAgUJjn+D3pjQUFgYJAQaDgJB0sKAgUBAoCBSfpYEFBoCBQECh4uyNYUBAoCBQECvNz\n",
       "kl5ZUBAoCBQECl7BCxYUBAoCBYGCk3SwoCBQECgIFHxxGCwoCBQECgIFJ+lgQUGgIFAQKDhJBwsK\n",
       "AgWBgkDBSTpYUBAoCBQECvOc8/Zn+DQLCgIFgYJAwUk6WFAQKAgUBArupIMFBYGCQEGg4CEdLCgI\n",
       "FAQKAoX5uZNeWVAQKAgUBApO0sGCgkBBoCBQ8HZHsKAgUBAoCBRcdwQLCgIFgYJAwXVHsKAgUBAo\n",
       "CBRcdwQLCgIFgYJAwUM6WFAQKAgUBAr+4jBYUBAoCBQECk7SwYKCQEGgIFDwkA4WFAQKAgWBgod0\n",
       "sKAgUBAoCBQ8pIMFBYGCQEGgMM/1kN5YUBAoCBQECk7SwYKCQEGgIFDwkA4WFAQKAgWBgod0sKAg\n",
       "UBAoCBTmOfftz/BpFhQECgIFgYKTdLCgIFAQKAgUnKSDBQWBgkBBoCBQ8E+NYEFBoCBQECj4p0aw\n",
       "oCBQECgIFOZxkF5ZUBAoCBQECvNcJ+mNBQWBgkBBoOAkHSwoCBQECgIFD+lgQUGgIFAQKIwfoNpZ\n",
       "UBAoCBQECk7SwYKCQEGgIFDwkA4WFAQKAgWBwjzn9/Zn+DQLCgIFgYJAYe71kN5YUBAoCBQECq47\n",
       "ggUFgYJAQaDguiNYUBAoCBQECnOPRht1gkBBoCBQcJIOFhQECgIFgcI8vjhcWVAQKAgUBApznaRX\n",
       "FhQECgIFgcI87qRX6gSBgkBBoOAkHSwoCBQECgIFd9LBgoJAQaAgUPAKXlAnCBQECgIFr+AFCwoC\n",
       "BYGCQMGddLCgIFAQKAgU5l6NNuoEgYJAQaDguiNYUBAoCBQECq47ggUFgYJAQaAwj+uOlTpBoCBQ\n",
       "ECg4SQcLCgIFgYJAwUM6WFAQKAgUBAr+4jBYUBAoCBQECv7iMKgTBAoCBYGC/4g2WFAQKAgUBAru\n",
       "pIMFBYGCQEGg4PekgzpBoCBQECi47ggWFAQKAgWBguuOYEFBoCBQECg4SQcLCgIFgYJAwSt4QZ0g\n",
       "UBAoCBScpIMFBYGCQEGg4E46WFAQKAgUBApO0sGCgkBBoCBQ8KP/wYKCQEGgIFDw32cFdYJAQaAg\n",
       "UHDdESwoCBQECgIFXxwGCwoCBYGCQMFJOlhQECgIFAQKczykVxYUBAoCBYGCvzgM6gSBgkBBoOC6\n",
       "I1hQECgIFAQKHtLBgoJAQaAgUPB2R7CgIFAQKAgUBAr+qREsKAgUBAoCBQ/pYEFBoCBQECj4u/mg\n",
       "ThAoCBQECnNc2q8sKAgUBAoCBdcdwYKCQEGgIFDwkA4WFAQKAgWBgod0sKAgUBAoCBT8uEmwoCBQ\n",
       "ECgIFJykgwUFgYJAQaDgIR0sKAgUBAoCBe9JB3WCQEGgIFDwnnSwoCBQECgIFFx3BAsKAgWBgkDB\n",
       "QzpYUBAoCBQECl7BCxYUBAoCBYGCk3SwoCBQECgIFOY+HtIbCwoCBYGCQMF1R7CgIFAQKAgUXHcE\n",
       "CwoCBYGCQMFJOlhQECgIFAQKTtLBgoJAQaAgUHCSDhYUBAoCBYGCk3SwoCBQECgIFDykgwUFgYJA\n",
       "QaAwx3vSKwsKAgWBgkDBSTpYUBAoCBQECr44DBYUBAoCBYHC3Pv2R/g2CwoCBYGCQMFJOlhQECgI\n",
       "FAQKfmApWFAQKAgUBApO0sGCgkBBoCBQ8HZHsKAgUBAoCBS8Jx0sKAgUBAoCBW93BAsKAgWBgkDB\n",
       "nXSwoCBQECgIFNxJBwsKAgWBgkDBnXSwoCBQECgIFFx3BAsKAgWBgkDBF4fBgoJAQaAgUHDdESwo\n",
       "CBQECgIFXxwGCwoCBYGCQGHO25/g4ywoCBQECgIFJ+lgQUGgIFAQKHi7I1hQECgIFAQKrjuCBQWB\n",
       "gkBBoOC6I1hQECgIFAQKTtLBgoJAQaAgUHCSDhYUBAoCBYGCLw6DBQWBgkBBoDD+KnxnQUGgIFAQ\n",
       "KDhJBwsKAgWBgkBBoOCb1WBBQaAgUBAo+GY1WFAQKAgUBApO0sGCgkBBoCBQcJIOFhQECgIFgcIc\n",
       "77+sLCgIFAQKAgXXHcGCgkBBoCBQcN0RLCgIFAQKAgUn6WBBQaAgUBAo+J96gwUFgYJAQaDgf+oN\n",
       "FhQECgIFgYK3O4IFBYGCQEGg4BeoggUFgYJAQaDgF6iCBQWBgkBBoOCLw2BBQaAgUBAoeAUvWFAQ\n",
       "KAgUBAr+mCVYUBAoCBQECk7SwYKCQEGgIFDwCl6woCBQECgIFLyCFywoCBQECgIFJ+lgQUGgIFAQ\n",
       "KHgFL1hQECgIFAQKfrsjWFAQKAgUBAquO4IFBYGCQEGg4IvDYEFBoCBQECg4SQcLCgIFgYJAwUk6\n",
       "WFAQKAgUBApO0sGCgkBBoCBQ8JAOFhQECgIFgYLrjmBBQaAgUBAoOEkHCwoCBYGCQMFJOlhQECgI\n",
       "FAQKTtLBgoJAQaAgUPDbHcGCgkBBoCBQ8KP/wYKCQEGgIFBw3REsKAgUBAoChbmPp/TGgoJAQaAg\n",
       "UHCSDhYUBAoCBYGCLw6DBQWBgkBBoOCLw2BBQaAgUBAouO4IFhQECgIFgYIvDoMFBYGCQEGg4CQd\n",
       "LCgIFAQKAgW/3REsKAgUBAoChTle71hZUBAoCBQECt7uCBYUBAoCBYHCXCfplQUFgYJAQaDgJB0s\n",
       "KAgUBAoCBXfSwYKCQEGgIFDwdkewoCBQECgIFOb4Y5aVBQWBgkBBoOC6I1hQECgIFAQKAgV/Nx8s\n",
       "KAgUBAoCBa+/BAsKAgWBgkDBpX2woCBQECgIFFx3BAsKAgWBgkBhzuPCY2NBQaAgUBAouO4IFhQE\n",
       "CgIFgYKHdLCgIFAQKAgU3EkHCwoCBYGCQMGddLCgIFAQKAgU5vycpDcWFAQKAgWBgpN0sKAgUBAo\n",
       "CBTmekivLCgIFAQKAgUn6WBBQaAgUBAozPl5SG8sKAgUBAoCBSfpYEFBoCBQECi4kw4WFAQKAgWB\n",
       "gpN0sKAgUBAoCBQ8pIMFBYGCQEGg4IvDYEFBoCBQECjMff68/Rk+zYKCQEGgIFBw3REsKAgUBAoC\n",
       "BW93BAsKAgWBgkBhznXdsbGgIFAQKAgUnKSDBQWBgkBBoDDHF4crCwoCBYGCQMFJOlhQECgIFAQK\n",
       "TtLBgoJAQaAgUJh7naQ3FhQECgIFgYLrjmBBQaAgUBAoeAUvWFAQKAgUBApO0sGCgkBBoCBQmOsk\n",
       "vbKgIFAQKAgUnKSDBQWBgkBBoDDH2x0rCwoCBYGCQMFPlQYLCgIFgYJAwXvSwYKCQEGgIFBwJx0s\n",
       "KAgUBAoCBSfpYEFBoCBQECh4SAcLCgIFgYJAwReHwYKCQEGgIFBwkg4WFAQKAgWBwjy+OFxZUBAo\n",
       "CBQECk7SwYKCQEGgIFDwCl6woCBQECgIFOZxkl5ZUBAoCBQECt7uCBYUBAoCBYGCLw6DBQWBgkBB\n",
       "oOC6I1hQECgIFAQKc5/79mf4NAsKAgWBgkDBdUewoCBQECgIFOZxkl5ZUBAoCBQECv8BchLtGWsS\n",
       "xKgAAAAASUVORK5CYII=\n",
       "\" transform=\"translate(2161, 124)\"/>\n",
       "</g>\n",
       "<path clip-path=\"url(#clip690)\" d=\"M2280.7 1391.54 Q2277.09 1391.54 2275.26 1395.1 Q2273.45 1398.64 2273.45 1405.77 Q2273.45 1412.88 2275.26 1416.44 Q2277.09 1419.99 2280.7 1419.99 Q2284.33 1419.99 2286.14 1416.44 Q2287.97 1412.88 2287.97 1405.77 Q2287.97 1398.64 2286.14 1395.1 Q2284.33 1391.54 2280.7 1391.54 M2280.7 1387.83 Q2286.51 1387.83 2289.57 1392.44 Q2292.64 1397.02 2292.64 1405.77 Q2292.64 1414.5 2289.57 1419.11 Q2286.51 1423.69 2280.7 1423.69 Q2274.89 1423.69 2271.81 1419.11 Q2268.76 1414.5 2268.76 1405.77 Q2268.76 1397.02 2271.81 1392.44 Q2274.89 1387.83 2280.7 1387.83 Z\" fill=\"#000000\" fill-rule=\"evenodd\" fill-opacity=\"1\" /><path clip-path=\"url(#clip690)\" d=\"M2280.7 1263.03 Q2277.09 1263.03 2275.26 1266.6 Q2273.45 1270.14 2273.45 1277.27 Q2273.45 1284.38 2275.26 1287.94 Q2277.09 1291.48 2280.7 1291.48 Q2284.33 1291.48 2286.14 1287.94 Q2287.97 1284.38 2287.97 1277.27 Q2287.97 1270.14 2286.14 1266.6 Q2284.33 1263.03 2280.7 1263.03 M2280.7 1259.33 Q2286.51 1259.33 2289.57 1263.94 Q2292.64 1268.52 2292.64 1277.27 Q2292.64 1286 2289.57 1290.6 Q2286.51 1295.19 2280.7 1295.19 Q2274.89 1295.19 2271.81 1290.6 Q2268.76 1286 2268.76 1277.27 Q2268.76 1268.52 2271.81 1263.94 Q2274.89 1259.33 2280.7 1259.33 Z\" fill=\"#000000\" fill-rule=\"evenodd\" fill-opacity=\"1\" /><path clip-path=\"url(#clip690)\" d=\"M2300.86 1288.63 L2305.75 1288.63 L2305.75 1294.51 L2300.86 1294.51 L2300.86 1288.63 Z\" fill=\"#000000\" fill-rule=\"evenodd\" fill-opacity=\"1\" /><path clip-path=\"url(#clip690)\" d=\"M2316.74 1290.58 L2324.38 1290.58 L2324.38 1264.21 L2316.07 1265.88 L2316.07 1261.62 L2324.33 1259.95 L2329.01 1259.95 L2329.01 1290.58 L2336.65 1290.58 L2336.65 1294.51 L2316.74 1294.51 L2316.74 1290.58 Z\" fill=\"#000000\" fill-rule=\"evenodd\" fill-opacity=\"1\" /><path clip-path=\"url(#clip690)\" d=\"M2280.7 1134.53 Q2277.09 1134.53 2275.26 1138.09 Q2273.45 1141.64 2273.45 1148.76 Q2273.45 1155.87 2275.26 1159.44 Q2277.09 1162.98 2280.7 1162.98 Q2284.33 1162.98 2286.14 1159.44 Q2287.97 1155.87 2287.97 1148.76 Q2287.97 1141.64 2286.14 1138.09 Q2284.33 1134.53 2280.7 1134.53 M2280.7 1130.83 Q2286.51 1130.83 2289.57 1135.43 Q2292.64 1140.01 2292.64 1148.76 Q2292.64 1157.49 2289.57 1162.1 Q2286.51 1166.68 2280.7 1166.68 Q2274.89 1166.68 2271.81 1162.1 Q2268.76 1157.49 2268.76 1148.76 Q2268.76 1140.01 2271.81 1135.43 Q2274.89 1130.83 2280.7 1130.83 Z\" fill=\"#000000\" fill-rule=\"evenodd\" fill-opacity=\"1\" /><path clip-path=\"url(#clip690)\" d=\"M2300.86 1160.13 L2305.75 1160.13 L2305.75 1166.01 L2300.86 1166.01 L2300.86 1160.13 Z\" fill=\"#000000\" fill-rule=\"evenodd\" fill-opacity=\"1\" /><path clip-path=\"url(#clip690)\" d=\"M2319.96 1162.07 L2336.28 1162.07 L2336.28 1166.01 L2314.33 1166.01 L2314.33 1162.07 Q2317 1159.32 2321.58 1154.69 Q2326.19 1150.04 2327.37 1148.7 Q2329.61 1146.17 2330.49 1144.44 Q2331.39 1142.68 2331.39 1140.99 Q2331.39 1138.23 2329.45 1136.5 Q2327.53 1134.76 2324.43 1134.76 Q2322.23 1134.76 2319.77 1135.52 Q2317.34 1136.29 2314.57 1137.84 L2314.57 1133.12 Q2317.39 1131.98 2319.84 1131.4 Q2322.3 1130.83 2324.33 1130.83 Q2329.7 1130.83 2332.9 1133.51 Q2336.09 1136.2 2336.09 1140.69 Q2336.09 1142.82 2335.28 1144.74 Q2334.5 1146.64 2332.39 1149.23 Q2331.81 1149.9 2328.71 1153.12 Q2325.61 1156.31 2319.96 1162.07 Z\" fill=\"#000000\" fill-rule=\"evenodd\" fill-opacity=\"1\" /><path clip-path=\"url(#clip690)\" d=\"M2280.7 1006.02 Q2277.09 1006.02 2275.26 1009.59 Q2273.45 1013.13 2273.45 1020.26 Q2273.45 1027.37 2275.26 1030.93 Q2277.09 1034.47 2280.7 1034.47 Q2284.33 1034.47 2286.14 1030.93 Q2287.97 1027.37 2287.97 1020.26 Q2287.97 1013.13 2286.14 1009.59 Q2284.33 1006.02 2280.7 1006.02 M2280.7 1002.32 Q2286.51 1002.32 2289.57 1006.93 Q2292.64 1011.51 2292.64 1020.26 Q2292.64 1028.99 2289.57 1033.59 Q2286.51 1038.18 2280.7 1038.18 Q2274.89 1038.18 2271.81 1033.59 Q2268.76 1028.99 2268.76 1020.26 Q2268.76 1011.51 2271.81 1006.93 Q2274.89 1002.32 2280.7 1002.32 Z\" fill=\"#000000\" fill-rule=\"evenodd\" fill-opacity=\"1\" /><path clip-path=\"url(#clip690)\" d=\"M2300.86 1031.63 L2305.75 1031.63 L2305.75 1037.51 L2300.86 1037.51 L2300.86 1031.63 Z\" fill=\"#000000\" fill-rule=\"evenodd\" fill-opacity=\"1\" /><path clip-path=\"url(#clip690)\" d=\"M2330.1 1018.87 Q2333.45 1019.59 2335.33 1021.86 Q2337.23 1024.13 2337.23 1027.46 Q2337.23 1032.58 2333.71 1035.38 Q2330.19 1038.18 2323.71 1038.18 Q2321.53 1038.18 2319.22 1037.74 Q2316.93 1037.32 2314.47 1036.46 L2314.47 1031.95 Q2316.42 1033.08 2318.73 1033.66 Q2321.05 1034.24 2323.57 1034.24 Q2327.97 1034.24 2330.26 1032.51 Q2332.58 1030.77 2332.58 1027.46 Q2332.58 1024.4 2330.42 1022.69 Q2328.29 1020.95 2324.47 1020.95 L2320.45 1020.95 L2320.45 1017.11 L2324.66 1017.11 Q2328.11 1017.11 2329.94 1015.75 Q2331.76 1014.36 2331.76 1011.77 Q2331.76 1009.1 2329.87 1007.69 Q2327.99 1006.26 2324.47 1006.26 Q2322.55 1006.26 2320.35 1006.67 Q2318.15 1007.09 2315.51 1007.97 L2315.51 1003.8 Q2318.18 1003.06 2320.49 1002.69 Q2322.83 1002.32 2324.89 1002.32 Q2330.21 1002.32 2333.32 1004.75 Q2336.42 1007.16 2336.42 1011.28 Q2336.42 1014.15 2334.77 1016.14 Q2333.13 1018.11 2330.1 1018.87 Z\" fill=\"#000000\" fill-rule=\"evenodd\" fill-opacity=\"1\" /><path clip-path=\"url(#clip690)\" d=\"M2280.7 877.52 Q2277.09 877.52 2275.26 881.085 Q2273.45 884.627 2273.45 891.756 Q2273.45 898.863 2275.26 902.427 Q2277.09 905.969 2280.7 905.969 Q2284.33 905.969 2286.14 902.427 Q2287.97 898.863 2287.97 891.756 Q2287.97 884.627 2286.14 881.085 Q2284.33 877.52 2280.7 877.52 M2280.7 873.817 Q2286.51 873.817 2289.57 878.423 Q2292.64 883.006 2292.64 891.756 Q2292.64 900.483 2289.57 905.089 Q2286.51 909.673 2280.7 909.673 Q2274.89 909.673 2271.81 905.089 Q2268.76 900.483 2268.76 891.756 Q2268.76 883.006 2271.81 878.423 Q2274.89 873.817 2280.7 873.817 Z\" fill=\"#000000\" fill-rule=\"evenodd\" fill-opacity=\"1\" /><path clip-path=\"url(#clip690)\" d=\"M2300.86 903.122 L2305.75 903.122 L2305.75 909.002 L2300.86 909.002 L2300.86 903.122 Z\" fill=\"#000000\" fill-rule=\"evenodd\" fill-opacity=\"1\" /><path clip-path=\"url(#clip690)\" d=\"M2328.78 878.516 L2316.97 896.965 L2328.78 896.965 L2328.78 878.516 M2327.55 874.442 L2333.43 874.442 L2333.43 896.965 L2338.36 896.965 L2338.36 900.853 L2333.43 900.853 L2333.43 909.002 L2328.78 909.002 L2328.78 900.853 L2313.18 900.853 L2313.18 896.34 L2327.55 874.442 Z\" fill=\"#000000\" fill-rule=\"evenodd\" fill-opacity=\"1\" /><path clip-path=\"url(#clip690)\" d=\"M2280.7 749.016 Q2277.09 749.016 2275.26 752.581 Q2273.45 756.122 2273.45 763.252 Q2273.45 770.358 2275.26 773.923 Q2277.09 777.465 2280.7 777.465 Q2284.33 777.465 2286.14 773.923 Q2287.97 770.358 2287.97 763.252 Q2287.97 756.122 2286.14 752.581 Q2284.33 749.016 2280.7 749.016 M2280.7 745.312 Q2286.51 745.312 2289.57 749.919 Q2292.64 754.502 2292.64 763.252 Q2292.64 771.979 2289.57 776.585 Q2286.51 781.168 2280.7 781.168 Q2274.89 781.168 2271.81 776.585 Q2268.76 771.979 2268.76 763.252 Q2268.76 754.502 2271.81 749.919 Q2274.89 745.312 2280.7 745.312 Z\" fill=\"#000000\" fill-rule=\"evenodd\" fill-opacity=\"1\" /><path clip-path=\"url(#clip690)\" d=\"M2300.86 774.618 L2305.75 774.618 L2305.75 780.497 L2300.86 780.497 L2300.86 774.618 Z\" fill=\"#000000\" fill-rule=\"evenodd\" fill-opacity=\"1\" /><path clip-path=\"url(#clip690)\" d=\"M2315.98 745.937 L2334.33 745.937 L2334.33 749.872 L2320.26 749.872 L2320.26 758.345 Q2321.28 757.997 2322.3 757.835 Q2323.32 757.65 2324.33 757.65 Q2330.12 757.65 2333.5 760.821 Q2336.88 763.993 2336.88 769.409 Q2336.88 774.988 2333.41 778.09 Q2329.94 781.168 2323.62 781.168 Q2321.44 781.168 2319.17 780.798 Q2316.93 780.428 2314.52 779.687 L2314.52 774.988 Q2316.6 776.122 2318.83 776.678 Q2321.05 777.233 2323.52 777.233 Q2327.53 777.233 2329.87 775.127 Q2332.2 773.02 2332.2 769.409 Q2332.2 765.798 2329.87 763.692 Q2327.53 761.585 2323.52 761.585 Q2321.65 761.585 2319.77 762.002 Q2317.92 762.419 2315.98 763.298 L2315.98 745.937 Z\" fill=\"#000000\" fill-rule=\"evenodd\" fill-opacity=\"1\" /><path clip-path=\"url(#clip690)\" d=\"M2280.7 620.512 Q2277.09 620.512 2275.26 624.076 Q2273.45 627.618 2273.45 634.748 Q2273.45 641.854 2275.26 645.419 Q2277.09 648.96 2280.7 648.96 Q2284.33 648.96 2286.14 645.419 Q2287.97 641.854 2287.97 634.748 Q2287.97 627.618 2286.14 624.076 Q2284.33 620.512 2280.7 620.512 M2280.7 616.808 Q2286.51 616.808 2289.57 621.414 Q2292.64 625.998 2292.64 634.748 Q2292.64 643.474 2289.57 648.081 Q2286.51 652.664 2280.7 652.664 Q2274.89 652.664 2271.81 648.081 Q2268.76 643.474 2268.76 634.748 Q2268.76 625.998 2271.81 621.414 Q2274.89 616.808 2280.7 616.808 Z\" fill=\"#000000\" fill-rule=\"evenodd\" fill-opacity=\"1\" /><path clip-path=\"url(#clip690)\" d=\"M2300.86 646.113 L2305.75 646.113 L2305.75 651.993 L2300.86 651.993 L2300.86 646.113 Z\" fill=\"#000000\" fill-rule=\"evenodd\" fill-opacity=\"1\" /><path clip-path=\"url(#clip690)\" d=\"M2326.51 632.849 Q2323.36 632.849 2321.51 635.002 Q2319.68 637.155 2319.68 640.905 Q2319.68 644.632 2321.51 646.808 Q2323.36 648.96 2326.51 648.96 Q2329.66 648.96 2331.49 646.808 Q2333.34 644.632 2333.34 640.905 Q2333.34 637.155 2331.49 635.002 Q2329.66 632.849 2326.51 632.849 M2335.79 618.197 L2335.79 622.456 Q2334.03 621.623 2332.23 621.183 Q2330.45 620.743 2328.69 620.743 Q2324.06 620.743 2321.6 623.868 Q2319.17 626.993 2318.83 633.312 Q2320.19 631.299 2322.25 630.234 Q2324.31 629.146 2326.79 629.146 Q2332 629.146 2335.01 632.317 Q2338.04 635.465 2338.04 640.905 Q2338.04 646.229 2334.89 649.447 Q2331.74 652.664 2326.51 652.664 Q2320.51 652.664 2317.34 648.081 Q2314.17 643.474 2314.17 634.748 Q2314.17 626.553 2318.06 621.692 Q2321.95 616.808 2328.5 616.808 Q2330.26 616.808 2332.04 617.155 Q2333.85 617.502 2335.79 618.197 Z\" fill=\"#000000\" fill-rule=\"evenodd\" fill-opacity=\"1\" /><path clip-path=\"url(#clip690)\" d=\"M2280.7 492.007 Q2277.09 492.007 2275.26 495.572 Q2273.45 499.114 2273.45 506.243 Q2273.45 513.35 2275.26 516.915 Q2277.09 520.456 2280.7 520.456 Q2284.33 520.456 2286.14 516.915 Q2287.97 513.35 2287.97 506.243 Q2287.97 499.114 2286.14 495.572 Q2284.33 492.007 2280.7 492.007 M2280.7 488.304 Q2286.51 488.304 2289.57 492.91 Q2292.64 497.493 2292.64 506.243 Q2292.64 514.97 2289.57 519.577 Q2286.51 524.16 2280.7 524.16 Q2274.89 524.16 2271.81 519.577 Q2268.76 514.97 2268.76 506.243 Q2268.76 497.493 2271.81 492.91 Q2274.89 488.304 2280.7 488.304 Z\" fill=\"#000000\" fill-rule=\"evenodd\" fill-opacity=\"1\" /><path clip-path=\"url(#clip690)\" d=\"M2300.86 517.609 L2305.75 517.609 L2305.75 523.489 L2300.86 523.489 L2300.86 517.609 Z\" fill=\"#000000\" fill-rule=\"evenodd\" fill-opacity=\"1\" /><path clip-path=\"url(#clip690)\" d=\"M2314.75 488.929 L2336.97 488.929 L2336.97 490.919 L2324.43 523.489 L2319.54 523.489 L2331.35 492.864 L2314.75 492.864 L2314.75 488.929 Z\" fill=\"#000000\" fill-rule=\"evenodd\" fill-opacity=\"1\" /><path clip-path=\"url(#clip690)\" d=\"M2280.7 363.503 Q2277.09 363.503 2275.26 367.068 Q2273.45 370.609 2273.45 377.739 Q2273.45 384.845 2275.26 388.41 Q2277.09 391.952 2280.7 391.952 Q2284.33 391.952 2286.14 388.41 Q2287.97 384.845 2287.97 377.739 Q2287.97 370.609 2286.14 367.068 Q2284.33 363.503 2280.7 363.503 M2280.7 359.799 Q2286.51 359.799 2289.57 364.406 Q2292.64 368.989 2292.64 377.739 Q2292.64 386.466 2289.57 391.072 Q2286.51 395.656 2280.7 395.656 Q2274.89 395.656 2271.81 391.072 Q2268.76 386.466 2268.76 377.739 Q2268.76 368.989 2271.81 364.406 Q2274.89 359.799 2280.7 359.799 Z\" fill=\"#000000\" fill-rule=\"evenodd\" fill-opacity=\"1\" /><path clip-path=\"url(#clip690)\" d=\"M2300.86 389.105 L2305.75 389.105 L2305.75 394.984 L2300.86 394.984 L2300.86 389.105 Z\" fill=\"#000000\" fill-rule=\"evenodd\" fill-opacity=\"1\" /><path clip-path=\"url(#clip690)\" d=\"M2325.93 378.572 Q2322.6 378.572 2320.68 380.355 Q2318.78 382.137 2318.78 385.262 Q2318.78 388.387 2320.68 390.169 Q2322.6 391.952 2325.93 391.952 Q2329.26 391.952 2331.19 390.169 Q2333.11 388.364 2333.11 385.262 Q2333.11 382.137 2331.19 380.355 Q2329.29 378.572 2325.93 378.572 M2321.26 376.582 Q2318.25 375.841 2316.56 373.781 Q2314.89 371.72 2314.89 368.758 Q2314.89 364.614 2317.83 362.207 Q2320.79 359.799 2325.93 359.799 Q2331.09 359.799 2334.03 362.207 Q2336.97 364.614 2336.97 368.758 Q2336.97 371.72 2335.28 373.781 Q2333.62 375.841 2330.63 376.582 Q2334.01 377.369 2335.89 379.66 Q2337.78 381.952 2337.78 385.262 Q2337.78 390.285 2334.7 392.97 Q2331.65 395.656 2325.93 395.656 Q2320.21 395.656 2317.14 392.97 Q2314.08 390.285 2314.08 385.262 Q2314.08 381.952 2315.98 379.66 Q2317.88 377.369 2321.26 376.582 M2319.54 369.197 Q2319.54 371.882 2321.21 373.387 Q2322.9 374.892 2325.93 374.892 Q2328.94 374.892 2330.63 373.387 Q2332.34 371.882 2332.34 369.197 Q2332.34 366.512 2330.63 365.008 Q2328.94 363.503 2325.93 363.503 Q2322.9 363.503 2321.21 365.008 Q2319.54 366.512 2319.54 369.197 Z\" fill=\"#000000\" fill-rule=\"evenodd\" fill-opacity=\"1\" /><path clip-path=\"url(#clip690)\" d=\"M2280.7 234.999 Q2277.09 234.999 2275.26 238.563 Q2273.45 242.105 2273.45 249.235 Q2273.45 256.341 2275.26 259.906 Q2277.09 263.448 2280.7 263.448 Q2284.33 263.448 2286.14 259.906 Q2287.97 256.341 2287.97 249.235 Q2287.97 242.105 2286.14 238.563 Q2284.33 234.999 2280.7 234.999 M2280.7 231.295 Q2286.51 231.295 2289.57 235.901 Q2292.64 240.485 2292.64 249.235 Q2292.64 257.961 2289.57 262.568 Q2286.51 267.151 2280.7 267.151 Q2274.89 267.151 2271.81 262.568 Q2268.76 257.961 2268.76 249.235 Q2268.76 240.485 2271.81 235.901 Q2274.89 231.295 2280.7 231.295 Z\" fill=\"#000000\" fill-rule=\"evenodd\" fill-opacity=\"1\" /><path clip-path=\"url(#clip690)\" d=\"M2300.86 260.6 L2305.75 260.6 L2305.75 266.48 L2300.86 266.48 L2300.86 260.6 Z\" fill=\"#000000\" fill-rule=\"evenodd\" fill-opacity=\"1\" /><path clip-path=\"url(#clip690)\" d=\"M2316.07 265.762 L2316.07 261.503 Q2317.83 262.336 2319.64 262.776 Q2321.44 263.216 2323.18 263.216 Q2327.81 263.216 2330.24 260.114 Q2332.69 256.989 2333.04 250.647 Q2331.7 252.637 2329.64 253.702 Q2327.58 254.767 2325.08 254.767 Q2319.89 254.767 2316.86 251.642 Q2313.85 248.494 2313.85 243.054 Q2313.85 237.73 2317 234.512 Q2320.14 231.295 2325.38 231.295 Q2331.37 231.295 2334.52 235.901 Q2337.69 240.485 2337.69 249.235 Q2337.69 257.406 2333.8 262.29 Q2329.94 267.151 2323.39 267.151 Q2321.63 267.151 2319.82 266.804 Q2318.01 266.457 2316.07 265.762 M2325.38 251.11 Q2328.52 251.11 2330.35 248.957 Q2332.2 246.804 2332.2 243.054 Q2332.2 239.327 2330.35 237.175 Q2328.52 234.999 2325.38 234.999 Q2322.23 234.999 2320.38 237.175 Q2318.55 239.327 2318.55 243.054 Q2318.55 246.804 2320.38 248.957 Q2322.23 251.11 2325.38 251.11 Z\" fill=\"#000000\" fill-rule=\"evenodd\" fill-opacity=\"1\" /><path clip-path=\"url(#clip690)\" d=\"M2269.43 134.04 L2277.07 134.04 L2277.07 107.675 L2268.76 109.341 L2268.76 105.082 L2277.02 103.416 L2281.7 103.416 L2281.7 134.04 L2289.33 134.04 L2289.33 137.976 L2269.43 137.976 L2269.43 134.04 Z\" fill=\"#000000\" fill-rule=\"evenodd\" fill-opacity=\"1\" /><path clip-path=\"url(#clip690)\" d=\"M2298.78 132.096 L2303.66 132.096 L2303.66 137.976 L2298.78 137.976 L2298.78 132.096 Z\" fill=\"#000000\" fill-rule=\"evenodd\" fill-opacity=\"1\" /><path clip-path=\"url(#clip690)\" d=\"M2323.85 106.494 Q2320.24 106.494 2318.41 110.059 Q2316.6 113.601 2316.6 120.73 Q2316.6 127.837 2318.41 131.402 Q2320.24 134.943 2323.85 134.943 Q2327.48 134.943 2329.29 131.402 Q2331.12 127.837 2331.12 120.73 Q2331.12 113.601 2329.29 110.059 Q2327.48 106.494 2323.85 106.494 M2323.85 102.791 Q2329.66 102.791 2332.71 107.397 Q2335.79 111.98 2335.79 120.73 Q2335.79 129.457 2332.71 134.064 Q2329.66 138.647 2323.85 138.647 Q2318.04 138.647 2314.96 134.064 Q2311.9 129.457 2311.9 120.73 Q2311.9 111.98 2314.96 107.397 Q2318.04 102.791 2323.85 102.791 Z\" fill=\"#000000\" fill-rule=\"evenodd\" fill-opacity=\"1\" /><polyline clip-path=\"url(#clip690)\" style=\"stroke:#000000; stroke-linecap:butt; stroke-linejoin:round; stroke-width:4; stroke-opacity:1; fill:none\" points=\"\n",
       "  2232.76,1409.37 2232.76,1409.37 2256.76,1409.37 2232.76,1409.37 2232.76,1280.86 2256.76,1280.86 2232.76,1280.86 2232.76,1152.36 2256.76,1152.36 2232.76,1152.36 \n",
       "  2232.76,1023.85 2256.76,1023.85 2232.76,1023.85 2232.76,895.35 2256.76,895.35 2232.76,895.35 2232.76,766.846 2256.76,766.846 2232.76,766.846 2232.76,638.342 \n",
       "  2256.76,638.342 2232.76,638.342 2232.76,509.837 2256.76,509.837 2232.76,509.837 2232.76,381.333 2256.76,381.333 2232.76,381.333 2232.76,252.829 2256.76,252.829 \n",
       "  2232.76,252.829 2232.76,124.324 2256.76,124.324 2232.76,124.324 \n",
       "  \"/>\n",
       "</svg>\n"
      ]
     },
     "execution_count": 67,
     "metadata": {},
     "output_type": "execute_result"
    }
   ],
   "source": [
    "heatmap(final, aspect_ratio=1)"
   ]
  },
  {
   "cell_type": "code",
   "execution_count": null,
   "id": "8c6f1ea1-8e19-4820-a180-5e0fe01138a5",
   "metadata": {},
   "outputs": [],
   "source": []
  }
 ],
 "metadata": {
  "kernelspec": {
   "display_name": "Julia 1.6.1",
   "language": "julia",
   "name": "julia-1.6"
  },
  "language_info": {
   "file_extension": ".jl",
   "mimetype": "application/julia",
   "name": "julia",
   "version": "1.6.1"
  }
 },
 "nbformat": 4,
 "nbformat_minor": 5
}
