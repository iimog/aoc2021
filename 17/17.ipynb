{
 "cells": [
  {
   "cell_type": "code",
   "execution_count": 2,
   "id": "e6f38156-d818-44a9-afb1-3998f1bcd49a",
   "metadata": {},
   "outputs": [
    {
     "data": {
      "text/plain": [
       "\"target area: x=119..176, y=-141..-84\""
      ]
     },
     "execution_count": 2,
     "metadata": {},
     "output_type": "execute_result"
    }
   ],
   "source": [
    "input = readline(\"input\")"
   ]
  },
  {
   "cell_type": "code",
   "execution_count": 43,
   "id": "06ad6ba0-4ddb-4a08-ae87-a7806fc992c6",
   "metadata": {},
   "outputs": [],
   "source": [
    "target_x = [119, 176];\n",
    "target_y = [-141, -84];"
   ]
  },
  {
   "cell_type": "code",
   "execution_count": 59,
   "id": "3ce3fe20-310d-424f-9037-6bac5763d5ef",
   "metadata": {},
   "outputs": [],
   "source": [
    "# use dummy example\n",
    "#target_x = [20, 30];\n",
    "#target_y = [-10, -5];"
   ]
  },
  {
   "cell_type": "code",
   "execution_count": 5,
   "id": "2c3dcc1d-fa54-4e49-98d6-4bb9fef48abd",
   "metadata": {},
   "outputs": [],
   "source": [
    "pos = (0,0);"
   ]
  },
  {
   "cell_type": "code",
   "execution_count": 9,
   "id": "efdccdca-8082-4a8b-b0a9-2c98b7dee7ca",
   "metadata": {},
   "outputs": [
    {
     "data": {
      "text/plain": [
       "simulate_trajectory (generic function with 2 methods)"
      ]
     },
     "execution_count": 9,
     "metadata": {},
     "output_type": "execute_result"
    }
   ],
   "source": [
    "function simulate_trajectory(start_pos, start_velocity, steps = 100)\n",
    "    pos = start_pos\n",
    "    vel = start_velocity\n",
    "    trajectory = [pos]\n",
    "    for i in 1:steps\n",
    "        pos = (pos[1]+vel[1], pos[2]+vel[2])\n",
    "        vel = (vel[1]-sign(vel[1]), vel[2]-1)\n",
    "        push!(trajectory, pos)\n",
    "    end\n",
    "    return trajectory\n",
    "end"
   ]
  },
  {
   "cell_type": "code",
   "execution_count": 10,
   "id": "da3f0895-f8a8-4c5e-8b6e-a4242e47b011",
   "metadata": {},
   "outputs": [
    {
     "data": {
      "text/plain": [
       "101-element Vector{Tuple{Int64, Int64}}:\n",
       " (0, 0)\n",
       " (6, 3)\n",
       " (11, 5)\n",
       " (15, 6)\n",
       " (18, 6)\n",
       " (20, 5)\n",
       " (21, 3)\n",
       " (21, 0)\n",
       " (21, -4)\n",
       " (21, -9)\n",
       " (21, -15)\n",
       " (21, -22)\n",
       " (21, -30)\n",
       " ⋮\n",
       " (21, -3649)\n",
       " (21, -3735)\n",
       " (21, -3822)\n",
       " (21, -3910)\n",
       " (21, -3999)\n",
       " (21, -4089)\n",
       " (21, -4180)\n",
       " (21, -4272)\n",
       " (21, -4365)\n",
       " (21, -4459)\n",
       " (21, -4554)\n",
       " (21, -4650)"
      ]
     },
     "execution_count": 10,
     "metadata": {},
     "output_type": "execute_result"
    }
   ],
   "source": [
    "simulate_trajectory(pos, (6,3))"
   ]
  },
  {
   "cell_type": "code",
   "execution_count": 38,
   "id": "f4c4ca62-4de4-46af-9069-c596ea8557fb",
   "metadata": {},
   "outputs": [
    {
     "data": {
      "text/plain": [
       "in_range (generic function with 1 method)"
      ]
     },
     "execution_count": 38,
     "metadata": {},
     "output_type": "execute_result"
    }
   ],
   "source": [
    "in_range((x,y)) = x >= target_x[1] && x <= target_x[2] && y >= target_y[1] && y <= target_y[2]"
   ]
  },
  {
   "cell_type": "code",
   "execution_count": 39,
   "id": "bdcdf00f-76f1-4a00-b7a2-c0c7104789c8",
   "metadata": {},
   "outputs": [
    {
     "data": {
      "text/plain": [
       "any_in_range (generic function with 1 method)"
      ]
     },
     "execution_count": 39,
     "metadata": {},
     "output_type": "execute_result"
    }
   ],
   "source": [
    "any_in_range(trajectory) = any(in_range.(trajectory))"
   ]
  },
  {
   "cell_type": "code",
   "execution_count": 44,
   "id": "9477072d-718b-4144-88ab-f66b452e3c0d",
   "metadata": {},
   "outputs": [
    {
     "data": {
      "text/plain": [
       "false"
      ]
     },
     "execution_count": 44,
     "metadata": {},
     "output_type": "execute_result"
    }
   ],
   "source": [
    "any_in_range(simulate_trajectory(pos, (6,3)))"
   ]
  },
  {
   "cell_type": "code",
   "execution_count": 20,
   "id": "86073e85-8aec-4c6d-ad56-fc214cae818e",
   "metadata": {},
   "outputs": [
    {
     "data": {
      "text/plain": [
       "highest_point (generic function with 1 method)"
      ]
     },
     "execution_count": 20,
     "metadata": {},
     "output_type": "execute_result"
    }
   ],
   "source": [
    "highest_point(trajectory) = maximum(getindex.(trajectory, 2))"
   ]
  },
  {
   "cell_type": "code",
   "execution_count": 21,
   "id": "f6f75a56-3f87-4f05-9ac5-c33880e127c5",
   "metadata": {},
   "outputs": [
    {
     "data": {
      "text/plain": [
       "6"
      ]
     },
     "execution_count": 21,
     "metadata": {},
     "output_type": "execute_result"
    }
   ],
   "source": [
    "highest_point(simulate_trajectory(pos, (6,3)))"
   ]
  },
  {
   "cell_type": "markdown",
   "id": "6aef5a6e-4d4b-4374-ae04-28bb6c6e4092",
   "metadata": {},
   "source": [
    "Stupid burte-force solution over a reasonable velocity range. I had to increase the step size. The highest missiles take more than 100 (even more than 1000) steps."
   ]
  },
  {
   "cell_type": "code",
   "execution_count": 50,
   "id": "f4ed0eb8-af47-464d-b4a7-979afdfadc4f",
   "metadata": {},
   "outputs": [
    {
     "data": {
      "text/plain": [
       "Dict{Any, Any} with 508 entries:\n",
       "  (18, 16)  => 136\n",
       "  (16, 14)  => 105\n",
       "  (18, 121) => 7381\n",
       "  (15, 68)  => 2346\n",
       "  (17, 12)  => 78\n",
       "  (18, 99)  => 4950\n",
       "  (15, 41)  => 861\n",
       "  (16, 16)  => 136\n",
       "  (16, 121) => 7381\n",
       "  (16, 99)  => 4950\n",
       "  (18, 83)  => 3486\n",
       "  (17, 31)  => 496\n",
       "  (15, 23)  => 276\n",
       "  (15, 111) => 6216\n",
       "  (15, 29)  => 435\n",
       "  (17, 44)  => 990\n",
       "  (15, 61)  => 1891\n",
       "  (18, 37)  => 703\n",
       "  (16, 83)  => 3486\n",
       "  (18, 18)  => 171\n",
       "  (18, 8)   => 36\n",
       "  (15, 12)  => 78\n",
       "  (16, 37)  => 703\n",
       "  (18, 24)  => 300\n",
       "  (18, 112) => 6328\n",
       "  ⋮         => ⋮"
      ]
     },
     "execution_count": 50,
     "metadata": {},
     "output_type": "execute_result"
    }
   ],
   "source": [
    "hits = Dict()\n",
    "for xvel in 1:50\n",
    "    for yvel in 1:500\n",
    "        t = simulate_trajectory(pos, (xvel,yvel),10000)\n",
    "        if any_in_range(t)\n",
    "            hits[(xvel,yvel)] = highest_point(t)\n",
    "        end\n",
    "    end\n",
    "end\n",
    "hits"
   ]
  },
  {
   "cell_type": "code",
   "execution_count": 51,
   "id": "38718fbe-2068-4f4a-b83c-19a454dfdb10",
   "metadata": {},
   "outputs": [
    {
     "data": {
      "text/plain": [
       "9870"
      ]
     },
     "execution_count": 51,
     "metadata": {},
     "output_type": "execute_result"
    }
   ],
   "source": [
    "maximum(values(hits))"
   ]
  },
  {
   "cell_type": "markdown",
   "id": "21b69d8f-4962-41ae-b585-4b46e1ae8612",
   "metadata": {},
   "source": [
    "## Part II"
   ]
  },
  {
   "cell_type": "markdown",
   "id": "97cd4a0f-08cb-4559-a6d9-560410243517",
   "metadata": {},
   "source": [
    "This is not an elegant solution but I don't care. I need to allow negative initialy y velocities as well (and initial x velocities up to 176)"
   ]
  },
  {
   "cell_type": "code",
   "execution_count": 60,
   "id": "64defccb-0818-4b9b-a951-00b24531c169",
   "metadata": {},
   "outputs": [],
   "source": [
    "upward_hits = hits;"
   ]
  },
  {
   "cell_type": "code",
   "execution_count": 57,
   "id": "de3bc6f8-41e0-4edb-b36d-f2112d969cca",
   "metadata": {},
   "outputs": [
    {
     "data": {
      "text/plain": [
       "Dict{Any, Any} with 5015 entries:\n",
       "  (158, -133) => 0\n",
       "  (131, -100) => 0\n",
       "  (119, -110) => 0\n",
       "  (174, -86)  => 0\n",
       "  (41, -44)   => 0\n",
       "  (126, -95)  => 0\n",
       "  (169, -122) => 0\n",
       "  (125, -112) => 0\n",
       "  (129, -87)  => 0\n",
       "  (156, -95)  => 0\n",
       "  (78, -48)   => 0\n",
       "  (159, -96)  => 0\n",
       "  (139, -93)  => 0\n",
       "  (167, -138) => 0\n",
       "  (144, -132) => 0\n",
       "  (132, -138) => 0\n",
       "  (133, -87)  => 0\n",
       "  (163, -137) => 0\n",
       "  (27, -22)   => 0\n",
       "  (151, -128) => 0\n",
       "  (18, -6)    => 0\n",
       "  (162, -91)  => 0\n",
       "  (141, -109) => 0\n",
       "  (151, -86)  => 0\n",
       "  (120, -136) => 0\n",
       "  ⋮           => ⋮"
      ]
     },
     "execution_count": 57,
     "metadata": {},
     "output_type": "execute_result"
    }
   ],
   "source": [
    "other_hits = Dict()\n",
    "for xvel in 1:200\n",
    "    for yvel in 0:-1:-200\n",
    "        t = simulate_trajectory(pos, (xvel,yvel),100)\n",
    "        if any_in_range(t)\n",
    "            other_hits[(xvel,yvel)] = highest_point(t)\n",
    "        end\n",
    "    end\n",
    "end\n",
    "other_hits"
   ]
  },
  {
   "cell_type": "code",
   "execution_count": 58,
   "id": "5e009b30-77dd-416f-8c66-639e0f7cab2e",
   "metadata": {},
   "outputs": [
    {
     "data": {
      "text/plain": [
       "5523"
      ]
     },
     "execution_count": 58,
     "metadata": {},
     "output_type": "execute_result"
    }
   ],
   "source": [
    "length(upward_hits) + length(other_hits)"
   ]
  }
 ],
 "metadata": {
  "kernelspec": {
   "display_name": "Julia 1.6.1",
   "language": "julia",
   "name": "julia-1.6"
  },
  "language_info": {
   "file_extension": ".jl",
   "mimetype": "application/julia",
   "name": "julia",
   "version": "1.6.1"
  }
 },
 "nbformat": 4,
 "nbformat_minor": 5
}
