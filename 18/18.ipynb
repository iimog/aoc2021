{
 "cells": [
  {
   "cell_type": "code",
   "execution_count": 102,
   "id": "4e87721f-3686-489d-ac5f-c1a7c036eced",
   "metadata": {},
   "outputs": [
    {
     "data": {
      "text/plain": [
       "10-element Vector{String}:\n",
       " \"[[[0,[5,8]],[[1,7],[9,6]]],[[4,[1,2]],[[1,4],2]]]\"\n",
       " \"[[[5,[2,8]],4],[5,[[9,9],0]]]\"\n",
       " \"[6,[[[6,2],[5,6]],[[7,6],[4,7]]]]\"\n",
       " \"[[[6,[0,7]],[0,9]],[4,[9,[9,0]]]]\"\n",
       " \"[[[7,[6,4]],[3,[1,3]]],[[[5,5],1],9]]\"\n",
       " \"[[6,[[7,3],[3,2]]],[[[3,8],[5,7]],4]]\"\n",
       " \"[[[[5,4],[7,7]],8],[[8,3],8]]\"\n",
       " \"[[9,3],[[9,9],[6,[4,9]]]]\"\n",
       " \"[[2,[[7,7],7]],[[5,8],[[9,3],[0,2]]]]\"\n",
       " \"[[[[5,2],5],[8,[3,7]]],[[5,[7,5]],[4,4]]]\""
      ]
     },
     "execution_count": 102,
     "metadata": {},
     "output_type": "execute_result"
    }
   ],
   "source": [
    "lines = readlines(\"example\")"
   ]
  },
  {
   "cell_type": "code",
   "execution_count": 104,
   "id": "dee64358-cc10-4c4b-a343-dc85dd49499a",
   "metadata": {},
   "outputs": [
    {
     "data": {
      "text/plain": [
       "100-element Vector{String}:\n",
       " \"[[3,[[6,3],[9,6]]],[6,[[0,9],[9,7]]]]\"\n",
       " \"[[[3,9],[[0,8],[7,6]]],[[[7,9],1],[1,3]]]\"\n",
       " \"[8,[[[9,6],[8,4]],4]]\"\n",
       " \"[5,[[1,2],[3,7]]]\"\n",
       " \"[[[[7,7],5],[[3,5],8]],4]\"\n",
       " \"[[[5,[0,7]],3],[[5,[5,3]],[1,[9,4]]]]\"\n",
       " \"[[[[3,5],[7,1]],6],[[[3,6],[5,6]],[[3,2],5]]]\"\n",
       " \"[[[[2,0],[3,0]],[5,7]],[[4,4],[[9,9],[9,3]]]]\"\n",
       " \"[[[[8,0],7],[[7,1],9]],[[3,[8,6]],8]]\"\n",
       " \"[[6,[7,5]],[[6,8],9]]\"\n",
       " \"[[[9,[1,8]],2],[[[4,0],[9,3]],1]]\"\n",
       " \"[[7,[1,[3,8]]],[[4,7],[8,1]]]\"\n",
       " \"[[[5,5],[[4,5],[2,9]]],[[[7,7],0],8]]\"\n",
       " ⋮\n",
       " \"[[5,4],[[0,[5,8]],[4,3]]]\"\n",
       " \"[6,[[5,[4,7]],9]]\"\n",
       " \"[[[2,[6,8]],[5,5]],[[[3,0],4],[[6,6],[0,1]]]]\"\n",
       " \"[[[1,[4,2]],[[8,0],8]],[8,[[6,1],[0,0]]]]\"\n",
       " \"[[9,[2,[3,3]]],[[2,6],[[5,2],[5,8]]]]\"\n",
       " \"[[9,[4,4]],[[[8,6],1],2]]\"\n",
       " \"[2,[[[0,7],7],[[7,8],5]]]\"\n",
       " \"[[[4,0],[[1,1],[7,6]]],[[6,7],[[7,2],1]]]\"\n",
       " \"[[[[2,5],0],[[9,5],9]],[6,[7,[6,1]]]]\"\n",
       " \"[[[7,8],1],[[[6,2],0],[[9,7],[3,5]]]]\"\n",
       " \"[[[9,1],0],[3,[[6,1],[6,9]]]]\"\n",
       " \"[[[[9,0],0],[4,[7,0]]],[[6,[4,0]],[8,[4,2]]]]\""
      ]
     },
     "execution_count": 104,
     "metadata": {},
     "output_type": "execute_result"
    }
   ],
   "source": [
    "lines = readlines(\"input\")"
   ]
  },
  {
   "cell_type": "code",
   "execution_count": 35,
   "id": "ab9344ab-6b5e-4f10-8f12-9c588d9ab697",
   "metadata": {},
   "outputs": [
    {
     "data": {
      "text/plain": [
       "explosion_point (generic function with 1 method)"
      ]
     },
     "execution_count": 35,
     "metadata": {},
     "output_type": "execute_result"
    }
   ],
   "source": [
    "# return string start end and number_index\n",
    "function explosion_point(sfnum)\n",
    "    depth = 0\n",
    "    num_index = 1\n",
    "    for i in 1:length(sfnum)\n",
    "        l = sfnum[i]\n",
    "        depth += (l == '[' ? 1 : (l == ']' ? -1 : 0))\n",
    "        num_index += (l == ',' ? 1 : 0)\n",
    "        if depth == 5\n",
    "            return i, findnext(\"]\", sfnum, i)[1], num_index\n",
    "        end\n",
    "    end\n",
    "    return 0,0,0\n",
    "end"
   ]
  },
  {
   "cell_type": "code",
   "execution_count": 61,
   "id": "19e3b206-a151-4eed-9329-58bcc2041692",
   "metadata": {},
   "outputs": [],
   "source": [
    "test1 = \"[[[[[9,8],1],2],3],4]\"\n",
    "test2 = \"[7,[6,[5,[4,[3,2]]]]]\"\n",
    "test3 = \"[[6,[5,[4,[3,2]]]],1]\"\n",
    "test2_out = \"[7,[6,[5,[7,0]]]]\";"
   ]
  },
  {
   "cell_type": "code",
   "execution_count": 37,
   "id": "06b91942-913d-4719-a4b2-dd6b387363ab",
   "metadata": {},
   "outputs": [
    {
     "data": {
      "text/plain": [
       "(5, 9, 1)"
      ]
     },
     "execution_count": 37,
     "metadata": {},
     "output_type": "execute_result"
    }
   ],
   "source": [
    "explosion_point(test1)"
   ]
  },
  {
   "cell_type": "code",
   "execution_count": 38,
   "id": "07edeee6-ccbe-4d8e-a8f7-b7d3676f7e24",
   "metadata": {},
   "outputs": [
    {
     "data": {
      "text/plain": [
       "(13, 17, 5)"
      ]
     },
     "execution_count": 38,
     "metadata": {},
     "output_type": "execute_result"
    }
   ],
   "source": [
    "explosion_point(test2)"
   ]
  },
  {
   "cell_type": "code",
   "execution_count": 39,
   "id": "8ee5f041-897e-441a-a1de-aff6f677a6ac",
   "metadata": {},
   "outputs": [
    {
     "data": {
      "text/plain": [
       "(0, 0, 0)"
      ]
     },
     "execution_count": 39,
     "metadata": {},
     "output_type": "execute_result"
    }
   ],
   "source": [
    "explosion_point(test2_out)"
   ]
  },
  {
   "cell_type": "code",
   "execution_count": 22,
   "id": "ceeeb937-b25f-416b-9346-16391abf4fae",
   "metadata": {},
   "outputs": [
    {
     "data": {
      "text/plain": [
       "extract_numbers (generic function with 1 method)"
      ]
     },
     "execution_count": 22,
     "metadata": {},
     "output_type": "execute_result"
    }
   ],
   "source": [
    "extract_numbers(sfnum) = replace(sfnum, r\"\\[|\\]\" => \"\") |> x->split(x,\",\") |> x->parse.(Int,x)"
   ]
  },
  {
   "cell_type": "code",
   "execution_count": 23,
   "id": "307249ba-0e86-4e9c-bb4f-a04a71edd0e4",
   "metadata": {},
   "outputs": [
    {
     "data": {
      "text/plain": [
       "6-element Vector{Int64}:\n",
       " 9\n",
       " 8\n",
       " 1\n",
       " 2\n",
       " 3\n",
       " 4"
      ]
     },
     "execution_count": 23,
     "metadata": {},
     "output_type": "execute_result"
    }
   ],
   "source": [
    "extract_numbers(test1)"
   ]
  },
  {
   "cell_type": "code",
   "execution_count": 52,
   "id": "8e2df06d-e652-4f5f-90ba-0a34aab9e487",
   "metadata": {},
   "outputs": [
    {
     "data": {
      "text/plain": [
       "6-element Vector{SubString{String}}:\n",
       " \"[7\"\n",
       " \"[6\"\n",
       " \"[5\"\n",
       " \"[4\"\n",
       " \"[3\"\n",
       " \"2]]]]]\""
      ]
     },
     "execution_count": 52,
     "metadata": {},
     "output_type": "execute_result"
    }
   ],
   "source": [
    "tmp = split(test2, \",\") |> collect"
   ]
  },
  {
   "cell_type": "code",
   "execution_count": 58,
   "id": "35e07e74-0e6a-41db-a8c0-31cd21a3a64b",
   "metadata": {},
   "outputs": [
    {
     "data": {
      "text/plain": [
       "explode (generic function with 1 method)"
      ]
     },
     "execution_count": 58,
     "metadata": {},
     "output_type": "execute_result"
    }
   ],
   "source": [
    "function explode(sfnum)\n",
    "    (from, to, num_index) = explosion_point(sfnum)\n",
    "    if from == 0\n",
    "        return sfnum\n",
    "    end\n",
    "    numbers = extract_numbers(sfnum)\n",
    "    out = sfnum[1:(from-1)] * \"0\" * sfnum[(to+1):end]\n",
    "    parts = split(out, \",\") |> collect\n",
    "    if num_index > 1\n",
    "        parts[num_index - 1] = replace(parts[num_index - 1], string(numbers[num_index-1]) => string(numbers[num_index - 1] + numbers[num_index]))\n",
    "    end\n",
    "    if num_index < length(parts)\n",
    "        parts[num_index + 1] = replace(parts[num_index + 1], string(numbers[num_index+2]) => string(numbers[num_index + 2] + numbers[num_index + 1]))\n",
    "    end\n",
    "    return join(parts,\",\")\n",
    "end"
   ]
  },
  {
   "cell_type": "code",
   "execution_count": 59,
   "id": "0f56da41-a306-4e9b-b79d-fb71e868842a",
   "metadata": {},
   "outputs": [
    {
     "data": {
      "text/plain": [
       "\"[[[[0,9],2],3],4]\""
      ]
     },
     "execution_count": 59,
     "metadata": {},
     "output_type": "execute_result"
    }
   ],
   "source": [
    "explode(test1)"
   ]
  },
  {
   "cell_type": "code",
   "execution_count": 60,
   "id": "2c3fd373-eed0-421a-9477-d70dcb869a07",
   "metadata": {},
   "outputs": [
    {
     "data": {
      "text/plain": [
       "\"[7,[6,[5,[7,0]]]]\""
      ]
     },
     "execution_count": 60,
     "metadata": {},
     "output_type": "execute_result"
    }
   ],
   "source": [
    "explode(test2)"
   ]
  },
  {
   "cell_type": "code",
   "execution_count": 62,
   "id": "329d684a-f3b0-4335-8b38-eddbaa0c909b",
   "metadata": {},
   "outputs": [
    {
     "data": {
      "text/plain": [
       "\"[[6,[5,[7,0]]],3]\""
      ]
     },
     "execution_count": 62,
     "metadata": {},
     "output_type": "execute_result"
    }
   ],
   "source": [
    "explode(test3)"
   ]
  },
  {
   "cell_type": "code",
   "execution_count": 68,
   "id": "f0e065b1-be82-491b-bf92-3a79a17c396c",
   "metadata": {},
   "outputs": [
    {
     "data": {
      "text/plain": [
       "false"
      ]
     },
     "execution_count": 68,
     "metadata": {},
     "output_type": "execute_result"
    }
   ],
   "source": [
    "any(extract_numbers(test3) .> 10)"
   ]
  },
  {
   "cell_type": "code",
   "execution_count": 70,
   "id": "17e36e6b-8ac1-47e7-93a1-d2bf0f602c4b",
   "metadata": {},
   "outputs": [
    {
     "data": {
      "text/plain": [
       "4"
      ]
     },
     "execution_count": 70,
     "metadata": {},
     "output_type": "execute_result"
    }
   ],
   "source": [
    "extract_numbers(test3)[extract_numbers(test3) .< 5][1]"
   ]
  },
  {
   "cell_type": "code",
   "execution_count": 75,
   "id": "0e09a95e-24aa-49d3-b6cc-bef1fdd84541",
   "metadata": {},
   "outputs": [
    {
     "data": {
      "text/plain": [
       "3"
      ]
     },
     "execution_count": 75,
     "metadata": {},
     "output_type": "execute_result"
    }
   ],
   "source": [
    "floor(Int,3.7)"
   ]
  },
  {
   "cell_type": "code",
   "execution_count": 96,
   "id": "61b99753-3f22-4323-9ab2-1a4596a28903",
   "metadata": {},
   "outputs": [
    {
     "data": {
      "text/plain": [
       "mysplit (generic function with 1 method)"
      ]
     },
     "execution_count": 96,
     "metadata": {},
     "output_type": "execute_result"
    }
   ],
   "source": [
    "function mysplit(sfnum)\n",
    "    numbers = extract_numbers(sfnum)\n",
    "    if any(numbers .> 9)\n",
    "        firstlarge = numbers[numbers .> 9][1]\n",
    "        return replace(sfnum, string(firstlarge) => \"[\"*string(floor(Int, firstlarge/2))*\",\"*string(ceil(Int, firstlarge/2))*\"]\", count=1)\n",
    "    end\n",
    "    return sfnum\n",
    "end"
   ]
  },
  {
   "cell_type": "code",
   "execution_count": 81,
   "id": "10568044-2285-4ea2-bcaf-77dae874d7e3",
   "metadata": {},
   "outputs": [
    {
     "data": {
      "text/plain": [
       "\"[1,[2,[6,7]],[6,6]]\""
      ]
     },
     "execution_count": 81,
     "metadata": {},
     "output_type": "execute_result"
    }
   ],
   "source": [
    "mysplit(\"[1,[2,13],12]\") |> mysplit"
   ]
  },
  {
   "cell_type": "code",
   "execution_count": 99,
   "id": "ebf26335-eff8-4f21-9532-c6168df8c507",
   "metadata": {},
   "outputs": [
    {
     "data": {
      "text/plain": [
       "reduce (generic function with 1 method)"
      ]
     },
     "execution_count": 99,
     "metadata": {},
     "output_type": "execute_result"
    }
   ],
   "source": [
    "function reduce(sfnum)\n",
    "    previous = \"\"\n",
    "    now = sfnum\n",
    "    while now != previous\n",
    "        #println(now)\n",
    "        previous = now\n",
    "        before_explode = now\n",
    "        now = explode(now)\n",
    "        if now == before_explode\n",
    "            now = mysplit(now)\n",
    "        end\n",
    "    end\n",
    "    return now\n",
    "end"
   ]
  },
  {
   "cell_type": "code",
   "execution_count": 83,
   "id": "79d34107-41b5-4f92-a55b-2c72deba675f",
   "metadata": {},
   "outputs": [
    {
     "data": {
      "text/plain": [
       "\"[[[[0,7],4],[[7,8],[6,0]]],[8,1]]\""
      ]
     },
     "execution_count": 83,
     "metadata": {},
     "output_type": "execute_result"
    }
   ],
   "source": [
    "reduce(\"[[[[[4,3],4],4],[7,[[8,4],9]]],[1,1]]\")"
   ]
  },
  {
   "cell_type": "code",
   "execution_count": 84,
   "id": "7f67ad37-d1b4-4828-9a6f-ef23fcd1f338",
   "metadata": {},
   "outputs": [
    {
     "data": {
      "text/plain": [
       "add (generic function with 1 method)"
      ]
     },
     "execution_count": 84,
     "metadata": {},
     "output_type": "execute_result"
    }
   ],
   "source": [
    "add(sfnum1, sfnum2) = reduce(\"[\"*sfnum1*\",\"*sfnum2*\"]\")"
   ]
  },
  {
   "cell_type": "code",
   "execution_count": 85,
   "id": "2e99606b-66bf-4e2b-8159-f326920d53fb",
   "metadata": {},
   "outputs": [
    {
     "data": {
      "text/plain": [
       "\"[[[[0,7],4],[[7,8],[6,0]]],[8,1]]\""
      ]
     },
     "execution_count": 85,
     "metadata": {},
     "output_type": "execute_result"
    }
   ],
   "source": [
    "add(\"[[[[4,3],4],4],[7,[[8,4],9]]]\",\"[1,1]\")"
   ]
  },
  {
   "cell_type": "code",
   "execution_count": 105,
   "id": "13074cc7-0ec0-4270-aa79-505e5d2b89e7",
   "metadata": {},
   "outputs": [
    {
     "data": {
      "text/plain": [
       "\"[[[[7,7],[7,7]],[[8,8],[8,8]]],[[[7,7],[8,8]],[[0,8],[8,6]]]]\""
      ]
     },
     "execution_count": 105,
     "metadata": {},
     "output_type": "execute_result"
    }
   ],
   "source": [
    "mysum = lines[1]\n",
    "for l in lines[2:end]\n",
    "    mysum = add(mysum, l)\n",
    "    #println(mysum)\n",
    "end\n",
    "mysum"
   ]
  },
  {
   "cell_type": "code",
   "execution_count": 116,
   "id": "a422a2f5-e8af-41c6-9f5b-dbe4edcc6352",
   "metadata": {},
   "outputs": [
    {
     "data": {
      "text/plain": [
       "evalsum (generic function with 1 method)"
      ]
     },
     "execution_count": 116,
     "metadata": {},
     "output_type": "execute_result"
    }
   ],
   "source": [
    "evalsum(x) = Meta.parse(x) |> eval"
   ]
  },
  {
   "cell_type": "code",
   "execution_count": 119,
   "id": "8cd6a189-e444-4fe3-b0e1-45504cf17350",
   "metadata": {},
   "outputs": [
    {
     "data": {
      "text/plain": [
       "2-element Vector{Vector{Vector{Vector{Int64}}}}:\n",
       " [[[7, 7], [7, 7]], [[8, 8], [8, 8]]]\n",
       " [[[7, 7], [8, 8]], [[0, 8], [8, 6]]]"
      ]
     },
     "execution_count": 119,
     "metadata": {},
     "output_type": "execute_result"
    }
   ],
   "source": [
    "evalsum(mysum)"
   ]
  },
  {
   "cell_type": "code",
   "execution_count": 114,
   "id": "008296fe-e1f4-4f8f-8f90-3fceba72cd2f",
   "metadata": {},
   "outputs": [
    {
     "data": {
      "text/plain": [
       "magnitude (generic function with 1 method)"
      ]
     },
     "execution_count": 114,
     "metadata": {},
     "output_type": "execute_result"
    }
   ],
   "source": [
    "magnitude(x) = x isa Number ? x : 3 * magnitude(x[1]) + 2 * magnitude(x[2])"
   ]
  },
  {
   "cell_type": "code",
   "execution_count": 118,
   "id": "060b0b5c-8a32-4339-8b65-65470f818f56",
   "metadata": {},
   "outputs": [
    {
     "data": {
      "text/plain": [
       "4365"
      ]
     },
     "execution_count": 118,
     "metadata": {},
     "output_type": "execute_result"
    }
   ],
   "source": [
    "magnitude(evalsum(mysum))"
   ]
  },
  {
   "cell_type": "markdown",
   "id": "726197f0-3bc6-4754-aaf6-23e18b19f51b",
   "metadata": {},
   "source": [
    "## Part II"
   ]
  },
  {
   "cell_type": "code",
   "execution_count": 123,
   "id": "a240d7cf-ccea-4267-bf3f-bb411f992faa",
   "metadata": {},
   "outputs": [],
   "source": [
    "using IterTools"
   ]
  },
  {
   "cell_type": "code",
   "execution_count": 127,
   "id": "6907df14-c496-4906-bfc4-4d72577ef1bd",
   "metadata": {},
   "outputs": [
    {
     "name": "stdout",
     "output_type": "stream",
     "text": [
      "(1, 1)\n",
      "(2, 1)\n",
      "(3, 1)\n",
      "(1, 2)\n",
      "(2, 2)\n",
      "(3, 2)\n",
      "(1, 3)\n",
      "(2, 3)\n",
      "(3, 3)\n"
     ]
    }
   ],
   "source": [
    "for i in product(1:3,1:3)\n",
    "    println(i)\n",
    "end"
   ]
  },
  {
   "cell_type": "code",
   "execution_count": 128,
   "id": "36f385a4-e40c-4c01-9e94-3a4064ec5038",
   "metadata": {},
   "outputs": [
    {
     "data": {
      "text/plain": [
       "4490"
      ]
     },
     "execution_count": 128,
     "metadata": {},
     "output_type": "execute_result"
    }
   ],
   "source": [
    "highscore = 0\n",
    "for pair in product(lines, lines)\n",
    "    score = add(pair[1], pair[2]) |> evalsum |> magnitude\n",
    "    highscore = max(highscore, score)\n",
    "end\n",
    "highscore"
   ]
  }
 ],
 "metadata": {
  "kernelspec": {
   "display_name": "Julia 1.6.1",
   "language": "julia",
   "name": "julia-1.6"
  },
  "language_info": {
   "file_extension": ".jl",
   "mimetype": "application/julia",
   "name": "julia",
   "version": "1.6.1"
  }
 },
 "nbformat": 4,
 "nbformat_minor": 5
}
