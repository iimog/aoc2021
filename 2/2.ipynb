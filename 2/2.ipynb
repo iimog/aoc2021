{
 "cells": [
  {
   "cell_type": "code",
   "execution_count": 1,
   "id": "eddb1e31-95c2-409c-b01d-95a27dd5c2df",
   "metadata": {},
   "outputs": [],
   "source": [
    "using CSV\n",
    "using DataFrames"
   ]
  },
  {
   "cell_type": "code",
   "execution_count": 4,
   "id": "2ed61581-7aa7-4221-8aff-0b3643c066f9",
   "metadata": {},
   "outputs": [],
   "source": [
    "data = CSV.read(\"input\", DataFrame, header=[\"direction\",\"steps\"]);"
   ]
  },
  {
   "cell_type": "code",
   "execution_count": 5,
   "id": "02c45064-88a8-4e75-9eb9-4e3db57f418b",
   "metadata": {},
   "outputs": [
    {
     "data": {
      "text/html": [
       "<div class=\"data-frame\"><p>10 rows × 2 columns</p><table class=\"data-frame\"><thead><tr><th></th><th>direction</th><th>steps</th></tr><tr><th></th><th title=\"String7\">String7</th><th title=\"Int64\">Int64</th></tr></thead><tbody><tr><th>1</th><td>forward</td><td>2</td></tr><tr><th>2</th><td>down</td><td>7</td></tr><tr><th>3</th><td>down</td><td>8</td></tr><tr><th>4</th><td>forward</td><td>9</td></tr><tr><th>5</th><td>down</td><td>8</td></tr><tr><th>6</th><td>forward</td><td>9</td></tr><tr><th>7</th><td>forward</td><td>8</td></tr><tr><th>8</th><td>down</td><td>3</td></tr><tr><th>9</th><td>forward</td><td>8</td></tr><tr><th>10</th><td>forward</td><td>5</td></tr></tbody></table></div>"
      ],
      "text/latex": [
       "\\begin{tabular}{r|cc}\n",
       "\t& direction & steps\\\\\n",
       "\t\\hline\n",
       "\t& String7 & Int64\\\\\n",
       "\t\\hline\n",
       "\t1 & forward & 2 \\\\\n",
       "\t2 & down & 7 \\\\\n",
       "\t3 & down & 8 \\\\\n",
       "\t4 & forward & 9 \\\\\n",
       "\t5 & down & 8 \\\\\n",
       "\t6 & forward & 9 \\\\\n",
       "\t7 & forward & 8 \\\\\n",
       "\t8 & down & 3 \\\\\n",
       "\t9 & forward & 8 \\\\\n",
       "\t10 & forward & 5 \\\\\n",
       "\\end{tabular}\n"
      ],
      "text/plain": [
       "\u001b[1m10×2 DataFrame\u001b[0m\n",
       "\u001b[1m Row \u001b[0m│\u001b[1m direction \u001b[0m\u001b[1m steps \u001b[0m\n",
       "\u001b[1m     \u001b[0m│\u001b[90m String7   \u001b[0m\u001b[90m Int64 \u001b[0m\n",
       "─────┼──────────────────\n",
       "   1 │ forward        2\n",
       "   2 │ down           7\n",
       "   3 │ down           8\n",
       "   4 │ forward        9\n",
       "   5 │ down           8\n",
       "   6 │ forward        9\n",
       "   7 │ forward        8\n",
       "   8 │ down           3\n",
       "   9 │ forward        8\n",
       "  10 │ forward        5"
      ]
     },
     "execution_count": 5,
     "metadata": {},
     "output_type": "execute_result"
    }
   ],
   "source": [
    "data[1:10,:]"
   ]
  },
  {
   "cell_type": "code",
   "execution_count": 7,
   "id": "777b08f4-a793-42ee-a1f8-7f9deb62bdc1",
   "metadata": {},
   "outputs": [
    {
     "data": {
      "text/html": [
       "<div class=\"data-frame\"><p>3 rows × 2 columns</p><table class=\"data-frame\"><thead><tr><th></th><th>direction</th><th>steps_sum</th></tr><tr><th></th><th title=\"String7\">String7</th><th title=\"Int64\">Int64</th></tr></thead><tbody><tr><th>1</th><td>forward</td><td>1940</td></tr><tr><th>2</th><td>down</td><td>1916</td></tr><tr><th>3</th><td>up</td><td>1055</td></tr></tbody></table></div>"
      ],
      "text/latex": [
       "\\begin{tabular}{r|cc}\n",
       "\t& direction & steps\\_sum\\\\\n",
       "\t\\hline\n",
       "\t& String7 & Int64\\\\\n",
       "\t\\hline\n",
       "\t1 & forward & 1940 \\\\\n",
       "\t2 & down & 1916 \\\\\n",
       "\t3 & up & 1055 \\\\\n",
       "\\end{tabular}\n"
      ],
      "text/plain": [
       "\u001b[1m3×2 DataFrame\u001b[0m\n",
       "\u001b[1m Row \u001b[0m│\u001b[1m direction \u001b[0m\u001b[1m steps_sum \u001b[0m\n",
       "\u001b[1m     \u001b[0m│\u001b[90m String7   \u001b[0m\u001b[90m Int64     \u001b[0m\n",
       "─────┼──────────────────────\n",
       "   1 │ forward         1940\n",
       "   2 │ down            1916\n",
       "   3 │ up              1055"
      ]
     },
     "execution_count": 7,
     "metadata": {},
     "output_type": "execute_result"
    }
   ],
   "source": [
    "total = combine(groupby(data, :direction), [:steps] .=> sum)"
   ]
  },
  {
   "cell_type": "code",
   "execution_count": 15,
   "id": "e58c97b7-7aae-4842-a8ba-8659a43296a1",
   "metadata": {},
   "outputs": [],
   "source": [
    "total[:,:id] .= 1;"
   ]
  },
  {
   "cell_type": "code",
   "execution_count": 17,
   "id": "9984a5ee-e44f-4b10-96be-b47be20999d9",
   "metadata": {},
   "outputs": [
    {
     "data": {
      "text/html": [
       "<div class=\"data-frame\"><p>1 rows × 4 columns</p><table class=\"data-frame\"><thead><tr><th></th><th>id</th><th>forward</th><th>down</th><th>up</th></tr><tr><th></th><th title=\"Int64\">Int64</th><th title=\"Union{Missing, Int64}\">Int64?</th><th title=\"Union{Missing, Int64}\">Int64?</th><th title=\"Union{Missing, Int64}\">Int64?</th></tr></thead><tbody><tr><th>1</th><td>1</td><td>1940</td><td>1916</td><td>1055</td></tr></tbody></table></div>"
      ],
      "text/latex": [
       "\\begin{tabular}{r|cccc}\n",
       "\t& id & forward & down & up\\\\\n",
       "\t\\hline\n",
       "\t& Int64 & Int64? & Int64? & Int64?\\\\\n",
       "\t\\hline\n",
       "\t1 & 1 & 1940 & 1916 & 1055 \\\\\n",
       "\\end{tabular}\n"
      ],
      "text/plain": [
       "\u001b[1m1×4 DataFrame\u001b[0m\n",
       "\u001b[1m Row \u001b[0m│\u001b[1m id    \u001b[0m\u001b[1m forward \u001b[0m\u001b[1m down   \u001b[0m\u001b[1m up     \u001b[0m\n",
       "\u001b[1m     \u001b[0m│\u001b[90m Int64 \u001b[0m\u001b[90m Int64?  \u001b[0m\u001b[90m Int64? \u001b[0m\u001b[90m Int64? \u001b[0m\n",
       "─────┼────────────────────────────────\n",
       "   1 │     1     1940    1916    1055"
      ]
     },
     "execution_count": 17,
     "metadata": {},
     "output_type": "execute_result"
    }
   ],
   "source": [
    "total = unstack(total, :direction, :steps_sum)"
   ]
  },
  {
   "cell_type": "code",
   "execution_count": 20,
   "id": "3e759438-b00a-4b70-8022-ec808100eec0",
   "metadata": {},
   "outputs": [
    {
     "data": {
      "text/plain": [
       "1-element Vector{Int64}:\n",
       " 1670340"
      ]
     },
     "execution_count": 20,
     "metadata": {},
     "output_type": "execute_result"
    }
   ],
   "source": [
    "(total.down - total.up) .* total.forward"
   ]
  },
  {
   "cell_type": "markdown",
   "id": "f0cec1b3-b63f-4846-8292-9006773cce63",
   "metadata": {},
   "source": [
    "## Part II"
   ]
  },
  {
   "cell_type": "code",
   "execution_count": 34,
   "id": "f9d33dcb-f675-42a5-9ee9-e3282f890269",
   "metadata": {},
   "outputs": [],
   "source": [
    "x = 0;\n",
    "depth = 0;\n",
    "aim = 0;\n",
    "for i in 1:nrow(data)\n",
    "    dir,steps = data[i,:]\n",
    "    if dir==\"forward\"\n",
    "        x += steps\n",
    "        depth += steps*aim\n",
    "    elseif dir==\"down\"\n",
    "        aim += steps\n",
    "    else\n",
    "        aim -= steps\n",
    "    end\n",
    "end"
   ]
  },
  {
   "cell_type": "code",
   "execution_count": 35,
   "id": "3a425af1-a597-4fc8-90a6-78616a97b155",
   "metadata": {},
   "outputs": [
    {
     "data": {
      "text/plain": [
       "1940"
      ]
     },
     "execution_count": 35,
     "metadata": {},
     "output_type": "execute_result"
    }
   ],
   "source": [
    "x"
   ]
  },
  {
   "cell_type": "code",
   "execution_count": 36,
   "id": "78674ef9-4e79-45b3-9ea9-ad2c43858d17",
   "metadata": {},
   "outputs": [
    {
     "data": {
      "text/plain": [
       "1007368"
      ]
     },
     "execution_count": 36,
     "metadata": {},
     "output_type": "execute_result"
    }
   ],
   "source": [
    "depth"
   ]
  },
  {
   "cell_type": "code",
   "execution_count": 37,
   "id": "dd40f296-3641-428e-9161-838f788454c6",
   "metadata": {},
   "outputs": [
    {
     "data": {
      "text/plain": [
       "1954293920"
      ]
     },
     "execution_count": 37,
     "metadata": {},
     "output_type": "execute_result"
    }
   ],
   "source": [
    "x*depth"
   ]
  },
  {
   "cell_type": "code",
   "execution_count": null,
   "id": "c7b17111-c2f2-4341-8be1-ef8eba667191",
   "metadata": {},
   "outputs": [],
   "source": []
  }
 ],
 "metadata": {
  "kernelspec": {
   "display_name": "Julia 1.6.1",
   "language": "julia",
   "name": "julia-1.6"
  },
  "language_info": {
   "file_extension": ".jl",
   "mimetype": "application/julia",
   "name": "julia",
   "version": "1.6.1"
  }
 },
 "nbformat": 4,
 "nbformat_minor": 5
}
