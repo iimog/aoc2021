{
 "cells": [
  {
   "cell_type": "code",
   "execution_count": 1,
   "id": "a7422a3c-b78c-4a71-a6be-78e9d57db5e6",
   "metadata": {},
   "outputs": [
    {
     "data": {
      "text/plain": [
       "2-element Vector{String}:\n",
       " \"Player 1 starting position: 4\"\n",
       " \"Player 2 starting position: 10\""
      ]
     },
     "execution_count": 1,
     "metadata": {},
     "output_type": "execute_result"
    }
   ],
   "source": [
    "readlines(\"input\")"
   ]
  },
  {
   "cell_type": "code",
   "execution_count": 2,
   "id": "117d150c-bae3-4d05-8585-bc62e41c4ea3",
   "metadata": {},
   "outputs": [],
   "source": [
    "p1 = 4;\n",
    "p2 = 10;"
   ]
  },
  {
   "cell_type": "code",
   "execution_count": 5,
   "id": "cedd958e-2630-4042-af19-390bfb14fc55",
   "metadata": {},
   "outputs": [],
   "source": [
    "s1 = s2 = 0;"
   ]
  },
  {
   "cell_type": "code",
   "execution_count": 8,
   "id": "b5cb3891-8033-410f-a58a-be33afb603ae",
   "metadata": {},
   "outputs": [],
   "source": [
    "using Lazy\n",
    "import Lazy: cycle"
   ]
  },
  {
   "cell_type": "code",
   "execution_count": 11,
   "id": "5adaa355-83e8-4353-a492-6215b0d47d89",
   "metadata": {},
   "outputs": [
    {
     "data": {
      "text/plain": [
       "List: (1 2 3 4 5 6 7 8 9 10 11 …)"
      ]
     },
     "execution_count": 11,
     "metadata": {},
     "output_type": "execute_result"
    }
   ],
   "source": [
    "die_rolls = cycle(1:100)"
   ]
  },
  {
   "cell_type": "code",
   "execution_count": 13,
   "id": "ff5bf1e5-2abe-4325-a56d-f4a7bb34b8c8",
   "metadata": {},
   "outputs": [
    {
     "data": {
      "text/plain": [
       "wrap10 (generic function with 1 method)"
      ]
     },
     "execution_count": 13,
     "metadata": {},
     "output_type": "execute_result"
    }
   ],
   "source": [
    "wrap10(x) = (x-1)%10 + 1"
   ]
  },
  {
   "cell_type": "code",
   "execution_count": 21,
   "id": "85cb5029-ce43-4c76-9d2d-0c91b63ded45",
   "metadata": {},
   "outputs": [
    {
     "data": {
      "text/plain": [
       "2"
      ]
     },
     "execution_count": 21,
     "metadata": {},
     "output_type": "execute_result"
    }
   ],
   "source": [
    "wrap10(22)"
   ]
  },
  {
   "cell_type": "code",
   "execution_count": 22,
   "id": "f941fe2a-f31f-49c1-b6e4-58bfb62df7a4",
   "metadata": {},
   "outputs": [
    {
     "name": "stdout",
     "output_type": "stream",
     "text": [
      "924926\n",
      "855624\n"
     ]
    }
   ],
   "source": [
    "current = 1\n",
    "while true\n",
    "    p1 = wrap10(p1 + sum(die_rolls[current:current+2]))\n",
    "    s1 += p1\n",
    "    current += 3\n",
    "    if s1 >= 1000\n",
    "        println(current-1, s2)\n",
    "        println((current-1) * s2)\n",
    "        break\n",
    "    end\n",
    "    p2 = wrap10(p2 + sum(die_rolls[current:current+2]))\n",
    "    s2 += p2\n",
    "    current += 3\n",
    "    if s2 >= 1000\n",
    "        println(current-1, s1)\n",
    "        println((current-1) * s1)\n",
    "        break\n",
    "    end\n",
    "end"
   ]
  },
  {
   "cell_type": "markdown",
   "id": "69ff4bc6-717c-4f4e-ac45-0fd455ce424e",
   "metadata": {},
   "source": [
    "## Part II\n",
    "\n",
    "The large numbers are intimidating and seem to forbid brute-force. But they are inflated because we can consider outcomes of rolling three dice at once with their respective multiplicities."
   ]
  },
  {
   "cell_type": "code",
   "execution_count": 23,
   "id": "ff9dcce0-f3f0-40f4-bf99-7ec5e4edeaa7",
   "metadata": {},
   "outputs": [
    {
     "data": {
      "text/plain": [
       "Dict{Int64, Int64} with 7 entries:\n",
       "  5 => 6\n",
       "  4 => 3\n",
       "  6 => 7\n",
       "  7 => 6\n",
       "  9 => 1\n",
       "  8 => 3\n",
       "  3 => 1"
      ]
     },
     "execution_count": 23,
     "metadata": {},
     "output_type": "execute_result"
    }
   ],
   "source": [
    "multiplicities = Dict(3 => 1, 4 => 3, 5 => 6, 6 => 7, 7 => 6, 8 => 3, 9 => 1)"
   ]
  },
  {
   "cell_type": "code",
   "execution_count": 30,
   "id": "89037cac-250e-4ae3-a4d8-de924cd161f9",
   "metadata": {},
   "outputs": [],
   "source": [
    "using DataStructures"
   ]
  },
  {
   "cell_type": "code",
   "execution_count": 256,
   "id": "3bd3e815-daa2-4c42-bd51-039d11e6e37e",
   "metadata": {},
   "outputs": [
    {
     "data": {
      "text/plain": [
       "Any[]"
      ]
     },
     "execution_count": 256,
     "metadata": {},
     "output_type": "execute_result"
    }
   ],
   "source": [
    "# reset to start\n",
    "p1 = 4;\n",
    "p2 = 10;\n",
    "#p2 = 8; # this is the demo input for testing\n",
    "s1 = s2 = 0;\n",
    "\n",
    "possibilities = [(s1,s2,p1,p2,1)]\n",
    "poss_count = DefaultDict(0)\n",
    "poss_count[(s1,s2,p1,p2,1)] = 1\n",
    "poss_count\n",
    "\n",
    "used = []"
   ]
  },
  {
   "cell_type": "code",
   "execution_count": 257,
   "id": "e490a676-7488-4d8d-9d0a-2b309e11a3bb",
   "metadata": {},
   "outputs": [],
   "source": [
    "p1_poss = 0\n",
    "p2_poss = 0\n",
    "\n",
    "while length(possibilities)>0\n",
    "#for i in 1:1\n",
    "    #sort!(possibilities, by=x->(x[5]==1 ? (x[1],x[2]) : (x[2],x[1])), rev=true)\n",
    "    sort!(possibilities, by=x->(min(x[1],x[2]),max(x[1],x[2])), rev=true)\n",
    "    next_poss = pop!(possibilities)\n",
    "    #if next_poss == (6,3,1,1,2)\n",
    "    #    println(possibilities)\n",
    "    #end\n",
    "    if next_poss ∈ used\n",
    "        println(next_poss)\n",
    "        break\n",
    "    end\n",
    "    push!(used, next_poss)\n",
    "    #println(next_poss)\n",
    "    mult = poss_count[next_poss]\n",
    "    for k in keys(multiplicities)\n",
    "        new_mult = mult*multiplicities[k]\n",
    "        if next_poss[5] == 1\n",
    "            p1 = wrap10(next_poss[3] + k)\n",
    "            s1 = next_poss[1] + p1\n",
    "            if s1 >= 21\n",
    "                p1_poss += new_mult\n",
    "            else\n",
    "                new_poss = (s1, next_poss[2], p1, next_poss[4], 2)\n",
    "                #if new_poss == (6,3,1,1,2)\n",
    "                #    println(next_poss)\n",
    "                #end\n",
    "                if new_poss ∉ possibilities\n",
    "                #if poss_count[new_poss] == 0\n",
    "                    push!(possibilities, new_poss)\n",
    "                end\n",
    "                poss_count[new_poss] += new_mult\n",
    "            end\n",
    "        else\n",
    "            p2 = wrap10(next_poss[4] + k)\n",
    "            s2 = next_poss[2] + p2\n",
    "            if s2 >= 21\n",
    "                p2_poss += new_mult\n",
    "            else\n",
    "                new_poss = (next_poss[1], s2, next_poss[3], p2, 1)\n",
    "                if new_poss ∉ possibilities\n",
    "                #if poss_count[new_poss] == 0\n",
    "                    push!(possibilities, new_poss)\n",
    "                end\n",
    "                poss_count[new_poss] += new_mult\n",
    "            end\n",
    "        end\n",
    "    end\n",
    "end"
   ]
  },
  {
   "cell_type": "code",
   "execution_count": 258,
   "id": "3d4d38c0-26c9-4a93-bd26-357fdd39ba1d",
   "metadata": {},
   "outputs": [
    {
     "data": {
      "text/plain": [
       "26414"
      ]
     },
     "execution_count": 258,
     "metadata": {},
     "output_type": "execute_result"
    }
   ],
   "source": [
    "length(used)"
   ]
  },
  {
   "cell_type": "code",
   "execution_count": 259,
   "id": "73a9e718-6b35-4aba-a7d0-b130a94b9f3d",
   "metadata": {},
   "outputs": [
    {
     "data": {
      "text/plain": [
       "26414"
      ]
     },
     "execution_count": 259,
     "metadata": {},
     "output_type": "execute_result"
    }
   ],
   "source": [
    "length(unique(used))"
   ]
  },
  {
   "cell_type": "code",
   "execution_count": 260,
   "id": "0728935f-c05b-45b5-9d9a-b26707e66155",
   "metadata": {},
   "outputs": [
    {
     "data": {
      "text/plain": [
       "187451244607486"
      ]
     },
     "execution_count": 260,
     "metadata": {},
     "output_type": "execute_result"
    }
   ],
   "source": [
    "p1_poss"
   ]
  },
  {
   "cell_type": "code",
   "execution_count": 261,
   "id": "c954cca0-5a41-4738-9c90-79e1bf1c2001",
   "metadata": {},
   "outputs": [
    {
     "data": {
      "text/plain": [
       "183752194019471"
      ]
     },
     "execution_count": 261,
     "metadata": {},
     "output_type": "execute_result"
    }
   ],
   "source": [
    "p2_poss"
   ]
  },
  {
   "cell_type": "markdown",
   "id": "9b16943e-0883-49d0-9f83-32af247b3848",
   "metadata": {},
   "source": [
    "If these are: `444356092776315` and `341960390180808` switch to real input! &rarr; done"
   ]
  }
 ],
 "metadata": {
  "kernelspec": {
   "display_name": "Julia 1.6.1",
   "language": "julia",
   "name": "julia-1.6"
  },
  "language_info": {
   "file_extension": ".jl",
   "mimetype": "application/julia",
   "name": "julia",
   "version": "1.6.1"
  }
 },
 "nbformat": 4,
 "nbformat_minor": 5
}
