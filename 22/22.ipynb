{
 "cells": [
  {
   "cell_type": "code",
   "execution_count": 1,
   "id": "d4a7e5d9-4a4b-4769-9995-d62bf7b9b4af",
   "metadata": {},
   "outputs": [
    {
     "data": {
      "text/plain": [
       "420-element Vector{String}:\n",
       " \"on x=-44..7,y=-48..-4,z=-28..22\"\n",
       " \"on x=-14..37,y=-31..23,z=-46..0\"\n",
       " \"on x=-2..42,y=-40..5,z=-15..34\"\n",
       " \"on x=-6..40,y=-46..8,z=-4..43\"\n",
       " \"on x=-14..40,y=-22..28,z=-39..15\"\n",
       " \"on x=-26..18,y=-36..18,z=-22..24\"\n",
       " \"on x=-1..46,y=-14..39,z=-6..47\"\n",
       " \"on x=-9..43,y=-19..35,z=3..49\"\n",
       " \"on x=-2..49,y=-19..35,z=-44..9\"\n",
       " \"on x=-14..31,y=-31..23,z=-15..37\"\n",
       " \"off x=-15..0,y=10..20,z=-1..11\"\n",
       " \"on x=-13..39,y=-7..40,z=-16..29\"\n",
       " \"off x=-36..-23,y=-22..-7,z=22..32\"\n",
       " ⋮\n",
       " \"on x=2754..21460,y=-38868..-392,z=-93705..-64934\"\n",
       " \"on x=18042..31269,y=-47061..-19873,z=52410..82608\"\n",
       " \"on x=29379..68201,y=-51515..-41233,z=-45509..-34262\"\n",
       " \"off x=52671..84684,y=-16898..5471,z=37071..45630\"\n",
       " \"on x=-98677..-68218,y=-20295..4826,z=5421..30729\"\n",
       " \"off x=-49508..-22500,y=-2847..20414,z=-69003..-50843\"\n",
       " \"on x=-95062..-74272,y=9248..21864,z=-22635..1951\"\n",
       " \"on x=7542..29789,y=-48009..-23225,z=-85578..-64378\"\n",
       " \"off x=-45405..-37229,y=-83374..-62547,z=-17446..8556\"\n",
       " \"off x=-45880..-27014,y=72506..92343,z=-5157..1778\"\n",
       " \"on x=-30115..-2925,y=52679..71889,z=-68644..-48667\"\n",
       " \"on x=-76029..-52766,y=-54478..-30765,z=-46175..-28566\""
      ]
     },
     "execution_count": 1,
     "metadata": {},
     "output_type": "execute_result"
    }
   ],
   "source": [
    "lines = readlines(\"input\")"
   ]
  },
  {
   "cell_type": "code",
   "execution_count": 2,
   "id": "4469fed6-f41c-4159-a7c6-13b1e3af27a9",
   "metadata": {},
   "outputs": [
    {
     "data": {
      "text/plain": [
       "parse_line (generic function with 1 method)"
      ]
     },
     "execution_count": 2,
     "metadata": {},
     "output_type": "execute_result"
    }
   ],
   "source": [
    "parse_line(x) = split(replace(replace(x, \"on\"=>1), \"off\"=>0), r\" x=|\\.\\.|,[yz]=\") .|> z->parse(Int,z)"
   ]
  },
  {
   "cell_type": "code",
   "execution_count": 3,
   "id": "45e53e73-036a-4f87-a77e-287d2ac86858",
   "metadata": {},
   "outputs": [
    {
     "data": {
      "text/plain": [
       "420-element Vector{Vector{Int64}}:\n",
       " [1, -44, 7, -48, -4, -28, 22]\n",
       " [1, -14, 37, -31, 23, -46, 0]\n",
       " [1, -2, 42, -40, 5, -15, 34]\n",
       " [1, -6, 40, -46, 8, -4, 43]\n",
       " [1, -14, 40, -22, 28, -39, 15]\n",
       " [1, -26, 18, -36, 18, -22, 24]\n",
       " [1, -1, 46, -14, 39, -6, 47]\n",
       " [1, -9, 43, -19, 35, 3, 49]\n",
       " [1, -2, 49, -19, 35, -44, 9]\n",
       " [1, -14, 31, -31, 23, -15, 37]\n",
       " [0, -15, 0, 10, 20, -1, 11]\n",
       " [1, -13, 39, -7, 40, -16, 29]\n",
       " [0, -36, -23, -22, -7, 22, 32]\n",
       " ⋮\n",
       " [1, 2754, 21460, -38868, -392, -93705, -64934]\n",
       " [1, 18042, 31269, -47061, -19873, 52410, 82608]\n",
       " [1, 29379, 68201, -51515, -41233, -45509, -34262]\n",
       " [0, 52671, 84684, -16898, 5471, 37071, 45630]\n",
       " [1, -98677, -68218, -20295, 4826, 5421, 30729]\n",
       " [0, -49508, -22500, -2847, 20414, -69003, -50843]\n",
       " [1, -95062, -74272, 9248, 21864, -22635, 1951]\n",
       " [1, 7542, 29789, -48009, -23225, -85578, -64378]\n",
       " [0, -45405, -37229, -83374, -62547, -17446, 8556]\n",
       " [0, -45880, -27014, 72506, 92343, -5157, 1778]\n",
       " [1, -30115, -2925, 52679, 71889, -68644, -48667]\n",
       " [1, -76029, -52766, -54478, -30765, -46175, -28566]"
      ]
     },
     "execution_count": 3,
     "metadata": {},
     "output_type": "execute_result"
    }
   ],
   "source": [
    "cubes = parse_line.(lines)"
   ]
  },
  {
   "cell_type": "code",
   "execution_count": 4,
   "id": "c20d2bfb-22ea-4a59-a4c3-2fed27977765",
   "metadata": {},
   "outputs": [
    {
     "data": {
      "text/plain": [
       "all_in_range (generic function with 1 method)"
      ]
     },
     "execution_count": 4,
     "metadata": {},
     "output_type": "execute_result"
    }
   ],
   "source": [
    "all_in_range(x) = ((x[2:end] .|> abs) .<= 50) |> all"
   ]
  },
  {
   "cell_type": "code",
   "execution_count": 25,
   "id": "7a30bb75-aa79-44aa-88c9-8440ddc90b13",
   "metadata": {},
   "outputs": [
    {
     "data": {
      "text/plain": [
       "true"
      ]
     },
     "execution_count": 25,
     "metadata": {},
     "output_type": "execute_result"
    }
   ],
   "source": [
    "all_in_range(cubes[1])"
   ]
  },
  {
   "cell_type": "code",
   "execution_count": 26,
   "id": "9910ae1e-af6f-43be-97b0-b5fdfdc2dc3b",
   "metadata": {},
   "outputs": [
    {
     "data": {
      "text/plain": [
       "false"
      ]
     },
     "execution_count": 26,
     "metadata": {},
     "output_type": "execute_result"
    }
   ],
   "source": [
    "all_in_range(cubes[120])"
   ]
  },
  {
   "cell_type": "code",
   "execution_count": 28,
   "id": "5bff6bff-e34a-40f6-92e6-e397ddb48f24",
   "metadata": {},
   "outputs": [
    {
     "data": {
      "text/plain": [
       "20-element Vector{Vector{Int64}}:\n",
       " [1, -44, 7, -48, -4, -28, 22]\n",
       " [1, -14, 37, -31, 23, -46, 0]\n",
       " [1, -2, 42, -40, 5, -15, 34]\n",
       " [1, -6, 40, -46, 8, -4, 43]\n",
       " [1, -14, 40, -22, 28, -39, 15]\n",
       " [1, -26, 18, -36, 18, -22, 24]\n",
       " [1, -1, 46, -14, 39, -6, 47]\n",
       " [1, -9, 43, -19, 35, 3, 49]\n",
       " [1, -2, 49, -19, 35, -44, 9]\n",
       " [1, -14, 31, -31, 23, -15, 37]\n",
       " [0, -15, 0, 10, 20, -1, 11]\n",
       " [1, -13, 39, -7, 40, -16, 29]\n",
       " [0, -36, -23, -22, -7, 22, 32]\n",
       " [1, -42, 8, -27, 23, -24, 22]\n",
       " [0, 30, 44, -6, 11, -25, -12]\n",
       " [1, -14, 37, -20, 31, -27, 19]\n",
       " [0, -11, 7, 24, 39, -49, -36]\n",
       " [1, -40, 7, -46, 2, -8, 36]\n",
       " [0, -28, -9, 9, 19, -3, 13]\n",
       " [1, -32, 19, -46, 4, -10, 35]"
      ]
     },
     "execution_count": 28,
     "metadata": {},
     "output_type": "execute_result"
    }
   ],
   "source": [
    "small_cubes = filter(all_in_range, cubes)"
   ]
  },
  {
   "cell_type": "code",
   "execution_count": 31,
   "id": "5692d27f-71c6-4c89-a660-703486d50cd0",
   "metadata": {},
   "outputs": [],
   "source": [
    "boot_cube = zeros(Int, 101, 101, 101);\n",
    "for cube in small_cubes\n",
    "    turn = cube[1]\n",
    "    coords = cube[2:end]\n",
    "    coords .+= 51\n",
    "    boot_cube[coords[1]:coords[2],coords[3]:coords[4],coords[5]:coords[6]] .= turn\n",
    "end"
   ]
  },
  {
   "cell_type": "code",
   "execution_count": 32,
   "id": "9c47675f-5f6c-40e3-8037-1b200c86e8fd",
   "metadata": {},
   "outputs": [
    {
     "data": {
      "text/plain": [
       "567496"
      ]
     },
     "execution_count": 32,
     "metadata": {},
     "output_type": "execute_result"
    }
   ],
   "source": [
    "sum(boot_cube)"
   ]
  },
  {
   "cell_type": "markdown",
   "id": "2b7ae370-dad8-4160-80d8-eb39646854b8",
   "metadata": {},
   "source": [
    "## Part II"
   ]
  },
  {
   "cell_type": "code",
   "execution_count": 5,
   "id": "e260a997-28dc-4f28-a92f-fd9d54b24ae1",
   "metadata": {},
   "outputs": [
    {
     "data": {
      "text/plain": [
       "-98763"
      ]
     },
     "execution_count": 5,
     "metadata": {},
     "output_type": "execute_result"
    }
   ],
   "source": [
    "mini = minimum(minimum.(cubes))"
   ]
  },
  {
   "cell_type": "code",
   "execution_count": 6,
   "id": "12e29cbe-2987-4f16-b1dc-bd05ab3c3b19",
   "metadata": {},
   "outputs": [
    {
     "data": {
      "text/plain": [
       "99438"
      ]
     },
     "execution_count": 6,
     "metadata": {},
     "output_type": "execute_result"
    }
   ],
   "source": [
    "maxi = maximum(maximum.(cubes))"
   ]
  },
  {
   "cell_type": "code",
   "execution_count": 7,
   "id": "60357d0b-5dcb-46e5-843f-48d4889ef0c6",
   "metadata": {},
   "outputs": [
    {
     "data": {
      "text/plain": [
       "198202"
      ]
     },
     "execution_count": 7,
     "metadata": {},
     "output_type": "execute_result"
    }
   ],
   "source": [
    "n = (maxi - mini) + 1"
   ]
  },
  {
   "cell_type": "code",
   "execution_count": 8,
   "id": "d4ca8966-3728-48d6-bb7c-5595f64e0c63",
   "metadata": {},
   "outputs": [],
   "source": [
    "#using SparseArrays # unly supports 1D and 2D types\n",
    "using SparseArrayKit"
   ]
  },
  {
   "cell_type": "code",
   "execution_count": 8,
   "id": "e850bb2e-c6fd-4149-9b36-6ff1b244ae27",
   "metadata": {},
   "outputs": [],
   "source": [
    "# spzeros(Int,n,n,n)"
   ]
  },
  {
   "cell_type": "code",
   "execution_count": 9,
   "id": "00e5ffba-3599-4c17-8eb5-68daaf37f62b",
   "metadata": {},
   "outputs": [
    {
     "data": {
      "text/plain": [
       "8"
      ]
     },
     "execution_count": 9,
     "metadata": {},
     "output_type": "execute_result"
    }
   ],
   "source": [
    "large_cube = SparseArray{Int8}(undef,(3,3,3))\n",
    "large_cube[2:3, 1:2, 1:3] .= 1\n",
    "large_cube[2:3, 2:3, 1:2] .= 0\n",
    "sum(large_cube)"
   ]
  },
  {
   "cell_type": "markdown",
   "id": "a995935f-6785-49af-bc13-30a79e66de31",
   "metadata": {},
   "source": [
    "This is still much too memory intensive 😥\n",
    "```julia\n",
    "large_cube = SparseArray{Int8}(undef,(n,n,n))\n",
    "for cube in cubes\n",
    "    println(cube)\n",
    "    turn = cube[1]\n",
    "    coords = cube[2:end]\n",
    "    coords .+= abs(mini) + 1\n",
    "    large_cube[coords[1]:coords[2],coords[3]:coords[4],coords[5]:coords[6]] .= turn\n",
    "end\n",
    "sum(large_cube)\n",
    "```"
   ]
  },
  {
   "cell_type": "markdown",
   "id": "99632d4c-ad8b-49a5-84ad-b09268027904",
   "metadata": {},
   "source": [
    "New idea: keep track of lit cuboids. When other cuboids overlap, split them into non-overlapping ones."
   ]
  },
  {
   "cell_type": "code",
   "execution_count": 11,
   "id": "6be4a9f5-08a0-4373-ac8c-9b05a5cb0172",
   "metadata": {},
   "outputs": [
    {
     "data": {
      "text/plain": [
       "2"
      ]
     },
     "execution_count": 11,
     "metadata": {},
     "output_type": "execute_result"
    }
   ],
   "source": [
    "intersect(1:4, 3:9) |> length"
   ]
  },
  {
   "cell_type": "code",
   "execution_count": 12,
   "id": "f68d89f3-d0ce-4fca-b753-69a960bbc3f1",
   "metadata": {},
   "outputs": [
    {
     "data": {
      "text/plain": [
       "have_overlap (generic function with 1 method)"
      ]
     },
     "execution_count": 12,
     "metadata": {},
     "output_type": "execute_result"
    }
   ],
   "source": [
    "have_overlap(q1, q2) = (length(intersect(q1[1]:q1[2], q2[1]:q2[2])) * length(intersect(q1[3]:q1[4], q2[3]:q2[4])) * length(intersect(q1[5]:q1[6], q2[5]:q2[6]))) > 0"
   ]
  },
  {
   "cell_type": "code",
   "execution_count": 20,
   "id": "397cc271-02d1-4661-854b-ba3b2bcd1324",
   "metadata": {},
   "outputs": [],
   "source": [
    "using Plots"
   ]
  },
  {
   "cell_type": "code",
   "execution_count": 21,
   "id": "d287048d-d231-4b7e-8d0d-8999036fd637",
   "metadata": {},
   "outputs": [
    {
     "data": {
      "image/svg+xml": [
       "<?xml version=\"1.0\" encoding=\"utf-8\"?>\n",
       "<svg xmlns=\"http://www.w3.org/2000/svg\" xmlns:xlink=\"http://www.w3.org/1999/xlink\" width=\"600\" height=\"400\" viewBox=\"0 0 2400 1600\">\n",
       "<defs>\n",
       "  <clipPath id=\"clip970\">\n",
       "    <rect x=\"0\" y=\"0\" width=\"2400\" height=\"1600\"/>\n",
       "  </clipPath>\n",
       "</defs>\n",
       "<path clip-path=\"url(#clip970)\" d=\"\n",
       "M0 1600 L2400 1600 L2400 0 L0 0  Z\n",
       "  \" fill=\"#ffffff\" fill-rule=\"evenodd\" fill-opacity=\"1\"/>\n",
       "<defs>\n",
       "  <clipPath id=\"clip971\">\n",
       "    <rect x=\"480\" y=\"0\" width=\"1681\" height=\"1600\"/>\n",
       "  </clipPath>\n",
       "</defs>\n",
       "<path clip-path=\"url(#clip970)\" d=\"\n",
       "M172.015 1486.45 L2112.76 1486.45 L2112.76 47.2441 L172.015 47.2441  Z\n",
       "  \" fill=\"#ffffff\" fill-rule=\"evenodd\" fill-opacity=\"1\"/>\n",
       "<defs>\n",
       "  <clipPath id=\"clip972\">\n",
       "    <rect x=\"172\" y=\"47\" width=\"1942\" height=\"1440\"/>\n",
       "  </clipPath>\n",
       "</defs>\n",
       "<polyline clip-path=\"url(#clip972)\" style=\"stroke:#000000; stroke-linecap:butt; stroke-linejoin:round; stroke-width:2; stroke-opacity:0.1; fill:none\" points=\"\n",
       "  631.786,1486.45 631.786,47.2441 \n",
       "  \"/>\n",
       "<polyline clip-path=\"url(#clip972)\" style=\"stroke:#000000; stroke-linecap:butt; stroke-linejoin:round; stroke-width:2; stroke-opacity:0.1; fill:none\" points=\"\n",
       "  1093.87,1486.45 1093.87,47.2441 \n",
       "  \"/>\n",
       "<polyline clip-path=\"url(#clip972)\" style=\"stroke:#000000; stroke-linecap:butt; stroke-linejoin:round; stroke-width:2; stroke-opacity:0.1; fill:none\" points=\"\n",
       "  1555.95,1486.45 1555.95,47.2441 \n",
       "  \"/>\n",
       "<polyline clip-path=\"url(#clip972)\" style=\"stroke:#000000; stroke-linecap:butt; stroke-linejoin:round; stroke-width:2; stroke-opacity:0.1; fill:none\" points=\"\n",
       "  2018.03,1486.45 2018.03,47.2441 \n",
       "  \"/>\n",
       "<polyline clip-path=\"url(#clip970)\" style=\"stroke:#000000; stroke-linecap:butt; stroke-linejoin:round; stroke-width:4; stroke-opacity:1; fill:none\" points=\"\n",
       "  172.015,1486.45 2112.76,1486.45 \n",
       "  \"/>\n",
       "<polyline clip-path=\"url(#clip970)\" style=\"stroke:#000000; stroke-linecap:butt; stroke-linejoin:round; stroke-width:4; stroke-opacity:1; fill:none\" points=\"\n",
       "  631.786,1486.45 631.786,1467.55 \n",
       "  \"/>\n",
       "<polyline clip-path=\"url(#clip970)\" style=\"stroke:#000000; stroke-linecap:butt; stroke-linejoin:round; stroke-width:4; stroke-opacity:1; fill:none\" points=\"\n",
       "  1093.87,1486.45 1093.87,1467.55 \n",
       "  \"/>\n",
       "<polyline clip-path=\"url(#clip970)\" style=\"stroke:#000000; stroke-linecap:butt; stroke-linejoin:round; stroke-width:4; stroke-opacity:1; fill:none\" points=\"\n",
       "  1555.95,1486.45 1555.95,1467.55 \n",
       "  \"/>\n",
       "<polyline clip-path=\"url(#clip970)\" style=\"stroke:#000000; stroke-linecap:butt; stroke-linejoin:round; stroke-width:4; stroke-opacity:1; fill:none\" points=\"\n",
       "  2018.03,1486.45 2018.03,1467.55 \n",
       "  \"/>\n",
       "<path clip-path=\"url(#clip970)\" d=\"M591.392 1543.18 L599.031 1543.18 L599.031 1516.82 L590.721 1518.49 L590.721 1514.23 L598.985 1512.56 L603.661 1512.56 L603.661 1543.18 L611.3 1543.18 L611.3 1547.12 L591.392 1547.12 L591.392 1543.18 Z\" fill=\"#000000\" fill-rule=\"evenodd\" fill-opacity=\"1\" /><path clip-path=\"url(#clip970)\" d=\"M630.744 1515.64 Q627.133 1515.64 625.304 1519.2 Q623.499 1522.75 623.499 1529.87 Q623.499 1536.98 625.304 1540.55 Q627.133 1544.09 630.744 1544.09 Q634.378 1544.09 636.184 1540.55 Q638.012 1536.98 638.012 1529.87 Q638.012 1522.75 636.184 1519.2 Q634.378 1515.64 630.744 1515.64 M630.744 1511.93 Q636.554 1511.93 639.61 1516.54 Q642.688 1521.12 642.688 1529.87 Q642.688 1538.6 639.61 1543.21 Q636.554 1547.79 630.744 1547.79 Q624.934 1547.79 621.855 1543.21 Q618.8 1538.6 618.8 1529.87 Q618.8 1521.12 621.855 1516.54 Q624.934 1511.93 630.744 1511.93 Z\" fill=\"#000000\" fill-rule=\"evenodd\" fill-opacity=\"1\" /><path clip-path=\"url(#clip970)\" d=\"M660.906 1515.64 Q657.295 1515.64 655.466 1519.2 Q653.661 1522.75 653.661 1529.87 Q653.661 1536.98 655.466 1540.55 Q657.295 1544.09 660.906 1544.09 Q664.54 1544.09 666.346 1540.55 Q668.174 1536.98 668.174 1529.87 Q668.174 1522.75 666.346 1519.2 Q664.54 1515.64 660.906 1515.64 M660.906 1511.93 Q666.716 1511.93 669.772 1516.54 Q672.85 1521.12 672.85 1529.87 Q672.85 1538.6 669.772 1543.21 Q666.716 1547.79 660.906 1547.79 Q655.096 1547.79 652.017 1543.21 Q648.961 1538.6 648.961 1529.87 Q648.961 1521.12 652.017 1516.54 Q655.096 1511.93 660.906 1511.93 Z\" fill=\"#000000\" fill-rule=\"evenodd\" fill-opacity=\"1\" /><path clip-path=\"url(#clip970)\" d=\"M1057.56 1543.18 L1073.88 1543.18 L1073.88 1547.12 L1051.93 1547.12 L1051.93 1543.18 Q1054.6 1540.43 1059.18 1535.8 Q1063.79 1531.15 1064.97 1529.81 Q1067.21 1527.28 1068.09 1525.55 Q1068.99 1523.79 1068.99 1522.1 Q1068.99 1519.34 1067.05 1517.61 Q1065.13 1515.87 1062.03 1515.87 Q1059.83 1515.87 1057.37 1516.63 Q1054.94 1517.4 1052.17 1518.95 L1052.17 1514.23 Q1054.99 1513.09 1057.44 1512.51 Q1059.9 1511.93 1061.93 1511.93 Q1067.3 1511.93 1070.5 1514.62 Q1073.69 1517.31 1073.69 1521.8 Q1073.69 1523.93 1072.88 1525.85 Q1072.1 1527.74 1069.99 1530.34 Q1069.41 1531.01 1066.31 1534.23 Q1063.21 1537.42 1057.56 1543.18 Z\" fill=\"#000000\" fill-rule=\"evenodd\" fill-opacity=\"1\" /><path clip-path=\"url(#clip970)\" d=\"M1093.69 1515.64 Q1090.08 1515.64 1088.25 1519.2 Q1086.45 1522.75 1086.45 1529.87 Q1086.45 1536.98 1088.25 1540.55 Q1090.08 1544.09 1093.69 1544.09 Q1097.33 1544.09 1099.13 1540.55 Q1100.96 1536.98 1100.96 1529.87 Q1100.96 1522.75 1099.13 1519.2 Q1097.33 1515.64 1093.69 1515.64 M1093.69 1511.93 Q1099.5 1511.93 1102.56 1516.54 Q1105.64 1521.12 1105.64 1529.87 Q1105.64 1538.6 1102.56 1543.21 Q1099.5 1547.79 1093.69 1547.79 Q1087.88 1547.79 1084.8 1543.21 Q1081.75 1538.6 1081.75 1529.87 Q1081.75 1521.12 1084.8 1516.54 Q1087.88 1511.93 1093.69 1511.93 Z\" fill=\"#000000\" fill-rule=\"evenodd\" fill-opacity=\"1\" /><path clip-path=\"url(#clip970)\" d=\"M1123.86 1515.64 Q1120.24 1515.64 1118.42 1519.2 Q1116.61 1522.75 1116.61 1529.87 Q1116.61 1536.98 1118.42 1540.55 Q1120.24 1544.09 1123.86 1544.09 Q1127.49 1544.09 1129.29 1540.55 Q1131.12 1536.98 1131.12 1529.87 Q1131.12 1522.75 1129.29 1519.2 Q1127.49 1515.64 1123.86 1515.64 M1123.86 1511.93 Q1129.67 1511.93 1132.72 1516.54 Q1135.8 1521.12 1135.8 1529.87 Q1135.8 1538.6 1132.72 1543.21 Q1129.67 1547.79 1123.86 1547.79 Q1118.04 1547.79 1114.97 1543.21 Q1111.91 1538.6 1111.91 1529.87 Q1111.91 1521.12 1114.97 1516.54 Q1118.04 1511.93 1123.86 1511.93 Z\" fill=\"#000000\" fill-rule=\"evenodd\" fill-opacity=\"1\" /><path clip-path=\"url(#clip970)\" d=\"M1529.71 1528.49 Q1533.07 1529.2 1534.94 1531.47 Q1536.84 1533.74 1536.84 1537.07 Q1536.84 1542.19 1533.32 1544.99 Q1529.8 1547.79 1523.32 1547.79 Q1521.14 1547.79 1518.83 1547.35 Q1516.54 1546.93 1514.08 1546.08 L1514.08 1541.56 Q1516.03 1542.7 1518.34 1543.28 Q1520.66 1543.86 1523.18 1543.86 Q1527.58 1543.86 1529.87 1542.12 Q1532.19 1540.38 1532.19 1537.07 Q1532.19 1534.02 1530.03 1532.31 Q1527.9 1530.57 1524.08 1530.57 L1520.06 1530.57 L1520.06 1526.73 L1524.27 1526.73 Q1527.72 1526.73 1529.55 1525.36 Q1531.38 1523.97 1531.38 1521.38 Q1531.38 1518.72 1529.48 1517.31 Q1527.6 1515.87 1524.08 1515.87 Q1522.16 1515.87 1519.96 1516.29 Q1517.77 1516.7 1515.13 1517.58 L1515.13 1513.42 Q1517.79 1512.68 1520.1 1512.31 Q1522.44 1511.93 1524.5 1511.93 Q1529.83 1511.93 1532.93 1514.37 Q1536.03 1516.77 1536.03 1520.89 Q1536.03 1523.76 1534.39 1525.75 Q1532.74 1527.72 1529.71 1528.49 Z\" fill=\"#000000\" fill-rule=\"evenodd\" fill-opacity=\"1\" /><path clip-path=\"url(#clip970)\" d=\"M1555.7 1515.64 Q1552.09 1515.64 1550.27 1519.2 Q1548.46 1522.75 1548.46 1529.87 Q1548.46 1536.98 1550.27 1540.55 Q1552.09 1544.09 1555.7 1544.09 Q1559.34 1544.09 1561.14 1540.55 Q1562.97 1536.98 1562.97 1529.87 Q1562.97 1522.75 1561.14 1519.2 Q1559.34 1515.64 1555.7 1515.64 M1555.7 1511.93 Q1561.52 1511.93 1564.57 1516.54 Q1567.65 1521.12 1567.65 1529.87 Q1567.65 1538.6 1564.57 1543.21 Q1561.52 1547.79 1555.7 1547.79 Q1549.89 1547.79 1546.82 1543.21 Q1543.76 1538.6 1543.76 1529.87 Q1543.76 1521.12 1546.82 1516.54 Q1549.89 1511.93 1555.7 1511.93 Z\" fill=\"#000000\" fill-rule=\"evenodd\" fill-opacity=\"1\" /><path clip-path=\"url(#clip970)\" d=\"M1585.87 1515.64 Q1582.26 1515.64 1580.43 1519.2 Q1578.62 1522.75 1578.62 1529.87 Q1578.62 1536.98 1580.43 1540.55 Q1582.26 1544.09 1585.87 1544.09 Q1589.5 1544.09 1591.31 1540.55 Q1593.14 1536.98 1593.14 1529.87 Q1593.14 1522.75 1591.31 1519.2 Q1589.5 1515.64 1585.87 1515.64 M1585.87 1511.93 Q1591.68 1511.93 1594.73 1516.54 Q1597.81 1521.12 1597.81 1529.87 Q1597.81 1538.6 1594.73 1543.21 Q1591.68 1547.79 1585.87 1547.79 Q1580.06 1547.79 1576.98 1543.21 Q1573.92 1538.6 1573.92 1529.87 Q1573.92 1521.12 1576.98 1516.54 Q1580.06 1511.93 1585.87 1511.93 Z\" fill=\"#000000\" fill-rule=\"evenodd\" fill-opacity=\"1\" /><path clip-path=\"url(#clip970)\" d=\"M1991.12 1516.63 L1979.31 1535.08 L1991.12 1535.08 L1991.12 1516.63 M1989.89 1512.56 L1995.77 1512.56 L1995.77 1535.08 L2000.7 1535.08 L2000.7 1538.97 L1995.77 1538.97 L1995.77 1547.12 L1991.12 1547.12 L1991.12 1538.97 L1975.52 1538.97 L1975.52 1534.46 L1989.89 1512.56 Z\" fill=\"#000000\" fill-rule=\"evenodd\" fill-opacity=\"1\" /><path clip-path=\"url(#clip970)\" d=\"M2018.43 1515.64 Q2014.82 1515.64 2012.99 1519.2 Q2011.19 1522.75 2011.19 1529.87 Q2011.19 1536.98 2012.99 1540.55 Q2014.82 1544.09 2018.43 1544.09 Q2022.07 1544.09 2023.87 1540.55 Q2025.7 1536.98 2025.7 1529.87 Q2025.7 1522.75 2023.87 1519.2 Q2022.07 1515.64 2018.43 1515.64 M2018.43 1511.93 Q2024.24 1511.93 2027.3 1516.54 Q2030.38 1521.12 2030.38 1529.87 Q2030.38 1538.6 2027.3 1543.21 Q2024.24 1547.79 2018.43 1547.79 Q2012.62 1547.79 2009.55 1543.21 Q2006.49 1538.6 2006.49 1529.87 Q2006.49 1521.12 2009.55 1516.54 Q2012.62 1511.93 2018.43 1511.93 Z\" fill=\"#000000\" fill-rule=\"evenodd\" fill-opacity=\"1\" /><path clip-path=\"url(#clip970)\" d=\"M2048.6 1515.64 Q2044.99 1515.64 2043.16 1519.2 Q2041.35 1522.75 2041.35 1529.87 Q2041.35 1536.98 2043.16 1540.55 Q2044.99 1544.09 2048.6 1544.09 Q2052.23 1544.09 2054.04 1540.55 Q2055.86 1536.98 2055.86 1529.87 Q2055.86 1522.75 2054.04 1519.2 Q2052.23 1515.64 2048.6 1515.64 M2048.6 1511.93 Q2054.41 1511.93 2057.46 1516.54 Q2060.54 1521.12 2060.54 1529.87 Q2060.54 1538.6 2057.46 1543.21 Q2054.41 1547.79 2048.6 1547.79 Q2042.79 1547.79 2039.71 1543.21 Q2036.65 1538.6 2036.65 1529.87 Q2036.65 1521.12 2039.71 1516.54 Q2042.79 1511.93 2048.6 1511.93 Z\" fill=\"#000000\" fill-rule=\"evenodd\" fill-opacity=\"1\" /><polyline clip-path=\"url(#clip972)\" style=\"stroke:#000000; stroke-linecap:butt; stroke-linejoin:round; stroke-width:2; stroke-opacity:0.1; fill:none\" points=\"\n",
       "  172.015,1145.49 2112.76,1145.49 \n",
       "  \"/>\n",
       "<polyline clip-path=\"url(#clip972)\" style=\"stroke:#000000; stroke-linecap:butt; stroke-linejoin:round; stroke-width:2; stroke-opacity:0.1; fill:none\" points=\"\n",
       "  172.015,802.826 2112.76,802.826 \n",
       "  \"/>\n",
       "<polyline clip-path=\"url(#clip972)\" style=\"stroke:#000000; stroke-linecap:butt; stroke-linejoin:round; stroke-width:2; stroke-opacity:0.1; fill:none\" points=\"\n",
       "  172.015,460.159 2112.76,460.159 \n",
       "  \"/>\n",
       "<polyline clip-path=\"url(#clip972)\" style=\"stroke:#000000; stroke-linecap:butt; stroke-linejoin:round; stroke-width:2; stroke-opacity:0.1; fill:none\" points=\"\n",
       "  172.015,117.491 2112.76,117.491 \n",
       "  \"/>\n",
       "<polyline clip-path=\"url(#clip970)\" style=\"stroke:#000000; stroke-linecap:butt; stroke-linejoin:round; stroke-width:4; stroke-opacity:1; fill:none\" points=\"\n",
       "  172.015,1486.45 172.015,47.2441 \n",
       "  \"/>\n",
       "<polyline clip-path=\"url(#clip970)\" style=\"stroke:#000000; stroke-linecap:butt; stroke-linejoin:round; stroke-width:4; stroke-opacity:1; fill:none\" points=\"\n",
       "  172.015,1145.49 188.833,1145.49 \n",
       "  \"/>\n",
       "<polyline clip-path=\"url(#clip970)\" style=\"stroke:#000000; stroke-linecap:butt; stroke-linejoin:round; stroke-width:4; stroke-opacity:1; fill:none\" points=\"\n",
       "  172.015,802.826 188.833,802.826 \n",
       "  \"/>\n",
       "<polyline clip-path=\"url(#clip970)\" style=\"stroke:#000000; stroke-linecap:butt; stroke-linejoin:round; stroke-width:4; stroke-opacity:1; fill:none\" points=\"\n",
       "  172.015,460.159 188.833,460.159 \n",
       "  \"/>\n",
       "<polyline clip-path=\"url(#clip970)\" style=\"stroke:#000000; stroke-linecap:butt; stroke-linejoin:round; stroke-width:4; stroke-opacity:1; fill:none\" points=\"\n",
       "  172.015,117.491 188.833,117.491 \n",
       "  \"/>\n",
       "<path clip-path=\"url(#clip970)\" d=\"M54.5569 1158.84 L62.1958 1158.84 L62.1958 1132.47 L53.8856 1134.14 L53.8856 1129.88 L62.1495 1128.21 L66.8254 1128.21 L66.8254 1158.84 L74.4642 1158.84 L74.4642 1162.77 L54.5569 1162.77 L54.5569 1158.84 Z\" fill=\"#000000\" fill-rule=\"evenodd\" fill-opacity=\"1\" /><path clip-path=\"url(#clip970)\" d=\"M93.9086 1131.29 Q90.2975 1131.29 88.4688 1134.86 Q86.6632 1138.4 86.6632 1145.53 Q86.6632 1152.63 88.4688 1156.2 Q90.2975 1159.74 93.9086 1159.74 Q97.5428 1159.74 99.3483 1156.2 Q101.177 1152.63 101.177 1145.53 Q101.177 1138.4 99.3483 1134.86 Q97.5428 1131.29 93.9086 1131.29 M93.9086 1127.59 Q99.7187 1127.59 102.774 1132.2 Q105.853 1136.78 105.853 1145.53 Q105.853 1154.26 102.774 1158.86 Q99.7187 1163.44 93.9086 1163.44 Q88.0984 1163.44 85.0197 1158.86 Q81.9642 1154.26 81.9642 1145.53 Q81.9642 1136.78 85.0197 1132.2 Q88.0984 1127.59 93.9086 1127.59 Z\" fill=\"#000000\" fill-rule=\"evenodd\" fill-opacity=\"1\" /><path clip-path=\"url(#clip970)\" d=\"M124.07 1131.29 Q120.459 1131.29 118.631 1134.86 Q116.825 1138.4 116.825 1145.53 Q116.825 1152.63 118.631 1156.2 Q120.459 1159.74 124.07 1159.74 Q127.705 1159.74 129.51 1156.2 Q131.339 1152.63 131.339 1145.53 Q131.339 1138.4 129.51 1134.86 Q127.705 1131.29 124.07 1131.29 M124.07 1127.59 Q129.881 1127.59 132.936 1132.2 Q136.015 1136.78 136.015 1145.53 Q136.015 1154.26 132.936 1158.86 Q129.881 1163.44 124.07 1163.44 Q118.26 1163.44 115.182 1158.86 Q112.126 1154.26 112.126 1145.53 Q112.126 1136.78 115.182 1132.2 Q118.26 1127.59 124.07 1127.59 Z\" fill=\"#000000\" fill-rule=\"evenodd\" fill-opacity=\"1\" /><path clip-path=\"url(#clip970)\" d=\"M57.7745 816.171 L74.0939 816.171 L74.0939 820.106 L52.1495 820.106 L52.1495 816.171 Q54.8115 813.416 59.3949 808.787 Q64.0013 804.134 65.1819 802.791 Q67.4272 800.268 68.3068 798.532 Q69.2096 796.773 69.2096 795.083 Q69.2096 792.328 67.2652 790.592 Q65.3439 788.856 62.2421 788.856 Q60.043 788.856 57.5893 789.62 Q55.1588 790.384 52.381 791.935 L52.381 787.213 Q55.2051 786.078 57.6588 785.5 Q60.1124 784.921 62.1495 784.921 Q67.5198 784.921 70.7142 787.606 Q73.9087 790.291 73.9087 794.782 Q73.9087 796.912 73.0985 798.833 Q72.3115 800.731 70.205 803.324 Q69.6263 803.995 66.5245 807.213 Q63.4226 810.407 57.7745 816.171 Z\" fill=\"#000000\" fill-rule=\"evenodd\" fill-opacity=\"1\" /><path clip-path=\"url(#clip970)\" d=\"M93.9086 788.625 Q90.2975 788.625 88.4688 792.19 Q86.6632 795.731 86.6632 802.861 Q86.6632 809.967 88.4688 813.532 Q90.2975 817.074 93.9086 817.074 Q97.5428 817.074 99.3483 813.532 Q101.177 809.967 101.177 802.861 Q101.177 795.731 99.3483 792.19 Q97.5428 788.625 93.9086 788.625 M93.9086 784.921 Q99.7187 784.921 102.774 789.528 Q105.853 794.111 105.853 802.861 Q105.853 811.588 102.774 816.194 Q99.7187 820.777 93.9086 820.777 Q88.0984 820.777 85.0197 816.194 Q81.9642 811.588 81.9642 802.861 Q81.9642 794.111 85.0197 789.528 Q88.0984 784.921 93.9086 784.921 Z\" fill=\"#000000\" fill-rule=\"evenodd\" fill-opacity=\"1\" /><path clip-path=\"url(#clip970)\" d=\"M124.07 788.625 Q120.459 788.625 118.631 792.19 Q116.825 795.731 116.825 802.861 Q116.825 809.967 118.631 813.532 Q120.459 817.074 124.07 817.074 Q127.705 817.074 129.51 813.532 Q131.339 809.967 131.339 802.861 Q131.339 795.731 129.51 792.19 Q127.705 788.625 124.07 788.625 M124.07 784.921 Q129.881 784.921 132.936 789.528 Q136.015 794.111 136.015 802.861 Q136.015 811.588 132.936 816.194 Q129.881 820.777 124.07 820.777 Q118.26 820.777 115.182 816.194 Q112.126 811.588 112.126 802.861 Q112.126 794.111 115.182 789.528 Q118.26 784.921 124.07 784.921 Z\" fill=\"#000000\" fill-rule=\"evenodd\" fill-opacity=\"1\" /><path clip-path=\"url(#clip970)\" d=\"M67.9133 458.804 Q71.2698 459.522 73.1448 461.79 Q75.0429 464.059 75.0429 467.392 Q75.0429 472.508 71.5244 475.309 Q68.0059 478.11 61.5245 478.11 Q59.3486 478.11 57.0338 477.67 Q54.7421 477.253 52.2884 476.397 L52.2884 471.883 Q54.2328 473.017 56.5477 473.596 Q58.8625 474.175 61.3856 474.175 Q65.7837 474.175 68.0754 472.439 Q70.3902 470.702 70.3902 467.392 Q70.3902 464.337 68.2374 462.624 Q66.1078 460.888 62.2884 460.888 L58.2606 460.888 L58.2606 457.045 L62.4735 457.045 Q65.9226 457.045 67.7513 455.679 Q69.58 454.29 69.58 451.698 Q69.58 449.036 67.6819 447.624 Q65.8069 446.189 62.2884 446.189 Q60.3671 446.189 58.168 446.605 Q55.969 447.022 53.3301 447.902 L53.3301 443.735 Q55.9921 442.994 58.3069 442.624 Q60.6449 442.254 62.705 442.254 Q68.0291 442.254 71.1309 444.684 Q74.2327 447.091 74.2327 451.212 Q74.2327 454.082 72.5892 456.073 Q70.9457 458.04 67.9133 458.804 Z\" fill=\"#000000\" fill-rule=\"evenodd\" fill-opacity=\"1\" /><path clip-path=\"url(#clip970)\" d=\"M93.9086 445.957 Q90.2975 445.957 88.4688 449.522 Q86.6632 453.064 86.6632 460.193 Q86.6632 467.3 88.4688 470.864 Q90.2975 474.406 93.9086 474.406 Q97.5428 474.406 99.3483 470.864 Q101.177 467.3 101.177 460.193 Q101.177 453.064 99.3483 449.522 Q97.5428 445.957 93.9086 445.957 M93.9086 442.254 Q99.7187 442.254 102.774 446.86 Q105.853 451.443 105.853 460.193 Q105.853 468.92 102.774 473.526 Q99.7187 478.11 93.9086 478.11 Q88.0984 478.11 85.0197 473.526 Q81.9642 468.92 81.9642 460.193 Q81.9642 451.443 85.0197 446.86 Q88.0984 442.254 93.9086 442.254 Z\" fill=\"#000000\" fill-rule=\"evenodd\" fill-opacity=\"1\" /><path clip-path=\"url(#clip970)\" d=\"M124.07 445.957 Q120.459 445.957 118.631 449.522 Q116.825 453.064 116.825 460.193 Q116.825 467.3 118.631 470.864 Q120.459 474.406 124.07 474.406 Q127.705 474.406 129.51 470.864 Q131.339 467.3 131.339 460.193 Q131.339 453.064 129.51 449.522 Q127.705 445.957 124.07 445.957 M124.07 442.254 Q129.881 442.254 132.936 446.86 Q136.015 451.443 136.015 460.193 Q136.015 468.92 132.936 473.526 Q129.881 478.11 124.07 478.11 Q118.26 478.11 115.182 473.526 Q112.126 468.92 112.126 460.193 Q112.126 451.443 115.182 446.86 Q118.26 442.254 124.07 442.254 Z\" fill=\"#000000\" fill-rule=\"evenodd\" fill-opacity=\"1\" /><path clip-path=\"url(#clip970)\" d=\"M66.5939 104.285 L54.7884 122.734 L66.5939 122.734 L66.5939 104.285 M65.367 100.211 L71.2466 100.211 L71.2466 122.734 L76.1772 122.734 L76.1772 126.623 L71.2466 126.623 L71.2466 134.771 L66.5939 134.771 L66.5939 126.623 L50.9921 126.623 L50.9921 122.109 L65.367 100.211 Z\" fill=\"#000000\" fill-rule=\"evenodd\" fill-opacity=\"1\" /><path clip-path=\"url(#clip970)\" d=\"M93.9086 103.29 Q90.2975 103.29 88.4688 106.854 Q86.6632 110.396 86.6632 117.526 Q86.6632 124.632 88.4688 128.197 Q90.2975 131.739 93.9086 131.739 Q97.5428 131.739 99.3483 128.197 Q101.177 124.632 101.177 117.526 Q101.177 110.396 99.3483 106.854 Q97.5428 103.29 93.9086 103.29 M93.9086 99.5859 Q99.7187 99.5859 102.774 104.192 Q105.853 108.776 105.853 117.526 Q105.853 126.252 102.774 130.859 Q99.7187 135.442 93.9086 135.442 Q88.0984 135.442 85.0197 130.859 Q81.9642 126.252 81.9642 117.526 Q81.9642 108.776 85.0197 104.192 Q88.0984 99.5859 93.9086 99.5859 Z\" fill=\"#000000\" fill-rule=\"evenodd\" fill-opacity=\"1\" /><path clip-path=\"url(#clip970)\" d=\"M124.07 103.29 Q120.459 103.29 118.631 106.854 Q116.825 110.396 116.825 117.526 Q116.825 124.632 118.631 128.197 Q120.459 131.739 124.07 131.739 Q127.705 131.739 129.51 128.197 Q131.339 124.632 131.339 117.526 Q131.339 110.396 129.51 106.854 Q127.705 103.29 124.07 103.29 M124.07 99.5859 Q129.881 99.5859 132.936 104.192 Q136.015 108.776 136.015 117.526 Q136.015 126.252 132.936 130.859 Q129.881 135.442 124.07 135.442 Q118.26 135.442 115.182 130.859 Q112.126 126.252 112.126 117.526 Q112.126 108.776 115.182 104.192 Q118.26 99.5859 124.07 99.5859 Z\" fill=\"#000000\" fill-rule=\"evenodd\" fill-opacity=\"1\" /><g clip-path=\"url(#clip972)\">\n",
       "<image width=\"1941\" height=\"1439\" xlink:href=\"data:image/png;base64,\n",
       "iVBORw0KGgoAAAANSUhEUgAAB5UAAAWfCAYAAACLOqENAAAgAElEQVR4nOzdUY7kOI4AUNeiDrpH\n",
       "24Mu0PNRvbODSLNa5ZQsknrvczBd6bAkShGEyB/X9fOvCzb737/+58v/9vPHf7/+HADks3uPGP37\n",
       "n/8/+xgAJ9i9TwNAFr4TAtDN5972X3seAwAAAAAAAIAKJJUBAAAAAAAACEkqAwAAAAAAABD6oacy\n",
       "1KFfGW8z556/g5XvrtO46DkF8L5O+wh1OQMA9OI7MMC43XFt998np5F54aYyAAAAAAAAACFJZQAA\n",
       "AAAAAABCyl8DAABwtLfLvyk3BwCcwJkHIK8nLYncVAYAAAAAAAAgJKkMAAAAAAAAQEhSGQAAAAAA\n",
       "AICQnsoA8E16BAEZZIxFGZ8JgNrsLQAAeTmr5TRrXNxUBgAAAAAAACAkqQwAAAAAAABASPnrZpQW\n",
       "AIBxT/fNmfvt57/19r69++8DAADwe37zBahjd8xe+ffdVAYAAAAAAAAgJKkMAAAAAAAAQEhSGQAA\n",
       "AAAAAICQnsoA8Le3+13s7q8BO+jhDDlZmwD3xEeAucRVgLnejKtuKgMAAAAAAAAQklQGAAAAAAAA\n",
       "IKT8dSFKgwDAL/ZEZjKf3qX0P0+ZO4yqMlfsP++qMi+AtcReACrbfaZ1UxkAAAAAAACAkKQyAAAA\n",
       "AAAAACHlrwEAILnd5Y2AOp7GC3GmBuPETObTWt4vo5TkrsGahv7u1vmnt9d9tj3CTWUAAAAAAAAA\n",
       "QpLKAAAAAAAAAIQklQEAAAAAAAAI6akMUEy2PgqQlX5HQBXi1XPeHW/L2GetCt9jWMl+8NXqd2JN\n",
       "AzCTvbzGO3BTGQAAAAAAAICQpDIAAAAAAAAAIeWvgVIqlICY6bTPC3AisR6AiPKyz9hbWc3aBO7Y\n",
       "f4BRVeOFm8oAAAAAAAAAhCSVAQAAAAAAAAhJKgMAAAAAAAAQ0lM5qZX11KvWagegP3vUeYw5dzLM\n",
       "C70SAeBMzgB9ZDhTVuA9AazX5XzhpjIAAAAAAAAAIUllAAAAAAAAAELKXxd2V5rkTtVr9LPMLOHS\n",
       "pUQBAL883SPsLQCcSHlMANjDHkxG5iXc2702Vv59N5UBAAAAAAAACEkqAwAAAAAAABCSVAYAAAAA\n",
       "AAAgpKfyAfRqBJ7a3f9hVJXnHCFmr+X9ApWJYVRhrsJznddPp+9tfGV89zMGQDcVzkWnxV43lQEA\n",
       "AAAAAAAISSoDAAAAAAAAEFL+mi0qlC1YKWNJhIzPRF3mE8Bc4iowSrzozfiSgXk45u33dPpvbZUZ\n",
       "u3zEOSByesx2UxkAAAAAAACAkKQyAAAAAAAAACHlrwEOpZQPQH9iPTBKvIDzWPcA48RM6O9unX96\n",
       "e91nK7ftpjIAAAAAAAAAIUllAAAAAAAAAEKSygAAAAAAAACEfu5+AAD22N1/AYD1xHo4j35/vRlf\n",
       "AABgFzeVAQAAAAAAAAhJKgMAAAAAAAAQ+nFdP//a/RCAMmbM9TmfMs6luzl/J+OzA0AVzpgA8D3d\n",
       "99IKvx9wnu7rjnzMufMY82fcVAYAAAAAAAAgJKkMAAAAAAAAQEhSGQAAAAAAAICQnsoAtKQvFAAA\n",
       "jNNX7jnvDoATZPytLeMzkY+z2jxuKgMAAAAAAAAQklQGAAAAAAAAIKT8NRAaKQsxs3SEciVkpDwK\n",
       "pzHn+7PfYp1/dfdO7sx6T87QvM26z2nWuBhfALKwJ9VQdZxGn9t3pHXcVAYAAAAAAAAgJKkMAAAA\n",
       "AAAAQEhSGQAAAAAAAICQnsrAH9GPoIYK41S1dwfsUGFNz3Ta54WV7LfAd4ghQBVvxyvxESAH8fhd\n",
       "bioDAAAAAAAAEJJUBgAAAAAAACCk/DXwLTPLSyh3SkZKqKxl3edjzvdn3WGdj6nynqxpAFarsicC\n",
       "MKZqXB99bt+R1nFTGQAAAAAAAICQpDIAAAAAAAAAIeWvASivasmWO8qzAKxVec+wR1CFuQrPWT8A\n",
       "AL9UOBdV/o3hCTeVAQAAAAAAAAhJKgMAAAAAAAAQklQGAAAAAAAAIKSnMkAxFXpJQAan9TQB6hKv\n",
       "nvPueNvdnPtkDgIZ2CO9A4BKxOwa78BNZQAAAAAAAABCksoAAAAAAAAAhJS/JoUK1/p5zvgCJxL7\n",
       "AKhO2xWgsk4xrNNngYyssXz8ptKLFjJ9uKkMAAAAAAAAQEhSGQAAAAAAAICQpDIAAAAAAAAAoZ+7\n",
       "HwAA4Hf00QGAvOzTwJ0MsaFTLOr0WSAjawxgjJvKAAAAAAAAAIQklQEAAAAAAAAI/biun3/tfgiA\n",
       "7/gsq6VkzX4ZSp29qcrntVagt4yxKOMzAXO9vc6dZ7C3YA4AQF726ZxmjYubygAAAAAAAACEJJUB\n",
       "AAAAAAAACEkqAwAAAAAAABDSUxmY7u0+Z3f9AD7p20BVM/uQ6EEIZNU5PuknBTnPM7t7Qa/+e1BF\n",
       "lzOANQ51WK9w7+me3GUvZ4ybygAAAAAAAACEJJUBAAAAAAAACCl/DX9TpgEAAM7g7A/cURIVACDm\n",
       "rISbygAAAAAAAACEJJUBAAAAAAAACCl/DVCMco1AJ09LJ60suaScE9TmrMRK9giqOG2unvZ5q7An\n",
       "92bdQW/WOHfcVAYAAAAAAAAgJKkMAAAAAAAAQEhSGQAAAAAAAICQnsrwgtN6yOz+vPo90MnM+bx7\n",
       "bdKL+cRMneeTcwnkPM+8vTbFArjX5QxgjTPKXNnPGMC9p3tyl72cMW4qAwAAAAAAABCSVAYAAAAA\n",
       "AAAgpPw18C0ZS9nBTMoirWXd5/N0zlsrdVh3WK9jqrwnaxoAAPgTVb7rfBp9bt+Rnhl5v24qAwAA\n",
       "AAAAABCSVAYAAAAAAAAgJKkMAAAAAAAAQEhPZQAAAACgtar9I7mnX+ZaFd6vNX2vwtjxPvOCWdxU\n",
       "BgAAAAAAACAkqQwAAAAAAABASPlrAPgN5ZQAINaljJr9HtihQuyp8IzAL9YrGZiH+xkDVnJTGQAA\n",
       "AAAAAICQpDIAAAAAAAAAIUllAAAAAAAAAEJ6KjNV93r9XXrGAQAA/KmM3/dWPlPGzwsAmfntFN7l\n",
       "vMrb3FQGAAAAAAAAICSpDAAAAAAAAEBI+WsA2GR3iZrdfx+APJQqnMe7BADe4MwB+838bW1kTVv3\n",
       "7OamMgAAAAAAAAAhSWUAAAAAAAAAQspfEzqtlMKsz/t2yQvIIONczfhMABkphQ/jnC8AyMD57X3O\n",
       "APs9HYMuY7dy3VeOKV3G907lcaEvN5UBAAAAAAAACEkqAwAAAAAAABCSVAYAAAAAAAAgpKcyAGyi\n",
       "N8p5jPlanXspwWqd14/YS3fmOACVdD53wneMrA3rh93cVAYAAAAAAAAgJKkMAAAAAAAAQEj5ayhE\n",
       "WTPeZs49t/LddRoXZXv66DQvoTvrlQycAXq/A3GGp8ydunwHrsG7JKvO56I71iIZjcxLN5UBAAAA\n",
       "AAAACEkqAwAAAAAAABCSVAYAAAAAAAAgpKcysIW+EdDfaf1wZhEfAYDvcg4DqvD9B+7Zy/sQ5+jE\n",
       "TWUAAAAAAAAAQpLKAAAAAAAAAISUv4YDKLGhZAwwTrwAYJRzNlgH8Cd2f9ewXr/yToDZdsd6WMlN\n",
       "ZQAAAAAAAABCksoAAAAAAAAAhCSVAQAAAAAAAAjpqcyRdvdL2f33ycm8GOM9wTh9fPoQ+77yTgAA\n",
       "zuW7ztp3cPr79V2DUW/PldPXJvu5qQwAAAAAAABASFIZAAAAAAAAgJDy1wAAAJSkNCEA5KVMK9CJ\n",
       "7x7gpjIAAAAAAAAAvyGpDAAAAAAAAEBI+WvaUVoHAMii87lE6a/nqs4LY05G5uVa3u9+xgCgDjH7\n",
       "XpfvP1WeG1ZyUxkAAAAAAACAkKQyAAAAAAAAACFJZQAAAAAAAABCeipDEnpuMFOFnh93c/5OxmcH\n",
       "gCqcMQHge7rvpRV+P+A83dcdz6ycF+bceYz5M24qAwAAAAAAABCSVAYAAAAAAAAgpPw1AKEqZUCq\n",
       "PCf7Ke0GAAAwn+/lQCV+H4Jn3FQGAAAAAAAAICSpDAAAAAAAAEBIUhkAAAAAAACAkJ7KLKenCgAA\n",
       "AAAAjOnc8/ftfIH8BMzjpjIAAAAAAAAAIUllAAAAAAAAAELKX0PgaVmMmeU0Opc5AfZbGa++82/R\n",
       "h3lRg3F6zlmNO+YFAPRjf6ezTt8JO30WyMhNZQAAAAAAAABCksoAAAAAAAAAhCSVAQAAAAAAAAjp\n",
       "qQzwB/TlAAAA4D/5nliXsYM6Tu9r/Xa8uvt7b/79UZ3nhT1qHu9yHjeVAQAAAAAAAAhJKgMAAAAA\n",
       "AAAQUv4agC1Gyuhc17xSJMqcAAAAkEmG76mdS8cCvayMmRniMVTgpjIAAAAAAAAAIUllAAAAAAAA\n",
       "AELKX5OC8hK9Gd/9jAEAnEEJy3dVPWONPrf5BDyVIT52imGdPgtk1HmNZYjHT1R9bu6NtEE0vjW4\n",
       "qQwAAAAAAABASFIZAAAAAAAAgJCkMgAAAAAAAAAhPZUL6dzbgTHde0mY4zCmUyyw7vN5Or86zUuA\n",
       "6xLXVlt5Bqgydp3PQVXGABgzsqat+5z0MaWKzueiO2ImVbmpDAAAAAAAAEBIUhkAAAAAAACAkPLX\n",
       "LKeUw3Onlf2oQNkgGCeGATznDA0AAOfq/JvK2991fLeCedxUBgAAAAAAACAkqQwAAAAAAABASFIZ\n",
       "AAAAAAAAgJCeyrTTud9EBt7vM3p3AJyp875pb3uu6rww5mRkXq7l/e5nDADqELPvdfn+U+W5YSU3\n",
       "lQEAAAAAAAAISSoDAAAAAAAAEFL+Gggp2QIA/SjhBV+9fe51zs6pc3w053KaNS4rx9fcAb5DDDmP\n",
       "Md/PGPQ+1+/mpjIAAAAAAAAAIUllAAAAAAAAAEKSygAAAAAAAACE9FROQo13ADI4re/K08878t+d\n",
       "9i55n/PjGO+pBjEToBdxHXqxputaOXbmBdzrvDbcVAYAAAAAAAAgJKkMAAAAAAAAQEj5a4A/0Ll0\n",
       "BQAAAH/O98S6jB3UcXpbm7fj1d3fe/Pvjzp9XjDGfj+Pm8oAAAAAAAAAhCSVAQAAAAAAAAj93P0A\n",
       "ANSn1AwAAHAq338AAPJyVpvHTWUAAAAAAAAAQpLKAAAAAAAAAIQklQEAAAAAAAAI/biun3/tfgjI\n",
       "6LNH7HWpvQ8QETOhLusXxn2uF2tlHrEIgMycAeoydv+s0znMZ4G13FQGAAAAAAAAICSpDAAAAAAA\n",
       "AEBI+WsAAFJRngxyUn4N3mdPfEa86iXjOsj4TLxLnKEyMQx4yk1lAAAAAAAAAEKSygAAAAAAAACE\n",
       "JJUBAAAAAAAACOmpnIQ+BgBkcFpfqKefd+S/O+1d8j7nxzHeUw1VY2bV5x5l/QBPZYiPYhgjMszV\n",
       "Crq/p87xYuXYVf23gefcVAYAAAAAAAAgJKkMAAAAAAAAQEj5a5a7K1XxSemK8yhhAtCfWE8V5ioA\n",
       "9Ge/76VzueIMKrxfa/pehbHjfeYFs7ipDAAAAAAAAEBIUhkAAAAAAACAkPLXAPwR5YVyUsYGAACA\n",
       "7xr9zu87KOznNzrgbW4qAwAAAAAAABCSVAYAAAAAAAAgJKkMAAAAAAAAQEhPZUKzeqNU6e2gFwx3\n",
       "7ubvJ3Nl7fqxNgGALJxL6KzKd3eYqeq8r/rc8B1Pz2FVz2+7f5Pc/fdHVR3fEWI9GbmpDAAAAAAA\n",
       "AEBIUhkAAAAAAACAkPLXhE4rf/1E58/GLyOlXj6ZA/BL5xJE1GXvpgpzFQAAzlWl/PQTb3/X2f3d\n",
       "avffh5ncVAYAAAAAAAAgJKkMAAAAAAAAQEhSGQAAAAAAAICQnsoH0NNyjPeE/ha9WNMAz9kTGWW/\n",
       "BQCA7/H9C6jCTWUAAAAAAAAAQpLKAAAAAAAAAISUv+a6LiU2RinvBwCQlzMtrGWNAZFZv5eIM0B3\n",
       "4hxQmZvKAAAAAAAAAIQklQEAAAAAAAAISSoDAAAAAAAAENJTGQDgP8zqB0dv+mABAFCNMyy8z28M\n",
       "QCduKgMAAAAAAAAQklQGAAAAAAAAIKT8Ne0oKQJAd8rW1TFyLjGe56l6XjVXyaj7vNwdL6q+36rP\n",
       "fafTZ+lk99qkN+u+LmN3r2rMrPrc1FA1XripDAAAAAAAAEBIUhkAAAAAAACAkPLXAPzbaWVdTvu8\n",
       "AMCZnHnqMnbcMS/ozhynCnMVOI2bygAAAAAAAACEJJUBAAAAAAAACEkqAwAAAAAAABDSUxmAUj77\n",
       "1VxX3Z41nT4LsJZ4AawmztRl7ABgPfst9He3zj+9ve6z9W53UxkAAAAAAACAkKQyAAAAAAAAACHl\n",
       "r4HrupRwAegoW4kcnrNPf+WdAMAe9mCgO3GOUebKeU7/rc1NZQAAAAAAAABCksoAAAAAAAAAhCSV\n",
       "AQAAAAAAAAjpqQwAAAAPdO+hdnq/MKA2MQwY1TleVD2vVn1uxnVed525qQwAAAAAAABASFIZAAAA\n",
       "AAAAgJDy1/CCN0s5KA0Cvcxc08rKMJP5xEwj86nqnHM2e67qmPNVxnXw9jNlfAdwR+wFurMnw72n\n",
       "ZwBnh7O4qQwAAAAAAABASFIZAAAAAAAAgJCkMgAAAAAAAAAhPZXhb7Nq/+t/CgBUoqcYjHM+ByAD\n",
       "5zcY1+X8tnLdiyk5GRcyclMZAAAAAAAAgJCkMgAAAAAAAAAh5a8BilMKpY6VJZfu5sEn8wIA3ues\n",
       "BmTRpQQsa3Xatzp9FsYYc4C13FQGAAAAAAAAICSpDAAAAAAAAEBI+WtgC+VoAAAAAIAn/LZ4T6sD\n",
       "7pgXzOKmMgAAAAAAAAAhSWUAAAAAAAAAQpLKAAAAAAAAAIT0VCakzv4/07vjPMYcOJHYBwBAR865\n",
       "UMfpv1W/Ha/u/t6bf39U53lhjyIjN5UBAAAAAAAACEkqAwAAAAAAABBS/hqSqFLOonNJkU4qjNNI\n",
       "GZ3ryvnsAFBFlTMmAGTVfS+t8PsB5+m+7sjHnDuPMX/GTWUAAAAAAAAAQpLKAAAAAAAAAIQklQEA\n",
       "AAAAAAAI6anMt+i7AgAAAABz6PHIacx5gDrcVAYAAAAAAAAgJKkMAAAAAAAAQEj5awBK6VQWqdNn\n",
       "YYwxX9s6Q1sOeK7z+hF76c4cB6CSzudO+A5rg6fenDtuKgMAAAAAAAAQklQGAAAAAAAAICSpDAAA\n",
       "AAAAAEBIT2UgpDcXAJXoPzTGe4L9nLN5mznXm/EFshKfzmPMoY4nvw+5qQwAAAAAAABASFIZAAAA\n",
       "AAAAgJDy1/AHlIsEAAAAAPjKb6fwLuXGeZubygAAAAAAAACEJJUBAAAAAAAACCl/DcUpK/OM0iAA\n",
       "OYzE47djtj0CrAOozvdETovjp31emOnp+rHuoDdrnDtuKgMAAAAAAAAQklQGAAAAAAAAICSpDAAA\n",
       "AAAAAEBIT+Uk9DtaR+1/AHaw/7Ca8+MY7wkA3ucsDL1Y03WtHDvzAs7jpjIAAAAAAAAAIUllAAAA\n",
       "AAAAAELKX3Ok3aU5dv995ppVVtO84G0z55z5yx3zAjiRkusAOTmb9mK/Xcv7rcvYvavK3mJeMIub\n",
       "ygAAAAAAAACEJJUBAAAAAAAACEkqAwAAAAAAABDSU5kyqvQneJt+CABUNrK/OwOww+lnLOsOoDZx\n",
       "HBj1NF6IMwDjuvzG4KYyAAAAAAAAACFJZQAAAAAAAABCyl9DIcrKQB0r12unWNCl9Au95iV0Z72S\n",
       "gTNA73cgzvCUuVOX78A1eJdk1flcdMdapCo3lQEAAAAAAAAISSoDAAAAAAAAEJJUBgAAAAAAACD0\n",
       "c/cDAPyf03pn0NvK+WttsJK+PgC/VImHztB1dR6rzp+NtcydnEb2RN+Bc3JOgJysRapyUxkAAAAA\n",
       "AACAkKQyAAAAAAAAAKEf1/Xzr90PwVrKnADUIWYDUIl9i5WqlCCHmbLFVesQ6rBegesSC9522vt2\n",
       "UxkAAAAAAACAkKQyAAAAAAAAACHlrwGSOK1UBvuZcwDfk61EKTmYFwDAG5w5YL+3f1uz7tnNTWUA\n",
       "AAAAAAAAQpLKAAAAAAAAAIQklQEAAAAAAAAI6ancjP6YADDu6b45c7/d3Q9n99+nDnMFAAD28Jsv\n",
       "QB27Y/bKv++mMgAAAAAAAAAhSWUAAAAAAAAAQspfF7b7Cv2djM80k7KPPNV9bQB12dsAGJXxTJvx\n",
       "mTrxfvczBnAe674uYwd056YyAAAAAAAAACFJZQAAAAAAAABCksoAAAAAAAAAhPRU3kBvBTIyL5np\n",
       "bj59Mr8AxlXZp/Xohv2qxAueMb5kYB6O8Z4Y5QwNUMfbMTvbHuGmMgAAAAAAAAAhSWUAAAAAAAAA\n",
       "QspfA+0oMQWwXrbyOwDk5XwO1kHEmZLTiAVAVvZkRripDAAAAAAAAEBIUhkAAAAAAACAkKQyAAAA\n",
       "AAAAACE9lQGA1O56Tn3S54Xv0DeIWfTIW+u093va56WOWfvm23PcmRJ4m70cgG7cVAYAAAAAAAAg\n",
       "JKkMAAAAAAAAQEj5awCACZRQZoQSeEA34hoA/OI7IQDdfO5tbioDAAAAAAAAEJJUBgAAAAAAACCk\n",
       "/DUAAKkoGwc5KXMM57Hun3Oegd7ERyqzR9GJePwuN5UBAAAAAAAACEkqAwAAAAAAABCSVAYAAAAA\n",
       "AAAgpKcyBNTiBxgnZpKBvlDPWL9ABmIRAJn5rkFnnc5hPgus5aYyAAAAAAAAACFJZQAAAAAAAABC\n",
       "yl8D/IbyRgAAAADnUHIWAO65qQwAAAAAAABASFIZAAAAAAAAgJCkMgAAAAAAAAAhPZXhAHrBYA4w\n",
       "ylwBqO0zjleJ4VX3n6rPDTNZB2RVdU/kXWIY3Znj77P/0JmbygAAAAAAAACEJJUBAAAAAAAACCl/\n",
       "zXVdvctgdP5s3Rk7AOjH/j6PdwlAN/Y2VlOWFoDKdp+V3FQGAAAAAAAAICSpDAAAAAAAAEBIUhkA\n",
       "AAAAAACAkJ7KSe2ui56BHicwRryoY2VcEzO/sjZq6DROnT4L4iowTryAXqzpPpzPz2PMoa7u67fL\n",
       "+cJNZQAAAAAAAABCksoAAAAAAAAAhJS/BmCLu5Imd6qWAumkS3mWyowB9Na9zNdK3h3U4TwDX1Xe\n",
       "x7Kt6crvEoDnxP93uakMAAAAAAAAQEhSGQAAAAAAAICQ8tccSUkEMjIvedvMOWf+cse8AE6UrRwo\n",
       "AL84m/Ziv13L+63L2L2ryt5iXjCLm8oAAAAAAAAAhCSVAQAAAAAAAAhJKgMAAAAAAAAQ0lMZgFCV\n",
       "viAZrXx3xgUAgMycV+E8vgPX4F1CDtYiGY3MSzeVAQAAAAAAAAhJKgMAAAAAAAAQUv4aKOW00iCn\n",
       "fd63fb5f7xbYQawHVnPmqcvYPdN9bzUv9jMGa3m/VGGuAqdxUxkAAAAAAACAkKQyAAAAAAAAACFJ\n",
       "ZQAAAAAAAABCeioDR+reYwuoa2V8Oi32nfZ5Wct8AirR4xGowhkL6E6coxM3lQEAAAAAAAAISSoD\n",
       "AAAAAAAAEFL+GoDp7sq6fFLmBQBgPuX1ejO+QGViGADU5qYyAAAAAAAAACFJZQAAAAAAAABCksoA\n",
       "AAAAAAAAhPRUhkN99rHRwwaoTG+u8xhz4LruY8GnTrFB7NvPGACM89sT0Mlp58DTPi9j3FQGAAAA\n",
       "AAAAICSpDAAAAAAAAEBI+WsAQlXKnGR8zpXPlPHzPvV2OTTl1wB67SPUZU/u7WmcMS+gLt+Ba/Au\n",
       "yeq034esxT46jeXIZ3FTGQAAAAAAAICQpDIAAAAAAAAAIeWvAYpRnoW37Z5zT5mrQBXiFXCCqmdK\n",
       "4F62Ne08xYnMe+ilwpp2UxkAAAAAAACAkKQyAAAAAAAAACFJZQAAAAAAAABCeioXkq1XCcxmjgOw\n",
       "g/0HqEwM+6pCLzKASsTVupwTqMJcZYT9aD83lQEAAAAAAAAISSoDAAAAAAAAEFL+GoA/osxITsoE\n",
       "AUBOzk5AFr4zMMK+RWWnzd/TPi+wn5vKAAAAAAAAAIQklQEAAAAAAAAISSoDAAAAAAAAENJTGYAt\n",
       "7vq+3NELBgCe02cNAL5n5V6aYZ/Wa5uMMqwN8ukej3mXMX/GTWUAAAAAAAAAQpLKAAAAAAAAAISU\n",
       "vwaOoJwTd8wL7pgXAHRjb4NerOm6do+dUp/wvt3rnvcZczpzUxkAAAAAAACAkKQyAAAAAAAAACFJ\n",
       "ZQAAAAAAAABCeioDFKMvB4zRLwygv7tY/0nsZybnC6AK8QqASuxbNd6Bm8oAAAAAAAAAhCSVAQAA\n",
       "AAAAAAgpfw1c11WjtAIAnMo+DYwSL3ozvlDH2+tVqywAWO/0/dZNZQAAAAAAAABCksoAAAAAAAAA\n",
       "hJS/ZrnTynPN/Lynl1LI6LT5DADs4cyRk/M5ABk4J8C4Luc36/48xpyM3FQGAAAAAAAAICSpDAAA\n",
       "AAAAAEBIUhkAAAAAAACAkJ7KpKA/QG/GFwAA8hg9n4/0IHTWB7Lq0kf1unp9FoARzpj92dtqclMZ\n",
       "AAAAAAAAgJCkMgAAAAAAAAAh5a/5FiUK5lHSA2A9+xbgzEVW9qh8xAtgB7GH05jzAHW4qQwAAAAA\n",
       "AABASFIZAAAAAAAAgJCkMgAAAAAAAAAhPZWBP6LXG7Pc9cy5Y44BAADQUYZesl1+58nwLoG1rHPY\n",
       "z01lAAAAAAAAAEKSygAAAAAAAACElL8GjtClnBOwnngBADBOKUoYt/u7hvUKsN7uWA8ruakMAAAA\n",
       "AAAAQEhSGQAAAAAAAICQ8tfAdV1KIDGX+QQwl7gKjBIvejO+ZGAejnn7PSm3WpexA6jj7ZidbY9w\n",
       "UxkAAAAAAACAkKQyAAAAAAAAACFJZQAAAAAAAABCeiozTM8cRu2u82+uAgBAHs7n3gFEdv9+MIs1\n",
       "DkB1T/fkLns5Y9xUBgAAAAAAACAkqQwAAAAAAABASPlr2lFuAYDulNerY+RcUmU8nbEA3if2PlNl\n",
       "b6Uua3Mt75eqquw/1hjsVyVefHJTGQAAAAAAAICQpDIAAAAAAAAAIUllAAAAAAAAAEJ6KkMSVWro\n",
       "67lRQ9VxqrIOAKAKeys8Z/0A19U/FlT9/YDeuq878jHnzmPMn3FTGQAAAAAAAICQpDIAAAAAAAAA\n",
       "IeWvk3L1HqAfZcX+mf2PyszfXsRsADiTM3Nr3BgAACAASURBVEAfzucAZNHlfOGmMgAAAAAAAAAh\n",
       "SWUAAAAAAAAAQpLKAAAAAAAAAIT0VAb4jbv+O5+q9j8AAACAk+m5C3V06Uf61NvxqspvoqfPC3ib\n",
       "m8oAAAAAAAAAhCSVAQAAAAAAAAgpf81ySgnR3awyK9YK0I24BgBAFs6mvSh5u5b3W5ex4455wSxu\n",
       "KgMAAAAAAAAQklQGAAAAAAAAIKT8NRxAiSfMAQBOdVqZr6qft+pZpepzj6o6nwCuq1cM6/RZsum+\n",
       "lzOm8xqrOserPjfjOq+7ztxUBgAAAAAAACAkqQwAAAAAAABASFIZAAAAAAAAgJCeynAoPQvqMnbw\n",
       "lV47dT0du5Vjbj7BWqvXWOezkvi0X6cxeHutdF6b7NdpbUIV1h30Zo2/r8I7d1MZAAAAAAAAgJCk\n",
       "MgAAAAAAAAAh5a+B8pRRgzHWCgBQnfMMUKE0JACcyj7dm5vKAAAAAAAAAIQklQEAAAAAAAAISSoD\n",
       "AAAAAAAAENJTGYB/06MOyEAsAoBf7InP6OXXi3UAMJe4CjzlpjIAAAAAAAAAIUllAAAAAAAAAELK\n",
       "X3Ndl9JQALOJqwD3VsbH02LvaZ+X/cw5IDKrlKo4w2qnl/21xvYzBlyXeUBdbioDAAAAAAAAEJJU\n",
       "BgAAAAAAACAkqQwAAAAAAABASE9lYLq3+9Pc9aD4pCcF6B0FrCfOAHdm9oyrGmf0zYN7Vdf0J2uc\n",
       "UeYKkNXTPbnLXs4YN5UBAAAAAAAACEkqAwAAAAAAABBS/hqAUJWyTFWec4SSMWt5v0BlYhhVmKvw\n",
       "XOf10+l7GwDAdZ13vnFTGQAAAAAAAICQpDIAAAAAAAAAIeWvk+hc3gieloA4rXQEcK9qLKj63NTh\n",
       "/DjGe4LnrB/gKWdh6MWarmvl2FX9t3mf8ezDTWUAAAAAAAAAQpLKAAAAAAAAAIQklQEAAAAAAAAI\n",
       "6anMdV1q2o/SUwwA4Hv03ZrntM/LfubcXL5f0sms+SzOAN2Jc0BlbioDAAAAAAAAEJJUBgAAAAAA\n",
       "ACCk/DVwXZfSKwCQmX0aGCVe9GZ8ycA8HOM9MUo7hHysXyByesx2UxkAAAAAAACAkKQyAAAAAAAA\n",
       "ACFJZQAAAAAAAABCeioDwG/oowN0c3r/H7hjv+e6xEfeVyH2VHhG4BfrlQzMw/2MASu5qQwAAAAA\n",
       "AABASFIZAAAAAAAAgJDy19CM8hZAZWIYnEnJWQDIwZ4MdOd3B4Dn3FQGAAAAAAAAICSpDAAAAAAA\n",
       "AEBIUhkAAAAAAACAkJ7KALCJPj4AQBbOJXUZO54ydwAA/t/d2ejT22elz2fafVZzUxkAAAAAAACA\n",
       "kKQyAAAAAAAAACHlrylNqSZ4X6d1l618yHd0+iwA0EmGs5NzgncA12UdMCbDvgVPmb8Aa7mpDAAA\n",
       "AAAAAEBIUhkAAAAAAACAkPLXUJzyVQBUNlKe7O7/c2fWHqhkGlgHUJ3viYjjwKin8UKcgd6sce64\n",
       "qQwAAAAAAABASFIZAAAAAAAAgJCkMgAAAAAAAAAhPZWB0Nt9E/T9AthPz5z+7Lfw1e5z7+q/B+Zc\n",
       "TrPGxfgCWYlP5zHmZOB3j3XcVAYAAAAAAAAgJKkMAAAAAAAAQEj5a0pTTgP4DqVQgAycZ4DVnHnq\n",
       "MnbcMS94qsq50xynCnMVOI2bygAAAAAAAACEJJUBAAAAAAAACEkqAwAAAAAAABDSUxmSqNLXhmeM\n",
       "LwDd2Nue03sN5hGL1vJ+9zMGcB7rvi5jd6/q95+qz/0v9u5gWXIUVwCoO6L+/5f7LarnLTKtbsoX\n",
       "sCTOWU9P2QYEeRVIsJKbygAAAAAAAACEJJUBAAAAAAAACCl/fQBlGoCnqpTtqfKcI8TstXxfoDIx\n",
       "jCpmzdVOZzz6WD0vO8d6axrWssaAbiqci06LvW4qAwAAAAAAABCSVAYAAAAAAAAgJKkMAAAAAAAA\n",
       "QEhPZSB0Wj8AADhBhZ5EsNvuc69zdk6d46M5l9OscVk5vuYOAH/CvvE+Y9D7XP82N5UBAAAAAAAA\n",
       "CEkqAwAAAAAAABBS/hoAoAHljb75JsxkPgGriTO9GV/gusQCAGpzUxkAAAAAAACAkKQyAAAAAAAA\n",
       "ACHlrwEASOWzJJxycABANc4z0Jsy1gCcyE1lAAAAAAAAAEKSygAAAAAAAACEJJUBAAAAAAAACOmp\n",
       "DAAAAAAP6a0KwAk+97sMe13GZyIfZ7V53FQGAAAAAAAAICSpDAAAAAAAAEBI+WsASETZHoC1lL0C\n",
       "IDKyR6zeR/weAAAgKzeVAQAAAAAAAAhJKgMAAAAAAAAQklQGAAAAAAAAIKSnMgD8Q59NWE+fQGA3\n",
       "+zu7mXN1jJxLnF0AAMhs53nVTWUAAAAAAAAAQpLKAAAAAAAAAISUvwYA/oiSjgBUp5wtfHPGG/sG\n",
       "vhMAcCrnINxUBgAAAAAAACAkqQwAAAAAAABASFIZAAAAAAAAgJCeygCT6S0B96wNrksfU+A5+wjk\n",
       "MGsvz7CmR97F2QV4KkOcA4CZ3FQGAAAAAAAAICSpDAAAAAAAAEDo19sPwDgll6AGaxPuzVwb9sS6\n",
       "Mo6V+bSXMoAwxlp5zrdbq+q3fDovqr4vAAD9vP1bx01lAAAAAAAAAEKSygAAAAAAAACE/rquX3+/\n",
       "/RAA3Hu7nAUA64n1AES0aHjG3tpLxnWQ8Zk68X2pqsr+Y43B+6rEi09uKgMAAAAAAAAQklQGAAAA\n",
       "AAAAICSpDAAAAAAAAEBIT+UXVK2VXvW5AQB+Ss+pMb4TAG+w/wAAwHpuKgMAAAAAAAAQklQGAAAA\n",
       "AAAAIKT8NQD8kPYAXJeyi7xPLAJGiRdUZv4CAOTlrJbTrHFxUxkAAAAAAACAkKQyAAAAAAAAACFJ\n",
       "ZQAAAAAAAABCeioDHEp/CxhjrVCZ+ctu5hz097nOV65xMQUAAPJwUxkAAAAAAACAkKQyAAAAAAAA\n",
       "ACHlrwEIKTdHNzvLNQIA8Gec1aAufz8AgP7cVAYAAAAAAAAgJKkMAAAAAAAAQEhSGQAAAAAAAICQ\n",
       "nsoAQDn67TGT+QQ1nNar8bT3pY5Z++buOX737+3894Hz2MsB6MZNZQAAAAAAAABCksoAAAAAAAAA\n",
       "hJS/BihGmVYYo9QYUIV49Zxvx27m3HN+x7CStblftjVtDgBQXYW9zE1lAAAAAAAAAEKSygAAAAAA\n",
       "AACElL+GQiqUP6AXc+65ld+u07hkK5nGc53mJXRnvZKBM0Bv4gycx2/gGnxLsjrtbGgtUpWbygAA\n",
       "AAAAAACEJJUBAAAAAAAACEkqAwAAAAAAABDSUxkOoEfDeX05gOfECwBGOWeDdQB/wm+NfMQwYDax\n",
       "ns7cVAYAAAAAAAAgJKkMAAAAAAAAQEj5a4BDKfFEFW/P1bf//W4yloHK+EzUJF6s5ftCDrP2zZE1\n",
       "vXrdOwMAKzm7ANCNm8oAAAAAAAAAhCSVAQAAAAAAAAhJKgMAAAAAAAAQ0lMZ+CN6TtVgnIDKxLAa\n",
       "9Ih7buccnzlOxpyMzMu1fN/3GQPIaeXatO7rMnb3qv7Gr/rcp7Hu9nJTGQAAAAAAAICQpDIAAAAA\n",
       "AAAAIeWv4R/KWcBzK9fP0/9vaxrgOeWj6M45Ab6J/b4BAHnZo+A562ceN5UBAAAAAAAACEkqAwAA\n",
       "AAAAABCSVAYAAAAAAAAgpKcyAFCe3igAdYjZz/l2zKS3OJ2IjwAA67mpDAAAAAAAAEBIUhkAAAAA\n",
       "AACAkPLXQGikfJQSUwC9iOs5rCxJqtwpfNsd+2b+e9Y0I+zvOc0aF+MLZCU+nceYk4HfSOu4qQwA\n",
       "AAAAAABASFIZAAAAAAAAgJDy11CcUg7PKMUCZHVafMrYauG0MWDMafPitPeFbvxORBynCnO1LmMH\n",
       "Y6wVOnFTGQAAAAAAAICQpDIAAAAAAAAAIUllAAAAAAAAAEJ6KgNQSqc+JJ3ehTHGfC39I+G5zutH\n",
       "7B3jO9Vl7HjK3AHeUPXcKWayWtW1wVncVAYAAAAAAAAgJKkMAAAAAAAAQEj56xcolUFG5iUzmU8A\n",
       "c4mrwCjxojfjSwbm4Zjd36lC2VRz516FsQM4wUg83h2zs+0RbioDAAAAAAAAEJJUBgAAAAAAACAk\n",
       "qQwAAAAAAABASE9l2slWYx5+Qg+mtU57X2C/J/14ov8dAOdxXn2m+9562rzI+L4Zn6kT35cq7vab\n",
       "TxnnrzUG76t6XnVTGQAAAAAAAICQpDIAAAAAAAAAIeWvAQAaqFo2BwD4zV7em/EFAKA6N5UBAAAA\n",
       "AAAACEkqAwAAAAAAABCSVAYAAAAAAAAgpKcy13Xp7QMAwB4rz53OtMB11YkFn8+Z8RlhlPkMNVTZ\n",
       "IznPafuItchTb88dN5UBAAAAAAAACEkqAwAAAAAAABBS/hqYbne5ktPKo3CWmSVNrBUgq87x6e3S\n",
       "VNDNrHixe22KBXCvyxnAGoc6rFe493RP7rKXM8ZNZQAAAAAAAABCksoAAAAAAAAAhJS/BoB/KIG0\n",
       "lu/LdeUsi5TxmQCoy5mnF+cEAAD4zU1lAAAAAAAAAEKSygAAAAAAAACEJJUBAAAAAAAACOmpTFr6\n",
       "FgHdrIxrYuY3/QyBKsQrqM05DCAnZyyAOsTsGt/ATWUAAAAAAAAAQpLKAAAAAAAAAIR+vf0AEMl2\n",
       "rR+yUF6vrpVjZR5wmgolgYD17mLBJ7GBmew/z/kdw0rW5rcM3+TtdX/6HAD4iQz7CPm4qQwAAAAA\n",
       "AABASFIZAAAAAAAAgJCkMgAAAAAAAAChv67r199vPwR1vd0bpRM9CgAAAPLwGw24rv2xQOwBYJQ9\n",
       "g93cVAYAAAAAAAAgJKkMAAAAAAAAQEj5awAAAI6mbBzXpb0T+1WIPRWeEYA87BvQm5vKAAAAAAAA\n",
       "AIQklQEAAAAAAAAIKX8NAInNLBukpCOQVef4pPwbzDUrXuxem2IBAORgT4Z7T8/ZnX/P881NZQAA\n",
       "AAAAAABCksoAAAAAAAAAhCSVAQAAAAAAAAjpqUxpemAAAAD8O33OfAO4LusAAICfcVMZAAAAAAAA\n",
       "gJCkMgAAAAAAAAAh5a8LUaYIAH6zJ0JdK9uXaI0CXFedWOA8s1eVeQEZWT/Aas5FMObtPdlNZQAA\n",
       "AAAAAABCksoAAAAAAAAAhCSVAQAAAAAAAAjpqUw7+i+s5fs+83avA4CIuL5Wp+97t5d9qvx+O+2c\n",
       "FzPPIM4zZGReruX7vs8YwHms+7qM3b2qv4srPLc5x25uKgMAAAAAAAAQklQGAAAAAAAAIKT8NTDd\n",
       "7tIgFUqRQAbWCgBQ3azzzO5SgUoTwr0na9p6AoD5np6ztco6i5vKAAAAAAAAAIQklQEAAAAAAAAI\n",
       "SSoDAAAAAAAAENJT+QB6aALddeqpJWYDEMm4R2R8Jt5Xte8xZCCuAk/ZNwFYzU1lAAAAAAAAAEKS\n",
       "ygAAAAAAAACElL8GAIBklL4ETqNkJwCZOZ/TmXMYMMpNZQAAAAAAAABCksoAAAAAAAAAhJS/hkKU\n",
       "IoH9nq67leu1UyxQQqyPTvMSurNeycAZoDdxBs5j3ed0Ny6fjBMZnHY2FDPJaGReuqkMAAAAAAAA\n",
       "QEhSGQAAAAAAAICQpDIAAAAAAAAAIT2VYYPTekK8TU8KOjGfycreBsAo5xkg0uVMKc4xylx5nzGA\n",
       "e0/35C57OWPcVAYAAAAAAAAgJKkMAAAAAAAAQEj56wMoPwA8VaUkUJXnHCFmr+X7ApWJYVQxa652\n",
       "OuPBqM6x3poGAP5EhXPRaecbN5UBAAAAAAAACEkqAwAAAAAAABCSVAYAAAAAAAAgpKcyKZxWdx5O\n",
       "VKEHBtwZ3aPMcUasPPM4TwGjZu5tYg/Aen5r1GCcAO5/H9wRI2v4HE83lQEAAAAAAAAISSoDAAAA\n",
       "AAAAEFL+urCMZcYyPtNMytgA0I29DYBR3X/vAc/NOlOKM2AddGd8mcl8yqnzuLipDAAAAAAAAEBI\n",
       "UhkAAAAAAACAkKQyAAAAAAAAACE9lUmhc415jG8GxgD2s+6AN+iTvlfVWD/63CPzqeo3ANbKEBs6\n",
       "7Ymd3gUy6rzGMsTjJ6o+N/fuxvOT8a3BTWUAAAAAAAAAQpLKAAAAAAAAAISUvwYAAIDDKTFYl7Hj\n",
       "KXMHYJyYCf1lLNOdrTy/m8oAAAAAAAAAhCSVAQAAAAAAAAgpf00Kyof0ZnzpzhznuvKVowHOJBYx\n",
       "YvTsMjKfnIPYzZzjRPZ34DT2e8jJTWUAAAAAAAAAQpLKAAAAAAAAAIQklQEAAAAAAAAI6alMaXor\n",
       "wFyn9Wk67X0BgDM58/gG9PJ0PlsHVPk7mrlKFeYqcBo3lQEAAAAAAAAISSoDAAAAAAAAEFL+Griu\n",
       "q04JJGownwDmEleBUeJFb8aXDMzDMbu/U4UyvObOvQpjB3CCkXi8O2Zn2yPcVAYAAAAAAAAgJKkM\n",
       "AAAAAAAAQEhSGQAAAAAAAICQnspAaKTXzcx+ONn6AwCcSJ8z6M8678UZmhHWPfATYkhdzgnAnapx\n",
       "ffS5xb513FQGAAAAAAAAICSpDAAAAAAAAEBI+WsAjlC1rEtGGb9lxmcC4N7K9imj/19Vy6HZ75ip\n",
       "6jqAO+JjTuIMAPTipjIAAAAAAAAAIUllAAAAAAAAAEKSygAAAAAAAACE9FQuRB8SqEEvJ7i3soem\n",
       "NcZPmE9Qw2lnrNPel/PsnuPWFLCbuANAN24qAwAAAAAAABCSVAYAAAAAAAAgpPw1P6JcJAAAlShD\n",
       "SFZ+WwFwXc4qAEBebioDAAAAAAAAEJJUBgAAAAAAACCk/DUQUnIJAPpRYhe+7T73OmezmzmX06xx\n",
       "Mb5AVuLTeYw5Gfi7x5gn38lNZQAAAAAAAABCksoAAAAAAAAAhCSVAQAAAAAAAAjpqQzwEr0dmOmu\n",
       "Z80ncwwA9tNXDsjCb1BG2LeozPwFWMtNZQAAAAAAAABCksoAAAAAAAAAhJS/5kgjpVCUSwG6E+dY\n",
       "zRyju05lRDu9y9t8SwBYz3679hv4vlTV/e8Q1iZvc1MZAAAAAAAAgJCkMgAAAAAAAAAhSWUAAAAA\n",
       "AAAAQnoqwwG695IYcXq/CXOAUeYK0M1pZ4Cq71t1/6n63KOqzif26r4OqEsMY4QYxnX1jhdV53jV\n",
       "576u3vMJ3FQGAAAAAAAAICSpDAAAAAAAAEBI+WtCp5VpmPW+M0tznDYGAMB+lcuKwW7O5wBk4PwG\n",
       "47qc31auezElJ+NCRm4qAwAAAAAAABCSVAYAAAAAAAAgJKkMAAAAAAAAQEhPZSikex+FLj1OgHHW\n",
       "fT7d9xqsO6zzUb4TAFCdsz9VmKt7Vf2tM/rc5tM6bioDAAAAAAAAEJJUBgAAAAAAACCk/DUQqloG\n",
       "AwCIKQMF33afe52zc+ocH825nGaNy8rxNXcA+BP2jfcZg97n+pmefCc3lQEAAAAAAAAISSoDAAAA\n",
       "AAAAEFL+GoAjKP0yT8ZvmfGZAMirajk0+x0rmV++AQDAv3FWwk1lAAAAAAAAAEKSygAAAAAAAACE\n",
       "JJUBAAAAAAAACOmpDPyIPgp0sns+Wz/nMeZr+5hW7ZEKGXReP2Iv3Znja3WOjwBvEFfhnrVBBW4q\n",
       "AwAAAAAAABCSVAYAAAAAAAAgpPw1AADlrCz1qYwo1HG3Xj9Zv8xkj4CcrM1vGb6JUq4AdWXYR8jH\n",
       "TWUAAAAAAAAAQpLKAAAAAAAAAIQklQEAAAAAAAAI/Xr7AYB36GtTl7GDb/q8nGfl+Jo7QFb2Oyrz\n",
       "O4aVzCfskcBqp8WZ3e922ve9U+EbuKkMAAAAAAAAQEhSGQAAAAAAAIDQX9f16++3HwKgkwplKqA6\n",
       "5ROZyXyCGk47Y532vtQxa9/cPcfv/r2d/z5wHns5ALO9vbe4qQwAAAAAAABASFIZAAAAAAAAgJCk\n",
       "MgAAAAAAAAAhPZUBXqKHJ3x7uy8I8I6RPbHqvimuPR+7qmMOAEBezucAz7mpDAAAAAAAAEBIUhkA\n",
       "AAAAAACAkPLXAMD/UwZqHt8SclBCuYaqMbPqcwOcwBmAEfZyuls5x60fOI+bygAAAAAAAACEJJUB\n",
       "AAAAAAAACCl/DYdSBgroRMklgDrE7Od8O2bym5BOxEcAgPXcVAYAAAAAAAAgJKkMAAAAAAAAQEhS\n",
       "GQAAAAAAAICQnsoAL5nVw0zvKDoxnwH6eXrm0e8VAAAA8nBTGQAAAAAAAICQpDIAAAAAAAAAIeWv\n",
       "AQD+xWhJbmVayUhJeXYz54CZxBQAAMjDTWUAAAAAAAAAQpLKAAAAAAAAAIQklQEAAAAAAAAI6al8\n",
       "AD0eAeoQswGoxL7FSvrpAsA4+2Zdxo6ZzCdWclMZAAAAAAAAgJCkMgAAAAAAAAAh5a8BAEilUznd\n",
       "Tu8CyqiRkXm5lu8LcE985E6VebH7d2rV38VVnxtWclMZAAAAAAAAgJCkMgAAAAAAAAAhSWUAAAAA\n",
       "AAAAQnoqA8AmerHAt5GeU7v7UlXpgwUrWQdQm3Mn4jgw6mm8EGcAzuOmMgAAAAAAAAAhSWUAAAAA\n",
       "AAAAQspfA1BKp/JKnd6FMcZ8LaU+4bnO6+ftEvqdviU5OV8AUImzEtwbWRvWD3d2zgs3lQEAAAAA\n",
       "AAAISSoDAAAAAAAAEFL+GgrpXtZM+Q46WbleO8UC6z6fp/Or07zszrrDeh1T5TtVXdNVn5sxVdYP\n",
       "MI91n9PduHwyTrDf2zHz7X//qdHn9lvjmZHv66YyAAAAAAAAACFJZQAAAAAAAABCksoAAAAAAAAA\n",
       "hPRUBv6IfgQ1VBinkb4+15Xz2QGgiqq9smCUOb6W7wv910GFvx9wnu7rjnzMubqejp0xf8ZNZQAA\n",
       "AAAAAABCksoAAAAAAAAAhJS/hgMo5YA5sJbv24vyb0BlYtheVc8Ao89tPgGViWGMqLqXQ3fWJuTk\n",
       "pjIAAAAAAAAAIUllAAAAAAAAAEKSygAAAAAAAACE9FTmui49CgAA2MO5cx7fEoAsZvUvtrexml7b\n",
       "APCcm8oAAAAAAAAAhCSVAQAAAAAAAAgpf30AZV2A7jqVSBOz1/J9gcrEMKpQBhee6xzrrWkA4E9U\n",
       "OBeddr5xUxkAAAAAAACAkKQyAAAAAAAAACFJZQAAAAAAAABCeiqz3Gk15We+b4WeAae5G99Pxgl+\n",
       "E8MAnjvtDA0AjHNOgP46/01FDIO63FQGAAAAAAAAICSpDAAAAAAAAEBI+WuAYt4uf6NEzXnennNP\n",
       "matAFeIV1KEdznNVz5TAvWxr2nkKoDZxvMY3cFMZAAAAAAAAgJCkMgAAAAAAAAAh5a9pJ1v5HQDg\n",
       "XJ3OJUq+ztNpXsDbKpSIq8z3fZ8xAKhDzL5X9fdP1eeGldxUBgAAAAAAACAkqQwAAAAAAABASFIZ\n",
       "AAAAAAAAgJCeygCQmH48wAk696oSx5/rPC943+61KRYAQA72ZLj39PeX321ncVMZAAAAAAAAgJCk\n",
       "MgAAAAAAAAAh5a8BgNSUpgKqEK+AEyhxCDDG2RCAbtxUBgAAAAAAACAkqQwAAAAAAABASFIZAAAA\n",
       "AAAAgJCeyhDQ9wQAgH+jryh3zAsAYAdnDvjmb/qwlpvKAAAAAAAAAIQklQEAAAAAAAAIKX99ICUg\n",
       "AKAf+/s334SZzCegEiVR87GPwD1rAwDqcFMZAAAAAAAAgJCkMgAAAAAAAAAhSWUAAAAAAAAAQnoq\n",
       "J6WfyDffBO5ZG3RiPlOZ+TtPhm+pHykAnMkZoI8MZ8oKfCeA9bqcL9xUBgAAAAAAACAkqQwAAAAA\n",
       "AABASPlrXtHlqv9TysoAsMPp+y2McjYDAAA68HcAYCU3lQEAAAAAAAAISSoDAAAAAAAAEFL+mh9R\n",
       "TgNgLnF1Ld8XUOqarOxRUIN9hNXMMQD4zW+kfNxUBgAAAAAAACAkqQwAAAAAAABASFIZAAAAAAAA\n",
       "gJCeykApegvBWtbYPL4lq+ktNMZ3qqFqzKz63ACrZYiPzgAwT4Y1zTMrx868gPO4qQwAAAAAAABA\n",
       "SFIZAAAAAAAAgJDy11zXpVQFAAB7KL8GrFYlFijNSyez5nOV9QvwlDgHVOamMgAAAAAAAAAhSWUA\n",
       "AAAAAAAAQpLKAAAAAAAAAIT0VOYVp/eOytg7I+MzwR1zFTiR2PfNNwEAAFbwW4NR5gqncVMZAAAA\n",
       "AAAAgJCkMgAAAAAAAAAh5a8BXjKrDLwyK3RiPsOZ7tb+fxEb+ju9ZQ4AAPP5uwPAc24qAwAAAAAA\n",
       "ABCSVAYAAAAAAAAg9OvtB+CeMhw8Ze7UYVwAIC+ll9/nmwMAMJszJvCGLn9jcFMZAAAAAAAAgJCk\n",
       "MgAAAAAAAAAhSWUAAAAAAAAAQnoqJ1W1njqwn3jR28w+6V16dwDsMCtGzozjp7FvsdLutSkWUIXY\n",
       "C3RnT4Z7T88Azg5junwXN5UBAAAAAAAACEkqAwAAAAAAABD667p+/f32Q/C+zmU/Or9bd8YOAPpZ\n",
       "ub+fdnY47X1hVJW1oVTgXlXmRVWz5rNxYjWxF4DK3j4ruakMAAAAAAAAQEhSGQAAAAAAAICQpDIA\n",
       "AAAAAAAAIT2VAQCggbf76tzJ+EwAAADAGv4OkNOscXFTGQAAAAAAAICQpDIAAAAAAAAAIeWvGaZs\n",
       "ATBKvID+Pte5Nc51mRcAvMP+U5exA+sAgDrcVAYAAAAAAAAgJKkMAAAAAAAAQEhSGQAAAAAAAICQ\n",
       "nsq0ow8JGekxDMwkptTR6VxyN+8+VX6/nTrNC3ibPXEt3/d9xgCA6qr+/qn63LCSm8oAAAAAAAAA\n",
       "hCSVAQAAAAAAAAj9evsBeG6kBOF17S3LoCwTzGVNAasp57SW7wlAZfax9xmDnJyh2c3fh6is6lyt\n",
       "+tywkpvKAAAAAAAAAIQklQEAAAAAAAAI/XVdv/5++yEgA6WLUErouZXr5+n/tzUN8Jw9EeA8Yj8A\n",
       "vMMeDFThpjIAAAAAAAAAIUllAAAAAAAAAEKSygAAAAAAAACE9FSGQIZeFnrCAlVkiJnAM9YvjHM+\n",
       "B4AzOQPUZez+W6ffhN4F1nJTGQAAAAAAAICQpDIAAAAAAAAAIeWvgdDuEhvK0ZCRUjOcxpzvz36L\n",
       "df7t7pvcmfWdjAG7mXM5zRqXleNrV3qFvwAAIABJREFU7gA/IYacx5jXUHWcRp/b3z3WcVMZAAAA\n",
       "AAAAgJCkMgAAAAAAAAAhSWUAAAAAAAAAQnoqAxyqau8M2M1aoTLzl93MOWAmMQUAgLc4i35zUxkA\n",
       "AAAAAACAkKQyAAAAAAAAACHlrwGY7q40yKfTS4UAzJaxLFPGZwLmss7ZzZwDAMjLWS2nWePipjIA\n",
       "AAAAAAAAIUllAAAAAAAAAEKSygAAAAAAAACE9FSmPTX8AcaJmfP4lqz2OcfMr3u+EwDs5ywMvVjT\n",
       "da0cO/MCzuOmMgAAAAAAAAAhSWUAAAAAAAAAQspfA9d1KVcCAJnZp7/5JnDP2ujN+JKBeThm93fS\n",
       "8qMuY5fP3fq9Y6ywJ55nd8zOtke4qQwAAAAAAABASFIZAAAAAAAAgJDy1wAAtJCtJNBPdHoXgBFK\n",
       "B67l+wIAAD/lpjIAAAAAAAAAIUllAAAAAAAAAEKSygAAAAAAAACE9FQGSGx37zM9PKEGfRF7MZ4A\n",
       "RJzPn+m+t5oX7zMGa/m+VNV9/wHmqRov3FQGAAAAAAAAICSpDAAAAAAAAEBI+WsAgAmUaGNE1fJG\n",
       "ABFxDQB+85sQgO7cVAYAAAAAAAAgJKkMAAAAAAAAQEhSGQAAAAAAAICQnsq0o38JAN3pX1lH53OJ\n",
       "efhc1XlhzMmo+7ysGi+gO2sTuNP9XPJU1ZhZ9blhJTeVAQAAAAAAAAhJKgMAAAAAAAAQUv46KaUy\n",
       "lJeAUeJFHeIa9CYe9yJmA8CZnAH6cD4HgLncVAYAAAAAAAAgJKkMAAAAAAAAQEhSGQAAAAAAAICQ\n",
       "nsoAAPCH9GcDAADgv+jTDnTipjIAAAAAAAAAIUllAAAAAAAAAELKXzNMmUcA4FRKlgFAXvZpAABY\n",
       "z01lAAAAAAAAAEKSygAAAAAAAACElL8GAFrStqGGp+O0cnzNHai9DpTBBeuA2nH8idPeFzKw7qA3\n",
       "a5w7bioDAAAAAAAAEJJUBgAAAAAAACAkqQwAAAAAAABASE/lQvREghr0m4B7M9eGPZGZzCeo4bQz\n",
       "1mnv20n3sZu1b+7+Tt3HBVayfp7x3QCY7e29xU1lAAAAAAAAAEKSygAAAAAAAACElL8mpBTkf3u7\n",
       "1ADr3Y3xJ2MOUIe9GwAAgOz8bR7IyE1lAAAAAAAAAEKSygAAAAAAAACEJJUBAAAAAAAACOmpDBxJ\n",
       "T00gq6fxaeS/Oy32nfa+rGU+AfAT9hG4Z20AQB1uKgMAAAAAAAAQklQGAAAAAAAAIKT8NQC8RJkv\n",
       "mOtzTVVeT53ehRo6zzn7Ld2Z4wDrdT4rrXS3R33yLeE3cYYK3FQGAAAAAAAAICSpDAAAAAAAAEBI\n",
       "UhkAAAAAAACAkJ7KAMXorwFj9Bes4ek4rRxfcwdqc1ZiJXsEVZw2V0973yrsyQB12Vu546YyAAAA\n",
       "AAAAACFJZQAAAAAAAABCyl8DwCZKf+2lTE8NI+NkLGE/6w5qc+5EHAdGZWxJBEBObioDAAAAAAAA\n",
       "EJJUBgAAAAAAACCk/DUAQHKnlbA87X2hCiUO4TzW/XPOM/P4lmQkPlKZuEon4vFebioDAAAAAAAA\n",
       "EJJUBgAAAAAAACAkqQwAAAAAAABASE9lylAb/54eGFCH9bqXfaOGkXG6+9/cmTW+5g5YB1Cdcyen\n",
       "xfHT3pcx5sWYp9/J94XerPG5upzP3VQGAAAAAAAAICSpDAAAAAAAAEBI+WsgjS4lIKpQwuTb7m9i\n",
       "DM5jzMV6YD+xl926z7lOe/nIu3R6X4AMxFWAuXbGVTeVAQAAAAAAAAhJKgMAAAAAAAAQklQGAAAA\n",
       "AAAAIKSnMgAcama/v+69A3nGvABOpE8gQE7Opr3Yb9fyfes6fezEeljLTWUAAAAAAAAAQpLKAAAA\n",
       "AAAAAISUv4ZClO8Aujm9LFMn9iiow3olA2eA3sQZgBzu4vEn8ZkMTjsbvn1Wevvfpy43lQEAAAAA\n",
       "AAAISSoDAAAAAAAAEJJUBgAAAAAAACCkpzJscFpPiLfpCQGwnr2NO+YFcMf5HAB+sye+zxjAPb/n\n",
       "GeGmMgAAAAAAAAAhSWUAAAAAAAAAQspfww8ol9Kfsh8A9jsAAADe5W90AO9zUxkAAAAAAACAkKQy\n",
       "AAAAAAAAACHlr6GQjOVHZz6TMjZklHHddWLd52PO92fdYZ2PqfKdrGlGVJnPPGN8gYhzAlWYq3tV\n",
       "PTuMPrf5tI6bygAAAAAAAACEJJUBAAAAAAAACEkqAwAAAAAAABDSU7mwjHXvMz7TTGrx81T3tQHU\n",
       "ZW9jlLkCZDzTZnwmAPiJu73tjv0OgDsrfyO5qQwAAAAAAABASFIZAAAAAAAAgJDy18CRlMkDsnoa\n",
       "n0b+u9Ni32nvCwAA1TizA0AdbioDAAAAAAAAEJJUBgAAAAAAACAkqQwAAAAAAABASE9lXvHZL+W0\n",
       "Xin6xQCww+n7LYxyNgMAAP7H7wNGmSucxk1lAAAAAAAAAEKSygAAAAAAAACElL8GAGhgpOTSaWWZ\n",
       "Tntf1jKfgNXEmd6MLwAA1bmpDAAAAAAAAEBIUhkAAAAAAACAkKQyAAAAAAAAACE9lZvRo+f7G5z2\n",
       "/t2dNsdPe19gjNhQx8i5pMp43j3np4zPDQAwm789AXeq/LYDeMpNZQAAAAAAAABCksoAAAAAAAAA\n",
       "hJS/Bv6IEk8o5QP7nRZ7T3tfAADgZ/ytAuBM4v9ebioDAAAAAAAAEJJUBgAAAAAAACCk/DXwirfL\n",
       "Urz97wNEVsan02Lfae8LAP+jlQRQhTM70J04RyduKgMAAAAAAAAQklQGAAAAAAAAICSpDAAAAAAA\n",
       "AEBIT+Vm1OcHgHFP982Z+62ehwAAAPwbf/MFqOPtmL3y33dTGQAAAAAAAICQpDIAAAAAAAAAIeWv\n",
       "AeAlb5dCYT9jrtw3ZNV5bYq9dGeOA1BJ53Mn/IS1QQVuKgMAAAAAAAAQklQGAAAAAAAAICSpDAAA\n",
       "AAAAAEBIT+Uk1MsHIIPTevI9fd+R/+60b8l+zo9jfKcaxMycrB/gKXEderGm61o5duYFo+7myidz\n",
       "pwY3lQEAAAAAAAAISSoDAAAAAAAAEFL+GgB+SLmf3kbHV4lQRogXdGeO1zBznIw5u5lzQFZ+EwLQ\n",
       "zefe5qYyAAAAAAAAACFJZQAAAAAAAABCksoAAAAAAAAAhPRUbkZvoW++SV3GDljtaZwZ+e/0YgYA\n",
       "AGAGfyPjqZVzx7yEe2+vjZX/vpvKAAAAAAAAAIQklQEAAAAAAAAIKX8NcKi3y3BAFcpYU5lYz27m\n",
       "3HmM+Xl2nnnMLwAAeM/nedxNZQAAAAAAAABCksoAAAAAAAAAhJS/hgMoGaYsLTBOvAAqE8OA3fze\n",
       "hHFv79PWK+z39rpnP2PO/7V3b7mRI0cbQEuAFurF9TIbkB9m/F9K/DzZFJPMiDznzQN3iZV3ViAj\n",
       "OnNTGQAAAAAAAIBIUBkAAAAAAACASFAZAAAAAAAAgEhNZdpTLwaA5OweMfLvRj9brR0AAAD+G79v\n",
       "ctbMsWNcwrGn58bMv++mMgAAAAAAAACRoDIAAAAAAAAAkfTXAERPp+oYVeU5R0iFPJf2BSrvGdYw\n",
       "qjBWOcvY6d0GlffgO1Vtp6rPDeyp837LvXbb/9xUBgAAAAAAACASVAYAAAAAAAAgElQGAAAAAAAA\n",
       "IFJTmWWpawDHjuo0vDNf1jRzXav62TPtVtOkqpF+Gln3jv7dWcYOdzPmoA5n8fOqnimhqtnniwpz\n",
       "2hkLoA5rdo02cFMZAAAAAAAAgEhQGQAAAAAAAIBI+msAtlAhfUgVK7blis8EwLEr1+yzn1UhZecR\n",
       "+x1XqjoP4Ij1cU3WGQDoxU1lAAAAAAAAACJBZQAAAAAAAAAiQWUAAAAAAAAAIjWVAS6mlhPMpzYX\n",
       "VzKeoIbdzli7fd8rabsa7u4n4wK4m3UHgKs9vbe4qQwAAAAAAABAJKgMAAAAAAAAQCT9NUt4+so+\n",
       "AOuyRwBVWK+AHSgbwQh7IpgHAP9hPazrve/cVAYAAAAAAAAgElQGAAAAAAAAIJL+elHSAXCWsbMf\n",
       "fU4nxjPs6Wju/5PZa4P0rtc525b6AOB+1l5tAABcr8v5wk1lAAAAAAAAACJBZQAAAAAAAAAiQWUA\n",
       "AAAAAAAAIjWVoRC1RqGOmfO101rQpZ5IJ2fHV6dxCd2Zr2O001zOAL2ZP7Af835NR/3yTj+xgt3O\n",
       "hk+vmU///bOqPncVI+3rpjIAAAAAAAAAkaAyAAAAAAAAAJH01wAXk4YDjpkbrGq3NFtADfbNuvRd\n",
       "Hc4AAAAwzk1lAAAAAAAAACJBZQAAAAAAAAAiQWUAAAAAAAAAIjWV4QfUyurvqI/f6XM4pkYdwHnO\n",
       "mQAAsK/Ov6ns9q6z2/elNzeVAQAAAAAAAIgElQEAAAAAAACIpL9muqrpHc4+95Xft3OaE+B5M9er\n",
       "n3wWfRgXNegnAACqufs3s91+o9vt++6u0zthp+8CK3JTGQAAAAAAAIBIUBkAAAAAAACASPprALYg\n",
       "/c11VmzLFZ8JgHVVTelov4O5zDEAAMjcVAYAAAAAAAAgElQGAAAAAAAAIBJUBgAAAAAAACBSUxmA\n",
       "P6LO2H7UnQSYy3oFAFSz2nui8xQAzOemMgAAAAAAAACRoDIAAAAAAAAAkfTXQCnSGcFc5th1tCWz\n",
       "rZZycFXaqYaqa2bV5wYA/mIvp7uZY9z8gf24qQwAAAAAAABAJKgMAAAAAAAAQCSoDAAAAAAAAECk\n",
       "pjJbUu8B4Nq10LrKEeMC2JE63gAwn/12bhtoX6rq/juEucnT3FQGAAAAAAAAIBJUBgAAAAAAACCS\n",
       "/hq43N1pOKT9gDHmCrAq6xMw6qr14u7UiN1TMcJZZ+a0+QT8hDUEjp09Zx/NqXfmWB9uKgMAAAAA\n",
       "AAAQCSoDAAAAAAAAEAkqAwAAAAAAABCpqQzAH1F7Zk3qlwDAmpydAADu4dwFMJebygAAAAAAAABE\n",
       "gsoAAAAAAAAARJ9PPwAk7+lKpCqBY1L7wDFzAwC4g3dXqjBWGdHpParTd4EjxjhwNzeVAQAAAAAA\n",
       "AIgElQEAAAAAAACIPl6vz6+nHwKANUmjc97MtuvUL1LwAdyv0z5CXc4AvVlnYD/egWvQlqxqt7Oh\n",
       "uciKRsalm8oAAAAAAAAARILKAAAAAAAAAESCygAAAAAAAABEairDDXarCQFcR40VYAedz0rWcVhz\n",
       "Htz9TCu2AQDsyJ4Mx86+l3d+n+c7N5UBAAAAAAAAiASVAQAAAAAAAIikv96A9ANAd51SF1mz59K+\n",
       "QOU9Y8U1bMVn4nlXjYvK85W+Zo/LzuuqOQ1zmWNANxXORbutvW4qAwAAAAAAABAJKgMAAAAAAAAQ\n",
       "CSoDAAAAAAAAEKmpDEApnepUdPoujNHnc+vhVKi1A6vqPH+svXRnjHOWsQM8oeq505rJbCNzo+r8\n",
       "Ya47x4WbygAAAAAAAABEgsoAAAAAAAAARNJfL0o6jeM2eLdbm8AR60UdUtTcy9yoYaSfqvRlleeE\n",
       "EcYzjHPGg17M6T6cZ/ajzwHmclMZAAAAAAAAgEhQGQAAAAAAAIBIUBkAAAAAAACASE1lACK1aM6b\n",
       "2Xad+kW9MoD7ddpHqMsZoDfrDGcZO3V5B65BW8IazEVWNDIu3VQGAAAAAAAAIBJUBgAAAAAAACCS\n",
       "/hpgA1KqzKV9eb2k8QTWYC1ihLMLlRm/AADrclZb01X94qYyAAAAAAAAAJGgMgAAAAAAAACR9NcA\n",
       "/BEpTKQWBQAAAABgL24qAwAAAAAAABAJKgMAAAAAAAAQCSoDAAAAAAAAEKmpDAD/hRrS7MaY709d\n",
       "eGAF1iKowdkQAGoZ2bur7u+jz+1d45yR9nVTGQAAAAAAAIBIUBkAAAAAAACASPprAPhb1dQvUIkU\n",
       "RMDd7O/czZjrxdkFAICV3XledVMZAAAAAAAAgEhQGQAAAAAAAIBIUBkAAAAAAACASE1lSlOrCq61\n",
       "W72w3b4vALAnZ5669B1Hzo4L44kqv6MZq1RhrAK7cVMZAAAAAAAAgEhQGQAAAAAAAIBI+msAHnGU\n",
       "duvIVamDqqT5qmDFtlzxmQBYV9VUhfY7AAB25SwMz3NTGQAAAAAAAIBIUBkAAAAAAACASFAZAAAA\n",
       "AAAAgEhNZfhb1bpqXEddjvNmzp+zn21OA5xnTwTYj7UfAJ5hD+aIcXEdbXkdN5UBAAAAAAAAiASV\n",
       "AQAAAAAAAIikv96AFLDAWVVSg1R5zhHW7Lm0L1CZNYwqrhqrnc54MKrzWm9O96Z/gUo677edVOin\n",
       "3fY/N5UBAAAAAAAAiASVAQAAAAAAAIikvwaglE4pRTp9F4C7WUOvVSGtGHDMeghAJVXPnfZbjhgX\n",
       "7MZNZQAAAAAAAAAiQWUAAAAAAAAAIkFlAAAAAAAAACI1leFvVet5wApmzp+zn21OA5ynLhTAfqz9\n",
       "ALAu+zSwAjeVAQAAAAAAAIgElQEAAAAAAACIpL8G/oiUwjVU6KejtD1Hrnp2aYIA2JH9DwB+ZuZe\n",
       "usI+XeH3gxErtCXX0Z8c6b4ecy99fo6bygAAAAAAAABEgsoAAAAAAAAARILKAAAAAAAAAESfTz8A\n",
       "ANdT/wEAAAB+zvs1AKxLbeR7uakMAAAAAAAAQCSoDAAAAAAAAED08Xp9fj39EAD0cpR25J00JADX\n",
       "kvIJeIK1B4BR9oxj7+2iTQBYlZvKAAAAAAAAAESCygAAAAAAAABEgsoAAAAAAAAARJ9PP8CO1A8B\n",
       "AKAj9eDgeXe/b5rn9/J7AtRhvgKwo+773+6/e7ipDAAAAAAAAEAkqAwAAAAAAABA9PF6fX49/RCw\n",
       "gt3TFsBPzJw/Zz/bnAY4r3u6KgC+s/YDwLru3qedC56nD1iRm8oAAAAAAAAARILKAAAAAAAAAETS\n",
       "XwPwR6ReWTO19lG/vDv7nCt+393oA+jN3grAHZwpGTF6LjGe4HneI4C7uakMAAAAAAAAQCSoDAAA\n",
       "AAAAAEAkqAwAAAAAAABApKYyAFGV2iwrPufMZ1rx+1ah7hcAzGe/5ex51djp3QbeY3rzDgxU8vR+\n",
       "a13ro1NfjnwXN5UBAAAAAAAAiASVAQAAAAAAAIikvwbgfzyd+uVuu31fYE2dUiUBa3LmqUvfgXkA\n",
       "rMv6BOzGTWUAAAAAAAAAIkFlAAAAAAAAACJBZQAAAAAAAAAiNZUBNqWGJ4wxV66l5tS9jF8Arnbn\n",
       "Xm4fAwDgKc6i37mpDAAAAAAAAEAkqAwAAAAAAABAJP01wAak6phL+wKwCinm79X9DGA8AZVZwxjR\n",
       "fS+HqsxNWJObygAAAAAAAABEgsoAAAAAAAAARILKAAAAAAAAAERqKsMiqtSJUJOohqr9VGUeAEAV\n",
       "9lbgJ6whYB7AE8w77mbM1XW27/T5OW4qAwAAAAAAABAJKgMAAAAAAAAQSX/Nsqqm74W7SdVRx8x1\n",
       "rcuaeeV4Nje4mzF3naO2fDe7bbusqyvQlgDAE5zP96PPAeZyUxkAAAAAAACASFAZAAAAAAAAgEj6\n",
       "a4BipJCEMdJe9aZ/6cR4Pk/bcTdj7jzvMcxkbn43u03MaYDe7t5b7eU12sBNZQAAAAAAAAAiQWUA\n",
       "AAAAAAAAIkFlAAAAAAAAACI1lZupkHMdfmK3Mb7b9wXGWBt6qdKf6uYB3M/ae06VvRU4Zu0DoLuq\n",
       "51U3lQEAAAAAAACIBJUBAAAAAAAAiKS/ZktVUwvQm3EJAAAAc3jn7kWK7LltoH1hjL2F3bipDAAA\n",
       "AAAAAEAkqAwAAAAAAABAJKgMAAAAAAAAQKSmMsBD1KcBgHH2zbrO9l2XPldnDQAAgA7cVAYAAAAA\n",
       "AAAgElQGAAAAAAAAIJL+mktJ7QbHzA1gVV3SyzLf0V72zvgB7uacTXfGOOzHvKcbvztAH24qAwAA\n",
       "AAAAABAJKgMAAAAAAAAQCSoDAAAAAAAAEKmpDHAxtW/g2JVzQz0ermQ8QQ27nbF2+77wBGcAAAAY\n",
       "56YyAAAAAAAAAJGgMgAAAAAAAACR9NdMJ20blR2N339ifAMAP+UMDQDXsrfCOOUBnte5D6zHUJeb\n",
       "ygAAAAAAAABEgsoAAAAAAAAARJ9PPwDr6pxi4ypSdQBk9hFWZO8GANjT0Zmv6tmw6nNTx4rjafff\n",
       "GO6e9yMlAVfog93HBdzNTWUAAAAAAAAAIkFlAAAAAAAAACJBZQAAAAAAAAAiNZWJ1B8AAF4vNdvg\n",
       "CeYYAJA4J8zl/WdN+uBeM9v7ys82LuBebioDAAAAAAAAEAkqAwAAAAAAABB9vF6fX08/BKzgPbWN\n",
       "1Bn7kd6oF3Ma4Dx7IgAAwD28fwFVuKkMAAAAAAAAQCSoDAAAAAAAAEAkqAwAAAAAAABApKYysCW1\n",
       "SoBVzVyfdlv7dvu+APAf73ug/Q9YlTN7XfoOYD9uKgMAAAAAAAAQCSoDAAAAAAAAEEl/DRuQjkb6\n",
       "N2Cc9QKAUc7ZYB7An3j6XcN8BZjv6bUeZnJTGQAAAAAAAIBIUBkAAAAAAACASFAZAAAAAAAAgEhN\n",
       "ZeByT9eNUCMIYL6n13oA6nA+B5IuZ0rrHKOMFWBVZ/fkLns5Y9xUBgAAAAAAACASVAYAAAAAAAAg\n",
       "kv4aKE+KDRhjrgAA1VU9z0h3CsfOzGnzCQDWcbQvv7NP9+GmMgAAAAAAAACRoDIAAAAAAAAAkfTX\n",
       "zUgBRHe7jfHdvi/PM+Zq0E8wrmqqXACAXTm/AdBd1d/23FQGAAAAAAAAIBJUBgAAAAAAACASVAYA\n",
       "AAAAAAAgUlOZ9qrmpkffAeuyPsF55g8A9Ge/Z1XqNQPAeW4qAwAAAAAAABAJKgMAAAAAAAAQSX9d\n",
       "iPQsrJg+6spnMsYBnjd7r7HWP08fsOKZckVV2smcBqqsV9RljNXlnEAVxuq9qq7ro89tPM3jpjIA\n",
       "AAAAAAAAkaAyAAAAAAAAAJGgMgAAAAAAAACRmsrAI6rWbQCYzfoIAAAA/51352Nqya7HWKUTN5UB\n",
       "AAAAAAAAiASVAQAAAAAAAIikv2YJUkD0pn8BAGAdo+dz6ROBs/wOcC3rMbAb+0gvR/35Tv/W4KYy\n",
       "AAAAAAAAAJGgMgAAAAAAAACRoDIAAAAAAAAAkZrKwOWervWj5gYce3puAgD8VNXzjHcUOFZ1Tr8z\n",
       "xwGo7uye3GUvZ4ybygAAAAAAAABEgsoAAAAAAAAARNJfA9FI+qYrUzxJlQHwPKn7gG66r2vO0Izo\n",
       "Pg8AABhX9Ww4+tzekeZxUxkAAAAAAACASFAZAAAAAAAAgEj6a+CPSB1RQ4V+OkpXcmTFZ4e7VZjT\n",
       "wJqqpjWDUcb4XNoX5s4DcwyOmRu9+E2DmawX93JTGQAAAAAAAIBIUBkAAAAAAACASFAZAAAAAAAA\n",
       "gEhNZSAaqUegZgEA1KKeFXx395n2yr9nTjPCe9uaruoX/Qusyvq0H33OCrwjzeOmMgAAAAAAAACR\n",
       "oDIAAAAAAAAAkfTXwOv1kpoEAFZmn/5Om8Axc6M3/csKjMMxT5dW0Cd16Lv1WOeAZPc1201lAAAA\n",
       "AAAAACJBZQAAAAAAAAAiQWUAAAAAAAAAIjWVYVO75/4HAOAZV9aoU+8OgNfLfrAqvz0BQC9uKgMA\n",
       "AAAAAAAQCSoDAAAAAAAAEEl/DRuQBkrKJWCc9QKozBp2L+dsMA9Ylz2REdYw4Gr2HzpzUxkAAAAA\n",
       "AACASFAZAAAAAAAAgEj6a2hG2h6gMmsY7Olo7r+zFgDAfFJ2At353QHgPDeVAQAAAAAAAIgElQEA\n",
       "AAAAAACIBJUBAAAAAAAAiNRUhuLUOwKgMvWsAOB63hNxxgJGnV0vrDMA+3FTGQAAAAAAAIBIUBkA\n",
       "AAAAAACASPprKKR7Whkp2mA/5v16pD6D/szXMdppLmeA3swfgDUcrcfvrM+sYLezobMSKxoZl24q\n",
       "AwAAAAAAABAJKgMAAAAAAAAQCSoDAAAAAAAAEKmpzHRV6wOsUFNyt1oSQF1V13rA/F2VflmT8zkA\n",
       "K3BOgHHOb+uZuYZ1Wh87fRf6cFMZAAAAAAAAgEhQGQAAAAAAAIBI+mtYhHQWXElqHwAA+BnvaKzA\n",
       "OHze3X2gz8E84H7G3H70+TluKgMAAAAAAAAQCSoDAAAAAAAAEAkqAwAAAAAAABCpqQwPkK8fgDuo\n",
       "r05nV56nnM0AAOB/eZeEMd4l97P7+uimMgAAAAAAAACRoDIAAAAAAAAAkfTXcIPdUyIA50mjw6rs\n",
       "bQCMcp4BAFbhXALH/M7DCDeVAQAAAAAAAIgElQEAAAAAAACIpL9mut1Silz5faWcAKrYba0HmM26\n",
       "uibncwBW4JwA45zf9tJpfez0XejDTWUAAAAAAAAAIkFlAAAAAAAAACJBZQAAAAAAAAAiNZWZrnPu\n",
       "/87fjb8c9fE7fQ7H1C3qo9N+1+m7AAAA7GK33xh2+75ADW4qAwAAAAAAABAJKgMAAAAAAAAQSX9d\n",
       "2IrpG1d8pitJOwJAN/Y2AEZ1f98DznOmhOtU3m+tBf+scv+yHuNpTZ37xU1lAAAAAAAAACJBZQAA\n",
       "AAAAAAAiQWUAAAAAAAAAIjWVIVgh7706JEAVK6yZwDnm73nOahwxLgCgH/s7nXV6J+z0XWBFbioD\n",
       "AAAAAAAAEAkqAwAAAAAAABBJfw1/k8YG6VHOmzl/zn62OQ1wnj0Rjjlf0Jm1H4COKpzfRvZg+/R+\n",
       "VuzzFZ+Je7mpDAAAAAAAAEAkqAwAAAAAAABAJKgMAAAAAAAAQKSmMluS+58VGZfczZgDgOtVqNsH\n",
       "ANXZb+fSvjDGb2vsxk1lAAAAAAAAACJBZQAAAAAAAAAi6a9pTwqKuvQdMNvZdcb6xAqqpqQzfwAA\n",
       "eErVM/TTnOEBxnVeM91UBgAAAAAAACASVAYAAAAAAAAgkv6adqSxAaC7zml0uul0Ljkad+8qf787\n",
       "dRoX8LTue6L1AtZkbgJHup9Lzqq6ZlZ9bpjJTWUAAAAAAAAAIkFlAAAAAAAAACJBZQAAAAAAAAAi\n",
       "NZUpTZ0K4CfURgEAduDMow3o5ex4Ng8AAPgJN5UBAAAAAAAAiASVAQAAAAAAAIikv2ZZR6mt30nV\n",
       "BFQi3Rx8p5QFq7JmAwCwA+8DqDqcAAAINUlEQVRkAIxyUxkAAAAAAACASFAZAAAAAAAAgEhQGQAA\n",
       "AAAAAIDo8+kHAOBn1L7h9VL784i5UUOnPjHmetF3wCjnMIA1OZ+P0SYAjHJTGQAAAAAAAIBIUBkA\n",
       "AAAAAACA6OP1+vx6+iFAOpre9C/wE9YQALjW6N46ktbZPg0wnzT7wG6cMXs56s93+ndN733npjIA\n",
       "AAAAAAAAkaAyAAAAAAAAAJGgMgAAAAAAAACRmso8Qi0YAJjPfktnV9bYUq8LAADowO8AMNfuc8xN\n",
       "ZQAAAAAAAAAiQWUAAAAAAAAAIumvma5zOsGj73bkqlSMXdqtktE+/r/0EzvqvNYDPMG6CgDX6rS3\n",
       "dvouwLGR3ySP5n2F35PvXsOsmXAdN5UBAAAAAAAAiASVAQAAAAAAAIikvy5sxbQNKz7TlSqkD2FN\n",
       "3ecGUJe9jVHGCuBMCwDz2W+BUdYL7uamMgAAAAAAAACRoDIAAAAAAAAAkaAyAAAAAAAAAJGayvyI\n",
       "2noAAFSi5hSr8m61HusF8ARrD7sx5gHqcFMZAAAAAAAAgEhQGQAAAAAAAIBI+usHVE3pUfW5AQB+\n",
       "SlraMdoJgCfYf3ia38wAgB24qQwAAAAAAABAJKgMAAAAAAAAQCSoDAAAAAAAAECkpjKRmkTwnTpJ\n",
       "ALVZx4Gf8I4EAPCM3c5hR++u77q3we78fsGK3FQGAAAAAAAAIBJUBgAAAAAAACCS/prX6yWVAgAA\n",
       "95h57tztTLvb94VudkvjSW9XjWd7G7NZe3madQ6ozE1lAAAAAAAAACJBZQAAAAAAAAAiQWUAAAAA\n",
       "AAAAIjWVN6RuAwAA/BlnaAAAAOCM998Uqv6e4KYyAAAAAAAAAJGgMgAAAAAAAACR9Ncb6HKtHiDp\n",
       "lJLUmg1AsuIeseIz8byrxkWnMx6Msq4CZ9k369J3UNdu89dNZQAAAAAAAAAiQWUAAAAAAAAAIumv\n",
       "m9ntqj372W2M7/Z9oYor5+aZFIfWBp4gHScAADzDOyBAHU+v2TP/vpvKAAAAAAAAAESCygAAAAAA\n",
       "AABEgsoAAAAAAAAARGoqF/Z0XvYjKz7TldQSBKAbexujjBWg+/seAKzAfgtQW+d13E1lAAAAAAAA\n",
       "ACJBZQAAAAAAAAAi6a8LkXKQ7oxxAJ5g/wFW1Dll2mzajiPGBZxn/gCzeS+HMU/vyW4qAwAAAAAA\n",
       "ABAJKgMAAAAAAAAQCSoDAAAAAAAAEKmpvKin86IDcD31Yf6Z/Y/KjN/rrNCW1mwA2JMzQB8rnCkB\n",
       "4PXqc75wUxkAAAAAAACASFAZAAAAAAAAgEj660V0ufoOAPxFqjUAAHblLAy9mNN1zew74wL246Yy\n",
       "AAAAAAAAAJGgMgAAAAAAAACRoDIAAAAAAAAAkZrKD6haa6DqcwP3s14AAMD1nLOPvbeLNgEqsYYB\n",
       "UIWbygAAAAAAAABEgsoAAAAAAAAARB+/v36VTX/9ngrkKA3Umc85+qyR/8/oM0lhAgAAAAAAAFTh\n",
       "pjIAAAAAAAAAkaAyAAAAAAAAANHn2bTOR0bST1+Zavqqv3fW2e8CAAAAAAAAUIWbygAAAAAAAABE\n",
       "gsoAAAAAAAAARILKAAAAAAAAAEQfv79+fT39EGe91ys+Wyv5yjrPI8+kzjIAAAAAAABQhZvKAAAA\n",
       "AAAAAESCygAAAAAAAABEH6/X52Xpr69K9bxiyugVnwkAAAAAAABgNjeVAQAAAAAAAIgElQEAAAAA\n",
       "AACIBJUBAAAAAAAAiD5+f/26rKbyio7qHh/VR77rc9JnAQAAAAAAAKzITWUAAAAAAAAAIkFlAAAA\n",
       "AAAAAKKP1+vzW/rrkbTOo+mgz6R6Hk0r/f7ZZ//+2e8LAAAAAAAA0J2bygAAAAAAAABEgsoAAAAA\n",
       "AAAARILKAAAAAAAAAEQfv79+faupvJuR+tCjNaTP/j0AAAAAAACAFbmpDAAAAAAAAEAkqAwAAAAA\n",
       "AABA9Hn4Hy9MzzySRnqmu1NUv/+7s38fAAAAAAAAYAVuKgMAAAAAAAAQCSoDAAAAAAAAEH38/vr1\n",
       "9fRDzHSUxvpMSuqrPid9FgAAAAAAAMCK3FQGAAAAAAAAIBJUBgAAAAAAACASVAYAAAAAAAAg+hyt\n",
       "FTxSB/hsjeGnna2XPPLv1E8GAAAAAAAAKnNTGQAAAAAAAIBIUBkAAAAAAACA6OP316+vpx9iprOp\n",
       "rWd9TvosAAAAAAAAgBW5qQwAAAAAAABAJKgMAAAAAAAAQCSoDAAAAAAAAED0+fQDVDFaP/m9XvLZ\n",
       "ussAAAAAAAAAK3BTGQAAAAAAAIBIUBkAAAAAAACA6DD99XsK59erdxrnke872iad2wkAAAAAAADY\n",
       "j5vKAAAAAAAAAESCygAAAAAAAABEgsoAAAAAAAAARIc1ldUFPu+99rK2BAAAAAAAACpzUxkAAAAA\n",
       "AACASFAZAAAAAAAAgOgw/XUnd6eflu4aAAAAAAAA6MRNZQAAAAAAAAAiQWUAAAAAAAAAoo/fX7++\n",
       "nn6ImT4//vXtvz2dovromQAAAAAAAABW5KYyAAAAAAAAAJGgMgAAAAAAAACRoDIAAAAAAAAA0efT\n",
       "D/AT77WJz9ZKHqm7PFqb+apnAgAAAAAAAFiBm8oAAAAAAAAARILKAAAAAAAAAESl019fRYpqAAAA\n",
       "AAAAgGNuKgMAAAAAAAAQCSoDAAAAAAAAEAkqAwAAAAAAABAtUVP58+Nf/+9/j9Y4XrEW8orPBAAA\n",
       "AAAAAHCWm8oAAAAAAAAARILKAAAAAAAAAERLpL8+mzJ6JG32yGe/f87sZwIAAAAAAACowk1lAAAA\n",
       "AAAAACJBZQAAAAAAAACifwNbgIzy7bkhvQAAAABJRU5ErkJggg==\n",
       "\" transform=\"translate(172, 47)\"/>\n",
       "</g>\n",
       "<defs>\n",
       "  <clipPath id=\"clip973\">\n",
       "    <rect x=\"2160\" y=\"47\" width=\"73\" height=\"1440\"/>\n",
       "  </clipPath>\n",
       "</defs>\n",
       "<g clip-path=\"url(#clip973)\">\n",
       "<image width=\"72\" height=\"1439\" xlink:href=\"data:image/png;base64,\n",
       "iVBORw0KGgoAAAANSUhEUgAAAEgAAAWfCAYAAAAI7rB3AAAMWUlEQVR4nO3dwY0rRxAFwaZQ/lsh\n",
       "L6XfLQtUeSQPERYsEg8c9MyQ+/n3/v0O/+uvb/8Bv06gIFAQKAgU5r5/v/03/DQLCgIFgYJAQaAw\n",
       "7/359t/w0ywoCBQECgIFR41gQUGgIFAQKAgU5rmKrSwoCBQECgIFgcK86yq2saAgUBAoCBQcNYIF\n",
       "BYGCQEGgIFBwFQsWFAQKAgWBgvtBwYKCQEGgIFAQKMxx1FhZUBAoCBQECgIFN8yCBQWBgkBBoDDH\n",
       "DbOVBQWBgkBBoCBQmHP/+fbf8NMsKAgUBAoCBYGCxz7BgoJAQaAgUHDDLFhQECgIFAQKAgVXsWBB\n",
       "QaAgUBAouB8ULCgIFAQKAgWBwnwcNVYWFAQKAgWBgkBhzvWfWTYWFAQKAgWBgqNGsKAgUBAoCBQE\n",
       "Co4awYKCQEGgIFAQKHjDLFhQECgIFAQK83HUWFlQECgIFAQKAgXvSQcLCgIFgYJAwVEjWFAQKAgU\n",
       "BAoCBc/mgwUFgYJAQaAgUHAWCxYUBAoCBYGCo0awoCBQECgIFAQKjhrBgoJAQaAgUBAozLn323/D\n",
       "T7OgIFAQKAgUHDWCBQWBgkBBoCBQ8NgnWFAQKAgUBAo+pIMFBYGCQEGgIFCYj6caKwsKAgWBgkBB\n",
       "oOAsFiwoCBQECgIFL1AFCwoCBYGCQEGg4IZZsKAgUBAoCBTcDwoWFAQKAgWBgkDBDbNgQUGgIFAQ\n",
       "KAgUXMWCBQWBgkBBoOB788GCgkBBoCBQECg4agQLCgIFgYJAQaDgKhYsKAgUBAoCBR/SwYKCQEGg\n",
       "IFAQKLiKBQsKAgWBgkBhzvMhvbGgIFAQKAgUBAqOGsGCgkBBoCBQECi4igULCgIFgYJAwYd0sKAg\n",
       "UBAoCBQECnPu+/bf8NMsKAgUBAoCBYGCs1iwoCBQECgIFBw1ggUFgYJAQaAgUHDUCBYUBAoCBYGC\n",
       "o0awoCBQECgIFAQKc5w0VhYUBAoCBYGCQGHOcxbbWFAQKAgUBAqOGsGCgkBBoCBQECi4igULCgIF\n",
       "gYJAQaAwfohzZ0FBoCBQECg4agQLCgIFgYJAQaDgKhYsKAgUBAoChTn38+2/4adZUBAoCBQECgKF\n",
       "ec9VbGNBQaAgUBAoCBTcMAsWFAQKAgWBghtmwYKCQEGgIFAQKMy7Gm3UCQIFgYJAwVEjWFAQKAgU\n",
       "BAoChTmeza8sKAgUBAoCBYHCPGexlQUFgYJAQaAwx1ONlTpBoCBQECgIFBw1ggUFgYJAQaAgUPDY\n",
       "J1hQECgIFAQKXgMO6gSBgkBBoCBQ8J50sKAgUBAoCBQ81QgWFAQKAgWBgkBh3tNoo04QKAgUBAoC\n",
       "BTfMggUFgYJAQaDghlmwoCBQECgIFAQKc9wwW6kTBAoCBYGCQMFZLFhQECgIFAQKPqSDBQWBgkBB\n",
       "oCBQ8L35YEFBoCBQECj43nxQJwgUBAoCBYHCPEeNlQUFgYJAQaAgUPDYJ1hQECgIFAQK/jNLUCcI\n",
       "FAQKAgWBghtmwYKCQEGgIFAQKLhhFiwoCBQECgIFR41gQUGgIFAQKAgUvCcd1AkCBYGCQMFRI1hQ\n",
       "ECgIFAQKAgVPNYIFBYGCQEGgIFBwFgsWFAQKAgWBgn+fFSwoCBQECgIFgYJ/ZRzUCQIFgYJAQaDg\n",
       "hlmwoCBQECgIFDybDxYUBAoCBYGCQMFRI1hQECgIFAQKc31IrywoCBQECgIFgYLvzQd1gkBBoCBQ\n",
       "ECi4YRYsKAgUBAoCBR/SwYKCQEGgIFAQKHjDLFhQECgIFAQKjhrBgoJAQaAgUBAouIoFCwoCBYGC\n",
       "QEGg4NdfgjpBoCBQECjM9VRjZUFBoCBQECgIFNwwCxYUBAoCBYGCQMFVLFhQECgIFAQKPqSDBQWB\n",
       "gkBBoCBQ8BtmwYKCQEGgIFBw1AgWFAQKAgWBgkDBVSxYUBAoCBQECgIFX2YJ6gSBgkBBoODLLMGC\n",
       "gkBBoCBQECi4YRYsKAgUBAoCBYGCq1iwoCBQECgIFLwGHCwoCBQECgIFgYKjRrCgIFAQKAgU5h0f\n",
       "0hsLCgIFgYJAQaDghlmwoCBQECgIFAQKbpgFCwoCBYGCQMFRI1hQECgIFAQKAgVHjWBBQaAgUBAo\n",
       "CBScxYIFBYGCQEGg4KgRLCgIFAQKAgWBgqtYsKAgUBAoCBTm+jLLyoKCQEGgIFAQKDhqBAsKAgWB\n",
       "gkBBoODZfLCgIFAQKAgU5r1v/wm/zYKCQEGgIFAQKDhqBAsKAgWBgkDBD00GCwoCBYGCQEGg4KgR\n",
       "LCgIFAQKAgWBgjfMggUFgYJAQaDgyyzBgoJAQaAgUBAoeMMsWFAQKAgUBAoCBY99ggUFgYJAQaDg\n",
       "qUawoCBQECgIFAQKHvsECwoCBYGCQMH9oGBBQaAgUBAoCBQ8mw8WFAQKAgWBgkDBDbNgQUGgIFAQ\n",
       "KHg2HywoCBQECgIFgcLcb/8FP86CgkBBoCBQECg4iwULCgIFgYJAwRtmwYKCQEGgIFAQKLhhFiwo\n",
       "CBQECgIF94OCBQWBgkBBoCBQcNQIFhQECgIFgYJAwVksWFAQKAgUBAqezQcLCgIFgYJAQaAwfvxl\n",
       "Z0FBoCBQECgIFJzFggUFgYJAQaDg2XywoCBQECgIFAQKns0HCwoCBYGCQMFRI1hQECgIFAQKAgVH\n",
       "jWBBQaAgUBAoCBTmesVsZUFBoCBQECi4YRYsKAgUBAoCBYGCG2bBgoJAQaAgUHDUCBYUBAoCBYGC\n",
       "QGGepxorCwoCBYGCQEGgMPe4YbaxoCBQECgIFLxAFSwoCBQECgIFgYIfmgwWFAQKAgWBgkDBD00G\n",
       "CwoCBYGCQMGz+WBBQaAgUBAoCBS8Jx0sKAgUBAoCBd84DBYUBAoCBYGCQMFRI1hQECgIFAQKAgXv\n",
       "SQcLCgIFgYJAwWvAwYKCQEGgIFAQKDhqBAsKAgWBgkBBoOA96WBBQaAgUBAo+ImuYEFBoCBQECgI\n",
       "FNwwCxYUBAoCBYGCZ/PBgoJAQaAgUBAoOGoECwoCBYGCQEGg4CwWLCgIFAQKAgVHjWBBQaAgUBAo\n",
       "CBRcxYIFBYGCQEGgIFBwwyxYUBAoCBQECo4awYKCQEGgIFAQKDhqBAsKAgWBgkDBUSNYUBAoCBQE\n",
       "CgIFP9EVLCgIFAQKAgWBgv8vFiwoCBQECgIFN8yCBQWBgkBBoCBQmHdcxjYWFAQKAgWBgkDBWSxY\n",
       "UBAoCBQECp7NBwsKAgWBgkBBoODZfLCgIFAQKAgU3A8KFhQECgIFgYJAwbP5YEFBoCBQECgIFJzF\n",
       "ggUFgYJAQaDgJ7qCBQWBgkBBoCBQmOsVs5UFBYGCQEGg4AWqYEFBoCBQECgIFOY5aqwsKAgUBAoC\n",
       "BYGCs1iwoCBQECgIFDzVCBYUBAoCBYGCQMEbZsGCgkBBoCBQECjM9ZXMlQUFgYJAQaDghlmwoCBQ\n",
       "ECgIFAQKfv0lWFAQKAgUBApeoAoWFAQKAgWBgkDBU41gQUGgIFAQKAgU3DALFhQECgIFgcLc45bZ\n",
       "xoKCQEGgIFAQKLhhFiwoCBQECgIFgYKrWLCgIFAQKAgUPNUIFhQECgIFgYJAwWOfYEFBoCBQECjM\n",
       "/ThqbCwoCBQECgIFgYKjRrCgIFAQKAgUBArzXMVWFhQECgIFgYKjRrCgIFAQKAgUBApzP65iGwsK\n",
       "AgWBgkBBoOAsFiwoCBQECgIFTzWCBQWBgkBBoCBQcNQIFhQECgIFgYIP6WBBQaAgUBAoCBQ8mw8W\n",
       "FAQKAgWBgkBh3vnz7b/hp1lQECgIFAQKbpgFCwoCBYGCQEGg4A2zYEFBoCBQECjMfe4HbSwoCBQE\n",
       "CgIFgYKjRrCgIFAQKAgUBApzPZtfWVAQKAgUBAqOGsGCgkBBoCBQECg4agQLCgIFgYJAQaAw7zmL\n",
       "bSwoCBQECgIFN8yCBQWBgkBBoCBQ8J50sKAgUBAoCBQcNYIFBYGCQEGgIFCY56ixsqAgUBAoCBQE\n",
       "Cs5iwYKCQEGgIFCY6wWqlQUFgYJAQaAgUPCb9sGCgkBBoCBQECj4MkuwoCBQECgIFDzVCBYUBAoC\n",
       "BYGCQMFRI1hQECgIFAQKPqSDBQWBgkBBoCBQ8Gw+WFAQKAgUBAoCBWexYEFBoCBQECjM8Wx+ZUFB\n",
       "oCBQECgIFBw1ggUFgYJAQaAgUPCedLCgIFAQKAgU5jhqrCwoCBQECgIFgYI3zIIFBYGCQEGg4Nl8\n",
       "sKAgUBAoCBQECm6YBQsKAgWBgkBBoDDvvG//DT/NgoJAQaAgUHDDLFhQECgIFAQKAoU5jhorCwoC\n",
       "BYGCQOE/LrLuTX/wFc8AAAAASUVORK5CYII=\n",
       "\" transform=\"translate(2161, 47)\"/>\n",
       "</g>\n",
       "<path clip-path=\"url(#clip970)\" d=\"M2280.7 1468.62 Q2277.09 1468.62 2275.26 1472.18 Q2273.45 1475.72 2273.45 1482.85 Q2273.45 1489.96 2275.26 1493.53 Q2277.09 1497.07 2280.7 1497.07 Q2284.33 1497.07 2286.14 1493.53 Q2287.97 1489.96 2287.97 1482.85 Q2287.97 1475.72 2286.14 1472.18 Q2284.33 1468.62 2280.7 1468.62 M2280.7 1464.91 Q2286.51 1464.91 2289.57 1469.52 Q2292.64 1474.1 2292.64 1482.85 Q2292.64 1491.58 2289.57 1496.19 Q2286.51 1500.77 2280.7 1500.77 Q2274.89 1500.77 2271.81 1496.19 Q2268.76 1491.58 2268.76 1482.85 Q2268.76 1474.1 2271.81 1469.52 Q2274.89 1464.91 2280.7 1464.91 Z\" fill=\"#000000\" fill-rule=\"evenodd\" fill-opacity=\"1\" /><path clip-path=\"url(#clip970)\" d=\"M2280.7 1324.7 Q2277.09 1324.7 2275.26 1328.26 Q2273.45 1331.8 2273.45 1338.93 Q2273.45 1346.04 2275.26 1349.6 Q2277.09 1353.15 2280.7 1353.15 Q2284.33 1353.15 2286.14 1349.6 Q2287.97 1346.04 2287.97 1338.93 Q2287.97 1331.8 2286.14 1328.26 Q2284.33 1324.7 2280.7 1324.7 M2280.7 1320.99 Q2286.51 1320.99 2289.57 1325.6 Q2292.64 1330.18 2292.64 1338.93 Q2292.64 1347.66 2289.57 1352.27 Q2286.51 1356.85 2280.7 1356.85 Q2274.89 1356.85 2271.81 1352.27 Q2268.76 1347.66 2268.76 1338.93 Q2268.76 1330.18 2271.81 1325.6 Q2274.89 1320.99 2280.7 1320.99 Z\" fill=\"#000000\" fill-rule=\"evenodd\" fill-opacity=\"1\" /><path clip-path=\"url(#clip970)\" d=\"M2300.86 1350.3 L2305.75 1350.3 L2305.75 1356.18 L2300.86 1356.18 L2300.86 1350.3 Z\" fill=\"#000000\" fill-rule=\"evenodd\" fill-opacity=\"1\" /><path clip-path=\"url(#clip970)\" d=\"M2316.74 1352.24 L2324.38 1352.24 L2324.38 1325.88 L2316.07 1327.54 L2316.07 1323.29 L2324.33 1321.62 L2329.01 1321.62 L2329.01 1352.24 L2336.65 1352.24 L2336.65 1356.18 L2316.74 1356.18 L2316.74 1352.24 Z\" fill=\"#000000\" fill-rule=\"evenodd\" fill-opacity=\"1\" /><path clip-path=\"url(#clip970)\" d=\"M2280.7 1180.78 Q2277.09 1180.78 2275.26 1184.34 Q2273.45 1187.88 2273.45 1195.01 Q2273.45 1202.12 2275.26 1205.68 Q2277.09 1209.23 2280.7 1209.23 Q2284.33 1209.23 2286.14 1205.68 Q2287.97 1202.12 2287.97 1195.01 Q2287.97 1187.88 2286.14 1184.34 Q2284.33 1180.78 2280.7 1180.78 M2280.7 1177.07 Q2286.51 1177.07 2289.57 1181.68 Q2292.64 1186.26 2292.64 1195.01 Q2292.64 1203.74 2289.57 1208.35 Q2286.51 1212.93 2280.7 1212.93 Q2274.89 1212.93 2271.81 1208.35 Q2268.76 1203.74 2268.76 1195.01 Q2268.76 1186.26 2271.81 1181.68 Q2274.89 1177.07 2280.7 1177.07 Z\" fill=\"#000000\" fill-rule=\"evenodd\" fill-opacity=\"1\" /><path clip-path=\"url(#clip970)\" d=\"M2300.86 1206.38 L2305.75 1206.38 L2305.75 1212.26 L2300.86 1212.26 L2300.86 1206.38 Z\" fill=\"#000000\" fill-rule=\"evenodd\" fill-opacity=\"1\" /><path clip-path=\"url(#clip970)\" d=\"M2319.96 1208.32 L2336.28 1208.32 L2336.28 1212.26 L2314.33 1212.26 L2314.33 1208.32 Q2317 1205.57 2321.58 1200.94 Q2326.19 1196.29 2327.37 1194.94 Q2329.61 1192.42 2330.49 1190.68 Q2331.39 1188.93 2331.39 1187.24 Q2331.39 1184.48 2329.45 1182.74 Q2327.53 1181.01 2324.43 1181.01 Q2322.23 1181.01 2319.77 1181.77 Q2317.34 1182.54 2314.57 1184.09 L2314.57 1179.36 Q2317.39 1178.23 2319.84 1177.65 Q2322.3 1177.07 2324.33 1177.07 Q2329.7 1177.07 2332.9 1179.76 Q2336.09 1182.44 2336.09 1186.93 Q2336.09 1189.06 2335.28 1190.99 Q2334.5 1192.88 2332.39 1195.48 Q2331.81 1196.15 2328.71 1199.36 Q2325.61 1202.56 2319.96 1208.32 Z\" fill=\"#000000\" fill-rule=\"evenodd\" fill-opacity=\"1\" /><path clip-path=\"url(#clip970)\" d=\"M2280.7 1036.86 Q2277.09 1036.86 2275.26 1040.42 Q2273.45 1043.96 2273.45 1051.09 Q2273.45 1058.2 2275.26 1061.76 Q2277.09 1065.31 2280.7 1065.31 Q2284.33 1065.31 2286.14 1061.76 Q2287.97 1058.2 2287.97 1051.09 Q2287.97 1043.96 2286.14 1040.42 Q2284.33 1036.86 2280.7 1036.86 M2280.7 1033.15 Q2286.51 1033.15 2289.57 1037.76 Q2292.64 1042.34 2292.64 1051.09 Q2292.64 1059.82 2289.57 1064.43 Q2286.51 1069.01 2280.7 1069.01 Q2274.89 1069.01 2271.81 1064.43 Q2268.76 1059.82 2268.76 1051.09 Q2268.76 1042.34 2271.81 1037.76 Q2274.89 1033.15 2280.7 1033.15 Z\" fill=\"#000000\" fill-rule=\"evenodd\" fill-opacity=\"1\" /><path clip-path=\"url(#clip970)\" d=\"M2300.86 1062.46 L2305.75 1062.46 L2305.75 1068.34 L2300.86 1068.34 L2300.86 1062.46 Z\" fill=\"#000000\" fill-rule=\"evenodd\" fill-opacity=\"1\" /><path clip-path=\"url(#clip970)\" d=\"M2330.1 1049.7 Q2333.45 1050.42 2335.33 1052.69 Q2337.23 1054.96 2337.23 1058.29 Q2337.23 1063.41 2333.71 1066.21 Q2330.19 1069.01 2323.71 1069.01 Q2321.53 1069.01 2319.22 1068.57 Q2316.93 1068.15 2314.47 1067.3 L2314.47 1062.78 Q2316.42 1063.92 2318.73 1064.5 Q2321.05 1065.07 2323.57 1065.07 Q2327.97 1065.07 2330.26 1063.34 Q2332.58 1061.6 2332.58 1058.29 Q2332.58 1055.24 2330.42 1053.52 Q2328.29 1051.79 2324.47 1051.79 L2320.45 1051.79 L2320.45 1047.94 L2324.66 1047.94 Q2328.11 1047.94 2329.94 1046.58 Q2331.76 1045.19 2331.76 1042.6 Q2331.76 1039.94 2329.87 1038.52 Q2327.99 1037.09 2324.47 1037.09 Q2322.55 1037.09 2320.35 1037.5 Q2318.15 1037.92 2315.51 1038.8 L2315.51 1034.63 Q2318.18 1033.89 2320.49 1033.52 Q2322.83 1033.15 2324.89 1033.15 Q2330.21 1033.15 2333.32 1035.58 Q2336.42 1037.99 2336.42 1042.11 Q2336.42 1044.98 2334.77 1046.97 Q2333.13 1048.94 2330.1 1049.7 Z\" fill=\"#000000\" fill-rule=\"evenodd\" fill-opacity=\"1\" /><path clip-path=\"url(#clip970)\" d=\"M2280.7 892.936 Q2277.09 892.936 2275.26 896.501 Q2273.45 900.043 2273.45 907.172 Q2273.45 914.279 2275.26 917.844 Q2277.09 921.385 2280.7 921.385 Q2284.33 921.385 2286.14 917.844 Q2287.97 914.279 2287.97 907.172 Q2287.97 900.043 2286.14 896.501 Q2284.33 892.936 2280.7 892.936 M2280.7 889.233 Q2286.51 889.233 2289.57 893.839 Q2292.64 898.422 2292.64 907.172 Q2292.64 915.899 2289.57 920.506 Q2286.51 925.089 2280.7 925.089 Q2274.89 925.089 2271.81 920.506 Q2268.76 915.899 2268.76 907.172 Q2268.76 898.422 2271.81 893.839 Q2274.89 889.233 2280.7 889.233 Z\" fill=\"#000000\" fill-rule=\"evenodd\" fill-opacity=\"1\" /><path clip-path=\"url(#clip970)\" d=\"M2300.86 918.538 L2305.75 918.538 L2305.75 924.418 L2300.86 924.418 L2300.86 918.538 Z\" fill=\"#000000\" fill-rule=\"evenodd\" fill-opacity=\"1\" /><path clip-path=\"url(#clip970)\" d=\"M2328.78 893.932 L2316.97 912.381 L2328.78 912.381 L2328.78 893.932 M2327.55 889.858 L2333.43 889.858 L2333.43 912.381 L2338.36 912.381 L2338.36 916.269 L2333.43 916.269 L2333.43 924.418 L2328.78 924.418 L2328.78 916.269 L2313.18 916.269 L2313.18 911.756 L2327.55 889.858 Z\" fill=\"#000000\" fill-rule=\"evenodd\" fill-opacity=\"1\" /><path clip-path=\"url(#clip970)\" d=\"M2280.7 749.016 Q2277.09 749.016 2275.26 752.581 Q2273.45 756.122 2273.45 763.252 Q2273.45 770.358 2275.26 773.923 Q2277.09 777.465 2280.7 777.465 Q2284.33 777.465 2286.14 773.923 Q2287.97 770.358 2287.97 763.252 Q2287.97 756.122 2286.14 752.581 Q2284.33 749.016 2280.7 749.016 M2280.7 745.312 Q2286.51 745.312 2289.57 749.919 Q2292.64 754.502 2292.64 763.252 Q2292.64 771.979 2289.57 776.585 Q2286.51 781.168 2280.7 781.168 Q2274.89 781.168 2271.81 776.585 Q2268.76 771.979 2268.76 763.252 Q2268.76 754.502 2271.81 749.919 Q2274.89 745.312 2280.7 745.312 Z\" fill=\"#000000\" fill-rule=\"evenodd\" fill-opacity=\"1\" /><path clip-path=\"url(#clip970)\" d=\"M2300.86 774.618 L2305.75 774.618 L2305.75 780.497 L2300.86 780.497 L2300.86 774.618 Z\" fill=\"#000000\" fill-rule=\"evenodd\" fill-opacity=\"1\" /><path clip-path=\"url(#clip970)\" d=\"M2315.98 745.937 L2334.33 745.937 L2334.33 749.872 L2320.26 749.872 L2320.26 758.345 Q2321.28 757.997 2322.3 757.835 Q2323.32 757.65 2324.33 757.65 Q2330.12 757.65 2333.5 760.821 Q2336.88 763.993 2336.88 769.409 Q2336.88 774.988 2333.41 778.09 Q2329.94 781.168 2323.62 781.168 Q2321.44 781.168 2319.17 780.798 Q2316.93 780.428 2314.52 779.687 L2314.52 774.988 Q2316.6 776.122 2318.83 776.678 Q2321.05 777.233 2323.52 777.233 Q2327.53 777.233 2329.87 775.127 Q2332.2 773.02 2332.2 769.409 Q2332.2 765.798 2329.87 763.692 Q2327.53 761.585 2323.52 761.585 Q2321.65 761.585 2319.77 762.002 Q2317.92 762.419 2315.98 763.298 L2315.98 745.937 Z\" fill=\"#000000\" fill-rule=\"evenodd\" fill-opacity=\"1\" /><path clip-path=\"url(#clip970)\" d=\"M2280.7 605.095 Q2277.09 605.095 2275.26 608.66 Q2273.45 612.202 2273.45 619.332 Q2273.45 626.438 2275.26 630.003 Q2277.09 633.544 2280.7 633.544 Q2284.33 633.544 2286.14 630.003 Q2287.97 626.438 2287.97 619.332 Q2287.97 612.202 2286.14 608.66 Q2284.33 605.095 2280.7 605.095 M2280.7 601.392 Q2286.51 601.392 2289.57 605.998 Q2292.64 610.582 2292.64 619.332 Q2292.64 628.058 2289.57 632.665 Q2286.51 637.248 2280.7 637.248 Q2274.89 637.248 2271.81 632.665 Q2268.76 628.058 2268.76 619.332 Q2268.76 610.582 2271.81 605.998 Q2274.89 601.392 2280.7 601.392 Z\" fill=\"#000000\" fill-rule=\"evenodd\" fill-opacity=\"1\" /><path clip-path=\"url(#clip970)\" d=\"M2300.86 630.697 L2305.75 630.697 L2305.75 636.577 L2300.86 636.577 L2300.86 630.697 Z\" fill=\"#000000\" fill-rule=\"evenodd\" fill-opacity=\"1\" /><path clip-path=\"url(#clip970)\" d=\"M2326.51 617.433 Q2323.36 617.433 2321.51 619.586 Q2319.68 621.739 2319.68 625.489 Q2319.68 629.216 2321.51 631.392 Q2323.36 633.544 2326.51 633.544 Q2329.66 633.544 2331.49 631.392 Q2333.34 629.216 2333.34 625.489 Q2333.34 621.739 2331.49 619.586 Q2329.66 617.433 2326.51 617.433 M2335.79 602.781 L2335.79 607.04 Q2334.03 606.207 2332.23 605.767 Q2330.45 605.327 2328.69 605.327 Q2324.06 605.327 2321.6 608.452 Q2319.17 611.577 2318.83 617.896 Q2320.19 615.882 2322.25 614.818 Q2324.31 613.73 2326.79 613.73 Q2332 613.73 2335.01 616.901 Q2338.04 620.049 2338.04 625.489 Q2338.04 630.813 2334.89 634.031 Q2331.74 637.248 2326.51 637.248 Q2320.51 637.248 2317.34 632.665 Q2314.17 628.058 2314.17 619.332 Q2314.17 611.137 2318.06 606.276 Q2321.95 601.392 2328.5 601.392 Q2330.26 601.392 2332.04 601.739 Q2333.85 602.086 2335.79 602.781 Z\" fill=\"#000000\" fill-rule=\"evenodd\" fill-opacity=\"1\" /><path clip-path=\"url(#clip970)\" d=\"M2280.7 461.175 Q2277.09 461.175 2275.26 464.74 Q2273.45 468.282 2273.45 475.411 Q2273.45 482.518 2275.26 486.082 Q2277.09 489.624 2280.7 489.624 Q2284.33 489.624 2286.14 486.082 Q2287.97 482.518 2287.97 475.411 Q2287.97 468.282 2286.14 464.74 Q2284.33 461.175 2280.7 461.175 M2280.7 457.471 Q2286.51 457.471 2289.57 462.078 Q2292.64 466.661 2292.64 475.411 Q2292.64 484.138 2289.57 488.744 Q2286.51 493.328 2280.7 493.328 Q2274.89 493.328 2271.81 488.744 Q2268.76 484.138 2268.76 475.411 Q2268.76 466.661 2271.81 462.078 Q2274.89 457.471 2280.7 457.471 Z\" fill=\"#000000\" fill-rule=\"evenodd\" fill-opacity=\"1\" /><path clip-path=\"url(#clip970)\" d=\"M2300.86 486.777 L2305.75 486.777 L2305.75 492.656 L2300.86 492.656 L2300.86 486.777 Z\" fill=\"#000000\" fill-rule=\"evenodd\" fill-opacity=\"1\" /><path clip-path=\"url(#clip970)\" d=\"M2314.75 458.096 L2336.97 458.096 L2336.97 460.087 L2324.43 492.656 L2319.54 492.656 L2331.35 462.032 L2314.75 462.032 L2314.75 458.096 Z\" fill=\"#000000\" fill-rule=\"evenodd\" fill-opacity=\"1\" /><path clip-path=\"url(#clip970)\" d=\"M2280.7 317.255 Q2277.09 317.255 2275.26 320.82 Q2273.45 324.361 2273.45 331.491 Q2273.45 338.597 2275.26 342.162 Q2277.09 345.704 2280.7 345.704 Q2284.33 345.704 2286.14 342.162 Q2287.97 338.597 2287.97 331.491 Q2287.97 324.361 2286.14 320.82 Q2284.33 317.255 2280.7 317.255 M2280.7 313.551 Q2286.51 313.551 2289.57 318.158 Q2292.64 322.741 2292.64 331.491 Q2292.64 340.218 2289.57 344.824 Q2286.51 349.407 2280.7 349.407 Q2274.89 349.407 2271.81 344.824 Q2268.76 340.218 2268.76 331.491 Q2268.76 322.741 2271.81 318.158 Q2274.89 313.551 2280.7 313.551 Z\" fill=\"#000000\" fill-rule=\"evenodd\" fill-opacity=\"1\" /><path clip-path=\"url(#clip970)\" d=\"M2300.86 342.856 L2305.75 342.856 L2305.75 348.736 L2300.86 348.736 L2300.86 342.856 Z\" fill=\"#000000\" fill-rule=\"evenodd\" fill-opacity=\"1\" /><path clip-path=\"url(#clip970)\" d=\"M2325.93 332.324 Q2322.6 332.324 2320.68 334.106 Q2318.78 335.889 2318.78 339.014 Q2318.78 342.139 2320.68 343.921 Q2322.6 345.704 2325.93 345.704 Q2329.26 345.704 2331.19 343.921 Q2333.11 342.116 2333.11 339.014 Q2333.11 335.889 2331.19 334.106 Q2329.29 332.324 2325.93 332.324 M2321.26 330.333 Q2318.25 329.593 2316.56 327.532 Q2314.89 325.472 2314.89 322.509 Q2314.89 318.366 2317.83 315.958 Q2320.79 313.551 2325.93 313.551 Q2331.09 313.551 2334.03 315.958 Q2336.97 318.366 2336.97 322.509 Q2336.97 325.472 2335.28 327.532 Q2333.62 329.593 2330.63 330.333 Q2334.01 331.12 2335.89 333.412 Q2337.78 335.704 2337.78 339.014 Q2337.78 344.037 2334.7 346.722 Q2331.65 349.407 2325.93 349.407 Q2320.21 349.407 2317.14 346.722 Q2314.08 344.037 2314.08 339.014 Q2314.08 335.704 2315.98 333.412 Q2317.88 331.12 2321.26 330.333 M2319.54 322.949 Q2319.54 325.634 2321.21 327.139 Q2322.9 328.644 2325.93 328.644 Q2328.94 328.644 2330.63 327.139 Q2332.34 325.634 2332.34 322.949 Q2332.34 320.264 2330.63 318.759 Q2328.94 317.255 2325.93 317.255 Q2322.9 317.255 2321.21 318.759 Q2319.54 320.264 2319.54 322.949 Z\" fill=\"#000000\" fill-rule=\"evenodd\" fill-opacity=\"1\" /><path clip-path=\"url(#clip970)\" d=\"M2280.7 173.334 Q2277.09 173.334 2275.26 176.899 Q2273.45 180.441 2273.45 187.57 Q2273.45 194.677 2275.26 198.242 Q2277.09 201.783 2280.7 201.783 Q2284.33 201.783 2286.14 198.242 Q2287.97 194.677 2287.97 187.57 Q2287.97 180.441 2286.14 176.899 Q2284.33 173.334 2280.7 173.334 M2280.7 169.631 Q2286.51 169.631 2289.57 174.237 Q2292.64 178.82 2292.64 187.57 Q2292.64 196.297 2289.57 200.904 Q2286.51 205.487 2280.7 205.487 Q2274.89 205.487 2271.81 200.904 Q2268.76 196.297 2268.76 187.57 Q2268.76 178.82 2271.81 174.237 Q2274.89 169.631 2280.7 169.631 Z\" fill=\"#000000\" fill-rule=\"evenodd\" fill-opacity=\"1\" /><path clip-path=\"url(#clip970)\" d=\"M2300.86 198.936 L2305.75 198.936 L2305.75 204.816 L2300.86 204.816 L2300.86 198.936 Z\" fill=\"#000000\" fill-rule=\"evenodd\" fill-opacity=\"1\" /><path clip-path=\"url(#clip970)\" d=\"M2316.07 204.098 L2316.07 199.839 Q2317.83 200.672 2319.64 201.112 Q2321.44 201.552 2323.18 201.552 Q2327.81 201.552 2330.24 198.45 Q2332.69 195.325 2333.04 188.982 Q2331.7 190.973 2329.64 192.038 Q2327.58 193.103 2325.08 193.103 Q2319.89 193.103 2316.86 189.978 Q2313.85 186.83 2313.85 181.39 Q2313.85 176.066 2317 172.848 Q2320.14 169.631 2325.38 169.631 Q2331.37 169.631 2334.52 174.237 Q2337.69 178.82 2337.69 187.57 Q2337.69 195.742 2333.8 200.626 Q2329.94 205.487 2323.39 205.487 Q2321.63 205.487 2319.82 205.14 Q2318.01 204.793 2316.07 204.098 M2325.38 189.445 Q2328.52 189.445 2330.35 187.293 Q2332.2 185.14 2332.2 181.39 Q2332.2 177.663 2330.35 175.51 Q2328.52 173.334 2325.38 173.334 Q2322.23 173.334 2320.38 175.51 Q2318.55 177.663 2318.55 181.39 Q2318.55 185.14 2320.38 187.293 Q2322.23 189.445 2325.38 189.445 Z\" fill=\"#000000\" fill-rule=\"evenodd\" fill-opacity=\"1\" /><path clip-path=\"url(#clip970)\" d=\"M2269.43 56.9601 L2277.07 56.9601 L2277.07 30.5945 L2268.76 32.2612 L2268.76 28.002 L2277.02 26.3353 L2281.7 26.3353 L2281.7 56.9601 L2289.33 56.9601 L2289.33 60.8953 L2269.43 60.8953 L2269.43 56.9601 Z\" fill=\"#000000\" fill-rule=\"evenodd\" fill-opacity=\"1\" /><path clip-path=\"url(#clip970)\" d=\"M2298.78 55.0157 L2303.66 55.0157 L2303.66 60.8953 L2298.78 60.8953 L2298.78 55.0157 Z\" fill=\"#000000\" fill-rule=\"evenodd\" fill-opacity=\"1\" /><path clip-path=\"url(#clip970)\" d=\"M2323.85 29.414 Q2320.24 29.414 2318.41 32.9788 Q2316.6 36.5204 2316.6 43.65 Q2316.6 50.7565 2318.41 54.3213 Q2320.24 57.8629 2323.85 57.8629 Q2327.48 57.8629 2329.29 54.3213 Q2331.12 50.7565 2331.12 43.65 Q2331.12 36.5204 2329.29 32.9788 Q2327.48 29.414 2323.85 29.414 M2323.85 25.7103 Q2329.66 25.7103 2332.71 30.3168 Q2335.79 34.9001 2335.79 43.65 Q2335.79 52.3768 2332.71 56.9833 Q2329.66 61.5666 2323.85 61.5666 Q2318.04 61.5666 2314.96 56.9833 Q2311.9 52.3768 2311.9 43.65 Q2311.9 34.9001 2314.96 30.3168 Q2318.04 25.7103 2323.85 25.7103 Z\" fill=\"#000000\" fill-rule=\"evenodd\" fill-opacity=\"1\" /><polyline clip-path=\"url(#clip970)\" style=\"stroke:#000000; stroke-linecap:butt; stroke-linejoin:round; stroke-width:4; stroke-opacity:1; fill:none\" points=\"\n",
       "  2232.76,1486.45 2232.76,1486.45 2256.76,1486.45 2232.76,1486.45 2232.76,1342.53 2256.76,1342.53 2232.76,1342.53 2232.76,1198.61 2256.76,1198.61 2232.76,1198.61 \n",
       "  2232.76,1054.69 2256.76,1054.69 2232.76,1054.69 2232.76,910.766 2256.76,910.766 2232.76,910.766 2232.76,766.846 2256.76,766.846 2232.76,766.846 2232.76,622.926 \n",
       "  2256.76,622.926 2232.76,622.926 2232.76,479.005 2256.76,479.005 2232.76,479.005 2232.76,335.085 2256.76,335.085 2232.76,335.085 2232.76,191.164 2256.76,191.164 \n",
       "  2232.76,191.164 2232.76,47.2441 2256.76,47.2441 2232.76,47.2441 \n",
       "  \"/>\n",
       "</svg>\n"
      ]
     },
     "execution_count": 21,
     "metadata": {},
     "output_type": "execute_result"
    }
   ],
   "source": [
    "[have_overlap(c1[2:end], c2[2:end]) for c1 in cubes, c2 in cubes] |> heatmap"
   ]
  },
  {
   "cell_type": "code",
   "execution_count": 26,
   "id": "271159d5-671f-454b-96b8-fdd9a1ebb6a1",
   "metadata": {},
   "outputs": [
    {
     "data": {
      "text/plain": [
       "(9, 9, 3, 4, 5, 6)"
      ]
     },
     "execution_count": 26,
     "metadata": {},
     "output_type": "execute_result"
    }
   ],
   "source": [
    "a = (1,2,3,4,5,6)\n",
    "(9,9,a[3:end]...)"
   ]
  },
  {
   "cell_type": "code",
   "execution_count": 29,
   "id": "4d946489-2930-4eb4-81a1-84cc4f518d6b",
   "metadata": {},
   "outputs": [
    {
     "data": {
      "text/plain": [
       "split_cuboid (generic function with 1 method)"
      ]
     },
     "execution_count": 29,
     "metadata": {},
     "output_type": "execute_result"
    }
   ],
   "source": [
    "# split c into smaller cuboids such that none of them overlap with d (and all of c not covered by d is covered by new cuboids)\n",
    "function split_cuboid(c, d)\n",
    "    if !have_overlap(c, d)\n",
    "        return [c]\n",
    "    end\n",
    "    pieces = []\n",
    "    r = c # remaining\n",
    "    if d[1] ∈ c[1]+1:c[2] # slice left\n",
    "        new_piece = (c[1],d[1]-1,c[3:end]...)\n",
    "        push!(pieces, new_piece)\n",
    "        r = (d[1],c[2],c[3:end]...)\n",
    "    end\n",
    "    if d[2] ∈ r[1]:r[2]-1 # slice right\n",
    "        new_piece = (d[2]+1,r[2],r[3:end]...)\n",
    "        push!(pieces, new_piece)\n",
    "        r = (r[1],d[2],r[3:end]...)\n",
    "    end\n",
    "    if d[3] ∈ r[3]+1:r[4] # slice top\n",
    "        new_piece = (r[1:3]...,d[3]-1,r[5:end]...)\n",
    "        push!(pieces, new_piece)\n",
    "        r = (r[1],r[2],d[3],r[4:end]...)\n",
    "    end\n",
    "    if d[4] ∈ r[3]:r[4]-1 # slice bottom\n",
    "        new_piece = (r[1:2]...,d[4]+1,r[4],r[5:end]...)\n",
    "        push!(pieces, new_piece)\n",
    "        r = (r[1:3]...,d[4],r[5:end]...)\n",
    "    end\n",
    "    if d[5] ∈ r[5]+1:r[6] # slice front\n",
    "        new_piece = (r[1:5]...,d[5]-1)\n",
    "        push!(pieces, new_piece)\n",
    "        r = (r[1:4]...,d[5],r[6])\n",
    "    end\n",
    "    if d[6] ∈ r[5]:r[6]-1 # slice back\n",
    "        new_piece = (r[1:4]...,d[6]+1,r[6])\n",
    "        push!(pieces, new_piece)\n",
    "        # r = (r[1:3]...,d[4],r[5:end]...)\n",
    "    end\n",
    "    return pieces\n",
    "end"
   ]
  },
  {
   "cell_type": "code",
   "execution_count": 34,
   "id": "2ed2ae0b-92f7-4fd4-8a67-4a3728f039a0",
   "metadata": {},
   "outputs": [
    {
     "data": {
      "text/plain": [
       "3-element Vector{Any}:\n",
       " (4, 5, 0, 5, 0, 5)\n",
       " (0, 3, 4, 5, 0, 5)\n",
       " (0, 3, 0, 3, 4, 5)"
      ]
     },
     "execution_count": 34,
     "metadata": {},
     "output_type": "execute_result"
    }
   ],
   "source": [
    "split_cuboid((0,5,0,5,0,5), (0,3,0,3,0,3))"
   ]
  },
  {
   "cell_type": "code",
   "execution_count": 46,
   "id": "465bd043-b986-45db-9ec5-584819275c46",
   "metadata": {},
   "outputs": [],
   "source": [
    "lit_cuboids = []\n",
    "for cube in cubes\n",
    "    still_lit = []\n",
    "    c = cube[2:end]\n",
    "    for lc in lit_cuboids\n",
    "        push!(still_lit, split_cuboid(lc, c)...)\n",
    "    end\n",
    "    if cube[1] == 1\n",
    "        push!(still_lit, (c[1],c[2:end]...))\n",
    "    end\n",
    "    lit_cuboids = still_lit\n",
    "end"
   ]
  },
  {
   "cell_type": "code",
   "execution_count": 47,
   "id": "531f032b-806f-4b57-9f2a-bcb89083f0c4",
   "metadata": {},
   "outputs": [
    {
     "data": {
      "text/plain": [
       "3948-element Vector{Any}:\n",
       " (-44, -43, -48, -4, -28, 22)\n",
       " (-42, -41, -48, -28, -28, 22)\n",
       " (-40, -37, -48, -47, -28, 22)\n",
       " (-40, -37, -46, -28, -28, -9)\n",
       " (-42, -37, -27, -4, -28, -25)\n",
       " (-36, -27, -48, -47, -28, 22)\n",
       " (-36, -33, -46, -28, -28, -9)\n",
       " (-32, -27, -46, -28, -28, -11)\n",
       " (-36, -27, -27, -23, -28, -25)\n",
       " (-36, -27, -6, -4, -28, -25)\n",
       " (-36, -27, -22, -7, -28, -25)\n",
       " (-26, -15, -48, -47, -28, 22)\n",
       " (-26, -15, -46, -37, -28, -11)\n",
       " ⋮\n",
       " (58750, 91053, 10035, 24848, -42659, -12650)\n",
       " (-94933, -68735, -17490, 292, -1579, 5420)\n",
       " (2754, 7541, -38868, -392, -93705, -64934)\n",
       " (7542, 21460, -23224, -392, -93705, -64934)\n",
       " (7542, 21460, -38868, -23225, -93705, -85579)\n",
       " (18042, 31269, -47061, -19873, 52410, 82608)\n",
       " (29379, 68201, -51515, -41233, -45509, -34262)\n",
       " (-98677, -68218, -20295, 4826, 5421, 30729)\n",
       " (-95062, -74272, 9248, 21864, -22635, 1951)\n",
       " (7542, 29789, -48009, -23225, -85578, -64378)\n",
       " (-30115, -2925, 52679, 71889, -68644, -48667)\n",
       " (-76029, -52766, -54478, -30765, -46175, -28566)"
      ]
     },
     "execution_count": 47,
     "metadata": {},
     "output_type": "execute_result"
    }
   ],
   "source": [
    "lit_cuboids"
   ]
  },
  {
   "cell_type": "code",
   "execution_count": 48,
   "id": "471ede37-828c-4f0e-8449-0221d61e1340",
   "metadata": {},
   "outputs": [
    {
     "data": {
      "text/plain": [
       "cuboid_size (generic function with 1 method)"
      ]
     },
     "execution_count": 48,
     "metadata": {},
     "output_type": "execute_result"
    }
   ],
   "source": [
    "cuboid_size(c) = (c[2]-c[1]+1)*(c[4]-c[3]+1)*(c[6]-c[5]+1)"
   ]
  },
  {
   "cell_type": "code",
   "execution_count": 49,
   "id": "50dea046-8c7b-4a44-8385-d9cef93bc54a",
   "metadata": {},
   "outputs": [
    {
     "data": {
      "text/plain": [
       "125"
      ]
     },
     "execution_count": 49,
     "metadata": {},
     "output_type": "execute_result"
    }
   ],
   "source": [
    "cuboid_size((1,5,1,5,1,5))"
   ]
  },
  {
   "cell_type": "code",
   "execution_count": 51,
   "id": "3d7e0bc3-a0c3-4240-99d8-875735c27dc4",
   "metadata": {},
   "outputs": [
    {
     "data": {
      "text/plain": [
       "1355961721298916"
      ]
     },
     "execution_count": 51,
     "metadata": {},
     "output_type": "execute_result"
    }
   ],
   "source": [
    "cuboid_size.(lit_cuboids) |> sum"
   ]
  }
 ],
 "metadata": {
  "kernelspec": {
   "display_name": "Julia 1.6.1",
   "language": "julia",
   "name": "julia-1.6"
  },
  "language_info": {
   "file_extension": ".jl",
   "mimetype": "application/julia",
   "name": "julia",
   "version": "1.6.1"
  }
 },
 "nbformat": 4,
 "nbformat_minor": 5
}
