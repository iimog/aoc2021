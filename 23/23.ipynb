{
 "cells": [
  {
   "cell_type": "code",
   "execution_count": 2,
   "id": "7d97ceb2-6787-48ce-9d4a-5036f0fa0447",
   "metadata": {},
   "outputs": [
    {
     "data": {
      "text/plain": [
       "5-element Vector{String}:\n",
       " \"#############\"\n",
       " \"#...........#\"\n",
       " \"###D#A#B#C###\"\n",
       " \"  #B#A#D#C#\"\n",
       " \"  #########\""
      ]
     },
     "execution_count": 2,
     "metadata": {},
     "output_type": "execute_result"
    }
   ],
   "source": [
    "readlines(\"input\")"
   ]
  },
  {
   "cell_type": "markdown",
   "id": "a8d5d9f5-0b7c-41be-9621-6e403d3eb3d5",
   "metadata": {},
   "source": [
    "Try manual solution"
   ]
  },
  {
   "cell_type": "code",
   "execution_count": 3,
   "id": "a0eed0b0-133f-4518-ab08-c55a471fa04a",
   "metadata": {},
   "outputs": [
    {
     "data": {
      "text/plain": [
       "21130"
      ]
     },
     "execution_count": 3,
     "metadata": {},
     "output_type": "execute_result"
    }
   ],
   "source": [
    "9000 + 30 + 5 + 5 + 50 + 40 + 5000 + 500 + 500 + 3000 + 3000"
   ]
  },
  {
   "cell_type": "markdown",
   "id": "c2416c1f-8194-4dc6-a0c2-4176b4c607e2",
   "metadata": {},
   "source": [
    "Not the right answer 😥"
   ]
  },
  {
   "cell_type": "code",
   "execution_count": 4,
   "id": "32c10944-d59a-42dc-a432-60a9ac949d77",
   "metadata": {},
   "outputs": [
    {
     "data": {
      "text/plain": [
       "16730"
      ]
     },
     "execution_count": 4,
     "metadata": {},
     "output_type": "execute_result"
    }
   ],
   "source": [
    "300 + 300 + 9000 + 30 + 5 + 5 + 50 + 40 + 6000 + 500 + 500"
   ]
  },
  {
   "cell_type": "markdown",
   "id": "1d603eee-cffb-4dd7-ae5a-f503cc5f9697",
   "metadata": {},
   "source": [
    "Still not the right answer 😥\n",
    "\n",
    "Okay then, let's model it..."
   ]
  },
  {
   "cell_type": "code",
   "execution_count": 11,
   "id": "b2c7c7ca-f33b-4f08-8677-9ed029b1ee40",
   "metadata": {},
   "outputs": [
    {
     "data": {
      "text/plain": [
       "Dict{Char, Int64} with 4 entries:\n",
       "  'C' => 7\n",
       "  'D' => 9\n",
       "  'A' => 3\n",
       "  'B' => 5"
      ]
     },
     "execution_count": 11,
     "metadata": {},
     "output_type": "execute_result"
    }
   ],
   "source": [
    "target_x = Dict('A'=>3, 'B'=>5, 'C'=>7, 'D'=>9)"
   ]
  },
  {
   "cell_type": "code",
   "execution_count": 77,
   "id": "10d53011-cce9-4d4e-9a8a-3ae5ab22cbb2",
   "metadata": {},
   "outputs": [
    {
     "data": {
      "text/plain": [
       "Dict{Char, Int64} with 4 entries:\n",
       "  'C' => 100\n",
       "  'D' => 1000\n",
       "  'A' => 1\n",
       "  'B' => 10"
      ]
     },
     "execution_count": 77,
     "metadata": {},
     "output_type": "execute_result"
    }
   ],
   "source": [
    "step_cost = Dict('A'=>1, 'B'=>10, 'C'=>100, 'D'=>1000)"
   ]
  },
  {
   "cell_type": "code",
   "execution_count": 84,
   "id": "3b04b68c-6be8-4985-93d3-a169f9cd0197",
   "metadata": {},
   "outputs": [
    {
     "data": {
      "text/plain": [
       "1-element Vector{Tuple{Vector{Tuple{Int64, Int64, Char}}, Set{Tuple{Int64, Int64}}, Int64}}:\n",
       " ([(3, 2, 'D'), (3, 3, 'B'), (5, 2, 'A'), (5, 3, 'A'), (7, 2, 'B'), (7, 3, 'D'), (9, 2, 'C'), (9, 3, 'C')], Set([(8, 1), (1, 1), (4, 1), (6, 1), (2, 1), (10, 1), (11, 1)]), 0)"
      ]
     },
     "execution_count": 84,
     "metadata": {},
     "output_type": "execute_result"
    }
   ],
   "source": [
    "empty_spaces = Set([(i,1) for i in [1,2,4,6,8,10,11]])\n",
    "positions = [(3,2,'D'),(3,3,'B'),(5,2,'A'),(5,3,'A'),(7,2,'B'),(7,3,'D'),(9,2,'C'),(9,3,'C')]\n",
    "possibilities = [(positions, empty_spaces, 0)]"
   ]
  },
  {
   "cell_type": "code",
   "execution_count": 28,
   "id": "58942eee-a613-4dde-8a6b-7b5dd6676a52",
   "metadata": {},
   "outputs": [
    {
     "data": {
      "text/plain": [
       "occupied (generic function with 1 method)"
      ]
     },
     "execution_count": 28,
     "metadata": {},
     "output_type": "execute_result"
    }
   ],
   "source": [
    "all_spaces = Set([empty_spaces..., [(x[1],x[2]) for x in positions]...])\n",
    "occupied(empty) = setdiff(all_spaces, empty)"
   ]
  },
  {
   "cell_type": "code",
   "execution_count": 29,
   "id": "696c119c-94e1-498c-b61b-61191eab4756",
   "metadata": {},
   "outputs": [
    {
     "data": {
      "text/plain": [
       "Set{Tuple{Int64, Int64}} with 8 elements:\n",
       "  (9, 2)\n",
       "  (9, 3)\n",
       "  (3, 2)\n",
       "  (5, 2)\n",
       "  (3, 3)\n",
       "  (5, 3)\n",
       "  (7, 2)\n",
       "  (7, 3)"
      ]
     },
     "execution_count": 29,
     "metadata": {},
     "output_type": "execute_result"
    }
   ],
   "source": [
    "occupied(empty_spaces)"
   ]
  },
  {
   "cell_type": "code",
   "execution_count": 15,
   "id": "6893217f-de01-4499-abef-917deef22bf9",
   "metadata": {},
   "outputs": [
    {
     "data": {
      "text/plain": [
       "is_finished (generic function with 1 method)"
      ]
     },
     "execution_count": 15,
     "metadata": {},
     "output_type": "execute_result"
    }
   ],
   "source": [
    "function is_finished(possibility)\n",
    "    (pos, space, cost) = possibility\n",
    "    for p in pos\n",
    "        if p[2]<2 || p[1] != target_x[p[3]]\n",
    "            return false\n",
    "        end\n",
    "    end\n",
    "    return true\n",
    "end"
   ]
  },
  {
   "cell_type": "code",
   "execution_count": 17,
   "id": "0d3d5fcf-6e4a-4f8e-9aa3-e6c1fd2aaefc",
   "metadata": {},
   "outputs": [
    {
     "data": {
      "text/plain": [
       "false"
      ]
     },
     "execution_count": 17,
     "metadata": {},
     "output_type": "execute_result"
    }
   ],
   "source": [
    "is_finished(possibilities[1])"
   ]
  },
  {
   "cell_type": "code",
   "execution_count": 60,
   "id": "96fffe6f-1c36-4b67-b7e7-089735c8dfd0",
   "metadata": {},
   "outputs": [
    {
     "data": {
      "text/plain": [
       "way_blocked (generic function with 1 method)"
      ]
     },
     "execution_count": 60,
     "metadata": {},
     "output_type": "execute_result"
    }
   ],
   "source": [
    "function way_blocked(from, to, space)\n",
    "    occ = occupied(space)\n",
    "    if from[2]==3 && (from[1],2) ∈ occ\n",
    "        return true\n",
    "    end\n",
    "    if to[2]==3 && (to[1],2) ∈ occ\n",
    "        return true\n",
    "    end\n",
    "    return length(filter(x->x[1] ∈ min(from[1],to[1])+1:max(from[1],to[1])-1 && x[2]==1,occ)) > 0\n",
    "end"
   ]
  },
  {
   "cell_type": "code",
   "execution_count": 51,
   "id": "c06d3e4d-c1be-4761-92c4-48f068380291",
   "metadata": {},
   "outputs": [
    {
     "data": {
      "text/plain": [
       "((3, 2, 'D'), (1, 1), [(1, 1), (2, 1), (4, 1), (6, 1), (8, 1), (10, 1), (11, 1)])"
      ]
     },
     "execution_count": 51,
     "metadata": {},
     "output_type": "execute_result"
    }
   ],
   "source": [
    "positions[1],empty_spaces[1],empty_spaces"
   ]
  },
  {
   "cell_type": "code",
   "execution_count": 52,
   "id": "b83c85bc-2fab-45f4-a7b3-23b16e906d2f",
   "metadata": {},
   "outputs": [
    {
     "data": {
      "text/plain": [
       "false"
      ]
     },
     "execution_count": 52,
     "metadata": {},
     "output_type": "execute_result"
    }
   ],
   "source": [
    "way_blocked(positions[1],empty_spaces[1],empty_spaces)"
   ]
  },
  {
   "cell_type": "code",
   "execution_count": 53,
   "id": "236df38a-40f3-45a7-8aed-eca916f44af6",
   "metadata": {},
   "outputs": [
    {
     "data": {
      "text/plain": [
       "true"
      ]
     },
     "execution_count": 53,
     "metadata": {},
     "output_type": "execute_result"
    }
   ],
   "source": [
    "way_blocked(positions[1],positions[3],empty_spaces)"
   ]
  },
  {
   "cell_type": "code",
   "execution_count": 97,
   "id": "d051e6e1-00cb-46f7-9a19-c48ea90b4f71",
   "metadata": {},
   "outputs": [
    {
     "data": {
      "text/plain": [
       "move_possible (generic function with 1 method)"
      ]
     },
     "execution_count": 97,
     "metadata": {},
     "output_type": "execute_result"
    }
   ],
   "source": [
    "function move_possible(possibility, from, to)\n",
    "    (pos, space, cost) = possibility\n",
    "    if from[2]==1 && to[2]==1\n",
    "        return false\n",
    "    end\n",
    "    if to[2]==3\n",
    "        if to[1] != target_x[from[3]] || way_blocked(from, to, space)\n",
    "            return false\n",
    "        end\n",
    "    elseif to[2]==2\n",
    "        if from[1]==to[1] || to[1] != target_x[from[3]] || (to[1],3,from[3]) ∉ pos || way_blocked(from, to, space)\n",
    "            return false\n",
    "        end\n",
    "    else\n",
    "        if way_blocked(from, to, space) || (from[1] == target_x[from[3]] && (from[1],3,from[3]) ∈ pos)\n",
    "            return false\n",
    "        end\n",
    "    end\n",
    "    return true\n",
    "end"
   ]
  },
  {
   "cell_type": "code",
   "execution_count": 55,
   "id": "85245551-affd-4d39-9755-31ce6770227d",
   "metadata": {},
   "outputs": [
    {
     "data": {
      "text/plain": [
       "possible_moves (generic function with 1 method)"
      ]
     },
     "execution_count": 55,
     "metadata": {},
     "output_type": "execute_result"
    }
   ],
   "source": [
    "function possible_moves(possibility, i)\n",
    "    (pos, space, cost) = possibility\n",
    "    moves = []\n",
    "    from = pos[i]\n",
    "    for to in space\n",
    "        if move_possible(possibility, from, to)\n",
    "            push!(moves, to)\n",
    "        end\n",
    "    end\n",
    "    return moves\n",
    "end"
   ]
  },
  {
   "cell_type": "code",
   "execution_count": 65,
   "id": "68833f03-897e-4f23-8109-b21cfcfb259a",
   "metadata": {},
   "outputs": [
    {
     "data": {
      "text/plain": [
       "(Any[(1, 1), (2, 1), (4, 1), (6, 1), (8, 1), (10, 1), (11, 1)], Any[])"
      ]
     },
     "execution_count": 65,
     "metadata": {},
     "output_type": "execute_result"
    }
   ],
   "source": [
    "possible_moves(possibilities[1],1), possible_moves(possibilities[1],2)"
   ]
  },
  {
   "cell_type": "code",
   "execution_count": 76,
   "id": "94b5c6f2-6d55-41a3-9dd1-30289a27b7bb",
   "metadata": {},
   "outputs": [
    {
     "data": {
      "text/plain": [
       "way_length (generic function with 1 method)"
      ]
     },
     "execution_count": 76,
     "metadata": {},
     "output_type": "execute_result"
    }
   ],
   "source": [
    "function way_length(from, to)\n",
    "    if from[1] == to[1]\n",
    "        return abs(from[2]-to[2])\n",
    "    else\n",
    "        return abs(from[1]-to[1]) + from[2]-1 + to[2]-1\n",
    "    end\n",
    "end"
   ]
  },
  {
   "cell_type": "code",
   "execution_count": 120,
   "id": "8c29d63c-6252-4cad-8726-42a7968520e9",
   "metadata": {},
   "outputs": [
    {
     "data": {
      "text/plain": [
       "one_step (generic function with 1 method)"
      ]
     },
     "execution_count": 120,
     "metadata": {},
     "output_type": "execute_result"
    }
   ],
   "source": [
    "function one_step(possibilities, highscore)\n",
    "    new_possibilities = []\n",
    "    for possibility in possibilities\n",
    "        (pos, space, cost) = possibility\n",
    "        for i in 1:8\n",
    "            moves = possible_moves(possibility,i)\n",
    "            for move in moves\n",
    "                new_cost = cost + way_length(pos[i],move) * step_cost[pos[i][3]]\n",
    "                if new_cost < highscore\n",
    "                    new_empty = setdiff(space, [move])\n",
    "                    push!(new_empty, (pos[i][1],pos[i][2]))\n",
    "                    new_pos = deepcopy(pos)\n",
    "                    new_pos[i] = (move[1], move[2], new_pos[i][3])\n",
    "                    push!(new_possibilities, (new_pos, new_empty, new_cost))\n",
    "                end\n",
    "            end\n",
    "        end\n",
    "    end\n",
    "    return new_possibilities\n",
    "end"
   ]
  },
  {
   "cell_type": "code",
   "execution_count": 121,
   "id": "adaae308-db9b-4f12-8cd2-a4925d52ff1b",
   "metadata": {},
   "outputs": [
    {
     "data": {
      "text/plain": [
       "28-element Vector{Any}:\n",
       " ([(8, 1, 'D'), (3, 3, 'B'), (5, 2, 'A'), (5, 3, 'A'), (7, 2, 'B'), (7, 3, 'D'), (9, 2, 'C'), (9, 3, 'C')], Set([(3, 2), (1, 1), (4, 1), (6, 1), (2, 1), (10, 1), (11, 1)]), 6000)\n",
       " ([(1, 1, 'D'), (3, 3, 'B'), (5, 2, 'A'), (5, 3, 'A'), (7, 2, 'B'), (7, 3, 'D'), (9, 2, 'C'), (9, 3, 'C')], Set([(8, 1), (3, 2), (4, 1), (6, 1), (2, 1), (10, 1), (11, 1)]), 3000)\n",
       " ([(4, 1, 'D'), (3, 3, 'B'), (5, 2, 'A'), (5, 3, 'A'), (7, 2, 'B'), (7, 3, 'D'), (9, 2, 'C'), (9, 3, 'C')], Set([(8, 1), (3, 2), (1, 1), (6, 1), (2, 1), (10, 1), (11, 1)]), 2000)\n",
       " ([(6, 1, 'D'), (3, 3, 'B'), (5, 2, 'A'), (5, 3, 'A'), (7, 2, 'B'), (7, 3, 'D'), (9, 2, 'C'), (9, 3, 'C')], Set([(8, 1), (3, 2), (1, 1), (4, 1), (2, 1), (10, 1), (11, 1)]), 4000)\n",
       " ([(2, 1, 'D'), (3, 3, 'B'), (5, 2, 'A'), (5, 3, 'A'), (7, 2, 'B'), (7, 3, 'D'), (9, 2, 'C'), (9, 3, 'C')], Set([(8, 1), (3, 2), (1, 1), (4, 1), (6, 1), (10, 1), (11, 1)]), 2000)\n",
       " ([(10, 1, 'D'), (3, 3, 'B'), (5, 2, 'A'), (5, 3, 'A'), (7, 2, 'B'), (7, 3, 'D'), (9, 2, 'C'), (9, 3, 'C')], Set([(8, 1), (3, 2), (1, 1), (4, 1), (6, 1), (2, 1), (11, 1)]), 8000)\n",
       " ([(11, 1, 'D'), (3, 3, 'B'), (5, 2, 'A'), (5, 3, 'A'), (7, 2, 'B'), (7, 3, 'D'), (9, 2, 'C'), (9, 3, 'C')], Set([(8, 1), (3, 2), (1, 1), (4, 1), (6, 1), (2, 1), (10, 1)]), 9000)\n",
       " ([(3, 2, 'D'), (3, 3, 'B'), (8, 1, 'A'), (5, 3, 'A'), (7, 2, 'B'), (7, 3, 'D'), (9, 2, 'C'), (9, 3, 'C')], Set([(1, 1), (5, 2), (4, 1), (6, 1), (2, 1), (10, 1), (11, 1)]), 4)\n",
       " ([(3, 2, 'D'), (3, 3, 'B'), (1, 1, 'A'), (5, 3, 'A'), (7, 2, 'B'), (7, 3, 'D'), (9, 2, 'C'), (9, 3, 'C')], Set([(8, 1), (5, 2), (4, 1), (6, 1), (2, 1), (10, 1), (11, 1)]), 5)\n",
       " ([(3, 2, 'D'), (3, 3, 'B'), (4, 1, 'A'), (5, 3, 'A'), (7, 2, 'B'), (7, 3, 'D'), (9, 2, 'C'), (9, 3, 'C')], Set([(8, 1), (1, 1), (5, 2), (6, 1), (2, 1), (10, 1), (11, 1)]), 2)\n",
       " ([(3, 2, 'D'), (3, 3, 'B'), (6, 1, 'A'), (5, 3, 'A'), (7, 2, 'B'), (7, 3, 'D'), (9, 2, 'C'), (9, 3, 'C')], Set([(8, 1), (1, 1), (5, 2), (4, 1), (2, 1), (10, 1), (11, 1)]), 2)\n",
       " ([(3, 2, 'D'), (3, 3, 'B'), (2, 1, 'A'), (5, 3, 'A'), (7, 2, 'B'), (7, 3, 'D'), (9, 2, 'C'), (9, 3, 'C')], Set([(8, 1), (1, 1), (5, 2), (4, 1), (6, 1), (10, 1), (11, 1)]), 4)\n",
       " ([(3, 2, 'D'), (3, 3, 'B'), (10, 1, 'A'), (5, 3, 'A'), (7, 2, 'B'), (7, 3, 'D'), (9, 2, 'C'), (9, 3, 'C')], Set([(8, 1), (1, 1), (5, 2), (4, 1), (6, 1), (2, 1), (11, 1)]), 6)\n",
       " ⋮\n",
       " ([(3, 2, 'D'), (3, 3, 'B'), (5, 2, 'A'), (5, 3, 'A'), (4, 1, 'B'), (7, 3, 'D'), (9, 2, 'C'), (9, 3, 'C')], Set([(8, 1), (1, 1), (7, 2), (6, 1), (2, 1), (10, 1), (11, 1)]), 40)\n",
       " ([(3, 2, 'D'), (3, 3, 'B'), (5, 2, 'A'), (5, 3, 'A'), (6, 1, 'B'), (7, 3, 'D'), (9, 2, 'C'), (9, 3, 'C')], Set([(8, 1), (1, 1), (4, 1), (7, 2), (2, 1), (10, 1), (11, 1)]), 20)\n",
       " ([(3, 2, 'D'), (3, 3, 'B'), (5, 2, 'A'), (5, 3, 'A'), (2, 1, 'B'), (7, 3, 'D'), (9, 2, 'C'), (9, 3, 'C')], Set([(8, 1), (1, 1), (4, 1), (6, 1), (7, 2), (10, 1), (11, 1)]), 60)\n",
       " ([(3, 2, 'D'), (3, 3, 'B'), (5, 2, 'A'), (5, 3, 'A'), (10, 1, 'B'), (7, 3, 'D'), (9, 2, 'C'), (9, 3, 'C')], Set([(8, 1), (1, 1), (4, 1), (6, 1), (7, 2), (2, 1), (11, 1)]), 40)\n",
       " ([(3, 2, 'D'), (3, 3, 'B'), (5, 2, 'A'), (5, 3, 'A'), (11, 1, 'B'), (7, 3, 'D'), (9, 2, 'C'), (9, 3, 'C')], Set([(8, 1), (1, 1), (4, 1), (6, 1), (7, 2), (2, 1), (10, 1)]), 50)\n",
       " ([(3, 2, 'D'), (3, 3, 'B'), (5, 2, 'A'), (5, 3, 'A'), (7, 2, 'B'), (7, 3, 'D'), (8, 1, 'C'), (9, 3, 'C')], Set([(1, 1), (4, 1), (6, 1), (2, 1), (10, 1), (11, 1), (9, 2)]), 200)\n",
       " ([(3, 2, 'D'), (3, 3, 'B'), (5, 2, 'A'), (5, 3, 'A'), (7, 2, 'B'), (7, 3, 'D'), (1, 1, 'C'), (9, 3, 'C')], Set([(8, 1), (4, 1), (6, 1), (2, 1), (10, 1), (11, 1), (9, 2)]), 900)\n",
       " ([(3, 2, 'D'), (3, 3, 'B'), (5, 2, 'A'), (5, 3, 'A'), (7, 2, 'B'), (7, 3, 'D'), (4, 1, 'C'), (9, 3, 'C')], Set([(8, 1), (1, 1), (6, 1), (2, 1), (10, 1), (11, 1), (9, 2)]), 600)\n",
       " ([(3, 2, 'D'), (3, 3, 'B'), (5, 2, 'A'), (5, 3, 'A'), (7, 2, 'B'), (7, 3, 'D'), (6, 1, 'C'), (9, 3, 'C')], Set([(8, 1), (1, 1), (4, 1), (2, 1), (10, 1), (11, 1), (9, 2)]), 400)\n",
       " ([(3, 2, 'D'), (3, 3, 'B'), (5, 2, 'A'), (5, 3, 'A'), (7, 2, 'B'), (7, 3, 'D'), (2, 1, 'C'), (9, 3, 'C')], Set([(8, 1), (1, 1), (4, 1), (6, 1), (10, 1), (11, 1), (9, 2)]), 800)\n",
       " ([(3, 2, 'D'), (3, 3, 'B'), (5, 2, 'A'), (5, 3, 'A'), (7, 2, 'B'), (7, 3, 'D'), (10, 1, 'C'), (9, 3, 'C')], Set([(8, 1), (1, 1), (4, 1), (6, 1), (2, 1), (9, 2), (11, 1)]), 200)\n",
       " ([(3, 2, 'D'), (3, 3, 'B'), (5, 2, 'A'), (5, 3, 'A'), (7, 2, 'B'), (7, 3, 'D'), (11, 1, 'C'), (9, 3, 'C')], Set([(8, 1), (1, 1), (4, 1), (6, 1), (2, 1), (10, 1), (9, 2)]), 300)"
      ]
     },
     "execution_count": 121,
     "metadata": {},
     "output_type": "execute_result"
    }
   ],
   "source": [
    "one_step(possibilities, highscore)"
   ]
  },
  {
   "cell_type": "code",
   "execution_count": 159,
   "id": "1b07a781-fd21-4a4c-b206-e6db4632604a",
   "metadata": {},
   "outputs": [
    {
     "name": "stdout",
     "output_type": "stream",
     "text": [
      "28\n",
      "353\n",
      "2347\n",
      "9200\n",
      "23359\n",
      "46717\n",
      "86527\n",
      "150765\n",
      "246407\n",
      "362057\n",
      "451021\n",
      "226035\n",
      "117939\n",
      "37905\n",
      "4905\n",
      "0\n"
     ]
    }
   ],
   "source": [
    "highscore = 20000\n",
    "remaining_possibilities = possibilities\n",
    "while length(remaining_possibilities) > 0\n",
    "#for i in 1:20\n",
    "    remaining_possibilities = one_step(remaining_possibilities, highscore)\n",
    "    unique!(x->(Set(x[1]),x[3]),remaining_possibilities)\n",
    "    finished_indices = is_finished.(remaining_possibilities)\n",
    "    if any(finished_indices)\n",
    "        highscore = minimum([x[3] for x in remaining_possibilities[finished_indices]])\n",
    "        remaining_possibilities = remaining_possibilities[finished_indices .== 0]\n",
    "    end\n",
    "    println(length(remaining_possibilities))\n",
    "end"
   ]
  },
  {
   "cell_type": "code",
   "execution_count": 149,
   "id": "7ff7372b-e9c2-4317-aa98-889c023a0289",
   "metadata": {},
   "outputs": [
    {
     "data": {
      "text/plain": [
       "15516"
      ]
     },
     "execution_count": 149,
     "metadata": {},
     "output_type": "execute_result"
    }
   ],
   "source": [
    "highscore"
   ]
  },
  {
   "cell_type": "markdown",
   "id": "e1f1039a-0b73-42f6-a140-ea634114a460",
   "metadata": {},
   "source": [
    "## Part II"
   ]
  },
  {
   "cell_type": "markdown",
   "id": "70d51bb4-2f95-49a6-be33-b70109039348",
   "metadata": {},
   "source": [
    "Add between 2 and 3:\n",
    "```\n",
    "  #D#C#B#A#\n",
    "  #D#B#A#C#\n",
    "```"
   ]
  },
  {
   "cell_type": "code",
   "execution_count": 160,
   "id": "f4cbdf86-1f7f-4007-8418-05a6738baf7e",
   "metadata": {},
   "outputs": [
    {
     "data": {
      "text/plain": [
       "1-element Vector{Tuple{Vector{Tuple{Int64, Int64, Char}}, Set{Tuple{Int64, Int64}}, Int64}}:\n",
       " ([(3, 2, 'D'), (3, 5, 'B'), (5, 2, 'A'), (5, 5, 'A'), (7, 2, 'B'), (7, 5, 'D'), (9, 2, 'C'), (9, 5, 'C'), (3, 3, 'D'), (3, 4, 'D'), (5, 3, 'C'), (5, 4, 'B'), (7, 3, 'B'), (7, 4, 'A'), (9, 3, 'A'), (9, 4, 'C')], Set([(8, 1), (1, 1), (4, 1), (6, 1), (2, 1), (10, 1), (11, 1)]), 0)"
      ]
     },
     "execution_count": 160,
     "metadata": {},
     "output_type": "execute_result"
    }
   ],
   "source": [
    "empty_spaces = Set([(i,1) for i in [1,2,4,6,8,10,11]])\n",
    "positions = [(3,2,'D'),(3,5,'B'),(5,2,'A'),(5,5,'A'),(7,2,'B'),(7,5,'D'),(9,2,'C'),(9,5,'C'),\n",
    "             (3,3,'D'),(3,4,'D'),(5,3,'C'),(5,4,'B'),(7,3,'B'),(7,4,'A'),(9,3,'A'),(9,4,'C')]\n",
    "possibilities = [(positions, empty_spaces, 0)]"
   ]
  },
  {
   "cell_type": "code",
   "execution_count": 161,
   "id": "bf453895-ccaf-4405-bd73-6587cfc28ecc",
   "metadata": {},
   "outputs": [
    {
     "data": {
      "text/plain": [
       "occupied (generic function with 1 method)"
      ]
     },
     "execution_count": 161,
     "metadata": {},
     "output_type": "execute_result"
    }
   ],
   "source": [
    "all_spaces = Set([empty_spaces..., [(x[1],x[2]) for x in positions]...])\n",
    "occupied(empty) = setdiff(all_spaces, empty)"
   ]
  },
  {
   "cell_type": "code",
   "execution_count": 162,
   "id": "e9003196-a710-4bca-b09b-52db80c92cfc",
   "metadata": {},
   "outputs": [
    {
     "data": {
      "text/plain": [
       "way_blocked (generic function with 1 method)"
      ]
     },
     "execution_count": 162,
     "metadata": {},
     "output_type": "execute_result"
    }
   ],
   "source": [
    "function way_blocked(from, to, space)\n",
    "    occ = occupied(space)\n",
    "    if from[2]>2 && any(x->x[1]==from[1] && x[2] ∈ 1:from[2]-1,occ)\n",
    "        return true\n",
    "    end\n",
    "    if to[2]>2 && any(x->x[1]==to[1] && x[2] ∈ 1:to[2]-1,occ)\n",
    "        return true\n",
    "    end\n",
    "    return any(x->x[1] ∈ min(from[1],to[1])+1:max(from[1],to[1])-1 && x[2]==1,occ)\n",
    "end"
   ]
  },
  {
   "cell_type": "code",
   "execution_count": 163,
   "id": "05f8c1e3-6ddf-4e04-928d-8ef8fa7638bd",
   "metadata": {},
   "outputs": [
    {
     "data": {
      "text/plain": [
       "move_possible (generic function with 1 method)"
      ]
     },
     "execution_count": 163,
     "metadata": {},
     "output_type": "execute_result"
    }
   ],
   "source": [
    "function move_possible(possibility, from, to)\n",
    "    (pos, space, cost) = possibility\n",
    "    if from[2]==1 && to[2]==1\n",
    "        return false\n",
    "    end\n",
    "    if way_blocked(from, to, space)\n",
    "        return false\n",
    "    end\n",
    "    if from[1] == target_x[from[3]] && all(x->(from[1],x,from[3]) ∈ pos,from[2]:5)\n",
    "        return false\n",
    "    end\n",
    "    if to[2]>1\n",
    "        if to[1] != target_x[from[3]]\n",
    "            return false\n",
    "        end\n",
    "        if to[2]<5 && any(x->(to[1],x,from[3]) ∉ pos,to[2]+1:5)\n",
    "            return false\n",
    "        end\n",
    "    end\n",
    "    return true\n",
    "end"
   ]
  },
  {
   "cell_type": "code",
   "execution_count": 164,
   "id": "12ae8e92-18e3-4bb6-92a0-130cb87c39c2",
   "metadata": {},
   "outputs": [
    {
     "data": {
      "text/plain": [
       "one_step (generic function with 1 method)"
      ]
     },
     "execution_count": 164,
     "metadata": {},
     "output_type": "execute_result"
    }
   ],
   "source": [
    "function one_step(possibilities, highscore)\n",
    "    new_possibilities = []\n",
    "    for possibility in possibilities\n",
    "        (pos, space, cost) = possibility\n",
    "        for i in 1:16\n",
    "            moves = possible_moves(possibility,i)\n",
    "            for move in moves\n",
    "                new_cost = cost + way_length(pos[i],move) * step_cost[pos[i][3]]\n",
    "                if new_cost < highscore\n",
    "                    new_empty = setdiff(space, [move])\n",
    "                    push!(new_empty, (pos[i][1],pos[i][2]))\n",
    "                    new_pos = deepcopy(pos)\n",
    "                    new_pos[i] = (move[1], move[2], new_pos[i][3])\n",
    "                    push!(new_possibilities, (new_pos, new_empty, new_cost))\n",
    "                end\n",
    "            end\n",
    "        end\n",
    "    end\n",
    "    return new_possibilities\n",
    "end"
   ]
  },
  {
   "cell_type": "code",
   "execution_count": 167,
   "id": "0ad3665c-d609-47ee-bf02-6098fd8652b7",
   "metadata": {},
   "outputs": [
    {
     "name": "stdout",
     "output_type": "stream",
     "text": [
      "28\n",
      "353\n",
      "2560\n",
      "11300\n",
      "29757\n",
      "43855\n",
      "33569\n",
      "20373\n",
      "27423\n",
      "31665\n",
      "30750\n",
      "22978\n",
      "14669\n",
      "9400\n",
      "9278\n",
      "9186\n",
      "9143\n",
      "9028\n",
      "9057\n",
      "9817\n",
      "11549\n",
      "13500\n",
      "15347\n",
      "11538\n",
      "11026\n",
      "9754\n",
      "7268\n",
      "3773\n",
      "1100\n",
      "257\n"
     ]
    }
   ],
   "source": [
    "highscore = 50000\n",
    "remaining_possibilities = possibilities\n",
    "#while length(remaining_possibilities) > 0\n",
    "for i in 1:30\n",
    "    remaining_possibilities = one_step(remaining_possibilities, highscore)\n",
    "    unique!(x->(Set(x[1]),x[3]),remaining_possibilities)\n",
    "    finished_indices = is_finished.(remaining_possibilities)\n",
    "    if any(finished_indices)\n",
    "        highscore = minimum([x[3] for x in remaining_possibilities[finished_indices]])\n",
    "        remaining_possibilities = remaining_possibilities[finished_indices .== 0]\n",
    "    end\n",
    "    println(length(remaining_possibilities))\n",
    "end"
   ]
  },
  {
   "cell_type": "code",
   "execution_count": 168,
   "id": "ed2560bc-4ac1-4194-a325-2637364584be",
   "metadata": {},
   "outputs": [
    {
     "data": {
      "text/plain": [
       "45272"
      ]
     },
     "execution_count": 168,
     "metadata": {},
     "output_type": "execute_result"
    }
   ],
   "source": [
    "highscore"
   ]
  },
  {
   "cell_type": "markdown",
   "id": "a06460f9-3f1f-41cd-bed9-2b0f8df688fc",
   "metadata": {},
   "source": [
    "Wow 😮‍💨"
   ]
  }
 ],
 "metadata": {
  "kernelspec": {
   "display_name": "Julia 1.6.1",
   "language": "julia",
   "name": "julia-1.6"
  },
  "language_info": {
   "file_extension": ".jl",
   "mimetype": "application/julia",
   "name": "julia",
   "version": "1.6.1"
  }
 },
 "nbformat": 4,
 "nbformat_minor": 5
}
