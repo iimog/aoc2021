{
 "cells": [
  {
   "cell_type": "code",
   "execution_count": 3,
   "id": "8a01803a-7d9e-4819-84bf-93776c3612b1",
   "metadata": {},
   "outputs": [
    {
     "data": {
      "text/plain": [
       "252-element Vector{Vector{SubString{String}}}:\n",
       " [\"inp\", \"w\"]\n",
       " [\"mul\", \"x\", \"0\"]\n",
       " [\"add\", \"x\", \"z\"]\n",
       " [\"mod\", \"x\", \"26\"]\n",
       " [\"div\", \"z\", \"1\"]\n",
       " [\"add\", \"x\", \"12\"]\n",
       " [\"eql\", \"x\", \"w\"]\n",
       " [\"eql\", \"x\", \"0\"]\n",
       " [\"mul\", \"y\", \"0\"]\n",
       " [\"add\", \"y\", \"25\"]\n",
       " [\"mul\", \"y\", \"x\"]\n",
       " [\"add\", \"y\", \"1\"]\n",
       " [\"mul\", \"z\", \"y\"]\n",
       " ⋮\n",
       " [\"eql\", \"x\", \"w\"]\n",
       " [\"eql\", \"x\", \"0\"]\n",
       " [\"mul\", \"y\", \"0\"]\n",
       " [\"add\", \"y\", \"25\"]\n",
       " [\"mul\", \"y\", \"x\"]\n",
       " [\"add\", \"y\", \"1\"]\n",
       " [\"mul\", \"z\", \"y\"]\n",
       " [\"mul\", \"y\", \"0\"]\n",
       " [\"add\", \"y\", \"w\"]\n",
       " [\"add\", \"y\", \"14\"]\n",
       " [\"mul\", \"y\", \"x\"]\n",
       " [\"add\", \"z\", \"y\"]"
      ]
     },
     "execution_count": 3,
     "metadata": {},
     "output_type": "execute_result"
    }
   ],
   "source": [
    "instructions = readlines(\"input\") .|> x->split(x,\" \")"
   ]
  },
  {
   "cell_type": "markdown",
   "id": "061ec5bd-a512-4955-b6d2-94897ae33e62",
   "metadata": {},
   "source": [
    "Many of the instructions look like no-ops (e.g. the second one, \"mul x 0\" does nothing as x is already initialized as 0. Anyway, my first approach is to write an interpreter that performs these operations."
   ]
  },
  {
   "cell_type": "code",
   "execution_count": 16,
   "id": "9926be92-0c9f-42e8-9bc7-8201c28eab41",
   "metadata": {},
   "outputs": [
    {
     "data": {
      "text/plain": [
       "Dict{String, Int64} with 4 entries:\n",
       "  \"w\" => 0\n",
       "  \"x\" => 0\n",
       "  \"z\" => 0\n",
       "  \"y\" => 0"
      ]
     },
     "execution_count": 16,
     "metadata": {},
     "output_type": "execute_result"
    }
   ],
   "source": [
    "initial_state() = Dict(\"w\"=>0, \"x\" => 0, \"y\" => 0, \"z\" => 0)\n",
    "initial_state()"
   ]
  },
  {
   "cell_type": "code",
   "execution_count": 17,
   "id": "f0bb04a0-8b15-4c9b-a84c-8ebeae86afd9",
   "metadata": {},
   "outputs": [
    {
     "data": {
      "text/plain": [
       "KeySet for a Dict{String, Int64} with 4 entries. Keys:\n",
       "  \"w\"\n",
       "  \"x\"\n",
       "  \"z\"\n",
       "  \"y\""
      ]
     },
     "execution_count": 17,
     "metadata": {},
     "output_type": "execute_result"
    }
   ],
   "source": [
    "possible_keys = keys(initial_state())"
   ]
  },
  {
   "cell_type": "code",
   "execution_count": 39,
   "id": "bccf7501-ba52-4e97-9c8b-0efa34c73a8f",
   "metadata": {},
   "outputs": [
    {
     "data": {
      "text/plain": [
       "perform_operation (generic function with 1 method)"
      ]
     },
     "execution_count": 39,
     "metadata": {},
     "output_type": "execute_result"
    }
   ],
   "source": [
    "function perform_operation(state, operation, input)\n",
    "    op3 = 0\n",
    "    if length(operation)>2\n",
    "        op3 = operation[3]\n",
    "        if op3 ∈ possible_keys\n",
    "            op3 = state[op3]\n",
    "        else\n",
    "            op3 = parse(Int, op3)\n",
    "        end\n",
    "    end\n",
    "    if operation[1] == \"inp\"\n",
    "        state[operation[2]] = pop!(input)\n",
    "    elseif operation[1] == \"add\"\n",
    "        state[operation[2]] += op3\n",
    "    elseif operation[1] == \"mul\"\n",
    "        state[operation[2]] *= op3\n",
    "    elseif operation[1] == \"div\"\n",
    "        state[operation[2]] ÷= op3 # integer division\n",
    "    elseif operation[1] == \"mod\"\n",
    "        state[operation[2]] %= op3\n",
    "    elseif operation[1] == \"eql\"\n",
    "        state[operation[2]] = state[operation[2]]==op3 ? 1 : 0\n",
    "    else\n",
    "        println(\"Illegal instruction: \"*operation[1])\n",
    "    end\n",
    "end"
   ]
  },
  {
   "cell_type": "code",
   "execution_count": 32,
   "id": "ee654154-4a63-4c8b-a9e5-889eefbc8963",
   "metadata": {},
   "outputs": [
    {
     "data": {
      "text/plain": [
       "monad (generic function with 1 method)"
      ]
     },
     "execution_count": 32,
     "metadata": {},
     "output_type": "execute_result"
    }
   ],
   "source": [
    "function monad(input)\n",
    "    state = initial_state()\n",
    "    for inst in instructions\n",
    "        perform_operation(state, inst, input)\n",
    "    end\n",
    "    return state\n",
    "end"
   ]
  },
  {
   "cell_type": "code",
   "execution_count": 33,
   "id": "31c81991-e4ad-4c52-a997-eb981dd68f92",
   "metadata": {},
   "outputs": [
    {
     "data": {
      "text/plain": [
       "Dict{String, Int64} with 4 entries:\n",
       "  \"w\" => 9\n",
       "  \"x\" => 1\n",
       "  \"z\" => 5150970289\n",
       "  \"y\" => 23"
      ]
     },
     "execution_count": 33,
     "metadata": {},
     "output_type": "execute_result"
    }
   ],
   "source": [
    "monad([9,9,9,9,9,9,9,9,9,9,9,9,9,9])"
   ]
  },
  {
   "cell_type": "code",
   "execution_count": 38,
   "id": "13638244-c162-4c89-9178-8baa5997479c",
   "metadata": {},
   "outputs": [
    {
     "data": {
      "text/plain": [
       "7-element Vector{Int64}:\n",
       " 4\n",
       " 3\n",
       " 2\n",
       " 9\n",
       " 3\n",
       " 7\n",
       " 9"
      ]
     },
     "execution_count": 38,
     "metadata": {},
     "output_type": "execute_result"
    }
   ],
   "source": [
    "digits(9739234)"
   ]
  },
  {
   "cell_type": "markdown",
   "id": "c0ebdf24-ae1a-4f2f-869f-467c88dce358",
   "metadata": {},
   "source": [
    "I don't expect this to work. But let's give brute-force a shot first."
   ]
  },
  {
   "cell_type": "code",
   "execution_count": 73,
   "id": "b07dc413-65b7-4731-8c11-06ece5bed0ff",
   "metadata": {},
   "outputs": [
    {
     "ename": "LoadError",
     "evalue": "InterruptException:",
     "output_type": "error",
     "traceback": [
      "InterruptException:",
      "",
      "Stacktrace:",
      " [1] monad(input::Vector{Int64})",
      "   @ Main ./In[32]:4",
      " [2] top-level scope",
      "   @ ./In[73]:4",
      " [3] eval",
      "   @ ./boot.jl:360 [inlined]",
      " [4] include_string(mapexpr::typeof(REPL.softscope), mod::Module, code::String, filename::String)",
      "   @ Base ./loading.jl:1094"
     ]
    }
   ],
   "source": [
    "for i in 99993999999999:-1:99993899999999\n",
    "    d = digits(i)\n",
    "    if 0 ∉ d\n",
    "        s = monad(digits(i))\n",
    "        if s[\"z\"] == 0\n",
    "            println(i)\n",
    "            break\n",
    "        end\n",
    "    end\n",
    "end"
   ]
  },
  {
   "cell_type": "code",
   "execution_count": 81,
   "id": "11f51f85-8247-4ae7-a98a-fe033470ec5d",
   "metadata": {},
   "outputs": [
    {
     "data": {
      "text/plain": [
       "Dict{String, Int64} with 4 entries:\n",
       "  \"w\" => 8\n",
       "  \"x\" => 0\n",
       "  \"z\" => 11268\n",
       "  \"y\" => 0"
      ]
     },
     "execution_count": 81,
     "metadata": {},
     "output_type": "execute_result"
    }
   ],
   "source": [
    "monad(digits(99993939993998))"
   ]
  },
  {
   "cell_type": "code",
   "execution_count": 61,
   "id": "9e31ec14-9f84-4218-83c8-9b557516fad2",
   "metadata": {},
   "outputs": [
    {
     "data": {
      "text/plain": [
       "Dict{String, Int64} with 4 entries:\n",
       "  \"w\" => 9\n",
       "  \"x\" => 1\n",
       "  \"z\" => 195364361\n",
       "  \"y\" => 23"
      ]
     },
     "execution_count": 61,
     "metadata": {},
     "output_type": "execute_result"
    }
   ],
   "source": [
    "monad(digits(93999939939999))"
   ]
  },
  {
   "cell_type": "code",
   "execution_count": 54,
   "id": "58c02e21-f402-4f61-92cb-11585ec0de6f",
   "metadata": {},
   "outputs": [
    {
     "data": {
      "text/plain": [
       "Dict{String, Int64} with 4 entries:\n",
       "  \"w\" => 9\n",
       "  \"x\" => 1\n",
       "  \"z\" => 196436497\n",
       "  \"y\" => 23"
      ]
     },
     "execution_count": 54,
     "metadata": {},
     "output_type": "execute_result"
    }
   ],
   "source": [
    "monad(digits(99199199999999))"
   ]
  },
  {
   "cell_type": "code",
   "execution_count": 55,
   "id": "6a6df11b-5e92-428c-9aac-8bdce4ce1781",
   "metadata": {},
   "outputs": [
    {
     "data": {
      "text/plain": [
       "Dict{String, Int64} with 4 entries:\n",
       "  \"w\" => 9\n",
       "  \"x\" => 1\n",
       "  \"z\" => 5150970289\n",
       "  \"y\" => 23"
      ]
     },
     "execution_count": 55,
     "metadata": {},
     "output_type": "execute_result"
    }
   ],
   "source": [
    "monad(digits(99999999999999))"
   ]
  },
  {
   "cell_type": "code",
   "execution_count": 57,
   "id": "3cc5b55f-3e84-4f06-8e19-7e36a0563dac",
   "metadata": {},
   "outputs": [
    {
     "data": {
      "text/plain": [
       "26.001053207734515"
      ]
     },
     "execution_count": 57,
     "metadata": {},
     "output_type": "execute_result"
    }
   ],
   "source": [
    "5150970289 / 198106217"
   ]
  },
  {
   "cell_type": "markdown",
   "id": "5b52c304-9de6-459e-9724-20abb8583278",
   "metadata": {},
   "source": [
    "Even with some reverse engineering this does not seem to work. So let's try another thing...\n",
    "Try digit by digit and keep track of state. Only save distinct states and remember the highest number that leads there."
   ]
  },
  {
   "cell_type": "code",
   "execution_count": 88,
   "id": "2a9941b3-ff26-4478-8ac5-600b96cf2d11",
   "metadata": {},
   "outputs": [
    {
     "data": {
      "text/plain": [
       "1×15 adjoint(::Vector{Int64}) with eltype Int64:\n",
       " 1  19  37  55  73  91  109  127  145  163  181  199  217  235  253"
      ]
     },
     "execution_count": 88,
     "metadata": {},
     "output_type": "execute_result"
    }
   ],
   "source": [
    "inp_positions = findall(x->x[1]==\"inp\", instructions)\n",
    "push!(inp_positions, length(instructions)+1)\n",
    "inp_positions'"
   ]
  },
  {
   "cell_type": "code",
   "execution_count": 169,
   "id": "e305a2d8-19b4-4fc7-a214-f80c8b65861e",
   "metadata": {},
   "outputs": [],
   "source": [
    "possible_states = Dict()\n",
    "for i in 9:-1:7\n",
    "    inp = [i]\n",
    "    state = initial_state()\n",
    "    for inst in instructions[inp_positions[1]:inp_positions[2]-1]\n",
    "        perform_operation(state, inst, inp)\n",
    "    end\n",
    "    if state ∉ keys(possible_states)\n",
    "        possible_states[state] = i\n",
    "    end\n",
    "end"
   ]
  },
  {
   "cell_type": "code",
   "execution_count": 170,
   "id": "4abcafa8-4d27-426a-8323-efa95aaa4a4e",
   "metadata": {},
   "outputs": [
    {
     "data": {
      "text/plain": [
       "Dict{Any, Any} with 3 entries:\n",
       "  Dict(\"w\"=>7, \"x\"=>1, \"z\"=>14, \"y\"=>14) => 7\n",
       "  Dict(\"w\"=>8, \"x\"=>1, \"z\"=>15, \"y\"=>15) => 8\n",
       "  Dict(\"w\"=>9, \"x\"=>1, \"z\"=>16, \"y\"=>16) => 9"
      ]
     },
     "execution_count": 170,
     "metadata": {},
     "output_type": "execute_result"
    }
   ],
   "source": [
    "possible_states"
   ]
  },
  {
   "cell_type": "code",
   "execution_count": 171,
   "id": "d2a4bc63-1205-4d2d-abda-b4d90f6d8439",
   "metadata": {},
   "outputs": [
    {
     "name": "stdout",
     "output_type": "stream",
     "text": [
      "27\n",
      "243\n",
      "270\n",
      "372\n",
      "2565\n",
      "2850\n",
      "3610\n",
      "5922\n",
      "53298\n",
      "22950\n",
      "90234\n",
      "91710\n",
      "28166\n"
     ]
    }
   ],
   "source": [
    "for j in 2:length(inp_positions)-1\n",
    "    new_states = Dict()\n",
    "    for oldstate in sort(collect(keys(possible_states)), by = x->possible_states[x], rev=true)\n",
    "        for i in 9:-1:1\n",
    "            inp = [i]\n",
    "            state = copy(oldstate)\n",
    "            for inst in instructions[inp_positions[j]:inp_positions[j+1]-1]\n",
    "                perform_operation(state, inst, inp)\n",
    "            end\n",
    "            if state ∉ keys(new_states)\n",
    "                new_states[state] = 10*possible_states[oldstate] + i\n",
    "            end\n",
    "        end\n",
    "    end\n",
    "    lowest_z = minimum([abs(x[\"z\"]) for x in keys(new_states)])\n",
    "    # heuristic! filter keys with high z values (unlikely to get down to 0)\n",
    "    z_threshold = (lowest_z+1)*26*26*26*26\n",
    "    possible_states = filter(x->abs(first(x)[\"z\"])<z_threshold, new_states)\n",
    "    println(length(possible_states))\n",
    "    flush(stdout)\n",
    "end"
   ]
  },
  {
   "cell_type": "code",
   "execution_count": 172,
   "id": "b7981efb-432f-4b32-b694-1c50a619662e",
   "metadata": {},
   "outputs": [
    {
     "data": {
      "text/plain": [
       "Dict{Any, Any} with 5 entries:\n",
       "  Dict(\"w\"=>1, \"x\"=>0, \"z\"=>0, \"y\"=>0) => 79197919593981\n",
       "  Dict(\"w\"=>5, \"x\"=>0, \"z\"=>0, \"y\"=>0) => 79197919993985\n",
       "  Dict(\"w\"=>4, \"x\"=>0, \"z\"=>0, \"y\"=>0) => 79197919893984\n",
       "  Dict(\"w\"=>2, \"x\"=>0, \"z\"=>0, \"y\"=>0) => 79197919693982\n",
       "  Dict(\"w\"=>3, \"x\"=>0, \"z\"=>0, \"y\"=>0) => 79197919793983"
      ]
     },
     "execution_count": 172,
     "metadata": {},
     "output_type": "execute_result"
    }
   ],
   "source": [
    "filter(x->first(x)[\"z\"]==0, possible_states)"
   ]
  },
  {
   "cell_type": "code",
   "execution_count": 174,
   "id": "8aecc547-6981-44b4-a8e5-17c7d965da2f",
   "metadata": {},
   "outputs": [
    {
     "data": {
      "text/plain": [
       "5-element Vector{Any}:\n",
       " 79197919993985\n",
       " 79197919893984\n",
       " 79197919793983\n",
       " 79197919693982\n",
       " 79197919593981"
      ]
     },
     "execution_count": 174,
     "metadata": {},
     "output_type": "execute_result"
    }
   ],
   "source": [
    "sort(collect(values(filter(x->first(x)[\"z\"]==0, possible_states))), rev=true)"
   ]
  },
  {
   "cell_type": "code",
   "execution_count": 109,
   "id": "5aadb2c6-ae7d-482a-8705-52b224b074f3",
   "metadata": {},
   "outputs": [
    {
     "data": {
      "text/plain": [
       "Dict{Any, Any} with 5 entries:\n",
       "  Dict(\"w\"=>1, \"x\"=>0, \"z\"=>0, \"y\"=>0) => 37195915593651\n",
       "  Dict(\"w\"=>5, \"x\"=>0, \"z\"=>0, \"y\"=>0) => 37195915971985\n",
       "  Dict(\"w\"=>4, \"x\"=>0, \"z\"=>0, \"y\"=>0) => 37195915893654\n",
       "  Dict(\"w\"=>2, \"x\"=>0, \"z\"=>0, \"y\"=>0) => 37195915693432\n",
       "  Dict(\"w\"=>3, \"x\"=>0, \"z\"=>0, \"y\"=>0) => 37195915793543"
      ]
     },
     "execution_count": 109,
     "metadata": {},
     "output_type": "execute_result"
    }
   ],
   "source": [
    "filter(x->first(x)[\"z\"]==0, possible_states)"
   ]
  },
  {
   "cell_type": "code",
   "execution_count": 102,
   "id": "5e98ab85-abd8-440a-b558-25c5ac5c396f",
   "metadata": {},
   "outputs": [
    {
     "data": {
      "text/plain": [
       "920268-element Vector{Int64}:\n",
       "         2\n",
       "         2\n",
       "         2\n",
       "         3\n",
       "         3\n",
       "         3\n",
       "         4\n",
       "         4\n",
       "         4\n",
       "         5\n",
       "         5\n",
       "         5\n",
       "         6\n",
       "         ⋮\n",
       " 198114213\n",
       " 198114214\n",
       " 198114215\n",
       " 198114233\n",
       " 198114234\n",
       " 198114235\n",
       " 198114236\n",
       " 198114237\n",
       " 198114238\n",
       " 198114239\n",
       " 198114240\n",
       " 198114241"
      ]
     },
     "execution_count": 102,
     "metadata": {},
     "output_type": "execute_result"
    }
   ],
   "source": [
    "sort([x[\"z\"] for x in keys(possible_states)])"
   ]
  },
  {
   "cell_type": "code",
   "execution_count": 100,
   "id": "f353be12-a63e-4b47-938d-1f2b11d6a3e1",
   "metadata": {},
   "outputs": [
    {
     "data": {
      "text/plain": [
       "676"
      ]
     },
     "execution_count": 100,
     "metadata": {},
     "output_type": "execute_result"
    }
   ],
   "source": [
    "26*26"
   ]
  },
  {
   "cell_type": "code",
   "execution_count": 103,
   "id": "3ce0de00-d341-4c89-9ea6-23327328d549",
   "metadata": {},
   "outputs": [
    {
     "data": {
      "text/plain": [
       "Dict{Int64, Char} with 3 entries:\n",
       "  2 => 'b'\n",
       "  3 => 'c'\n",
       "  1 => 'a'"
      ]
     },
     "execution_count": 103,
     "metadata": {},
     "output_type": "execute_result"
    }
   ],
   "source": [
    "a = Dict(1=>'a',2=>'b',3=>'c')"
   ]
  },
  {
   "cell_type": "code",
   "execution_count": 104,
   "id": "448730ce-667f-4102-9b3e-3bcc0aa4458d",
   "metadata": {},
   "outputs": [
    {
     "data": {
      "text/plain": [
       "Dict{Int64, Char} with 2 entries:\n",
       "  2 => 'b'\n",
       "  1 => 'a'"
      ]
     },
     "execution_count": 104,
     "metadata": {},
     "output_type": "execute_result"
    }
   ],
   "source": [
    "filter(x->first(x)<3,a)"
   ]
  },
  {
   "cell_type": "markdown",
   "id": "4c5293d7-09b9-4175-a312-bd0f0bd887da",
   "metadata": {},
   "source": [
    "## Check solutions found via approach above"
   ]
  },
  {
   "cell_type": "code",
   "execution_count": 133,
   "id": "a7a150d6-0456-41c0-be48-04e015ebc935",
   "metadata": {},
   "outputs": [
    {
     "data": {
      "text/plain": [
       "Dict{String, Int64} with 4 entries:\n",
       "  \"w\" => 5\n",
       "  \"x\" => 0\n",
       "  \"z\" => 0\n",
       "  \"y\" => 0"
      ]
     },
     "execution_count": 133,
     "metadata": {},
     "output_type": "execute_result"
    }
   ],
   "source": [
    "monad(digits(76194919971875))"
   ]
  },
  {
   "cell_type": "code",
   "execution_count": 139,
   "id": "44eca53e-6280-40ef-b559-a89b69faa12b",
   "metadata": {},
   "outputs": [
    {
     "data": {
      "text/plain": [
       "Dict{String, Int64} with 4 entries:\n",
       "  \"w\" => 5\n",
       "  \"x\" => 0\n",
       "  \"z\" => 0\n",
       "  \"y\" => 0"
      ]
     },
     "execution_count": 139,
     "metadata": {},
     "output_type": "execute_result"
    }
   ],
   "source": [
    "monad(digits(78196919971875))"
   ]
  },
  {
   "cell_type": "code",
   "execution_count": 175,
   "id": "891f1ee8-b00b-446f-b4f0-298be74dc457",
   "metadata": {},
   "outputs": [
    {
     "data": {
      "text/plain": [
       "Dict{String, Int64} with 4 entries:\n",
       "  \"w\" => 5\n",
       "  \"x\" => 0\n",
       "  \"z\" => 0\n",
       "  \"y\" => 0"
      ]
     },
     "execution_count": 175,
     "metadata": {},
     "output_type": "execute_result"
    }
   ],
   "source": [
    "monad(digits(79197919993985))"
   ]
  },
  {
   "cell_type": "code",
   "execution_count": 176,
   "id": "e65cc845-3dcf-4d26-a6b7-7c4e53fcc31e",
   "metadata": {},
   "outputs": [
    {
     "data": {
      "text/plain": [
       "Dict{String, Int64} with 4 entries:\n",
       "  \"w\" => 1\n",
       "  \"x\" => 0\n",
       "  \"z\" => 0\n",
       "  \"y\" => 0"
      ]
     },
     "execution_count": 176,
     "metadata": {},
     "output_type": "execute_result"
    }
   ],
   "source": [
    "monad(digits(37195915593651))"
   ]
  },
  {
   "cell_type": "code",
   "execution_count": 181,
   "id": "5cf377fb-e2ae-4dad-bc30-d2982eb6a240",
   "metadata": {},
   "outputs": [
    {
     "data": {
      "text/plain": [
       "Dict{String, Int64} with 4 entries:\n",
       "  \"w\" => 1\n",
       "  \"x\" => 0\n",
       "  \"z\" => 0\n",
       "  \"y\" => 0"
      ]
     },
     "execution_count": 181,
     "metadata": {},
     "output_type": "execute_result"
    }
   ],
   "source": [
    "monad(digits(13191913571211))"
   ]
  },
  {
   "cell_type": "markdown",
   "id": "20a369e8-1c52-4333-9646-b04e7031bdd4",
   "metadata": {},
   "source": [
    "## Part II"
   ]
  },
  {
   "cell_type": "code",
   "execution_count": 177,
   "id": "2a65b2ab-eeb1-4d22-af43-74abb636c875",
   "metadata": {},
   "outputs": [],
   "source": [
    "possible_states = Dict()\n",
    "for i in 1:3\n",
    "    inp = [i]\n",
    "    state = initial_state()\n",
    "    for inst in instructions[inp_positions[1]:inp_positions[2]-1]\n",
    "        perform_operation(state, inst, inp)\n",
    "    end\n",
    "    if state ∉ keys(possible_states)\n",
    "        possible_states[state] = i\n",
    "    end\n",
    "end"
   ]
  },
  {
   "cell_type": "code",
   "execution_count": 178,
   "id": "231fef4a-9db8-483b-a591-06a2e2b617a5",
   "metadata": {},
   "outputs": [
    {
     "data": {
      "text/plain": [
       "Dict{Any, Any} with 3 entries:\n",
       "  Dict(\"w\"=>2, \"x\"=>1, \"z\"=>9, \"y\"=>9)   => 2\n",
       "  Dict(\"w\"=>3, \"x\"=>1, \"z\"=>10, \"y\"=>10) => 3\n",
       "  Dict(\"w\"=>1, \"x\"=>1, \"z\"=>8, \"y\"=>8)   => 1"
      ]
     },
     "execution_count": 178,
     "metadata": {},
     "output_type": "execute_result"
    }
   ],
   "source": [
    "possible_states"
   ]
  },
  {
   "cell_type": "code",
   "execution_count": 179,
   "id": "295dbf40-e617-47d7-8d34-7d5a667f4186",
   "metadata": {},
   "outputs": [
    {
     "name": "stdout",
     "output_type": "stream",
     "text": [
      "27\n",
      "243\n",
      "270\n",
      "372\n",
      "2565\n",
      "2850\n",
      "3612\n",
      "5949\n",
      "53541\n",
      "23274\n",
      "92502\n",
      "95994\n",
      "32324\n"
     ]
    }
   ],
   "source": [
    "for j in 2:length(inp_positions)-1\n",
    "    new_states = Dict()\n",
    "    for oldstate in sort(collect(keys(possible_states)), by = x->possible_states[x])\n",
    "        for i in 1:9\n",
    "            inp = [i]\n",
    "            state = copy(oldstate)\n",
    "            for inst in instructions[inp_positions[j]:inp_positions[j+1]-1]\n",
    "                perform_operation(state, inst, inp)\n",
    "            end\n",
    "            if state ∉ keys(new_states)\n",
    "                new_states[state] = 10*possible_states[oldstate] + i\n",
    "            end\n",
    "        end\n",
    "    end\n",
    "    lowest_z = minimum([abs(x[\"z\"]) for x in keys(new_states)])\n",
    "    # heuristic! filter keys with high z values (unlikely to get down to 0)\n",
    "    z_threshold = (lowest_z+1)*26*26*26*26\n",
    "    possible_states = filter(x->abs(first(x)[\"z\"])<z_threshold, new_states)\n",
    "    println(length(possible_states))\n",
    "    flush(stdout)\n",
    "end"
   ]
  },
  {
   "cell_type": "code",
   "execution_count": 180,
   "id": "5dbadc72-cf24-4531-aa61-af3a60f9b0c3",
   "metadata": {},
   "outputs": [
    {
     "data": {
      "text/plain": [
       "5-element Vector{Any}:\n",
       " 13191913571211\n",
       " 13191913671212\n",
       " 13191913771213\n",
       " 13191913871214\n",
       " 13191913971215"
      ]
     },
     "execution_count": 180,
     "metadata": {},
     "output_type": "execute_result"
    }
   ],
   "source": [
    "sort(collect(values(filter(x->first(x)[\"z\"]==0, possible_states))))"
   ]
  },
  {
   "cell_type": "code",
   "execution_count": null,
   "id": "6ead819d-4d1c-41d0-8a3f-280525f2ebd8",
   "metadata": {},
   "outputs": [],
   "source": []
  }
 ],
 "metadata": {
  "kernelspec": {
   "display_name": "Julia 1.6.1",
   "language": "julia",
   "name": "julia-1.6"
  },
  "language_info": {
   "file_extension": ".jl",
   "mimetype": "application/julia",
   "name": "julia",
   "version": "1.6.1"
  }
 },
 "nbformat": 4,
 "nbformat_minor": 5
}
