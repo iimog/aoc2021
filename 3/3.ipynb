{
 "cells": [
  {
   "cell_type": "code",
   "execution_count": 1,
   "id": "eddb1e31-95c2-409c-b01d-95a27dd5c2df",
   "metadata": {},
   "outputs": [],
   "source": [
    "using CSV\n",
    "using DataFrames"
   ]
  },
  {
   "cell_type": "code",
   "execution_count": 46,
   "id": "2ed61581-7aa7-4221-8aff-0b3643c066f9",
   "metadata": {},
   "outputs": [],
   "source": [
    "data = CSV.read(\"input\", DataFrame, header=false, types=[String]).Column1;"
   ]
  },
  {
   "cell_type": "code",
   "execution_count": 47,
   "id": "02c45064-88a8-4e75-9eb9-4e3db57f418b",
   "metadata": {},
   "outputs": [
    {
     "data": {
      "text/plain": [
       "10-element Vector{String}:\n",
       " \"000010000011\"\n",
       " \"001010000111\"\n",
       " \"011010000010\"\n",
       " \"000011111110\"\n",
       " \"101101000101\"\n",
       " \"000100010100\"\n",
       " \"111101111110\"\n",
       " \"111111000010\"\n",
       " \"000011010011\"\n",
       " \"100011100000\""
      ]
     },
     "execution_count": 47,
     "metadata": {},
     "output_type": "execute_result"
    }
   ],
   "source": [
    "data[1:10]"
   ]
  },
  {
   "cell_type": "code",
   "execution_count": 48,
   "id": "c7b17111-c2f2-4341-8be1-ef8eba667191",
   "metadata": {},
   "outputs": [
    {
     "data": {
      "text/plain": [
       "1000-element Vector{Vector{SubString{String}}}:\n",
       " [\"0\", \"0\", \"0\", \"0\", \"1\", \"0\", \"0\", \"0\", \"0\", \"0\", \"1\", \"1\"]\n",
       " [\"0\", \"0\", \"1\", \"0\", \"1\", \"0\", \"0\", \"0\", \"0\", \"1\", \"1\", \"1\"]\n",
       " [\"0\", \"1\", \"1\", \"0\", \"1\", \"0\", \"0\", \"0\", \"0\", \"0\", \"1\", \"0\"]\n",
       " [\"0\", \"0\", \"0\", \"0\", \"1\", \"1\", \"1\", \"1\", \"1\", \"1\", \"1\", \"0\"]\n",
       " [\"1\", \"0\", \"1\", \"1\", \"0\", \"1\", \"0\", \"0\", \"0\", \"1\", \"0\", \"1\"]\n",
       " [\"0\", \"0\", \"0\", \"1\", \"0\", \"0\", \"0\", \"1\", \"0\", \"1\", \"0\", \"0\"]\n",
       " [\"1\", \"1\", \"1\", \"1\", \"0\", \"1\", \"1\", \"1\", \"1\", \"1\", \"1\", \"0\"]\n",
       " [\"1\", \"1\", \"1\", \"1\", \"1\", \"1\", \"0\", \"0\", \"0\", \"0\", \"1\", \"0\"]\n",
       " [\"0\", \"0\", \"0\", \"0\", \"1\", \"1\", \"0\", \"1\", \"0\", \"0\", \"1\", \"1\"]\n",
       " [\"1\", \"0\", \"0\", \"0\", \"1\", \"1\", \"1\", \"0\", \"0\", \"0\", \"0\", \"0\"]\n",
       " [\"1\", \"0\", \"1\", \"1\", \"1\", \"0\", \"1\", \"1\", \"0\", \"0\", \"0\", \"1\"]\n",
       " [\"1\", \"1\", \"1\", \"0\", \"1\", \"1\", \"1\", \"1\", \"1\", \"1\", \"0\", \"1\"]\n",
       " [\"1\", \"1\", \"1\", \"0\", \"1\", \"1\", \"0\", \"1\", \"1\", \"0\", \"0\", \"1\"]\n",
       " ⋮\n",
       " [\"1\", \"1\", \"1\", \"1\", \"0\", \"0\", \"1\", \"0\", \"1\", \"0\", \"1\", \"0\"]\n",
       " [\"1\", \"0\", \"0\", \"0\", \"1\", \"0\", \"1\", \"1\", \"0\", \"0\", \"0\", \"0\"]\n",
       " [\"1\", \"0\", \"0\", \"1\", \"0\", \"0\", \"1\", \"1\", \"1\", \"0\", \"1\", \"0\"]\n",
       " [\"0\", \"0\", \"1\", \"0\", \"1\", \"0\", \"1\", \"1\", \"0\", \"1\", \"0\", \"0\"]\n",
       " [\"1\", \"1\", \"0\", \"0\", \"1\", \"1\", \"1\", \"0\", \"0\", \"1\", \"1\", \"1\"]\n",
       " [\"0\", \"1\", \"0\", \"0\", \"0\", \"1\", \"0\", \"1\", \"0\", \"0\", \"0\", \"1\"]\n",
       " [\"1\", \"1\", \"0\", \"1\", \"0\", \"0\", \"0\", \"1\", \"1\", \"0\", \"1\", \"0\"]\n",
       " [\"1\", \"0\", \"0\", \"0\", \"1\", \"1\", \"1\", \"1\", \"1\", \"1\", \"1\", \"0\"]\n",
       " [\"1\", \"0\", \"1\", \"0\", \"0\", \"1\", \"0\", \"1\", \"0\", \"0\", \"0\", \"0\"]\n",
       " [\"0\", \"1\", \"1\", \"1\", \"0\", \"0\", \"1\", \"0\", \"0\", \"1\", \"1\", \"0\"]\n",
       " [\"1\", \"1\", \"1\", \"0\", \"0\", \"0\", \"1\", \"0\", \"1\", \"0\", \"1\", \"0\"]\n",
       " [\"0\", \"0\", \"1\", \"1\", \"1\", \"1\", \"0\", \"0\", \"1\", \"0\", \"0\", \"0\"]"
      ]
     },
     "execution_count": 48,
     "metadata": {},
     "output_type": "execute_result"
    }
   ],
   "source": [
    "data = [split(x,\"\") for x in data]"
   ]
  },
  {
   "cell_type": "code",
   "execution_count": 49,
   "id": "1b8f5f87-0526-4143-b8bc-7a9ccf8013e0",
   "metadata": {},
   "outputs": [
    {
     "data": {
      "text/plain": [
       "12×1000 Matrix{SubString{String}}:\n",
       " \"0\"  \"0\"  \"0\"  \"0\"  \"1\"  \"0\"  \"1\"  \"1\"  …  \"0\"  \"1\"  \"1\"  \"1\"  \"0\"  \"1\"  \"0\"\n",
       " \"0\"  \"0\"  \"1\"  \"0\"  \"0\"  \"0\"  \"1\"  \"1\"     \"1\"  \"1\"  \"0\"  \"0\"  \"1\"  \"1\"  \"0\"\n",
       " \"0\"  \"1\"  \"1\"  \"0\"  \"1\"  \"0\"  \"1\"  \"1\"     \"0\"  \"0\"  \"0\"  \"1\"  \"1\"  \"1\"  \"1\"\n",
       " \"0\"  \"0\"  \"0\"  \"0\"  \"1\"  \"1\"  \"1\"  \"1\"     \"0\"  \"1\"  \"0\"  \"0\"  \"1\"  \"0\"  \"1\"\n",
       " \"1\"  \"1\"  \"1\"  \"1\"  \"0\"  \"0\"  \"0\"  \"1\"     \"0\"  \"0\"  \"1\"  \"0\"  \"0\"  \"0\"  \"1\"\n",
       " \"0\"  \"0\"  \"0\"  \"1\"  \"1\"  \"0\"  \"1\"  \"1\"  …  \"1\"  \"0\"  \"1\"  \"1\"  \"0\"  \"0\"  \"1\"\n",
       " \"0\"  \"0\"  \"0\"  \"1\"  \"0\"  \"0\"  \"1\"  \"0\"     \"0\"  \"0\"  \"1\"  \"0\"  \"1\"  \"1\"  \"0\"\n",
       " \"0\"  \"0\"  \"0\"  \"1\"  \"0\"  \"1\"  \"1\"  \"0\"     \"1\"  \"1\"  \"1\"  \"1\"  \"0\"  \"0\"  \"0\"\n",
       " \"0\"  \"0\"  \"0\"  \"1\"  \"0\"  \"0\"  \"1\"  \"0\"     \"0\"  \"1\"  \"1\"  \"0\"  \"0\"  \"1\"  \"1\"\n",
       " \"0\"  \"1\"  \"0\"  \"1\"  \"1\"  \"1\"  \"1\"  \"0\"     \"0\"  \"0\"  \"1\"  \"0\"  \"1\"  \"0\"  \"0\"\n",
       " \"1\"  \"1\"  \"1\"  \"1\"  \"0\"  \"0\"  \"1\"  \"1\"  …  \"0\"  \"1\"  \"1\"  \"0\"  \"1\"  \"1\"  \"0\"\n",
       " \"1\"  \"1\"  \"0\"  \"0\"  \"1\"  \"0\"  \"0\"  \"0\"     \"1\"  \"0\"  \"0\"  \"0\"  \"0\"  \"0\"  \"0\""
      ]
     },
     "execution_count": 49,
     "metadata": {},
     "output_type": "execute_result"
    }
   ],
   "source": [
    "data = reduce(hcat, data)"
   ]
  },
  {
   "cell_type": "code",
   "execution_count": 50,
   "id": "2124725a-4ce9-4176-95d0-6f1c4eaae61b",
   "metadata": {},
   "outputs": [
    {
     "data": {
      "text/plain": [
       "f (generic function with 1 method)"
      ]
     },
     "execution_count": 50,
     "metadata": {},
     "output_type": "execute_result"
    }
   ],
   "source": [
    "f(x) = parse(Int,x)"
   ]
  },
  {
   "cell_type": "code",
   "execution_count": 51,
   "id": "fdb6ad14-c101-47af-bf66-ad332abc7869",
   "metadata": {},
   "outputs": [
    {
     "data": {
      "text/plain": [
       "12×1000 Matrix{Int64}:\n",
       " 0  0  0  0  1  0  1  1  0  1  1  1  1  …  1  1  1  0  1  0  1  1  1  0  1  0\n",
       " 0  0  1  0  0  0  1  1  0  0  0  1  1     1  0  0  0  1  1  1  0  0  1  1  0\n",
       " 0  1  1  0  1  0  1  1  0  0  1  1  1     1  0  0  1  0  0  0  0  1  1  1  1\n",
       " 0  0  0  0  1  1  1  1  0  0  1  0  0     1  0  1  0  0  0  1  0  0  1  0  1\n",
       " 1  1  1  1  0  0  0  1  1  1  1  1  1     0  1  0  1  1  0  0  1  0  0  0  1\n",
       " 0  0  0  1  1  0  1  1  1  1  0  1  1  …  0  0  0  0  1  1  0  1  1  0  0  1\n",
       " 0  0  0  1  0  0  1  0  0  1  1  1  0     1  1  1  1  1  0  0  1  0  1  1  0\n",
       " 0  0  0  1  0  1  1  0  1  0  1  1  1     0  1  1  1  0  1  1  1  1  0  0  0\n",
       " 0  0  0  1  0  0  1  0  0  0  0  1  1     1  0  1  0  0  0  1  1  0  0  1  1\n",
       " 0  1  0  1  1  1  1  0  0  0  0  1  0     0  0  0  1  1  0  0  1  0  1  0  0\n",
       " 1  1  1  1  0  0  1  1  1  0  0  0  0  …  1  0  1  0  1  0  1  1  0  1  1  0\n",
       " 1  1  0  0  1  0  0  0  1  0  1  1  1     0  0  0  0  1  1  0  0  0  0  0  0"
      ]
     },
     "execution_count": 51,
     "metadata": {},
     "output_type": "execute_result"
    }
   ],
   "source": [
    "data = f.(data)"
   ]
  },
  {
   "cell_type": "code",
   "execution_count": 53,
   "id": "267f18f7-0224-46ef-817b-14282062a889",
   "metadata": {},
   "outputs": [
    {
     "data": {
      "text/plain": [
       "1000×12 transpose(::Matrix{Int64}) with eltype Int64:\n",
       " 0  0  0  0  1  0  0  0  0  0  1  1\n",
       " 0  0  1  0  1  0  0  0  0  1  1  1\n",
       " 0  1  1  0  1  0  0  0  0  0  1  0\n",
       " 0  0  0  0  1  1  1  1  1  1  1  0\n",
       " 1  0  1  1  0  1  0  0  0  1  0  1\n",
       " 0  0  0  1  0  0  0  1  0  1  0  0\n",
       " 1  1  1  1  0  1  1  1  1  1  1  0\n",
       " 1  1  1  1  1  1  0  0  0  0  1  0\n",
       " 0  0  0  0  1  1  0  1  0  0  1  1\n",
       " 1  0  0  0  1  1  1  0  0  0  0  0\n",
       " 1  0  1  1  1  0  1  1  0  0  0  1\n",
       " 1  1  1  0  1  1  1  1  1  1  0  1\n",
       " 1  1  1  0  1  1  0  1  1  0  0  1\n",
       " ⋮              ⋮              ⋮  \n",
       " 1  1  1  1  0  0  1  0  1  0  1  0\n",
       " 1  0  0  0  1  0  1  1  0  0  0  0\n",
       " 1  0  0  1  0  0  1  1  1  0  1  0\n",
       " 0  0  1  0  1  0  1  1  0  1  0  0\n",
       " 1  1  0  0  1  1  1  0  0  1  1  1\n",
       " 0  1  0  0  0  1  0  1  0  0  0  1\n",
       " 1  1  0  1  0  0  0  1  1  0  1  0\n",
       " 1  0  0  0  1  1  1  1  1  1  1  0\n",
       " 1  0  1  0  0  1  0  1  0  0  0  0\n",
       " 0  1  1  1  0  0  1  0  0  1  1  0\n",
       " 1  1  1  0  0  0  1  0  1  0  1  0\n",
       " 0  0  1  1  1  1  0  0  1  0  0  0"
      ]
     },
     "execution_count": 53,
     "metadata": {},
     "output_type": "execute_result"
    }
   ],
   "source": [
    "data = transpose(data)"
   ]
  },
  {
   "cell_type": "code",
   "execution_count": 63,
   "id": "52a47e0d-0300-4001-a02d-fec5c41ec8b6",
   "metadata": {},
   "outputs": [
    {
     "data": {
      "text/plain": [
       "12-element Vector{Float64}:\n",
       " 1.0\n",
       " 0.0\n",
       " 1.0\n",
       " 1.0\n",
       " 1.0\n",
       " 1.0\n",
       " 0.0\n",
       " 0.0\n",
       " 1.0\n",
       " 1.0\n",
       " 1.0\n",
       " 0.0"
      ]
     },
     "execution_count": 63,
     "metadata": {},
     "output_type": "execute_result"
    }
   ],
   "source": [
    "gamma_raw = [round(sum(data[:,i])/size(data,1)) for i in 1:size(data,2)]"
   ]
  },
  {
   "cell_type": "code",
   "execution_count": 70,
   "id": "1ea4ba7e-176a-46f8-b6f8-449f04d47498",
   "metadata": {},
   "outputs": [],
   "source": [
    "gamma = 0\n",
    "for x in 11:-1:0\n",
    "    gamma += gamma_raw[12-x]*2^x\n",
    "end"
   ]
  },
  {
   "cell_type": "code",
   "execution_count": 71,
   "id": "bc3a1ad2-3fdc-4522-9634-4d60b31d5379",
   "metadata": {},
   "outputs": [
    {
     "data": {
      "text/plain": [
       "3022.0"
      ]
     },
     "execution_count": 71,
     "metadata": {},
     "output_type": "execute_result"
    }
   ],
   "source": [
    "gamma"
   ]
  },
  {
   "cell_type": "code",
   "execution_count": 72,
   "id": "708d8aca-fea4-4e9f-aebf-1957305b7a4e",
   "metadata": {},
   "outputs": [],
   "source": [
    "epsilon = 0\n",
    "for x in 11:-1:0\n",
    "    epsilon += (1-gamma_raw[12-x])*2^x\n",
    "end"
   ]
  },
  {
   "cell_type": "code",
   "execution_count": 73,
   "id": "97333cbd-f74a-4c1d-a012-74f38c481096",
   "metadata": {},
   "outputs": [
    {
     "data": {
      "text/plain": [
       "1073.0"
      ]
     },
     "execution_count": 73,
     "metadata": {},
     "output_type": "execute_result"
    }
   ],
   "source": [
    "epsilon"
   ]
  },
  {
   "cell_type": "code",
   "execution_count": 76,
   "id": "48c10e6b-769e-4768-aa7d-e8f7e85e0a66",
   "metadata": {},
   "outputs": [
    {
     "data": {
      "text/plain": [
       "3242606"
      ]
     },
     "execution_count": 76,
     "metadata": {},
     "output_type": "execute_result"
    }
   ],
   "source": [
    "convert(Int,gamma)*convert(Int,epsilon)"
   ]
  },
  {
   "cell_type": "code",
   "execution_count": 81,
   "id": "6feab047-6658-49b2-924d-d1a617e8e243",
   "metadata": {},
   "outputs": [
    {
     "data": {
      "text/plain": [
       "1"
      ]
     },
     "execution_count": 81,
     "metadata": {},
     "output_type": "execute_result"
    }
   ],
   "source": [
    "convert(Int, round(sum(data[:,1])/size(data,1)))"
   ]
  },
  {
   "cell_type": "code",
   "execution_count": 87,
   "id": "8c3f3a0f-5f51-4c83-8edc-672305eb91ee",
   "metadata": {},
   "outputs": [
    {
     "data": {
      "text/plain": [
       "1000×12 Matrix{Int64}:\n",
       " 0  0  0  0  1  0  0  0  0  0  1  1\n",
       " 0  0  1  0  1  0  0  0  0  1  1  1\n",
       " 0  1  1  0  1  0  0  0  0  0  1  0\n",
       " 0  0  0  0  1  1  1  1  1  1  1  0\n",
       " 1  0  1  1  0  1  0  0  0  1  0  1\n",
       " 0  0  0  1  0  0  0  1  0  1  0  0\n",
       " 1  1  1  1  0  1  1  1  1  1  1  0\n",
       " 1  1  1  1  1  1  0  0  0  0  1  0\n",
       " 0  0  0  0  1  1  0  1  0  0  1  1\n",
       " 1  0  0  0  1  1  1  0  0  0  0  0\n",
       " 1  0  1  1  1  0  1  1  0  0  0  1\n",
       " 1  1  1  0  1  1  1  1  1  1  0  1\n",
       " 1  1  1  0  1  1  0  1  1  0  0  1\n",
       " ⋮              ⋮              ⋮  \n",
       " 1  1  1  1  0  0  1  0  1  0  1  0\n",
       " 1  0  0  0  1  0  1  1  0  0  0  0\n",
       " 1  0  0  1  0  0  1  1  1  0  1  0\n",
       " 0  0  1  0  1  0  1  1  0  1  0  0\n",
       " 1  1  0  0  1  1  1  0  0  1  1  1\n",
       " 0  1  0  0  0  1  0  1  0  0  0  1\n",
       " 1  1  0  1  0  0  0  1  1  0  1  0\n",
       " 1  0  0  0  1  1  1  1  1  1  1  0\n",
       " 1  0  1  0  0  1  0  1  0  0  0  0\n",
       " 0  1  1  1  0  0  1  0  0  1  1  0\n",
       " 1  1  1  0  0  0  1  0  1  0  1  0\n",
       " 0  0  1  1  1  1  0  0  1  0  0  0"
      ]
     },
     "execution_count": 87,
     "metadata": {},
     "output_type": "execute_result"
    }
   ],
   "source": [
    "data = Array(data)"
   ]
  },
  {
   "cell_type": "code",
   "execution_count": 92,
   "id": "60c3d4e9-cb09-44f5-9dad-4d4581f48694",
   "metadata": {},
   "outputs": [
    {
     "data": {
      "text/html": [
       "<div class=\"data-frame\"><p>1,000 rows × 12 columns</p><table class=\"data-frame\"><thead><tr><th></th><th>x1</th><th>x2</th><th>x3</th><th>x4</th><th>x5</th><th>x6</th><th>x7</th><th>x8</th><th>x9</th><th>x10</th><th>x11</th><th>x12</th></tr><tr><th></th><th title=\"Int64\">Int64</th><th title=\"Int64\">Int64</th><th title=\"Int64\">Int64</th><th title=\"Int64\">Int64</th><th title=\"Int64\">Int64</th><th title=\"Int64\">Int64</th><th title=\"Int64\">Int64</th><th title=\"Int64\">Int64</th><th title=\"Int64\">Int64</th><th title=\"Int64\">Int64</th><th title=\"Int64\">Int64</th><th title=\"Int64\">Int64</th></tr></thead><tbody><tr><th>1</th><td>0</td><td>0</td><td>0</td><td>0</td><td>1</td><td>0</td><td>0</td><td>0</td><td>0</td><td>0</td><td>1</td><td>1</td></tr><tr><th>2</th><td>0</td><td>0</td><td>1</td><td>0</td><td>1</td><td>0</td><td>0</td><td>0</td><td>0</td><td>1</td><td>1</td><td>1</td></tr><tr><th>3</th><td>0</td><td>1</td><td>1</td><td>0</td><td>1</td><td>0</td><td>0</td><td>0</td><td>0</td><td>0</td><td>1</td><td>0</td></tr><tr><th>4</th><td>0</td><td>0</td><td>0</td><td>0</td><td>1</td><td>1</td><td>1</td><td>1</td><td>1</td><td>1</td><td>1</td><td>0</td></tr><tr><th>5</th><td>1</td><td>0</td><td>1</td><td>1</td><td>0</td><td>1</td><td>0</td><td>0</td><td>0</td><td>1</td><td>0</td><td>1</td></tr><tr><th>6</th><td>0</td><td>0</td><td>0</td><td>1</td><td>0</td><td>0</td><td>0</td><td>1</td><td>0</td><td>1</td><td>0</td><td>0</td></tr><tr><th>7</th><td>1</td><td>1</td><td>1</td><td>1</td><td>0</td><td>1</td><td>1</td><td>1</td><td>1</td><td>1</td><td>1</td><td>0</td></tr><tr><th>8</th><td>1</td><td>1</td><td>1</td><td>1</td><td>1</td><td>1</td><td>0</td><td>0</td><td>0</td><td>0</td><td>1</td><td>0</td></tr><tr><th>9</th><td>0</td><td>0</td><td>0</td><td>0</td><td>1</td><td>1</td><td>0</td><td>1</td><td>0</td><td>0</td><td>1</td><td>1</td></tr><tr><th>10</th><td>1</td><td>0</td><td>0</td><td>0</td><td>1</td><td>1</td><td>1</td><td>0</td><td>0</td><td>0</td><td>0</td><td>0</td></tr><tr><th>11</th><td>1</td><td>0</td><td>1</td><td>1</td><td>1</td><td>0</td><td>1</td><td>1</td><td>0</td><td>0</td><td>0</td><td>1</td></tr><tr><th>12</th><td>1</td><td>1</td><td>1</td><td>0</td><td>1</td><td>1</td><td>1</td><td>1</td><td>1</td><td>1</td><td>0</td><td>1</td></tr><tr><th>13</th><td>1</td><td>1</td><td>1</td><td>0</td><td>1</td><td>1</td><td>0</td><td>1</td><td>1</td><td>0</td><td>0</td><td>1</td></tr><tr><th>14</th><td>0</td><td>1</td><td>0</td><td>1</td><td>0</td><td>1</td><td>0</td><td>0</td><td>0</td><td>0</td><td>1</td><td>0</td></tr><tr><th>15</th><td>0</td><td>0</td><td>0</td><td>0</td><td>1</td><td>0</td><td>0</td><td>0</td><td>1</td><td>0</td><td>0</td><td>0</td></tr><tr><th>16</th><td>1</td><td>0</td><td>1</td><td>0</td><td>1</td><td>0</td><td>0</td><td>1</td><td>1</td><td>1</td><td>1</td><td>1</td></tr><tr><th>17</th><td>0</td><td>1</td><td>0</td><td>0</td><td>0</td><td>0</td><td>1</td><td>1</td><td>1</td><td>1</td><td>0</td><td>1</td></tr><tr><th>18</th><td>0</td><td>1</td><td>1</td><td>0</td><td>1</td><td>0</td><td>1</td><td>1</td><td>1</td><td>1</td><td>0</td><td>0</td></tr><tr><th>19</th><td>1</td><td>0</td><td>1</td><td>1</td><td>1</td><td>1</td><td>0</td><td>1</td><td>0</td><td>1</td><td>1</td><td>0</td></tr><tr><th>20</th><td>0</td><td>0</td><td>0</td><td>1</td><td>1</td><td>0</td><td>1</td><td>1</td><td>0</td><td>1</td><td>0</td><td>1</td></tr><tr><th>21</th><td>0</td><td>0</td><td>1</td><td>0</td><td>1</td><td>0</td><td>0</td><td>0</td><td>0</td><td>0</td><td>0</td><td>1</td></tr><tr><th>22</th><td>1</td><td>1</td><td>0</td><td>1</td><td>0</td><td>1</td><td>1</td><td>0</td><td>0</td><td>1</td><td>1</td><td>0</td></tr><tr><th>23</th><td>1</td><td>1</td><td>1</td><td>1</td><td>1</td><td>0</td><td>0</td><td>1</td><td>0</td><td>1</td><td>0</td><td>0</td></tr><tr><th>24</th><td>0</td><td>0</td><td>1</td><td>0</td><td>0</td><td>0</td><td>0</td><td>0</td><td>1</td><td>0</td><td>1</td><td>1</td></tr><tr><th>25</th><td>1</td><td>0</td><td>0</td><td>1</td><td>1</td><td>1</td><td>1</td><td>0</td><td>1</td><td>0</td><td>0</td><td>1</td></tr><tr><th>26</th><td>0</td><td>0</td><td>0</td><td>0</td><td>1</td><td>0</td><td>0</td><td>1</td><td>0</td><td>0</td><td>0</td><td>1</td></tr><tr><th>27</th><td>1</td><td>0</td><td>0</td><td>1</td><td>0</td><td>0</td><td>1</td><td>0</td><td>1</td><td>0</td><td>1</td><td>0</td></tr><tr><th>28</th><td>0</td><td>1</td><td>1</td><td>0</td><td>1</td><td>0</td><td>1</td><td>1</td><td>0</td><td>1</td><td>1</td><td>1</td></tr><tr><th>29</th><td>0</td><td>0</td><td>0</td><td>0</td><td>0</td><td>1</td><td>1</td><td>0</td><td>0</td><td>1</td><td>0</td><td>0</td></tr><tr><th>30</th><td>1</td><td>0</td><td>1</td><td>1</td><td>1</td><td>1</td><td>0</td><td>0</td><td>0</td><td>1</td><td>1</td><td>1</td></tr><tr><th>&vellip;</th><td>&vellip;</td><td>&vellip;</td><td>&vellip;</td><td>&vellip;</td><td>&vellip;</td><td>&vellip;</td><td>&vellip;</td><td>&vellip;</td><td>&vellip;</td><td>&vellip;</td><td>&vellip;</td><td>&vellip;</td></tr></tbody></table></div>"
      ],
      "text/latex": [
       "\\begin{tabular}{r|cccccccccccc}\n",
       "\t& x1 & x2 & x3 & x4 & x5 & x6 & x7 & x8 & x9 & x10 & x11 & x12\\\\\n",
       "\t\\hline\n",
       "\t& Int64 & Int64 & Int64 & Int64 & Int64 & Int64 & Int64 & Int64 & Int64 & Int64 & Int64 & Int64\\\\\n",
       "\t\\hline\n",
       "\t1 & 0 & 0 & 0 & 0 & 1 & 0 & 0 & 0 & 0 & 0 & 1 & 1 \\\\\n",
       "\t2 & 0 & 0 & 1 & 0 & 1 & 0 & 0 & 0 & 0 & 1 & 1 & 1 \\\\\n",
       "\t3 & 0 & 1 & 1 & 0 & 1 & 0 & 0 & 0 & 0 & 0 & 1 & 0 \\\\\n",
       "\t4 & 0 & 0 & 0 & 0 & 1 & 1 & 1 & 1 & 1 & 1 & 1 & 0 \\\\\n",
       "\t5 & 1 & 0 & 1 & 1 & 0 & 1 & 0 & 0 & 0 & 1 & 0 & 1 \\\\\n",
       "\t6 & 0 & 0 & 0 & 1 & 0 & 0 & 0 & 1 & 0 & 1 & 0 & 0 \\\\\n",
       "\t7 & 1 & 1 & 1 & 1 & 0 & 1 & 1 & 1 & 1 & 1 & 1 & 0 \\\\\n",
       "\t8 & 1 & 1 & 1 & 1 & 1 & 1 & 0 & 0 & 0 & 0 & 1 & 0 \\\\\n",
       "\t9 & 0 & 0 & 0 & 0 & 1 & 1 & 0 & 1 & 0 & 0 & 1 & 1 \\\\\n",
       "\t10 & 1 & 0 & 0 & 0 & 1 & 1 & 1 & 0 & 0 & 0 & 0 & 0 \\\\\n",
       "\t11 & 1 & 0 & 1 & 1 & 1 & 0 & 1 & 1 & 0 & 0 & 0 & 1 \\\\\n",
       "\t12 & 1 & 1 & 1 & 0 & 1 & 1 & 1 & 1 & 1 & 1 & 0 & 1 \\\\\n",
       "\t13 & 1 & 1 & 1 & 0 & 1 & 1 & 0 & 1 & 1 & 0 & 0 & 1 \\\\\n",
       "\t14 & 0 & 1 & 0 & 1 & 0 & 1 & 0 & 0 & 0 & 0 & 1 & 0 \\\\\n",
       "\t15 & 0 & 0 & 0 & 0 & 1 & 0 & 0 & 0 & 1 & 0 & 0 & 0 \\\\\n",
       "\t16 & 1 & 0 & 1 & 0 & 1 & 0 & 0 & 1 & 1 & 1 & 1 & 1 \\\\\n",
       "\t17 & 0 & 1 & 0 & 0 & 0 & 0 & 1 & 1 & 1 & 1 & 0 & 1 \\\\\n",
       "\t18 & 0 & 1 & 1 & 0 & 1 & 0 & 1 & 1 & 1 & 1 & 0 & 0 \\\\\n",
       "\t19 & 1 & 0 & 1 & 1 & 1 & 1 & 0 & 1 & 0 & 1 & 1 & 0 \\\\\n",
       "\t20 & 0 & 0 & 0 & 1 & 1 & 0 & 1 & 1 & 0 & 1 & 0 & 1 \\\\\n",
       "\t21 & 0 & 0 & 1 & 0 & 1 & 0 & 0 & 0 & 0 & 0 & 0 & 1 \\\\\n",
       "\t22 & 1 & 1 & 0 & 1 & 0 & 1 & 1 & 0 & 0 & 1 & 1 & 0 \\\\\n",
       "\t23 & 1 & 1 & 1 & 1 & 1 & 0 & 0 & 1 & 0 & 1 & 0 & 0 \\\\\n",
       "\t24 & 0 & 0 & 1 & 0 & 0 & 0 & 0 & 0 & 1 & 0 & 1 & 1 \\\\\n",
       "\t25 & 1 & 0 & 0 & 1 & 1 & 1 & 1 & 0 & 1 & 0 & 0 & 1 \\\\\n",
       "\t26 & 0 & 0 & 0 & 0 & 1 & 0 & 0 & 1 & 0 & 0 & 0 & 1 \\\\\n",
       "\t27 & 1 & 0 & 0 & 1 & 0 & 0 & 1 & 0 & 1 & 0 & 1 & 0 \\\\\n",
       "\t28 & 0 & 1 & 1 & 0 & 1 & 0 & 1 & 1 & 0 & 1 & 1 & 1 \\\\\n",
       "\t29 & 0 & 0 & 0 & 0 & 0 & 1 & 1 & 0 & 0 & 1 & 0 & 0 \\\\\n",
       "\t30 & 1 & 0 & 1 & 1 & 1 & 1 & 0 & 0 & 0 & 1 & 1 & 1 \\\\\n",
       "\t$\\dots$ & $\\dots$ & $\\dots$ & $\\dots$ & $\\dots$ & $\\dots$ & $\\dots$ & $\\dots$ & $\\dots$ & $\\dots$ & $\\dots$ & $\\dots$ & $\\dots$ \\\\\n",
       "\\end{tabular}\n"
      ],
      "text/plain": [
       "\u001b[1m1000×12 DataFrame\u001b[0m\n",
       "\u001b[1m  Row \u001b[0m│\u001b[1m x1    \u001b[0m\u001b[1m x2    \u001b[0m\u001b[1m x3    \u001b[0m\u001b[1m x4    \u001b[0m\u001b[1m x5    \u001b[0m\u001b[1m x6    \u001b[0m\u001b[1m x7    \u001b[0m\u001b[1m x8    \u001b[0m\u001b[1m x9    \u001b[0m\u001b[1m x10   \u001b[0m\u001b[1m \u001b[0m ⋯\n",
       "\u001b[1m      \u001b[0m│\u001b[90m Int64 \u001b[0m\u001b[90m Int64 \u001b[0m\u001b[90m Int64 \u001b[0m\u001b[90m Int64 \u001b[0m\u001b[90m Int64 \u001b[0m\u001b[90m Int64 \u001b[0m\u001b[90m Int64 \u001b[0m\u001b[90m Int64 \u001b[0m\u001b[90m Int64 \u001b[0m\u001b[90m Int64 \u001b[0m\u001b[90m \u001b[0m ⋯\n",
       "──────┼─────────────────────────────────────────────────────────────────────────\n",
       "    1 │     0      0      0      0      1      0      0      0      0      0   ⋯\n",
       "    2 │     0      0      1      0      1      0      0      0      0      1\n",
       "    3 │     0      1      1      0      1      0      0      0      0      0\n",
       "    4 │     0      0      0      0      1      1      1      1      1      1\n",
       "    5 │     1      0      1      1      0      1      0      0      0      1   ⋯\n",
       "    6 │     0      0      0      1      0      0      0      1      0      1\n",
       "    7 │     1      1      1      1      0      1      1      1      1      1\n",
       "    8 │     1      1      1      1      1      1      0      0      0      0\n",
       "    9 │     0      0      0      0      1      1      0      1      0      0   ⋯\n",
       "   10 │     1      0      0      0      1      1      1      0      0      0\n",
       "   11 │     1      0      1      1      1      0      1      1      0      0\n",
       "  ⋮   │   ⋮      ⋮      ⋮      ⋮      ⋮      ⋮      ⋮      ⋮      ⋮      ⋮     ⋱\n",
       "  991 │     1      0      0      1      0      0      1      1      1      0\n",
       "  992 │     0      0      1      0      1      0      1      1      0      1   ⋯\n",
       "  993 │     1      1      0      0      1      1      1      0      0      1\n",
       "  994 │     0      1      0      0      0      1      0      1      0      0\n",
       "  995 │     1      1      0      1      0      0      0      1      1      0\n",
       "  996 │     1      0      0      0      1      1      1      1      1      1   ⋯\n",
       "  997 │     1      0      1      0      0      1      0      1      0      0\n",
       "  998 │     0      1      1      1      0      0      1      0      0      1\n",
       "  999 │     1      1      1      0      0      0      1      0      1      0\n",
       " 1000 │     0      0      1      1      1      1      0      0      1      0   ⋯\n",
       "\u001b[36m                                                  2 columns and 979 rows omitted\u001b[0m"
      ]
     },
     "execution_count": 92,
     "metadata": {},
     "output_type": "execute_result"
    }
   ],
   "source": [
    "df = DataFrame(data, :auto)"
   ]
  },
  {
   "cell_type": "code",
   "execution_count": 97,
   "id": "b2d0c3d1-5a9d-402d-8163-08ce93251547",
   "metadata": {},
   "outputs": [
    {
     "data": {
      "text/plain": [
       "527×12 Matrix{Int64}:\n",
       " 1  0  1  1  0  1  0  0  0  1  0  1\n",
       " 1  1  1  1  0  1  1  1  1  1  1  0\n",
       " 1  1  1  1  1  1  0  0  0  0  1  0\n",
       " 1  0  0  0  1  1  1  0  0  0  0  0\n",
       " 1  0  1  1  1  0  1  1  0  0  0  1\n",
       " 1  1  1  0  1  1  1  1  1  1  0  1\n",
       " 1  1  1  0  1  1  0  1  1  0  0  1\n",
       " 1  0  1  0  1  0  0  1  1  1  1  1\n",
       " 1  0  1  1  1  1  0  1  0  1  1  0\n",
       " 1  1  0  1  0  1  1  0  0  1  1  0\n",
       " 1  1  1  1  1  0  0  1  0  1  0  0\n",
       " 1  0  0  1  1  1  1  0  1  0  0  1\n",
       " 1  0  0  1  0  0  1  0  1  0  1  0\n",
       " ⋮              ⋮              ⋮  \n",
       " 1  0  1  0  1  1  1  1  0  0  1  0\n",
       " 1  0  0  1  0  1  1  0  1  0  0  0\n",
       " 1  0  0  0  1  0  1  0  0  0  1  1\n",
       " 1  0  0  1  0  0  1  0  0  1  0  1\n",
       " 1  1  1  1  0  0  1  0  1  0  1  0\n",
       " 1  0  0  0  1  0  1  1  0  0  0  0\n",
       " 1  0  0  1  0  0  1  1  1  0  1  0\n",
       " 1  1  0  0  1  1  1  0  0  1  1  1\n",
       " 1  1  0  1  0  0  0  1  1  0  1  0\n",
       " 1  0  0  0  1  1  1  1  1  1  1  0\n",
       " 1  0  1  0  0  1  0  1  0  0  0  0\n",
       " 1  1  1  0  0  0  1  0  1  0  1  0"
      ]
     },
     "execution_count": 97,
     "metadata": {},
     "output_type": "execute_result"
    }
   ],
   "source": [
    "data[data[:,1] .== 1,:]"
   ]
  },
  {
   "cell_type": "code",
   "execution_count": 100,
   "id": "57026966-3e03-4c6e-a7a2-323320398314",
   "metadata": {},
   "outputs": [
    {
     "name": "stdout",
     "output_type": "stream",
     "text": [
      "[1 0 1 1 1 0 1 1 1 1 0 0]"
     ]
    }
   ],
   "source": [
    "filtered_data = data\n",
    "for i in 1:12\n",
    "    most_common = convert(Int, round(sum(filtered_data[:,i])/size(filtered_data,1)))\n",
    "    filtered_data = filtered_data[filtered_data[:,i] .== most_common,:]\n",
    "    if size(filtered_data,1) == 1\n",
    "        print(filtered_data)\n",
    "        break\n",
    "    end\n",
    "end"
   ]
  },
  {
   "cell_type": "code",
   "execution_count": 112,
   "id": "3a35e221-0b76-4d3a-aec0-382c7fbc10af",
   "metadata": {},
   "outputs": [
    {
     "name": "stdout",
     "output_type": "stream",
     "text": [
      "[1 0 1 1 1 0 1 1 1 1 0 1]"
     ]
    }
   ],
   "source": [
    "filtered_data = data\n",
    "for i in 1:12\n",
    "    most_common = 2*sum(filtered_data[:,i].==1) >= size(filtered_data,1) ? 1 : 0\n",
    "    filtered_data = filtered_data[filtered_data[:,i] .== most_common,:]\n",
    "    if size(filtered_data,1) == 1\n",
    "        print(filtered_data)\n",
    "        break\n",
    "    end\n",
    "end"
   ]
  },
  {
   "cell_type": "code",
   "execution_count": 113,
   "id": "fd86c7ce-9128-43ec-ac88-a22f141cb80f",
   "metadata": {},
   "outputs": [
    {
     "data": {
      "text/plain": [
       "3005"
      ]
     },
     "execution_count": 113,
     "metadata": {},
     "output_type": "execute_result"
    }
   ],
   "source": [
    "convert(Int, 0b101110111101)"
   ]
  },
  {
   "cell_type": "code",
   "execution_count": 108,
   "id": "b7e70962-e3c3-4c4f-89e3-946535c37b34",
   "metadata": {},
   "outputs": [
    {
     "name": "stdout",
     "output_type": "stream",
     "text": [
      "[0 1 1 1 0 1 1 1 0 0 1 0]"
     ]
    }
   ],
   "source": [
    "filtered_data = data\n",
    "for i in 1:12\n",
    "    least_common = 1-convert(Int, round(sum(filtered_data[:,i])/size(filtered_data,1)))\n",
    "    filtered_data = filtered_data[filtered_data[:,i] .== least_common,:]\n",
    "    if size(filtered_data,1) == 1\n",
    "        print(filtered_data)\n",
    "        break\n",
    "    end\n",
    "end"
   ]
  },
  {
   "cell_type": "code",
   "execution_count": 114,
   "id": "8525486a-9a1c-4045-9b57-12c8ce8c25b7",
   "metadata": {},
   "outputs": [
    {
     "name": "stdout",
     "output_type": "stream",
     "text": [
      "[0 1 1 0 0 1 0 1 0 0 0 0]"
     ]
    }
   ],
   "source": [
    "filtered_data = data\n",
    "for i in 1:12\n",
    "    most_common = 2*sum(filtered_data[:,i].==1) >= size(filtered_data,1) ? 0 : 1\n",
    "    filtered_data = filtered_data[filtered_data[:,i] .== most_common,:]\n",
    "    if size(filtered_data,1) == 1\n",
    "        print(filtered_data)\n",
    "        break\n",
    "    end\n",
    "end"
   ]
  },
  {
   "cell_type": "code",
   "execution_count": 115,
   "id": "19beee46-8792-47a4-9764-3c0e9d72137b",
   "metadata": {},
   "outputs": [
    {
     "data": {
      "text/plain": [
       "1616"
      ]
     },
     "execution_count": 115,
     "metadata": {},
     "output_type": "execute_result"
    }
   ],
   "source": [
    "convert(Int, 0b011001010000)"
   ]
  },
  {
   "cell_type": "code",
   "execution_count": 105,
   "id": "35d61fd9-5bb9-4282-bba9-89da03619799",
   "metadata": {},
   "outputs": [
    {
     "data": {
      "text/plain": [
       "5725624"
      ]
     },
     "execution_count": 105,
     "metadata": {},
     "output_type": "execute_result"
    }
   ],
   "source": [
    "3004*1906"
   ]
  },
  {
   "cell_type": "code",
   "execution_count": 111,
   "id": "aa6e793b-601f-4525-8084-8e900fce9067",
   "metadata": {},
   "outputs": [
    {
     "data": {
      "text/plain": [
       "0.0"
      ]
     },
     "execution_count": 111,
     "metadata": {},
     "output_type": "execute_result"
    }
   ],
   "source": [
    "round(30/60)"
   ]
  },
  {
   "cell_type": "code",
   "execution_count": 116,
   "id": "c88fe21f-f2b3-491e-a369-70c30aa7d935",
   "metadata": {},
   "outputs": [
    {
     "data": {
      "text/plain": [
       "4856080"
      ]
     },
     "execution_count": 116,
     "metadata": {},
     "output_type": "execute_result"
    }
   ],
   "source": [
    "1616*3005"
   ]
  },
  {
   "cell_type": "code",
   "execution_count": 118,
   "id": "1a35dbe6-e75c-4698-bdc5-171fb5e5067d",
   "metadata": {},
   "outputs": [
    {
     "data": {
      "text/plain": [
       "(0.0, 0.0)"
      ]
     },
     "execution_count": 118,
     "metadata": {},
     "output_type": "execute_result"
    }
   ],
   "source": [
    "round(0.5), round(0.499999)"
   ]
  },
  {
   "cell_type": "code",
   "execution_count": 133,
   "id": "8e5095ff-9164-4072-8e76-d5d3a0cf09c3",
   "metadata": {},
   "outputs": [
    {
     "data": {
      "text/plain": [
       "101-element Vector{Float64}:\n",
       "   0.0\n",
       "   2.0\n",
       "   2.0\n",
       "   4.0\n",
       "   4.0\n",
       "   6.0\n",
       "   6.0\n",
       "   8.0\n",
       "   8.0\n",
       "  10.0\n",
       "  10.0\n",
       "  12.0\n",
       "  12.0\n",
       "   ⋮\n",
       "  90.0\n",
       "  90.0\n",
       "  92.0\n",
       "  92.0\n",
       "  94.0\n",
       "  94.0\n",
       "  96.0\n",
       "  96.0\n",
       "  98.0\n",
       "  98.0\n",
       " 100.0\n",
       " 100.0"
      ]
     },
     "execution_count": 133,
     "metadata": {},
     "output_type": "execute_result"
    }
   ],
   "source": [
    "nums = [round(x) for x in 0.5:100.5]"
   ]
  },
  {
   "cell_type": "code",
   "execution_count": null,
   "id": "0973fe79-3a9e-4502-a969-b260d6c685bc",
   "metadata": {},
   "outputs": [],
   "source": []
  }
 ],
 "metadata": {
  "kernelspec": {
   "display_name": "Julia 1.6.1",
   "language": "julia",
   "name": "julia-1.6"
  },
  "language_info": {
   "file_extension": ".jl",
   "mimetype": "application/julia",
   "name": "julia",
   "version": "1.6.1"
  }
 },
 "nbformat": 4,
 "nbformat_minor": 5
}
