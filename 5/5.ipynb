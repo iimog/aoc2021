{
 "cells": [
  {
   "cell_type": "code",
   "execution_count": 12,
   "id": "55d59f8a-59f7-424e-b9cc-61a442991f3d",
   "metadata": {},
   "outputs": [],
   "source": [
    "using CSV, DataFrames"
   ]
  },
  {
   "cell_type": "code",
   "execution_count": 133,
   "id": "e9e4437d-dec2-4a37-b68b-04ec03a3dfbc",
   "metadata": {},
   "outputs": [
    {
     "data": {
      "text/html": [
       "<div class=\"data-frame\"><p>500 rows × 3 columns</p><table class=\"data-frame\"><thead><tr><th></th><th>x1</th><th>y1x2</th><th>y2</th></tr><tr><th></th><th title=\"Int64\">Int64</th><th title=\"String15\">String15</th><th title=\"Int64\">Int64</th></tr></thead><tbody><tr><th>1</th><td>88</td><td>177 -&gt; 566</td><td>655</td></tr><tr><th>2</th><td>346</td><td>264 -&gt; 872</td><td>264</td></tr><tr><th>3</th><td>409</td><td>631 -&gt; 506</td><td>534</td></tr><tr><th>4</th><td>300</td><td>216 -&gt; 300</td><td>507</td></tr><tr><th>5</th><td>80</td><td>370 -&gt; 193</td><td>483</td></tr><tr><th>6</th><td>85</td><td>283 -&gt; 85</td><td>483</td></tr><tr><th>7</th><td>589</td><td>528 -&gt; 968</td><td>528</td></tr><tr><th>8</th><td>936</td><td>83 -&gt; 936</td><td>909</td></tr><tr><th>9</th><td>21</td><td>41 -&gt; 907</td><td>927</td></tr><tr><th>10</th><td>868</td><td>624 -&gt; 868</td><td>490</td></tr><tr><th>11</th><td>954</td><td>972 -&gt; 51</td><td>69</td></tr><tr><th>12</th><td>95</td><td>223 -&gt; 851</td><td>979</td></tr><tr><th>13</th><td>681</td><td>222 -&gt; 681</td><td>32</td></tr><tr><th>14</th><td>596</td><td>557 -&gt; 384</td><td>557</td></tr><tr><th>15</th><td>830</td><td>945 -&gt; 830</td><td>210</td></tr><tr><th>16</th><td>146</td><td>17 -&gt; 582</td><td>17</td></tr><tr><th>17</th><td>923</td><td>864 -&gt; 923</td><td>854</td></tr><tr><th>18</th><td>698</td><td>289 -&gt; 893</td><td>94</td></tr><tr><th>19</th><td>521</td><td>860 -&gt; 521</td><td>658</td></tr><tr><th>20</th><td>602</td><td>699 -&gt; 602</td><td>626</td></tr><tr><th>21</th><td>115</td><td>537 -&gt; 12</td><td>434</td></tr><tr><th>22</th><td>872</td><td>264 -&gt; 239</td><td>897</td></tr><tr><th>23</th><td>820</td><td>674 -&gt; 820</td><td>752</td></tr><tr><th>24</th><td>885</td><td>292 -&gt; 519</td><td>658</td></tr><tr><th>25</th><td>88</td><td>193 -&gt; 88</td><td>618</td></tr><tr><th>26</th><td>371</td><td>681 -&gt; 556</td><td>681</td></tr><tr><th>27</th><td>222</td><td>894 -&gt; 741</td><td>894</td></tr><tr><th>28</th><td>81</td><td>790 -&gt; 277</td><td>790</td></tr><tr><th>29</th><td>973</td><td>328 -&gt; 973</td><td>42</td></tr><tr><th>30</th><td>517</td><td>548 -&gt; 491</td><td>522</td></tr><tr><th>&vellip;</th><td>&vellip;</td><td>&vellip;</td><td>&vellip;</td></tr></tbody></table></div>"
      ],
      "text/latex": [
       "\\begin{tabular}{r|ccc}\n",
       "\t& x1 & y1x2 & y2\\\\\n",
       "\t\\hline\n",
       "\t& Int64 & String15 & Int64\\\\\n",
       "\t\\hline\n",
       "\t1 & 88 & 177 -> 566 & 655 \\\\\n",
       "\t2 & 346 & 264 -> 872 & 264 \\\\\n",
       "\t3 & 409 & 631 -> 506 & 534 \\\\\n",
       "\t4 & 300 & 216 -> 300 & 507 \\\\\n",
       "\t5 & 80 & 370 -> 193 & 483 \\\\\n",
       "\t6 & 85 & 283 -> 85 & 483 \\\\\n",
       "\t7 & 589 & 528 -> 968 & 528 \\\\\n",
       "\t8 & 936 & 83 -> 936 & 909 \\\\\n",
       "\t9 & 21 & 41 -> 907 & 927 \\\\\n",
       "\t10 & 868 & 624 -> 868 & 490 \\\\\n",
       "\t11 & 954 & 972 -> 51 & 69 \\\\\n",
       "\t12 & 95 & 223 -> 851 & 979 \\\\\n",
       "\t13 & 681 & 222 -> 681 & 32 \\\\\n",
       "\t14 & 596 & 557 -> 384 & 557 \\\\\n",
       "\t15 & 830 & 945 -> 830 & 210 \\\\\n",
       "\t16 & 146 & 17 -> 582 & 17 \\\\\n",
       "\t17 & 923 & 864 -> 923 & 854 \\\\\n",
       "\t18 & 698 & 289 -> 893 & 94 \\\\\n",
       "\t19 & 521 & 860 -> 521 & 658 \\\\\n",
       "\t20 & 602 & 699 -> 602 & 626 \\\\\n",
       "\t21 & 115 & 537 -> 12 & 434 \\\\\n",
       "\t22 & 872 & 264 -> 239 & 897 \\\\\n",
       "\t23 & 820 & 674 -> 820 & 752 \\\\\n",
       "\t24 & 885 & 292 -> 519 & 658 \\\\\n",
       "\t25 & 88 & 193 -> 88 & 618 \\\\\n",
       "\t26 & 371 & 681 -> 556 & 681 \\\\\n",
       "\t27 & 222 & 894 -> 741 & 894 \\\\\n",
       "\t28 & 81 & 790 -> 277 & 790 \\\\\n",
       "\t29 & 973 & 328 -> 973 & 42 \\\\\n",
       "\t30 & 517 & 548 -> 491 & 522 \\\\\n",
       "\t$\\dots$ & $\\dots$ & $\\dots$ & $\\dots$ \\\\\n",
       "\\end{tabular}\n"
      ],
      "text/plain": [
       "\u001b[1m500×3 DataFrame\u001b[0m\n",
       "\u001b[1m Row \u001b[0m│\u001b[1m x1    \u001b[0m\u001b[1m y1x2       \u001b[0m\u001b[1m y2    \u001b[0m\n",
       "\u001b[1m     \u001b[0m│\u001b[90m Int64 \u001b[0m\u001b[90m String15   \u001b[0m\u001b[90m Int64 \u001b[0m\n",
       "─────┼──────────────────────────\n",
       "   1 │    88  177 -> 566    655\n",
       "   2 │   346  264 -> 872    264\n",
       "   3 │   409  631 -> 506    534\n",
       "   4 │   300  216 -> 300    507\n",
       "   5 │    80  370 -> 193    483\n",
       "   6 │    85  283 -> 85     483\n",
       "   7 │   589  528 -> 968    528\n",
       "   8 │   936  83 -> 936     909\n",
       "   9 │    21  41 -> 907     927\n",
       "  10 │   868  624 -> 868    490\n",
       "  11 │   954  972 -> 51      69\n",
       "  ⋮  │   ⋮        ⋮         ⋮\n",
       " 491 │   651  511 -> 651    523\n",
       " 492 │   974  16 -> 518     472\n",
       " 493 │    98  27 -> 679      27\n",
       " 494 │   727  896 -> 20     896\n",
       " 495 │   953  557 -> 845    449\n",
       " 496 │   219  60 -> 755     596\n",
       " 497 │    34  868 -> 358    868\n",
       " 498 │   900  908 -> 61      69\n",
       " 499 │    56  108 -> 391    108\n",
       " 500 │   661  661 -> 613    661\n",
       "\u001b[36m                479 rows omitted\u001b[0m"
      ]
     },
     "execution_count": 133,
     "metadata": {},
     "output_type": "execute_result"
    }
   ],
   "source": [
    "data = CSV.read(\"input\", DataFrame, header=[:x1, :y1x2, :y2])"
   ]
  },
  {
   "cell_type": "code",
   "execution_count": 134,
   "id": "a498fcdf-fb0a-4197-baea-e9abaad67e04",
   "metadata": {},
   "outputs": [
    {
     "data": {
      "text/html": [
       "<div class=\"data-frame\"><p>10 rows × 5 columns</p><table class=\"data-frame\"><thead><tr><th></th><th>x1</th><th>y1x2</th><th>y2</th><th>y1</th><th>x2</th></tr><tr><th></th><th title=\"Int64\">Int64</th><th title=\"String15\">String15</th><th title=\"Int64\">Int64</th><th title=\"Int64\">Int64</th><th title=\"Int64\">Int64</th></tr></thead><tbody><tr><th>1</th><td>88</td><td>177 -&gt; 566</td><td>655</td><td>177</td><td>566</td></tr><tr><th>2</th><td>346</td><td>264 -&gt; 872</td><td>264</td><td>264</td><td>872</td></tr><tr><th>3</th><td>409</td><td>631 -&gt; 506</td><td>534</td><td>631</td><td>506</td></tr><tr><th>4</th><td>300</td><td>216 -&gt; 300</td><td>507</td><td>216</td><td>300</td></tr><tr><th>5</th><td>80</td><td>370 -&gt; 193</td><td>483</td><td>370</td><td>193</td></tr><tr><th>6</th><td>85</td><td>283 -&gt; 85</td><td>483</td><td>283</td><td>85</td></tr><tr><th>7</th><td>589</td><td>528 -&gt; 968</td><td>528</td><td>528</td><td>968</td></tr><tr><th>8</th><td>936</td><td>83 -&gt; 936</td><td>909</td><td>83</td><td>936</td></tr><tr><th>9</th><td>21</td><td>41 -&gt; 907</td><td>927</td><td>41</td><td>907</td></tr><tr><th>10</th><td>868</td><td>624 -&gt; 868</td><td>490</td><td>624</td><td>868</td></tr></tbody></table></div>"
      ],
      "text/latex": [
       "\\begin{tabular}{r|ccccc}\n",
       "\t& x1 & y1x2 & y2 & y1 & x2\\\\\n",
       "\t\\hline\n",
       "\t& Int64 & String15 & Int64 & Int64 & Int64\\\\\n",
       "\t\\hline\n",
       "\t1 & 88 & 177 -> 566 & 655 & 177 & 566 \\\\\n",
       "\t2 & 346 & 264 -> 872 & 264 & 264 & 872 \\\\\n",
       "\t3 & 409 & 631 -> 506 & 534 & 631 & 506 \\\\\n",
       "\t4 & 300 & 216 -> 300 & 507 & 216 & 300 \\\\\n",
       "\t5 & 80 & 370 -> 193 & 483 & 370 & 193 \\\\\n",
       "\t6 & 85 & 283 -> 85 & 483 & 283 & 85 \\\\\n",
       "\t7 & 589 & 528 -> 968 & 528 & 528 & 968 \\\\\n",
       "\t8 & 936 & 83 -> 936 & 909 & 83 & 936 \\\\\n",
       "\t9 & 21 & 41 -> 907 & 927 & 41 & 907 \\\\\n",
       "\t10 & 868 & 624 -> 868 & 490 & 624 & 868 \\\\\n",
       "\\end{tabular}\n"
      ],
      "text/plain": [
       "\u001b[1m10×5 DataFrame\u001b[0m\n",
       "\u001b[1m Row \u001b[0m│\u001b[1m x1    \u001b[0m\u001b[1m y1x2       \u001b[0m\u001b[1m y2    \u001b[0m\u001b[1m y1    \u001b[0m\u001b[1m x2    \u001b[0m\n",
       "\u001b[1m     \u001b[0m│\u001b[90m Int64 \u001b[0m\u001b[90m String15   \u001b[0m\u001b[90m Int64 \u001b[0m\u001b[90m Int64 \u001b[0m\u001b[90m Int64 \u001b[0m\n",
       "─────┼────────────────────────────────────────\n",
       "   1 │    88  177 -> 566    655    177    566\n",
       "   2 │   346  264 -> 872    264    264    872\n",
       "   3 │   409  631 -> 506    534    631    506\n",
       "   4 │   300  216 -> 300    507    216    300\n",
       "   5 │    80  370 -> 193    483    370    193\n",
       "   6 │    85  283 -> 85     483    283     85\n",
       "   7 │   589  528 -> 968    528    528    968\n",
       "   8 │   936  83 -> 936     909     83    936\n",
       "   9 │    21  41 -> 907     927     41    907\n",
       "  10 │   868  624 -> 868    490    624    868"
      ]
     },
     "execution_count": 134,
     "metadata": {},
     "output_type": "execute_result"
    }
   ],
   "source": [
    "data[:,:y1]=[parse(Int,i[1]) for i in [split(i,\" -> \") for i in data[:,:y1x2]]];\n",
    "data[:,:x2]=[parse(Int,i[2]) for i in [split(i,\" -> \") for i in data[:,:y1x2]]];\n",
    "data[1:10,:]"
   ]
  },
  {
   "cell_type": "code",
   "execution_count": 135,
   "id": "3c0da5f8-4b2f-4db1-9415-00f6b8c646c8",
   "metadata": {},
   "outputs": [
    {
     "data": {
      "text/html": [
       "<div class=\"data-frame\"><p>10 rows × 4 columns</p><table class=\"data-frame\"><thead><tr><th></th><th>x1</th><th>y1</th><th>x2</th><th>y2</th></tr><tr><th></th><th title=\"Int64\">Int64</th><th title=\"Int64\">Int64</th><th title=\"Int64\">Int64</th><th title=\"Int64\">Int64</th></tr></thead><tbody><tr><th>1</th><td>88</td><td>177</td><td>566</td><td>655</td></tr><tr><th>2</th><td>346</td><td>264</td><td>872</td><td>264</td></tr><tr><th>3</th><td>409</td><td>631</td><td>506</td><td>534</td></tr><tr><th>4</th><td>300</td><td>216</td><td>300</td><td>507</td></tr><tr><th>5</th><td>80</td><td>370</td><td>193</td><td>483</td></tr><tr><th>6</th><td>85</td><td>283</td><td>85</td><td>483</td></tr><tr><th>7</th><td>589</td><td>528</td><td>968</td><td>528</td></tr><tr><th>8</th><td>936</td><td>83</td><td>936</td><td>909</td></tr><tr><th>9</th><td>21</td><td>41</td><td>907</td><td>927</td></tr><tr><th>10</th><td>868</td><td>624</td><td>868</td><td>490</td></tr></tbody></table></div>"
      ],
      "text/latex": [
       "\\begin{tabular}{r|cccc}\n",
       "\t& x1 & y1 & x2 & y2\\\\\n",
       "\t\\hline\n",
       "\t& Int64 & Int64 & Int64 & Int64\\\\\n",
       "\t\\hline\n",
       "\t1 & 88 & 177 & 566 & 655 \\\\\n",
       "\t2 & 346 & 264 & 872 & 264 \\\\\n",
       "\t3 & 409 & 631 & 506 & 534 \\\\\n",
       "\t4 & 300 & 216 & 300 & 507 \\\\\n",
       "\t5 & 80 & 370 & 193 & 483 \\\\\n",
       "\t6 & 85 & 283 & 85 & 483 \\\\\n",
       "\t7 & 589 & 528 & 968 & 528 \\\\\n",
       "\t8 & 936 & 83 & 936 & 909 \\\\\n",
       "\t9 & 21 & 41 & 907 & 927 \\\\\n",
       "\t10 & 868 & 624 & 868 & 490 \\\\\n",
       "\\end{tabular}\n"
      ],
      "text/plain": [
       "\u001b[1m10×4 DataFrame\u001b[0m\n",
       "\u001b[1m Row \u001b[0m│\u001b[1m x1    \u001b[0m\u001b[1m y1    \u001b[0m\u001b[1m x2    \u001b[0m\u001b[1m y2    \u001b[0m\n",
       "\u001b[1m     \u001b[0m│\u001b[90m Int64 \u001b[0m\u001b[90m Int64 \u001b[0m\u001b[90m Int64 \u001b[0m\u001b[90m Int64 \u001b[0m\n",
       "─────┼────────────────────────────\n",
       "   1 │    88    177    566    655\n",
       "   2 │   346    264    872    264\n",
       "   3 │   409    631    506    534\n",
       "   4 │   300    216    300    507\n",
       "   5 │    80    370    193    483\n",
       "   6 │    85    283     85    483\n",
       "   7 │   589    528    968    528\n",
       "   8 │   936     83    936    909\n",
       "   9 │    21     41    907    927\n",
       "  10 │   868    624    868    490"
      ]
     },
     "execution_count": 135,
     "metadata": {},
     "output_type": "execute_result"
    }
   ],
   "source": [
    "select!(data, [:x1, :y1, :x2, :y2])\n",
    "data[1:10,:]"
   ]
  },
  {
   "cell_type": "code",
   "execution_count": 136,
   "id": "9fa03096-275f-44b5-ab77-5b0fe4c75779",
   "metadata": {},
   "outputs": [],
   "source": [
    "data = data .+ 1;"
   ]
  },
  {
   "cell_type": "markdown",
   "id": "4aa57ff9-8195-4612-b89c-0e51164f5476",
   "metadata": {},
   "source": [
    "Only keep horizontal and vertical rows"
   ]
  },
  {
   "cell_type": "code",
   "execution_count": 137,
   "id": "0ec39098-d374-4ff8-b925-f04f62bef2a7",
   "metadata": {},
   "outputs": [
    {
     "data": {
      "text/html": [
       "<div class=\"data-frame\"><p>338 rows × 4 columns</p><table class=\"data-frame\"><thead><tr><th></th><th>x1</th><th>y1</th><th>x2</th><th>y2</th></tr><tr><th></th><th title=\"Int64\">Int64</th><th title=\"Int64\">Int64</th><th title=\"Int64\">Int64</th><th title=\"Int64\">Int64</th></tr></thead><tbody><tr><th>1</th><td>347</td><td>265</td><td>873</td><td>265</td></tr><tr><th>2</th><td>301</td><td>217</td><td>301</td><td>508</td></tr><tr><th>3</th><td>86</td><td>284</td><td>86</td><td>484</td></tr><tr><th>4</th><td>590</td><td>529</td><td>969</td><td>529</td></tr><tr><th>5</th><td>937</td><td>84</td><td>937</td><td>910</td></tr><tr><th>6</th><td>869</td><td>625</td><td>869</td><td>491</td></tr><tr><th>7</th><td>682</td><td>223</td><td>682</td><td>33</td></tr><tr><th>8</th><td>597</td><td>558</td><td>385</td><td>558</td></tr><tr><th>9</th><td>831</td><td>946</td><td>831</td><td>211</td></tr><tr><th>10</th><td>147</td><td>18</td><td>583</td><td>18</td></tr><tr><th>11</th><td>924</td><td>865</td><td>924</td><td>855</td></tr><tr><th>12</th><td>522</td><td>861</td><td>522</td><td>659</td></tr><tr><th>13</th><td>603</td><td>700</td><td>603</td><td>627</td></tr><tr><th>14</th><td>821</td><td>675</td><td>821</td><td>753</td></tr><tr><th>15</th><td>89</td><td>194</td><td>89</td><td>619</td></tr><tr><th>16</th><td>372</td><td>682</td><td>557</td><td>682</td></tr><tr><th>17</th><td>223</td><td>895</td><td>742</td><td>895</td></tr><tr><th>18</th><td>82</td><td>791</td><td>278</td><td>791</td></tr><tr><th>19</th><td>974</td><td>329</td><td>974</td><td>43</td></tr><tr><th>20</th><td>76</td><td>418</td><td>261</td><td>418</td></tr><tr><th>21</th><td>921</td><td>335</td><td>921</td><td>417</td></tr><tr><th>22</th><td>737</td><td>334</td><td>715</td><td>334</td></tr><tr><th>23</th><td>698</td><td>851</td><td>346</td><td>851</td></tr><tr><th>24</th><td>157</td><td>167</td><td>157</td><td>858</td></tr><tr><th>25</th><td>930</td><td>314</td><td>930</td><td>634</td></tr><tr><th>26</th><td>338</td><td>952</td><td>338</td><td>652</td></tr><tr><th>27</th><td>497</td><td>363</td><td>85</td><td>363</td></tr><tr><th>28</th><td>464</td><td>112</td><td>878</td><td>112</td></tr><tr><th>29</th><td>974</td><td>528</td><td>968</td><td>528</td></tr><tr><th>30</th><td>952</td><td>267</td><td>97</td><td>267</td></tr><tr><th>&vellip;</th><td>&vellip;</td><td>&vellip;</td><td>&vellip;</td><td>&vellip;</td></tr></tbody></table></div>"
      ],
      "text/latex": [
       "\\begin{tabular}{r|cccc}\n",
       "\t& x1 & y1 & x2 & y2\\\\\n",
       "\t\\hline\n",
       "\t& Int64 & Int64 & Int64 & Int64\\\\\n",
       "\t\\hline\n",
       "\t1 & 347 & 265 & 873 & 265 \\\\\n",
       "\t2 & 301 & 217 & 301 & 508 \\\\\n",
       "\t3 & 86 & 284 & 86 & 484 \\\\\n",
       "\t4 & 590 & 529 & 969 & 529 \\\\\n",
       "\t5 & 937 & 84 & 937 & 910 \\\\\n",
       "\t6 & 869 & 625 & 869 & 491 \\\\\n",
       "\t7 & 682 & 223 & 682 & 33 \\\\\n",
       "\t8 & 597 & 558 & 385 & 558 \\\\\n",
       "\t9 & 831 & 946 & 831 & 211 \\\\\n",
       "\t10 & 147 & 18 & 583 & 18 \\\\\n",
       "\t11 & 924 & 865 & 924 & 855 \\\\\n",
       "\t12 & 522 & 861 & 522 & 659 \\\\\n",
       "\t13 & 603 & 700 & 603 & 627 \\\\\n",
       "\t14 & 821 & 675 & 821 & 753 \\\\\n",
       "\t15 & 89 & 194 & 89 & 619 \\\\\n",
       "\t16 & 372 & 682 & 557 & 682 \\\\\n",
       "\t17 & 223 & 895 & 742 & 895 \\\\\n",
       "\t18 & 82 & 791 & 278 & 791 \\\\\n",
       "\t19 & 974 & 329 & 974 & 43 \\\\\n",
       "\t20 & 76 & 418 & 261 & 418 \\\\\n",
       "\t21 & 921 & 335 & 921 & 417 \\\\\n",
       "\t22 & 737 & 334 & 715 & 334 \\\\\n",
       "\t23 & 698 & 851 & 346 & 851 \\\\\n",
       "\t24 & 157 & 167 & 157 & 858 \\\\\n",
       "\t25 & 930 & 314 & 930 & 634 \\\\\n",
       "\t26 & 338 & 952 & 338 & 652 \\\\\n",
       "\t27 & 497 & 363 & 85 & 363 \\\\\n",
       "\t28 & 464 & 112 & 878 & 112 \\\\\n",
       "\t29 & 974 & 528 & 968 & 528 \\\\\n",
       "\t30 & 952 & 267 & 97 & 267 \\\\\n",
       "\t$\\dots$ & $\\dots$ & $\\dots$ & $\\dots$ & $\\dots$ \\\\\n",
       "\\end{tabular}\n"
      ],
      "text/plain": [
       "\u001b[1m338×4 DataFrame\u001b[0m\n",
       "\u001b[1m Row \u001b[0m│\u001b[1m x1    \u001b[0m\u001b[1m y1    \u001b[0m\u001b[1m x2    \u001b[0m\u001b[1m y2    \u001b[0m\n",
       "\u001b[1m     \u001b[0m│\u001b[90m Int64 \u001b[0m\u001b[90m Int64 \u001b[0m\u001b[90m Int64 \u001b[0m\u001b[90m Int64 \u001b[0m\n",
       "─────┼────────────────────────────\n",
       "   1 │   347    265    873    265\n",
       "   2 │   301    217    301    508\n",
       "   3 │    86    284     86    484\n",
       "   4 │   590    529    969    529\n",
       "   5 │   937     84    937    910\n",
       "   6 │   869    625    869    491\n",
       "   7 │   682    223    682     33\n",
       "   8 │   597    558    385    558\n",
       "   9 │   831    946    831    211\n",
       "  10 │   147     18    583     18\n",
       "  11 │   924    865    924    855\n",
       "  ⋮  │   ⋮      ⋮      ⋮      ⋮\n",
       " 329 │    15    596    610    596\n",
       " 330 │   577    626    577    431\n",
       " 331 │   855    419    855    295\n",
       " 332 │   216    775    288    775\n",
       " 333 │   652    512    652    524\n",
       " 334 │    99     28    680     28\n",
       " 335 │   728    897     21    897\n",
       " 336 │    35    869    359    869\n",
       " 337 │    57    109    392    109\n",
       " 338 │   662    662    614    662\n",
       "\u001b[36m                  317 rows omitted\u001b[0m"
      ]
     },
     "execution_count": 137,
     "metadata": {},
     "output_type": "execute_result"
    }
   ],
   "source": [
    "hv = filter(row->(row.x1==row.x2 || row.y1==row.y2), data);\n",
    "hv#[1:10,:]"
   ]
  },
  {
   "cell_type": "code",
   "execution_count": 138,
   "id": "5663d7c4-86b4-4a1e-9efe-5a8194dee99e",
   "metadata": {},
   "outputs": [
    {
     "data": {
      "text/html": [
       "<p>DataFrameRow (4 columns)</p><div class=\"data-frame\"><table class=\"data-frame\"><thead><tr><th></th><th>x1</th><th>y1</th><th>x2</th><th>y2</th></tr><tr><th></th><th title=\"Int64\">Int64</th><th title=\"Int64\">Int64</th><th title=\"Int64\">Int64</th><th title=\"Int64\">Int64</th></tr></thead><tbody><tr><th>319</th><td>988</td><td>772</td><td>976</td><td>772</td></tr></tbody></table></div>"
      ],
      "text/latex": [
       "\\begin{tabular}{r|cccc}\n",
       "\t& x1 & y1 & x2 & y2\\\\\n",
       "\t\\hline\n",
       "\t& Int64 & Int64 & Int64 & Int64\\\\\n",
       "\t\\hline\n",
       "\t319 & 988 & 772 & 976 & 772 \\\\\n",
       "\\end{tabular}\n"
      ],
      "text/plain": [
       "\u001b[1mDataFrameRow\u001b[0m\n",
       "\u001b[1m Row \u001b[0m│\u001b[1m x1    \u001b[0m\u001b[1m y1    \u001b[0m\u001b[1m x2    \u001b[0m\u001b[1m y2    \u001b[0m\n",
       "\u001b[1m     \u001b[0m│\u001b[90m Int64 \u001b[0m\u001b[90m Int64 \u001b[0m\u001b[90m Int64 \u001b[0m\u001b[90m Int64 \u001b[0m\n",
       "─────┼────────────────────────────\n",
       " 319 │   988    772    976    772"
      ]
     },
     "execution_count": 138,
     "metadata": {},
     "output_type": "execute_result"
    }
   ],
   "source": [
    "maximum(eachrow(hv))"
   ]
  },
  {
   "cell_type": "code",
   "execution_count": 139,
   "id": "26091ce1-6a12-4263-966d-7159ff43981b",
   "metadata": {},
   "outputs": [
    {
     "data": {
      "text/plain": [
       "1000×1000 Matrix{Int64}:\n",
       " 0  0  0  0  0  0  0  0  0  0  0  0  0  …  0  0  0  0  0  0  0  0  0  0  0  0\n",
       " 0  0  0  0  0  0  0  0  0  0  0  0  0     0  0  0  0  0  0  0  0  0  0  0  0\n",
       " 0  0  0  0  0  0  0  0  0  0  0  0  0     0  0  0  0  0  0  0  0  0  0  0  0\n",
       " 0  0  0  0  0  0  0  0  0  0  0  0  0     0  0  0  0  0  0  0  0  0  0  0  0\n",
       " 0  0  0  0  0  0  0  0  0  0  0  0  0     0  0  0  0  0  0  0  0  0  0  0  0\n",
       " 0  0  0  0  0  0  0  0  0  0  0  0  0  …  0  0  0  0  0  0  0  0  0  0  0  0\n",
       " 0  0  0  0  0  0  0  0  0  0  0  0  0     0  0  0  0  0  0  0  0  0  0  0  0\n",
       " 0  0  0  0  0  0  0  0  0  0  0  0  0     0  0  0  0  0  0  0  0  0  0  0  0\n",
       " 0  0  0  0  0  0  0  0  0  0  0  0  0     0  0  0  0  0  0  0  0  0  0  0  0\n",
       " 0  0  0  0  0  0  0  0  0  0  0  0  0     0  0  0  0  0  0  0  0  0  0  0  0\n",
       " 0  0  0  0  0  0  0  0  0  0  0  0  0  …  0  0  0  0  0  0  0  0  0  0  0  0\n",
       " 0  0  0  0  0  0  0  0  0  0  0  0  0     0  0  0  0  0  0  0  0  0  0  0  0\n",
       " 0  0  0  0  0  0  0  0  0  0  0  0  0     0  0  0  0  0  0  0  0  0  0  0  0\n",
       " ⋮              ⋮              ⋮        ⋱        ⋮              ⋮           \n",
       " 0  0  0  0  0  0  0  0  0  0  0  0  0     0  0  0  0  0  0  0  0  0  0  0  0\n",
       " 0  0  0  0  0  0  0  0  0  0  0  0  0     0  0  0  0  0  0  0  0  0  0  0  0\n",
       " 0  0  0  0  0  0  0  0  0  0  0  0  0  …  0  0  0  0  0  0  0  0  0  0  0  0\n",
       " 0  0  0  0  0  0  0  0  0  0  0  0  0     0  0  0  0  0  0  0  0  0  0  0  0\n",
       " 0  0  0  0  0  0  0  0  0  0  0  0  0     0  0  0  0  0  0  0  0  0  0  0  0\n",
       " 0  0  0  0  0  0  0  0  0  0  0  0  0     0  0  0  0  0  0  0  0  0  0  0  0\n",
       " 0  0  0  0  0  0  0  0  0  0  0  0  0     0  0  0  0  0  0  0  0  0  0  0  0\n",
       " 0  0  0  0  0  0  0  0  0  0  0  0  0  …  0  0  0  0  0  0  0  0  0  0  0  0\n",
       " 0  0  0  0  0  0  0  0  0  0  0  0  0     0  0  0  0  0  0  0  0  0  0  0  0\n",
       " 0  0  0  0  0  0  0  0  0  0  0  0  0     0  0  0  0  0  0  0  0  0  0  0  0\n",
       " 0  0  0  0  0  0  0  0  0  0  0  0  0     0  0  0  0  0  0  0  0  0  0  0  0\n",
       " 0  0  0  0  0  0  0  0  0  0  0  0  0     0  0  0  0  0  0  0  0  0  0  0  0"
      ]
     },
     "execution_count": 139,
     "metadata": {},
     "output_type": "execute_result"
    }
   ],
   "source": [
    "oceanmap = zeros(Int,1000,1000)"
   ]
  },
  {
   "cell_type": "code",
   "execution_count": 140,
   "id": "e2166db6-979c-4dd6-af75-de267e988329",
   "metadata": {},
   "outputs": [],
   "source": [
    "for r in eachrow(hv)\n",
    "    if r.y2>r.y1 || r.x2>r.x1\n",
    "        oceanmap[r.y1:r.y2,r.x1:r.x2] .+= 1\n",
    "    else\n",
    "        oceanmap[r.y2:r.y1,r.x2:r.x1] .+= 1\n",
    "    end\n",
    "end"
   ]
  },
  {
   "cell_type": "code",
   "execution_count": 141,
   "id": "2c21c42b-9ac2-4409-90fb-fe5bdcc35648",
   "metadata": {},
   "outputs": [
    {
     "data": {
      "text/plain": [
       "1000×1000 Matrix{Int64}:\n",
       " 0  0  0  0  0  0  0  0  0  0  0  0  0  …  0  0  0  0  0  0  0  0  0  0  0  0\n",
       " 0  0  0  0  0  0  0  0  0  0  0  0  0     0  0  0  0  0  0  0  0  0  0  0  0\n",
       " 0  0  0  0  0  0  0  0  0  0  0  0  0     0  0  0  0  0  0  0  0  0  0  0  0\n",
       " 0  0  0  0  0  0  0  0  0  0  0  0  0     0  0  0  0  0  0  0  0  0  0  0  0\n",
       " 0  0  0  0  0  0  0  0  0  0  0  0  0     0  0  0  0  0  0  0  0  0  0  0  0\n",
       " 0  0  0  0  0  0  0  0  0  0  0  0  0  …  0  0  0  0  0  0  0  0  0  0  0  0\n",
       " 0  0  0  0  0  0  0  0  0  0  0  0  0     0  0  0  0  0  0  0  0  0  0  0  0\n",
       " 0  0  0  0  0  0  0  0  0  0  0  0  0     0  0  0  0  0  0  0  0  0  0  0  0\n",
       " 0  0  0  0  0  0  0  0  0  0  0  0  0     0  0  0  0  0  0  0  0  0  0  0  0\n",
       " 0  0  0  0  0  0  0  0  0  0  0  0  0     0  0  0  0  0  0  0  0  0  0  0  0\n",
       " 0  0  0  0  0  0  0  0  0  0  0  0  0  …  0  0  0  0  0  0  0  0  0  0  0  0\n",
       " 0  0  0  0  0  0  0  0  0  0  0  0  0     0  0  0  0  0  0  0  0  0  0  0  0\n",
       " 0  0  0  0  0  0  0  0  0  0  0  0  0     0  0  0  0  0  0  0  0  0  0  0  0\n",
       " ⋮              ⋮              ⋮        ⋱        ⋮              ⋮           \n",
       " 0  0  0  0  0  0  0  0  0  0  0  0  0     0  0  0  0  0  0  0  0  0  0  0  0\n",
       " 0  0  0  0  0  0  0  0  0  0  0  0  0     0  0  0  0  0  0  0  0  0  0  0  0\n",
       " 0  0  0  0  0  0  0  0  0  0  0  0  0  …  0  0  0  0  0  0  0  0  0  0  0  0\n",
       " 0  0  0  0  0  0  0  0  0  0  0  0  0     0  0  0  0  0  0  0  0  0  0  0  0\n",
       " 0  0  0  0  0  0  0  0  0  0  0  0  0     0  0  0  0  0  0  0  0  0  0  0  0\n",
       " 0  0  0  0  0  0  0  0  0  0  0  0  0     0  0  0  0  0  0  0  0  0  0  0  0\n",
       " 0  0  0  0  0  0  0  0  0  0  0  0  0     0  0  0  0  0  0  0  0  0  0  0  0\n",
       " 0  0  0  0  0  0  0  0  0  0  0  0  0  …  0  0  0  0  0  0  0  0  0  0  0  0\n",
       " 0  0  0  0  0  0  0  0  0  0  0  0  0     0  0  0  0  0  0  0  0  0  0  0  0\n",
       " 0  0  0  0  0  0  0  0  0  0  0  0  0     0  0  0  0  0  0  0  0  0  0  0  0\n",
       " 0  0  0  0  0  0  0  0  0  0  0  0  0     0  0  0  0  0  0  0  0  0  0  0  0\n",
       " 0  0  0  0  0  0  0  0  0  0  0  0  0     0  0  0  0  0  0  0  0  0  0  0  0"
      ]
     },
     "execution_count": 141,
     "metadata": {},
     "output_type": "execute_result"
    }
   ],
   "source": [
    "oceanmap#[140:160,20:40]"
   ]
  },
  {
   "cell_type": "code",
   "execution_count": 142,
   "id": "921fcffd-80ff-4232-8b59-c15b61ca0570",
   "metadata": {},
   "outputs": [
    {
     "data": {
      "text/plain": [
       "5835"
      ]
     },
     "execution_count": 142,
     "metadata": {},
     "output_type": "execute_result"
    }
   ],
   "source": [
    "sum(oceanmap .> 1)"
   ]
  },
  {
   "cell_type": "markdown",
   "id": "c9a3633f-da19-4f4f-99b5-20c8978d7865",
   "metadata": {},
   "source": [
    "Solution: 5835"
   ]
  },
  {
   "cell_type": "markdown",
   "id": "6acd1927-8df8-4fad-8f3c-143e461be2ac",
   "metadata": {},
   "source": [
    "## Part II"
   ]
  },
  {
   "cell_type": "code",
   "execution_count": 143,
   "id": "f31edf24-15c4-4255-84f1-8cffbdce59b6",
   "metadata": {},
   "outputs": [],
   "source": [
    "diag = filter(row->(row.x1!=row.x2 && row.y1!=row.y2), data);"
   ]
  },
  {
   "cell_type": "code",
   "execution_count": 144,
   "id": "03088fc4-49f9-4913-a88c-b925fae99397",
   "metadata": {},
   "outputs": [],
   "source": [
    "for r in eachrow(diag)\n",
    "    xs = r.x1:sign(r.x2-r.x1):r.x2\n",
    "    ys = r.y1:sign(r.y2-r.y1):r.y2\n",
    "    for (x,y) in zip(xs,ys)\n",
    "        oceanmap[y,x] += 1\n",
    "    end\n",
    "end"
   ]
  },
  {
   "cell_type": "code",
   "execution_count": 145,
   "id": "6530c515-8c84-44fa-aef1-c765b347c5b4",
   "metadata": {},
   "outputs": [
    {
     "data": {
      "text/plain": [
       "10×10 Matrix{Int64}:\n",
       " 0  0  0  0  0  0  0  0  0  0\n",
       " 0  0  0  0  0  0  0  0  0  0\n",
       " 0  0  0  0  0  0  0  0  0  0\n",
       " 0  0  0  0  0  0  0  0  0  0\n",
       " 0  0  0  0  0  0  0  0  0  0\n",
       " 0  0  0  0  0  0  0  0  0  0\n",
       " 0  0  0  0  0  0  0  0  0  0\n",
       " 0  0  0  0  0  0  0  0  0  0\n",
       " 0  0  0  0  0  0  0  0  0  0\n",
       " 0  0  0  0  0  0  0  0  0  0"
      ]
     },
     "execution_count": 145,
     "metadata": {},
     "output_type": "execute_result"
    }
   ],
   "source": [
    "oceanmap[1:10,1:10]"
   ]
  },
  {
   "cell_type": "code",
   "execution_count": 146,
   "id": "ccd1f12a-150a-42ce-9aeb-80a4b6866de9",
   "metadata": {},
   "outputs": [
    {
     "data": {
      "text/plain": [
       "17013"
      ]
     },
     "execution_count": 146,
     "metadata": {},
     "output_type": "execute_result"
    }
   ],
   "source": [
    "sum(oceanmap .> 1)"
   ]
  },
  {
   "cell_type": "code",
   "execution_count": null,
   "id": "1fbc01ab-a7d1-4791-b3e1-3918802a247e",
   "metadata": {},
   "outputs": [],
   "source": []
  }
 ],
 "metadata": {
  "kernelspec": {
   "display_name": "Julia 1.6.1",
   "language": "julia",
   "name": "julia-1.6"
  },
  "language_info": {
   "file_extension": ".jl",
   "mimetype": "application/julia",
   "name": "julia",
   "version": "1.6.1"
  }
 },
 "nbformat": 4,
 "nbformat_minor": 5
}
