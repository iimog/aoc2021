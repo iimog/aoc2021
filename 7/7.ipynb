{
 "cells": [
  {
   "cell_type": "code",
   "execution_count": 2,
   "id": "f79926a8-7e6c-4422-ac35-0f00380eb563",
   "metadata": {},
   "outputs": [
    {
     "data": {
      "text/plain": [
       "1000-element Vector{Int64}:\n",
       " 1101\n",
       "    1\n",
       "   29\n",
       "   67\n",
       " 1102\n",
       "    0\n",
       "    1\n",
       "   65\n",
       " 1008\n",
       "   65\n",
       "   35\n",
       "   66\n",
       " 1005\n",
       "    ⋮\n",
       "  797\n",
       "  608\n",
       "  307\n",
       "  841\n",
       "  595\n",
       " 1022\n",
       "   48\n",
       "  274\n",
       "   72\n",
       "  628\n",
       " 1119\n",
       "  195"
      ]
     },
     "execution_count": 2,
     "metadata": {},
     "output_type": "execute_result"
    }
   ],
   "source": [
    "pos = [parse(Int, x) for x in split(readline(\"input\"),\",\")]"
   ]
  },
  {
   "cell_type": "code",
   "execution_count": 4,
   "id": "e8ee3058-201d-41d4-8a97-abd4d76079b9",
   "metadata": {},
   "outputs": [],
   "source": [
    "using Statistics"
   ]
  },
  {
   "cell_type": "code",
   "execution_count": 6,
   "id": "29a41534-238a-4383-af1e-ab7cb70bd84d",
   "metadata": {},
   "outputs": [
    {
     "data": {
      "text/plain": [
       "363.0"
      ]
     },
     "execution_count": 6,
     "metadata": {},
     "output_type": "execute_result"
    }
   ],
   "source": [
    "mp = median(pos)"
   ]
  },
  {
   "cell_type": "code",
   "execution_count": 7,
   "id": "61ae3fe3-e7d7-44d4-ae22-06eb697d1c66",
   "metadata": {},
   "outputs": [
    {
     "data": {
      "text/plain": [
       "341534.0"
      ]
     },
     "execution_count": 7,
     "metadata": {},
     "output_type": "execute_result"
    }
   ],
   "source": [
    "sum([abs(x-mp) for x in pos])"
   ]
  },
  {
   "cell_type": "markdown",
   "id": "a1fdedf5-b787-44b5-8180-5eb2e8f888d5",
   "metadata": {},
   "source": [
    "## Part II"
   ]
  },
  {
   "cell_type": "code",
   "execution_count": 15,
   "id": "9d27dc1d-fa82-419b-9cdb-23230d4942ce",
   "metadata": {},
   "outputs": [
    {
     "data": {
      "text/plain": [
       "(0, 1958)"
      ]
     },
     "execution_count": 15,
     "metadata": {},
     "output_type": "execute_result"
    }
   ],
   "source": [
    "minimum(pos), maximum(pos)"
   ]
  },
  {
   "cell_type": "code",
   "execution_count": 17,
   "id": "4677b43d-715e-4020-b0b3-432339a56432",
   "metadata": {},
   "outputs": [
    {
     "data": {
      "text/plain": [
       "1959-element Vector{Int64}:\n",
       "  210838938\n",
       "  210354432\n",
       "  209870931\n",
       "  209388432\n",
       "  208906936\n",
       "  208426445\n",
       "  207946959\n",
       "  207468477\n",
       "  206990999\n",
       "  206514522\n",
       "  206039045\n",
       "  205564570\n",
       "  205091100\n",
       "          ⋮\n",
       " 1163387573\n",
       " 1164851060\n",
       " 1166315547\n",
       " 1167781034\n",
       " 1169247521\n",
       " 1170715008\n",
       " 1172183495\n",
       " 1173652982\n",
       " 1175123469\n",
       " 1176594956\n",
       " 1178067443\n",
       " 1179540930"
      ]
     },
     "execution_count": 17,
     "metadata": {},
     "output_type": "execute_result"
    }
   ],
   "source": [
    "score_by_pos = [sum([sum(1:abs(x-p)) for x in pos]) for p in minimum(pos):maximum(pos)]"
   ]
  },
  {
   "cell_type": "code",
   "execution_count": 18,
   "id": "34fa5b0a-4540-4c47-b31a-3af06805b80b",
   "metadata": {},
   "outputs": [
    {
     "data": {
      "text/plain": [
       "93397632"
      ]
     },
     "execution_count": 18,
     "metadata": {},
     "output_type": "execute_result"
    }
   ],
   "source": [
    "minimum(score_by_pos)"
   ]
  },
  {
   "cell_type": "code",
   "execution_count": null,
   "id": "d1303fe1-f1ac-4fc9-9cf0-97085bb8408c",
   "metadata": {},
   "outputs": [],
   "source": []
  }
 ],
 "metadata": {
  "kernelspec": {
   "display_name": "Julia 1.6.1",
   "language": "julia",
   "name": "julia-1.6"
  },
  "language_info": {
   "file_extension": ".jl",
   "mimetype": "application/julia",
   "name": "julia",
   "version": "1.6.1"
  }
 },
 "nbformat": 4,
 "nbformat_minor": 5
}
