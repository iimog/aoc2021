{
 "cells": [
  {
   "cell_type": "code",
   "execution_count": 1,
   "id": "e99077ec-e3c3-4430-a8d8-c9cada65eae6",
   "metadata": {},
   "outputs": [],
   "source": [
    "using CSV, DataFrames"
   ]
  },
  {
   "cell_type": "code",
   "execution_count": 4,
   "id": "93c4e7ab-f73f-4aff-ada7-7480c230d030",
   "metadata": {},
   "outputs": [
    {
     "data": {
      "text/html": [
       "<div class=\"data-frame\"><p>200 rows × 15 columns (omitted printing of 6 columns)</p><table class=\"data-frame\"><thead><tr><th></th><th>Column1</th><th>Column2</th><th>Column3</th><th>Column4</th><th>Column5</th><th>Column6</th><th>Column7</th><th>Column8</th><th>Column9</th></tr><tr><th></th><th title=\"String7\">String7</th><th title=\"String7\">String7</th><th title=\"String7\">String7</th><th title=\"String7\">String7</th><th title=\"String7\">String7</th><th title=\"String7\">String7</th><th title=\"String7\">String7</th><th title=\"String7\">String7</th><th title=\"String7\">String7</th></tr></thead><tbody><tr><th>1</th><td>febca</td><td>cfagb</td><td>ecbafd</td><td>efdcbg</td><td>cbegdfa</td><td>fg</td><td>bgafec</td><td>gfae</td><td>acgdb</td></tr><tr><th>2</th><td>acbed</td><td>dcagb</td><td>cfbega</td><td>ecgdab</td><td>be</td><td>deafc</td><td>bfgdca</td><td>abe</td><td>edafgbc</td></tr><tr><th>3</th><td>decfb</td><td>bgadec</td><td>dgefa</td><td>bcgfade</td><td>cae</td><td>adecf</td><td>ca</td><td>eacfdb</td><td>bcaf</td></tr><tr><th>4</th><td>egd</td><td>agdcfe</td><td>gedbfa</td><td>gbcfae</td><td>ed</td><td>dafgebc</td><td>bdcgf</td><td>gdbfe</td><td>fgabe</td></tr><tr><th>5</th><td>bfeca</td><td>beadgc</td><td>gdfeacb</td><td>aebcfd</td><td>eg</td><td>aefg</td><td>cgefab</td><td>ebgfc</td><td>gbdfc</td></tr><tr><th>6</th><td>fcd</td><td>fd</td><td>fgdceba</td><td>edgac</td><td>cegdbf</td><td>gcafdb</td><td>agdfc</td><td>cafbg</td><td>beagfc</td></tr><tr><th>7</th><td>cfbgeda</td><td>gdfae</td><td>abdfg</td><td>dfceg</td><td>edagfb</td><td>geba</td><td>bfcaed</td><td>fcdbag</td><td>ae</td></tr><tr><th>8</th><td>edafbg</td><td>ebg</td><td>gbdea</td><td>cdbefga</td><td>bfgcea</td><td>ge</td><td>egdf</td><td>aedcb</td><td>gfadb</td></tr><tr><th>9</th><td>adecfb</td><td>aebdc</td><td>ab</td><td>efbagd</td><td>cfbed</td><td>cagde</td><td>baecgfd</td><td>egdbfc</td><td>bad</td></tr><tr><th>10</th><td>gfdacb</td><td>bgdace</td><td>gb</td><td>cdfbg</td><td>fcbde</td><td>fdgeac</td><td>bgfa</td><td>dgb</td><td>acfgd</td></tr><tr><th>11</th><td>bfdace</td><td>bdcfa</td><td>ebcag</td><td>egcdbfa</td><td>dbg</td><td>dg</td><td>fbegdc</td><td>bcgda</td><td>fgabdc</td></tr><tr><th>12</th><td>bed</td><td>faegcb</td><td>fedcba</td><td>dgbcea</td><td>feabc</td><td>cdefb</td><td>bd</td><td>bcdfgea</td><td>edgcf</td></tr><tr><th>13</th><td>cfead</td><td>dc</td><td>dagef</td><td>gfdc</td><td>cgdefa</td><td>acdbeg</td><td>cad</td><td>egfabcd</td><td>bgeafd</td></tr><tr><th>14</th><td>afgbde</td><td>gebca</td><td>ecbdaf</td><td>caedb</td><td>faceg</td><td>abgcedf</td><td>cdbeag</td><td>cbdg</td><td>bg</td></tr><tr><th>15</th><td>dfab</td><td>dfgae</td><td>bcafge</td><td>cbefagd</td><td>fdbeg</td><td>fa</td><td>fea</td><td>fcbdge</td><td>aegcd</td></tr><tr><th>16</th><td>decafg</td><td>cadef</td><td>fadecb</td><td>dfeba</td><td>aecbgd</td><td>gefbd</td><td>aeb</td><td>ba</td><td>ebfgdca</td></tr><tr><th>17</th><td>efgbd</td><td>efdacg</td><td>cd</td><td>gefcd</td><td>becagf</td><td>dgc</td><td>edca</td><td>egdbafc</td><td>cegfa</td></tr><tr><th>18</th><td>gabed</td><td>gdacfe</td><td>egabcdf</td><td>cdaf</td><td>fdg</td><td>acgfe</td><td>fgdea</td><td>gafbce</td><td>degbcf</td></tr><tr><th>19</th><td>gd</td><td>badgcf</td><td>cdg</td><td>gbdcae</td><td>cbdea</td><td>dgfceba</td><td>bfadec</td><td>gdbe</td><td>geadc</td></tr><tr><th>20</th><td>gbae</td><td>fedcag</td><td>bg</td><td>ecgbda</td><td>bfecd</td><td>dcage</td><td>fecgbda</td><td>bgdce</td><td>acfdgb</td></tr><tr><th>21</th><td>abcgdf</td><td>cfgae</td><td>cebag</td><td>gedbafc</td><td>dcgbae</td><td>abg</td><td>decfbg</td><td>gcebd</td><td>ab</td></tr><tr><th>22</th><td>gab</td><td>efgbd</td><td>gbcfad</td><td>edgfac</td><td>ba</td><td>gaced</td><td>dgcbae</td><td>edbag</td><td>fcgedab</td></tr><tr><th>23</th><td>acebg</td><td>aedbfg</td><td>deca</td><td>ad</td><td>dcaebg</td><td>cgfbd</td><td>abd</td><td>cdabg</td><td>dbecgfa</td></tr><tr><th>24</th><td>fdagcbe</td><td>ebgdac</td><td>ecfgbd</td><td>fbc</td><td>fc</td><td>cbged</td><td>fbegc</td><td>cdef</td><td>cfdgba</td></tr><tr><th>25</th><td>cbd</td><td>fadgb</td><td>dceag</td><td>cb</td><td>gfadeb</td><td>begfcd</td><td>cafb</td><td>cgfdba</td><td>gbadc</td></tr><tr><th>26</th><td>bgdefca</td><td>cbgadf</td><td>ebacf</td><td>dfbac</td><td>gedcfa</td><td>cef</td><td>fe</td><td>gcbae</td><td>fbed</td></tr><tr><th>27</th><td>acfde</td><td>cgeabd</td><td>cag</td><td>gfcb</td><td>adgfc</td><td>fdgbae</td><td>fbdag</td><td>cgefabd</td><td>dgbacf</td></tr><tr><th>28</th><td>ebdcg</td><td>cfdbage</td><td>cefbag</td><td>cb</td><td>ecb</td><td>dabc</td><td>cagdeb</td><td>gbefd</td><td>afdcge</td></tr><tr><th>29</th><td>acd</td><td>bfcged</td><td>aedgfcb</td><td>afdbce</td><td>efcdb</td><td>cfdae</td><td>cbae</td><td>cdafgb</td><td>gdefa</td></tr><tr><th>30</th><td>cebd</td><td>aefdgcb</td><td>bafecg</td><td>bfagd</td><td>adfecg</td><td>dcgab</td><td>gcd</td><td>cd</td><td>ebcadg</td></tr><tr><th>&vellip;</th><td>&vellip;</td><td>&vellip;</td><td>&vellip;</td><td>&vellip;</td><td>&vellip;</td><td>&vellip;</td><td>&vellip;</td><td>&vellip;</td><td>&vellip;</td></tr></tbody></table></div>"
      ],
      "text/latex": [
       "\\begin{tabular}{r|cccccccccc}\n",
       "\t& Column1 & Column2 & Column3 & Column4 & Column5 & Column6 & Column7 & Column8 & Column9 & \\\\\n",
       "\t\\hline\n",
       "\t& String7 & String7 & String7 & String7 & String7 & String7 & String7 & String7 & String7 & \\\\\n",
       "\t\\hline\n",
       "\t1 & febca & cfagb & ecbafd & efdcbg & cbegdfa & fg & bgafec & gfae & acgdb & $\\dots$ \\\\\n",
       "\t2 & acbed & dcagb & cfbega & ecgdab & be & deafc & bfgdca & abe & edafgbc & $\\dots$ \\\\\n",
       "\t3 & decfb & bgadec & dgefa & bcgfade & cae & adecf & ca & eacfdb & bcaf & $\\dots$ \\\\\n",
       "\t4 & egd & agdcfe & gedbfa & gbcfae & ed & dafgebc & bdcgf & gdbfe & fgabe & $\\dots$ \\\\\n",
       "\t5 & bfeca & beadgc & gdfeacb & aebcfd & eg & aefg & cgefab & ebgfc & gbdfc & $\\dots$ \\\\\n",
       "\t6 & fcd & fd & fgdceba & edgac & cegdbf & gcafdb & agdfc & cafbg & beagfc & $\\dots$ \\\\\n",
       "\t7 & cfbgeda & gdfae & abdfg & dfceg & edagfb & geba & bfcaed & fcdbag & ae & $\\dots$ \\\\\n",
       "\t8 & edafbg & ebg & gbdea & cdbefga & bfgcea & ge & egdf & aedcb & gfadb & $\\dots$ \\\\\n",
       "\t9 & adecfb & aebdc & ab & efbagd & cfbed & cagde & baecgfd & egdbfc & bad & $\\dots$ \\\\\n",
       "\t10 & gfdacb & bgdace & gb & cdfbg & fcbde & fdgeac & bgfa & dgb & acfgd & $\\dots$ \\\\\n",
       "\t11 & bfdace & bdcfa & ebcag & egcdbfa & dbg & dg & fbegdc & bcgda & fgabdc & $\\dots$ \\\\\n",
       "\t12 & bed & faegcb & fedcba & dgbcea & feabc & cdefb & bd & bcdfgea & edgcf & $\\dots$ \\\\\n",
       "\t13 & cfead & dc & dagef & gfdc & cgdefa & acdbeg & cad & egfabcd & bgeafd & $\\dots$ \\\\\n",
       "\t14 & afgbde & gebca & ecbdaf & caedb & faceg & abgcedf & cdbeag & cbdg & bg & $\\dots$ \\\\\n",
       "\t15 & dfab & dfgae & bcafge & cbefagd & fdbeg & fa & fea & fcbdge & aegcd & $\\dots$ \\\\\n",
       "\t16 & decafg & cadef & fadecb & dfeba & aecbgd & gefbd & aeb & ba & ebfgdca & $\\dots$ \\\\\n",
       "\t17 & efgbd & efdacg & cd & gefcd & becagf & dgc & edca & egdbafc & cegfa & $\\dots$ \\\\\n",
       "\t18 & gabed & gdacfe & egabcdf & cdaf & fdg & acgfe & fgdea & gafbce & degbcf & $\\dots$ \\\\\n",
       "\t19 & gd & badgcf & cdg & gbdcae & cbdea & dgfceba & bfadec & gdbe & geadc & $\\dots$ \\\\\n",
       "\t20 & gbae & fedcag & bg & ecgbda & bfecd & dcage & fecgbda & bgdce & acfdgb & $\\dots$ \\\\\n",
       "\t21 & abcgdf & cfgae & cebag & gedbafc & dcgbae & abg & decfbg & gcebd & ab & $\\dots$ \\\\\n",
       "\t22 & gab & efgbd & gbcfad & edgfac & ba & gaced & dgcbae & edbag & fcgedab & $\\dots$ \\\\\n",
       "\t23 & acebg & aedbfg & deca & ad & dcaebg & cgfbd & abd & cdabg & dbecgfa & $\\dots$ \\\\\n",
       "\t24 & fdagcbe & ebgdac & ecfgbd & fbc & fc & cbged & fbegc & cdef & cfdgba & $\\dots$ \\\\\n",
       "\t25 & cbd & fadgb & dceag & cb & gfadeb & begfcd & cafb & cgfdba & gbadc & $\\dots$ \\\\\n",
       "\t26 & bgdefca & cbgadf & ebacf & dfbac & gedcfa & cef & fe & gcbae & fbed & $\\dots$ \\\\\n",
       "\t27 & acfde & cgeabd & cag & gfcb & adgfc & fdgbae & fbdag & cgefabd & dgbacf & $\\dots$ \\\\\n",
       "\t28 & ebdcg & cfdbage & cefbag & cb & ecb & dabc & cagdeb & gbefd & afdcge & $\\dots$ \\\\\n",
       "\t29 & acd & bfcged & aedgfcb & afdbce & efcdb & cfdae & cbae & cdafgb & gdefa & $\\dots$ \\\\\n",
       "\t30 & cebd & aefdgcb & bafecg & bfagd & adfecg & dcgab & gcd & cd & ebcadg & $\\dots$ \\\\\n",
       "\t$\\dots$ & $\\dots$ & $\\dots$ & $\\dots$ & $\\dots$ & $\\dots$ & $\\dots$ & $\\dots$ & $\\dots$ & $\\dots$ &  \\\\\n",
       "\\end{tabular}\n"
      ],
      "text/plain": [
       "\u001b[1m200×15 DataFrame\u001b[0m\n",
       "\u001b[1m Row \u001b[0m│\u001b[1m Column1 \u001b[0m\u001b[1m Column2 \u001b[0m\u001b[1m Column3 \u001b[0m\u001b[1m Column4 \u001b[0m\u001b[1m Column5 \u001b[0m\u001b[1m Column6 \u001b[0m\u001b[1m Column7 \u001b[0m\u001b[1m Column8 \u001b[0m\u001b[1m\u001b[0m ⋯\n",
       "\u001b[1m     \u001b[0m│\u001b[90m String7 \u001b[0m\u001b[90m String7 \u001b[0m\u001b[90m String7 \u001b[0m\u001b[90m String7 \u001b[0m\u001b[90m String7 \u001b[0m\u001b[90m String7 \u001b[0m\u001b[90m String7 \u001b[0m\u001b[90m String7 \u001b[0m\u001b[90m\u001b[0m ⋯\n",
       "─────┼──────────────────────────────────────────────────────────────────────────\n",
       "   1 │ febca    cfagb    ecbafd   efdcbg   cbegdfa  fg       bgafec   gfae     ⋯\n",
       "   2 │ acbed    dcagb    cfbega   ecgdab   be       deafc    bfgdca   abe\n",
       "   3 │ decfb    bgadec   dgefa    bcgfade  cae      adecf    ca       eacfdb\n",
       "   4 │ egd      agdcfe   gedbfa   gbcfae   ed       dafgebc  bdcgf    gdbfe\n",
       "   5 │ bfeca    beadgc   gdfeacb  aebcfd   eg       aefg     cgefab   ebgfc    ⋯\n",
       "   6 │ fcd      fd       fgdceba  edgac    cegdbf   gcafdb   agdfc    cafbg\n",
       "   7 │ cfbgeda  gdfae    abdfg    dfceg    edagfb   geba     bfcaed   fcdbag\n",
       "   8 │ edafbg   ebg      gbdea    cdbefga  bfgcea   ge       egdf     aedcb\n",
       "   9 │ adecfb   aebdc    ab       efbagd   cfbed    cagde    baecgfd  egdbfc   ⋯\n",
       "  10 │ gfdacb   bgdace   gb       cdfbg    fcbde    fdgeac   bgfa     dgb\n",
       "  11 │ bfdace   bdcfa    ebcag    egcdbfa  dbg      dg       fbegdc   bcgda\n",
       "  ⋮  │    ⋮        ⋮        ⋮        ⋮        ⋮        ⋮        ⋮        ⋮     ⋱\n",
       " 191 │ dgc      abfedg   bdgea    cbfde    dfcgab   ecag     gbcdae   cg\n",
       " 192 │ befcd    dg       bgacf    fbcegad  dgb      gcad     gbcdf    fagdbe   ⋯\n",
       " 193 │ cb       bgdcfe   bgacefd  fdgbe    edcgb    cegad    cbagfd   dbefag\n",
       " 194 │ adfcge   afgd     acfeb    efcda    da       gdefc    cegfbd   bcegad\n",
       " 195 │ gacdf    bdg      aegbdc   bg       debaf    bfeg     gadfbce  gfbdea\n",
       " 196 │ adbecg   dfa      fd       gafbe    gefda    cefgda   ecdag    efdc     ⋯\n",
       " 197 │ ecfgad   gbae     ecdag    ba       agbdec   bac      fdabgc   edabc\n",
       " 198 │ fgbca    cge      gcefb    gadebcf  eabcfg   gcadbf   feag     eg\n",
       " 199 │ eadg     eadbc    gfbcda   badefc   gdc      fcgbe    dcbge    acfgbde\n",
       " 200 │ ga       befgac   fcgedba  fabced   agfce    edgfc    gbea     aebcf    ⋯\n",
       "\u001b[36m                                                  7 columns and 179 rows omitted\u001b[0m"
      ]
     },
     "execution_count": 4,
     "metadata": {},
     "output_type": "execute_result"
    }
   ],
   "source": [
    "data = CSV.read(\"input\", DataFrame, delim = \" \", header=false)"
   ]
  },
  {
   "cell_type": "code",
   "execution_count": 5,
   "id": "775c0ae2-0bd7-447d-8f68-dec669186e54",
   "metadata": {},
   "outputs": [
    {
     "data": {
      "text/html": [
       "<div class=\"data-frame\"><p>10 rows × 4 columns</p><table class=\"data-frame\"><thead><tr><th></th><th>Column12</th><th>Column13</th><th>Column14</th><th>Column15</th></tr><tr><th></th><th title=\"String7\">String7</th><th title=\"String7\">String7</th><th title=\"String7\">String7</th><th title=\"String7\">String7</th></tr></thead><tbody><tr><th>1</th><td>cgf</td><td>facdeb</td><td>ecgfdb</td><td>afcbge</td></tr><tr><th>2</th><td>dceab</td><td>dgbca</td><td>gedabc</td><td>fecabgd</td></tr><tr><th>3</th><td>bfca</td><td>fdacbge</td><td>cedfb</td><td>dfebac</td></tr><tr><th>4</th><td>cefbga</td><td>egfcba</td><td>dbfeg</td><td>ed</td></tr><tr><th>5</th><td>bedacf</td><td>eg</td><td>dabegc</td><td>bfeac</td></tr><tr><th>6</th><td>dacbfg</td><td>gfacb</td><td>fcd</td><td>fd</td></tr><tr><th>7</th><td>dcbefa</td><td>dagfb</td><td>dcefg</td><td>abgdef</td></tr><tr><th>8</th><td>degbaf</td><td>dbgafe</td><td>ecdab</td><td>dagbf</td></tr><tr><th>9</th><td>cbaf</td><td>beadfgc</td><td>febcd</td><td>gaecd</td></tr><tr><th>10</th><td>bg</td><td>dbegac</td><td>fbdegac</td><td>agfb</td></tr></tbody></table></div>"
      ],
      "text/latex": [
       "\\begin{tabular}{r|cccc}\n",
       "\t& Column12 & Column13 & Column14 & Column15\\\\\n",
       "\t\\hline\n",
       "\t& String7 & String7 & String7 & String7\\\\\n",
       "\t\\hline\n",
       "\t1 & cgf & facdeb & ecgfdb & afcbge \\\\\n",
       "\t2 & dceab & dgbca & gedabc & fecabgd \\\\\n",
       "\t3 & bfca & fdacbge & cedfb & dfebac \\\\\n",
       "\t4 & cefbga & egfcba & dbfeg & ed \\\\\n",
       "\t5 & bedacf & eg & dabegc & bfeac \\\\\n",
       "\t6 & dacbfg & gfacb & fcd & fd \\\\\n",
       "\t7 & dcbefa & dagfb & dcefg & abgdef \\\\\n",
       "\t8 & degbaf & dbgafe & ecdab & dagbf \\\\\n",
       "\t9 & cbaf & beadfgc & febcd & gaecd \\\\\n",
       "\t10 & bg & dbegac & fbdegac & agfb \\\\\n",
       "\\end{tabular}\n"
      ],
      "text/plain": [
       "\u001b[1m10×4 DataFrame\u001b[0m\n",
       "\u001b[1m Row \u001b[0m│\u001b[1m Column12 \u001b[0m\u001b[1m Column13 \u001b[0m\u001b[1m Column14 \u001b[0m\u001b[1m Column15 \u001b[0m\n",
       "\u001b[1m     \u001b[0m│\u001b[90m String7  \u001b[0m\u001b[90m String7  \u001b[0m\u001b[90m String7  \u001b[0m\u001b[90m String7  \u001b[0m\n",
       "─────┼────────────────────────────────────────\n",
       "   1 │ cgf       facdeb    ecgfdb    afcbge\n",
       "   2 │ dceab     dgbca     gedabc    fecabgd\n",
       "   3 │ bfca      fdacbge   cedfb     dfebac\n",
       "   4 │ cefbga    egfcba    dbfeg     ed\n",
       "   5 │ bedacf    eg        dabegc    bfeac\n",
       "   6 │ dacbfg    gfacb     fcd       fd\n",
       "   7 │ dcbefa    dagfb     dcefg     abgdef\n",
       "   8 │ degbaf    dbgafe    ecdab     dagbf\n",
       "   9 │ cbaf      beadfgc   febcd     gaecd\n",
       "  10 │ bg        dbegac    fbdegac   agfb"
      ]
     },
     "execution_count": 5,
     "metadata": {},
     "output_type": "execute_result"
    }
   ],
   "source": [
    "data[1:10,12:15]"
   ]
  },
  {
   "cell_type": "code",
   "execution_count": 16,
   "id": "ab1feb4c-a233-40b0-acb8-6684843c494d",
   "metadata": {},
   "outputs": [
    {
     "data": {
      "text/html": [
       "<div class=\"data-frame\"><p>200 rows × 4 columns</p><table class=\"data-frame\"><thead><tr><th></th><th>Column12</th><th>Column13</th><th>Column14</th><th>Column15</th></tr><tr><th></th><th title=\"Bool\">Bool</th><th title=\"Bool\">Bool</th><th title=\"Bool\">Bool</th><th title=\"Bool\">Bool</th></tr></thead><tbody><tr><th>1</th><td>1</td><td>0</td><td>0</td><td>0</td></tr><tr><th>2</th><td>0</td><td>0</td><td>0</td><td>1</td></tr><tr><th>3</th><td>1</td><td>1</td><td>0</td><td>0</td></tr><tr><th>4</th><td>0</td><td>0</td><td>0</td><td>1</td></tr><tr><th>5</th><td>0</td><td>1</td><td>0</td><td>0</td></tr><tr><th>6</th><td>0</td><td>0</td><td>1</td><td>1</td></tr><tr><th>7</th><td>0</td><td>0</td><td>0</td><td>0</td></tr><tr><th>8</th><td>0</td><td>0</td><td>0</td><td>0</td></tr><tr><th>9</th><td>1</td><td>1</td><td>0</td><td>0</td></tr><tr><th>10</th><td>1</td><td>0</td><td>1</td><td>1</td></tr><tr><th>11</th><td>0</td><td>0</td><td>0</td><td>1</td></tr><tr><th>12</th><td>0</td><td>1</td><td>0</td><td>0</td></tr><tr><th>13</th><td>0</td><td>0</td><td>0</td><td>0</td></tr><tr><th>14</th><td>1</td><td>0</td><td>0</td><td>0</td></tr><tr><th>15</th><td>0</td><td>1</td><td>0</td><td>0</td></tr><tr><th>16</th><td>1</td><td>0</td><td>1</td><td>0</td></tr><tr><th>17</th><td>0</td><td>0</td><td>0</td><td>1</td></tr><tr><th>18</th><td>0</td><td>0</td><td>0</td><td>1</td></tr><tr><th>19</th><td>1</td><td>1</td><td>1</td><td>0</td></tr><tr><th>20</th><td>0</td><td>0</td><td>1</td><td>0</td></tr><tr><th>21</th><td>0</td><td>1</td><td>1</td><td>0</td></tr><tr><th>22</th><td>0</td><td>0</td><td>1</td><td>0</td></tr><tr><th>23</th><td>1</td><td>0</td><td>1</td><td>0</td></tr><tr><th>24</th><td>0</td><td>0</td><td>1</td><td>1</td></tr><tr><th>25</th><td>1</td><td>1</td><td>1</td><td>0</td></tr><tr><th>26</th><td>1</td><td>0</td><td>1</td><td>0</td></tr><tr><th>27</th><td>0</td><td>0</td><td>0</td><td>1</td></tr><tr><th>28</th><td>1</td><td>0</td><td>0</td><td>0</td></tr><tr><th>29</th><td>1</td><td>1</td><td>0</td><td>0</td></tr><tr><th>30</th><td>1</td><td>1</td><td>0</td><td>0</td></tr><tr><th>&vellip;</th><td>&vellip;</td><td>&vellip;</td><td>&vellip;</td><td>&vellip;</td></tr></tbody></table></div>"
      ],
      "text/latex": [
       "\\begin{tabular}{r|cccc}\n",
       "\t& Column12 & Column13 & Column14 & Column15\\\\\n",
       "\t\\hline\n",
       "\t& Bool & Bool & Bool & Bool\\\\\n",
       "\t\\hline\n",
       "\t1 & 1 & 0 & 0 & 0 \\\\\n",
       "\t2 & 0 & 0 & 0 & 1 \\\\\n",
       "\t3 & 1 & 1 & 0 & 0 \\\\\n",
       "\t4 & 0 & 0 & 0 & 1 \\\\\n",
       "\t5 & 0 & 1 & 0 & 0 \\\\\n",
       "\t6 & 0 & 0 & 1 & 1 \\\\\n",
       "\t7 & 0 & 0 & 0 & 0 \\\\\n",
       "\t8 & 0 & 0 & 0 & 0 \\\\\n",
       "\t9 & 1 & 1 & 0 & 0 \\\\\n",
       "\t10 & 1 & 0 & 1 & 1 \\\\\n",
       "\t11 & 0 & 0 & 0 & 1 \\\\\n",
       "\t12 & 0 & 1 & 0 & 0 \\\\\n",
       "\t13 & 0 & 0 & 0 & 0 \\\\\n",
       "\t14 & 1 & 0 & 0 & 0 \\\\\n",
       "\t15 & 0 & 1 & 0 & 0 \\\\\n",
       "\t16 & 1 & 0 & 1 & 0 \\\\\n",
       "\t17 & 0 & 0 & 0 & 1 \\\\\n",
       "\t18 & 0 & 0 & 0 & 1 \\\\\n",
       "\t19 & 1 & 1 & 1 & 0 \\\\\n",
       "\t20 & 0 & 0 & 1 & 0 \\\\\n",
       "\t21 & 0 & 1 & 1 & 0 \\\\\n",
       "\t22 & 0 & 0 & 1 & 0 \\\\\n",
       "\t23 & 1 & 0 & 1 & 0 \\\\\n",
       "\t24 & 0 & 0 & 1 & 1 \\\\\n",
       "\t25 & 1 & 1 & 1 & 0 \\\\\n",
       "\t26 & 1 & 0 & 1 & 0 \\\\\n",
       "\t27 & 0 & 0 & 0 & 1 \\\\\n",
       "\t28 & 1 & 0 & 0 & 0 \\\\\n",
       "\t29 & 1 & 1 & 0 & 0 \\\\\n",
       "\t30 & 1 & 1 & 0 & 0 \\\\\n",
       "\t$\\dots$ & $\\dots$ & $\\dots$ & $\\dots$ & $\\dots$ \\\\\n",
       "\\end{tabular}\n"
      ],
      "text/plain": [
       "\u001b[1m200×4 DataFrame\u001b[0m\n",
       "\u001b[1m Row \u001b[0m│\u001b[1m Column12 \u001b[0m\u001b[1m Column13 \u001b[0m\u001b[1m Column14 \u001b[0m\u001b[1m Column15 \u001b[0m\n",
       "\u001b[1m     \u001b[0m│\u001b[90m Bool     \u001b[0m\u001b[90m Bool     \u001b[0m\u001b[90m Bool     \u001b[0m\u001b[90m Bool     \u001b[0m\n",
       "─────┼────────────────────────────────────────\n",
       "   1 │     true     false     false     false\n",
       "   2 │    false     false     false      true\n",
       "   3 │     true      true     false     false\n",
       "   4 │    false     false     false      true\n",
       "   5 │    false      true     false     false\n",
       "   6 │    false     false      true      true\n",
       "   7 │    false     false     false     false\n",
       "   8 │    false     false     false     false\n",
       "   9 │     true      true     false     false\n",
       "  10 │     true     false      true      true\n",
       "  11 │    false     false     false      true\n",
       "  ⋮  │    ⋮         ⋮         ⋮         ⋮\n",
       " 191 │    false     false     false      true\n",
       " 192 │    false     false      true      true\n",
       " 193 │    false      true      true     false\n",
       " 194 │    false     false      true     false\n",
       " 195 │     true     false      true      true\n",
       " 196 │    false     false     false      true\n",
       " 197 │    false     false     false     false\n",
       " 198 │     true     false     false      true\n",
       " 199 │     true     false     false     false\n",
       " 200 │    false     false     false      true\n",
       "\u001b[36m                              179 rows omitted\u001b[0m"
      ]
     },
     "execution_count": 16,
     "metadata": {},
     "output_type": "execute_result"
    }
   ],
   "source": [
    "easy_or_not = length.(data[:,12:15]) .∈ [[2,3,4,7]]"
   ]
  },
  {
   "cell_type": "code",
   "execution_count": 21,
   "id": "78e86ae3-3c59-4fb4-bd6a-1188288d51aa",
   "metadata": {},
   "outputs": [
    {
     "data": {
      "text/plain": [
       "301"
      ]
     },
     "execution_count": 21,
     "metadata": {},
     "output_type": "execute_result"
    }
   ],
   "source": [
    "sum(Array(easy_or_not))"
   ]
  },
  {
   "cell_type": "markdown",
   "id": "cdc4c8e5-feb7-4d76-887e-183577bbf2bc",
   "metadata": {},
   "source": [
    "## Part II"
   ]
  },
  {
   "cell_type": "code",
   "execution_count": 23,
   "id": "335f0627-4c41-49ee-b777-083a131e3eef",
   "metadata": {},
   "outputs": [
    {
     "data": {
      "text/html": [
       "<div class=\"data-frame\"><p>10 rows × 15 columns (omitted printing of 6 columns)</p><table class=\"data-frame\"><thead><tr><th></th><th>Column1</th><th>Column2</th><th>Column3</th><th>Column4</th><th>Column5</th><th>Column6</th><th>Column7</th><th>Column8</th><th>Column9</th></tr><tr><th></th><th title=\"String7\">String7</th><th title=\"String7\">String7</th><th title=\"String7\">String7</th><th title=\"String7\">String7</th><th title=\"String7\">String7</th><th title=\"String7\">String7</th><th title=\"String7\">String7</th><th title=\"String7\">String7</th><th title=\"String7\">String7</th></tr></thead><tbody><tr><th>1</th><td>febca</td><td>cfagb</td><td>ecbafd</td><td>efdcbg</td><td>cbegdfa</td><td>fg</td><td>bgafec</td><td>gfae</td><td>acgdb</td></tr><tr><th>2</th><td>acbed</td><td>dcagb</td><td>cfbega</td><td>ecgdab</td><td>be</td><td>deafc</td><td>bfgdca</td><td>abe</td><td>edafgbc</td></tr><tr><th>3</th><td>decfb</td><td>bgadec</td><td>dgefa</td><td>bcgfade</td><td>cae</td><td>adecf</td><td>ca</td><td>eacfdb</td><td>bcaf</td></tr><tr><th>4</th><td>egd</td><td>agdcfe</td><td>gedbfa</td><td>gbcfae</td><td>ed</td><td>dafgebc</td><td>bdcgf</td><td>gdbfe</td><td>fgabe</td></tr><tr><th>5</th><td>bfeca</td><td>beadgc</td><td>gdfeacb</td><td>aebcfd</td><td>eg</td><td>aefg</td><td>cgefab</td><td>ebgfc</td><td>gbdfc</td></tr><tr><th>6</th><td>fcd</td><td>fd</td><td>fgdceba</td><td>edgac</td><td>cegdbf</td><td>gcafdb</td><td>agdfc</td><td>cafbg</td><td>beagfc</td></tr><tr><th>7</th><td>cfbgeda</td><td>gdfae</td><td>abdfg</td><td>dfceg</td><td>edagfb</td><td>geba</td><td>bfcaed</td><td>fcdbag</td><td>ae</td></tr><tr><th>8</th><td>edafbg</td><td>ebg</td><td>gbdea</td><td>cdbefga</td><td>bfgcea</td><td>ge</td><td>egdf</td><td>aedcb</td><td>gfadb</td></tr><tr><th>9</th><td>adecfb</td><td>aebdc</td><td>ab</td><td>efbagd</td><td>cfbed</td><td>cagde</td><td>baecgfd</td><td>egdbfc</td><td>bad</td></tr><tr><th>10</th><td>gfdacb</td><td>bgdace</td><td>gb</td><td>cdfbg</td><td>fcbde</td><td>fdgeac</td><td>bgfa</td><td>dgb</td><td>acfgd</td></tr></tbody></table></div>"
      ],
      "text/latex": [
       "\\begin{tabular}{r|cccccccccc}\n",
       "\t& Column1 & Column2 & Column3 & Column4 & Column5 & Column6 & Column7 & Column8 & Column9 & \\\\\n",
       "\t\\hline\n",
       "\t& String7 & String7 & String7 & String7 & String7 & String7 & String7 & String7 & String7 & \\\\\n",
       "\t\\hline\n",
       "\t1 & febca & cfagb & ecbafd & efdcbg & cbegdfa & fg & bgafec & gfae & acgdb & $\\dots$ \\\\\n",
       "\t2 & acbed & dcagb & cfbega & ecgdab & be & deafc & bfgdca & abe & edafgbc & $\\dots$ \\\\\n",
       "\t3 & decfb & bgadec & dgefa & bcgfade & cae & adecf & ca & eacfdb & bcaf & $\\dots$ \\\\\n",
       "\t4 & egd & agdcfe & gedbfa & gbcfae & ed & dafgebc & bdcgf & gdbfe & fgabe & $\\dots$ \\\\\n",
       "\t5 & bfeca & beadgc & gdfeacb & aebcfd & eg & aefg & cgefab & ebgfc & gbdfc & $\\dots$ \\\\\n",
       "\t6 & fcd & fd & fgdceba & edgac & cegdbf & gcafdb & agdfc & cafbg & beagfc & $\\dots$ \\\\\n",
       "\t7 & cfbgeda & gdfae & abdfg & dfceg & edagfb & geba & bfcaed & fcdbag & ae & $\\dots$ \\\\\n",
       "\t8 & edafbg & ebg & gbdea & cdbefga & bfgcea & ge & egdf & aedcb & gfadb & $\\dots$ \\\\\n",
       "\t9 & adecfb & aebdc & ab & efbagd & cfbed & cagde & baecgfd & egdbfc & bad & $\\dots$ \\\\\n",
       "\t10 & gfdacb & bgdace & gb & cdfbg & fcbde & fdgeac & bgfa & dgb & acfgd & $\\dots$ \\\\\n",
       "\\end{tabular}\n"
      ],
      "text/plain": [
       "\u001b[1m10×15 DataFrame\u001b[0m\n",
       "\u001b[1m Row \u001b[0m│\u001b[1m Column1 \u001b[0m\u001b[1m Column2 \u001b[0m\u001b[1m Column3 \u001b[0m\u001b[1m Column4 \u001b[0m\u001b[1m Column5 \u001b[0m\u001b[1m Column6 \u001b[0m\u001b[1m Column7 \u001b[0m\u001b[1m Column8 \u001b[0m\u001b[1m\u001b[0m ⋯\n",
       "\u001b[1m     \u001b[0m│\u001b[90m String7 \u001b[0m\u001b[90m String7 \u001b[0m\u001b[90m String7 \u001b[0m\u001b[90m String7 \u001b[0m\u001b[90m String7 \u001b[0m\u001b[90m String7 \u001b[0m\u001b[90m String7 \u001b[0m\u001b[90m String7 \u001b[0m\u001b[90m\u001b[0m ⋯\n",
       "─────┼──────────────────────────────────────────────────────────────────────────\n",
       "   1 │ febca    cfagb    ecbafd   efdcbg   cbegdfa  fg       bgafec   gfae     ⋯\n",
       "   2 │ acbed    dcagb    cfbega   ecgdab   be       deafc    bfgdca   abe\n",
       "   3 │ decfb    bgadec   dgefa    bcgfade  cae      adecf    ca       eacfdb\n",
       "   4 │ egd      agdcfe   gedbfa   gbcfae   ed       dafgebc  bdcgf    gdbfe\n",
       "   5 │ bfeca    beadgc   gdfeacb  aebcfd   eg       aefg     cgefab   ebgfc    ⋯\n",
       "   6 │ fcd      fd       fgdceba  edgac    cegdbf   gcafdb   agdfc    cafbg\n",
       "   7 │ cfbgeda  gdfae    abdfg    dfceg    edagfb   geba     bfcaed   fcdbag\n",
       "   8 │ edafbg   ebg      gbdea    cdbefga  bfgcea   ge       egdf     aedcb\n",
       "   9 │ adecfb   aebdc    ab       efbagd   cfbed    cagde    baecgfd  egdbfc   ⋯\n",
       "  10 │ gfdacb   bgdace   gb       cdfbg    fcbde    fdgeac   bgfa     dgb\n",
       "\u001b[36m                                                               7 columns omitted\u001b[0m"
      ]
     },
     "execution_count": 23,
     "metadata": {},
     "output_type": "execute_result"
    }
   ],
   "source": [
    "data[1:10,:]"
   ]
  },
  {
   "cell_type": "code",
   "execution_count": 28,
   "id": "8bdde9e4-2e43-45ba-8ea0-a329fafef10a",
   "metadata": {},
   "outputs": [
    {
     "data": {
      "text/plain": [
       "lettersort (generic function with 1 method)"
      ]
     },
     "execution_count": 28,
     "metadata": {},
     "output_type": "execute_result"
    }
   ],
   "source": [
    "lettersort(x) = x |> collect |> sort |> join"
   ]
  },
  {
   "cell_type": "code",
   "execution_count": 29,
   "id": "b03690ef-95a3-47c1-9ce8-cc67c97a6df8",
   "metadata": {},
   "outputs": [
    {
     "data": {
      "text/plain": [
       "\"dfjjklss\""
      ]
     },
     "execution_count": 29,
     "metadata": {},
     "output_type": "execute_result"
    }
   ],
   "source": [
    "lettersort(\"dkjsfjls\")"
   ]
  },
  {
   "cell_type": "code",
   "execution_count": 31,
   "id": "23b873c1-581a-476b-9b6d-ac9324c334fe",
   "metadata": {},
   "outputs": [
    {
     "data": {
      "text/html": [
       "<div class=\"data-frame\"><p>200 rows × 15 columns (omitted printing of 6 columns)</p><table class=\"data-frame\"><thead><tr><th></th><th>Column1</th><th>Column2</th><th>Column3</th><th>Column4</th><th>Column5</th><th>Column6</th><th>Column7</th><th>Column8</th><th>Column9</th></tr><tr><th></th><th title=\"String\">String</th><th title=\"String\">String</th><th title=\"String\">String</th><th title=\"String\">String</th><th title=\"String\">String</th><th title=\"String\">String</th><th title=\"String\">String</th><th title=\"String\">String</th><th title=\"String\">String</th></tr></thead><tbody><tr><th>1</th><td>abcef</td><td>abcfg</td><td>abcdef</td><td>bcdefg</td><td>abcdefg</td><td>fg</td><td>abcefg</td><td>aefg</td><td>abcdg</td></tr><tr><th>2</th><td>abcde</td><td>abcdg</td><td>abcefg</td><td>abcdeg</td><td>be</td><td>acdef</td><td>abcdfg</td><td>abe</td><td>abcdefg</td></tr><tr><th>3</th><td>bcdef</td><td>abcdeg</td><td>adefg</td><td>abcdefg</td><td>ace</td><td>acdef</td><td>ac</td><td>abcdef</td><td>abcf</td></tr><tr><th>4</th><td>deg</td><td>acdefg</td><td>abdefg</td><td>abcefg</td><td>de</td><td>abcdefg</td><td>bcdfg</td><td>bdefg</td><td>abefg</td></tr><tr><th>5</th><td>abcef</td><td>abcdeg</td><td>abcdefg</td><td>abcdef</td><td>eg</td><td>aefg</td><td>abcefg</td><td>bcefg</td><td>bcdfg</td></tr><tr><th>6</th><td>cdf</td><td>df</td><td>abcdefg</td><td>acdeg</td><td>bcdefg</td><td>abcdfg</td><td>acdfg</td><td>abcfg</td><td>abcefg</td></tr><tr><th>7</th><td>abcdefg</td><td>adefg</td><td>abdfg</td><td>cdefg</td><td>abdefg</td><td>abeg</td><td>abcdef</td><td>abcdfg</td><td>ae</td></tr><tr><th>8</th><td>abdefg</td><td>beg</td><td>abdeg</td><td>abcdefg</td><td>abcefg</td><td>eg</td><td>defg</td><td>abcde</td><td>abdfg</td></tr><tr><th>9</th><td>abcdef</td><td>abcde</td><td>ab</td><td>abdefg</td><td>bcdef</td><td>acdeg</td><td>abcdefg</td><td>bcdefg</td><td>abd</td></tr><tr><th>10</th><td>abcdfg</td><td>abcdeg</td><td>bg</td><td>bcdfg</td><td>bcdef</td><td>acdefg</td><td>abfg</td><td>bdg</td><td>acdfg</td></tr><tr><th>11</th><td>abcdef</td><td>abcdf</td><td>abceg</td><td>abcdefg</td><td>bdg</td><td>dg</td><td>bcdefg</td><td>abcdg</td><td>abcdfg</td></tr><tr><th>12</th><td>bde</td><td>abcefg</td><td>abcdef</td><td>abcdeg</td><td>abcef</td><td>bcdef</td><td>bd</td><td>abcdefg</td><td>cdefg</td></tr><tr><th>13</th><td>acdef</td><td>cd</td><td>adefg</td><td>cdfg</td><td>acdefg</td><td>abcdeg</td><td>acd</td><td>abcdefg</td><td>abdefg</td></tr><tr><th>14</th><td>abdefg</td><td>abceg</td><td>abcdef</td><td>abcde</td><td>acefg</td><td>abcdefg</td><td>abcdeg</td><td>bcdg</td><td>bg</td></tr><tr><th>15</th><td>abdf</td><td>adefg</td><td>abcefg</td><td>abcdefg</td><td>bdefg</td><td>af</td><td>aef</td><td>bcdefg</td><td>acdeg</td></tr><tr><th>16</th><td>acdefg</td><td>acdef</td><td>abcdef</td><td>abdef</td><td>abcdeg</td><td>bdefg</td><td>abe</td><td>ab</td><td>abcdefg</td></tr><tr><th>17</th><td>bdefg</td><td>acdefg</td><td>cd</td><td>cdefg</td><td>abcefg</td><td>cdg</td><td>acde</td><td>abcdefg</td><td>acefg</td></tr><tr><th>18</th><td>abdeg</td><td>acdefg</td><td>abcdefg</td><td>acdf</td><td>dfg</td><td>acefg</td><td>adefg</td><td>abcefg</td><td>bcdefg</td></tr><tr><th>19</th><td>dg</td><td>abcdfg</td><td>cdg</td><td>abcdeg</td><td>abcde</td><td>abcdefg</td><td>abcdef</td><td>bdeg</td><td>acdeg</td></tr><tr><th>20</th><td>abeg</td><td>acdefg</td><td>bg</td><td>abcdeg</td><td>bcdef</td><td>acdeg</td><td>abcdefg</td><td>bcdeg</td><td>abcdfg</td></tr><tr><th>21</th><td>abcdfg</td><td>acefg</td><td>abceg</td><td>abcdefg</td><td>abcdeg</td><td>abg</td><td>bcdefg</td><td>bcdeg</td><td>ab</td></tr><tr><th>22</th><td>abg</td><td>bdefg</td><td>abcdfg</td><td>acdefg</td><td>ab</td><td>acdeg</td><td>abcdeg</td><td>abdeg</td><td>abcdefg</td></tr><tr><th>23</th><td>abceg</td><td>abdefg</td><td>acde</td><td>ad</td><td>abcdeg</td><td>bcdfg</td><td>abd</td><td>abcdg</td><td>abcdefg</td></tr><tr><th>24</th><td>abcdefg</td><td>abcdeg</td><td>bcdefg</td><td>bcf</td><td>cf</td><td>bcdeg</td><td>bcefg</td><td>cdef</td><td>abcdfg</td></tr><tr><th>25</th><td>bcd</td><td>abdfg</td><td>acdeg</td><td>bc</td><td>abdefg</td><td>bcdefg</td><td>abcf</td><td>abcdfg</td><td>abcdg</td></tr><tr><th>26</th><td>abcdefg</td><td>abcdfg</td><td>abcef</td><td>abcdf</td><td>acdefg</td><td>cef</td><td>ef</td><td>abceg</td><td>bdef</td></tr><tr><th>27</th><td>acdef</td><td>abcdeg</td><td>acg</td><td>bcfg</td><td>acdfg</td><td>abdefg</td><td>abdfg</td><td>abcdefg</td><td>abcdfg</td></tr><tr><th>28</th><td>bcdeg</td><td>abcdefg</td><td>abcefg</td><td>bc</td><td>bce</td><td>abcd</td><td>abcdeg</td><td>bdefg</td><td>acdefg</td></tr><tr><th>29</th><td>acd</td><td>bcdefg</td><td>abcdefg</td><td>abcdef</td><td>bcdef</td><td>acdef</td><td>abce</td><td>abcdfg</td><td>adefg</td></tr><tr><th>30</th><td>bcde</td><td>abcdefg</td><td>abcefg</td><td>abdfg</td><td>acdefg</td><td>abcdg</td><td>cdg</td><td>cd</td><td>abcdeg</td></tr><tr><th>&vellip;</th><td>&vellip;</td><td>&vellip;</td><td>&vellip;</td><td>&vellip;</td><td>&vellip;</td><td>&vellip;</td><td>&vellip;</td><td>&vellip;</td><td>&vellip;</td></tr></tbody></table></div>"
      ],
      "text/latex": [
       "\\begin{tabular}{r|cccccccccc}\n",
       "\t& Column1 & Column2 & Column3 & Column4 & Column5 & Column6 & Column7 & Column8 & Column9 & \\\\\n",
       "\t\\hline\n",
       "\t& String & String & String & String & String & String & String & String & String & \\\\\n",
       "\t\\hline\n",
       "\t1 & abcef & abcfg & abcdef & bcdefg & abcdefg & fg & abcefg & aefg & abcdg & $\\dots$ \\\\\n",
       "\t2 & abcde & abcdg & abcefg & abcdeg & be & acdef & abcdfg & abe & abcdefg & $\\dots$ \\\\\n",
       "\t3 & bcdef & abcdeg & adefg & abcdefg & ace & acdef & ac & abcdef & abcf & $\\dots$ \\\\\n",
       "\t4 & deg & acdefg & abdefg & abcefg & de & abcdefg & bcdfg & bdefg & abefg & $\\dots$ \\\\\n",
       "\t5 & abcef & abcdeg & abcdefg & abcdef & eg & aefg & abcefg & bcefg & bcdfg & $\\dots$ \\\\\n",
       "\t6 & cdf & df & abcdefg & acdeg & bcdefg & abcdfg & acdfg & abcfg & abcefg & $\\dots$ \\\\\n",
       "\t7 & abcdefg & adefg & abdfg & cdefg & abdefg & abeg & abcdef & abcdfg & ae & $\\dots$ \\\\\n",
       "\t8 & abdefg & beg & abdeg & abcdefg & abcefg & eg & defg & abcde & abdfg & $\\dots$ \\\\\n",
       "\t9 & abcdef & abcde & ab & abdefg & bcdef & acdeg & abcdefg & bcdefg & abd & $\\dots$ \\\\\n",
       "\t10 & abcdfg & abcdeg & bg & bcdfg & bcdef & acdefg & abfg & bdg & acdfg & $\\dots$ \\\\\n",
       "\t11 & abcdef & abcdf & abceg & abcdefg & bdg & dg & bcdefg & abcdg & abcdfg & $\\dots$ \\\\\n",
       "\t12 & bde & abcefg & abcdef & abcdeg & abcef & bcdef & bd & abcdefg & cdefg & $\\dots$ \\\\\n",
       "\t13 & acdef & cd & adefg & cdfg & acdefg & abcdeg & acd & abcdefg & abdefg & $\\dots$ \\\\\n",
       "\t14 & abdefg & abceg & abcdef & abcde & acefg & abcdefg & abcdeg & bcdg & bg & $\\dots$ \\\\\n",
       "\t15 & abdf & adefg & abcefg & abcdefg & bdefg & af & aef & bcdefg & acdeg & $\\dots$ \\\\\n",
       "\t16 & acdefg & acdef & abcdef & abdef & abcdeg & bdefg & abe & ab & abcdefg & $\\dots$ \\\\\n",
       "\t17 & bdefg & acdefg & cd & cdefg & abcefg & cdg & acde & abcdefg & acefg & $\\dots$ \\\\\n",
       "\t18 & abdeg & acdefg & abcdefg & acdf & dfg & acefg & adefg & abcefg & bcdefg & $\\dots$ \\\\\n",
       "\t19 & dg & abcdfg & cdg & abcdeg & abcde & abcdefg & abcdef & bdeg & acdeg & $\\dots$ \\\\\n",
       "\t20 & abeg & acdefg & bg & abcdeg & bcdef & acdeg & abcdefg & bcdeg & abcdfg & $\\dots$ \\\\\n",
       "\t21 & abcdfg & acefg & abceg & abcdefg & abcdeg & abg & bcdefg & bcdeg & ab & $\\dots$ \\\\\n",
       "\t22 & abg & bdefg & abcdfg & acdefg & ab & acdeg & abcdeg & abdeg & abcdefg & $\\dots$ \\\\\n",
       "\t23 & abceg & abdefg & acde & ad & abcdeg & bcdfg & abd & abcdg & abcdefg & $\\dots$ \\\\\n",
       "\t24 & abcdefg & abcdeg & bcdefg & bcf & cf & bcdeg & bcefg & cdef & abcdfg & $\\dots$ \\\\\n",
       "\t25 & bcd & abdfg & acdeg & bc & abdefg & bcdefg & abcf & abcdfg & abcdg & $\\dots$ \\\\\n",
       "\t26 & abcdefg & abcdfg & abcef & abcdf & acdefg & cef & ef & abceg & bdef & $\\dots$ \\\\\n",
       "\t27 & acdef & abcdeg & acg & bcfg & acdfg & abdefg & abdfg & abcdefg & abcdfg & $\\dots$ \\\\\n",
       "\t28 & bcdeg & abcdefg & abcefg & bc & bce & abcd & abcdeg & bdefg & acdefg & $\\dots$ \\\\\n",
       "\t29 & acd & bcdefg & abcdefg & abcdef & bcdef & acdef & abce & abcdfg & adefg & $\\dots$ \\\\\n",
       "\t30 & bcde & abcdefg & abcefg & abdfg & acdefg & abcdg & cdg & cd & abcdeg & $\\dots$ \\\\\n",
       "\t$\\dots$ & $\\dots$ & $\\dots$ & $\\dots$ & $\\dots$ & $\\dots$ & $\\dots$ & $\\dots$ & $\\dots$ & $\\dots$ &  \\\\\n",
       "\\end{tabular}\n"
      ],
      "text/plain": [
       "\u001b[1m200×15 DataFrame\u001b[0m\n",
       "\u001b[1m Row \u001b[0m│\u001b[1m Column1 \u001b[0m\u001b[1m Column2 \u001b[0m\u001b[1m Column3 \u001b[0m\u001b[1m Column4 \u001b[0m\u001b[1m Column5 \u001b[0m\u001b[1m Column6 \u001b[0m\u001b[1m Column7 \u001b[0m\u001b[1m Column8 \u001b[0m\u001b[1m\u001b[0m ⋯\n",
       "\u001b[1m     \u001b[0m│\u001b[90m String  \u001b[0m\u001b[90m String  \u001b[0m\u001b[90m String  \u001b[0m\u001b[90m String  \u001b[0m\u001b[90m String  \u001b[0m\u001b[90m String  \u001b[0m\u001b[90m String  \u001b[0m\u001b[90m String  \u001b[0m\u001b[90m\u001b[0m ⋯\n",
       "─────┼──────────────────────────────────────────────────────────────────────────\n",
       "   1 │ abcef    abcfg    abcdef   bcdefg   abcdefg  fg       abcefg   aefg     ⋯\n",
       "   2 │ abcde    abcdg    abcefg   abcdeg   be       acdef    abcdfg   abe\n",
       "   3 │ bcdef    abcdeg   adefg    abcdefg  ace      acdef    ac       abcdef\n",
       "   4 │ deg      acdefg   abdefg   abcefg   de       abcdefg  bcdfg    bdefg\n",
       "   5 │ abcef    abcdeg   abcdefg  abcdef   eg       aefg     abcefg   bcefg    ⋯\n",
       "   6 │ cdf      df       abcdefg  acdeg    bcdefg   abcdfg   acdfg    abcfg\n",
       "   7 │ abcdefg  adefg    abdfg    cdefg    abdefg   abeg     abcdef   abcdfg\n",
       "   8 │ abdefg   beg      abdeg    abcdefg  abcefg   eg       defg     abcde\n",
       "   9 │ abcdef   abcde    ab       abdefg   bcdef    acdeg    abcdefg  bcdefg   ⋯\n",
       "  10 │ abcdfg   abcdeg   bg       bcdfg    bcdef    acdefg   abfg     bdg\n",
       "  11 │ abcdef   abcdf    abceg    abcdefg  bdg      dg       bcdefg   abcdg\n",
       "  ⋮  │    ⋮        ⋮        ⋮        ⋮        ⋮        ⋮        ⋮        ⋮     ⋱\n",
       " 191 │ cdg      abdefg   abdeg    bcdef    abcdfg   aceg     abcdeg   cg\n",
       " 192 │ bcdef    dg       abcfg    abcdefg  bdg      acdg     bcdfg    abdefg   ⋯\n",
       " 193 │ bc       bcdefg   abcdefg  bdefg    bcdeg    acdeg    abcdfg   abdefg\n",
       " 194 │ acdefg   adfg     abcef    acdef    ad       cdefg    bcdefg   abcdeg\n",
       " 195 │ acdfg    bdg      abcdeg   bg       abdef    befg     abcdefg  abdefg\n",
       " 196 │ abcdeg   adf      df       abefg    adefg    acdefg   acdeg    cdef     ⋯\n",
       " 197 │ acdefg   abeg     acdeg    ab       abcdeg   abc      abcdfg   abcde\n",
       " 198 │ abcfg    ceg      bcefg    abcdefg  abcefg   abcdfg   aefg     eg\n",
       " 199 │ adeg     abcde    abcdfg   abcdef   cdg      bcefg    bcdeg    abcdefg\n",
       " 200 │ ag       abcefg   abcdefg  abcdef   acefg    cdefg    abeg     abcef    ⋯\n",
       "\u001b[36m                                                  7 columns and 179 rows omitted\u001b[0m"
      ]
     },
     "execution_count": 31,
     "metadata": {},
     "output_type": "execute_result"
    }
   ],
   "source": [
    "sdata = lettersort.(data)"
   ]
  },
  {
   "cell_type": "code",
   "execution_count": 43,
   "id": "dff4329c-ece6-4784-b117-3d3ded0899cd",
   "metadata": {},
   "outputs": [
    {
     "data": {
      "text/plain": [
       "10-element Vector{String}:\n",
       " \"fg\"\n",
       " \"cfg\"\n",
       " \"aefg\"\n",
       " \"abcef\"\n",
       " \"abcfg\"\n",
       " \"abcdg\"\n",
       " \"abcdef\"\n",
       " \"bcdefg\"\n",
       " \"abcefg\"\n",
       " \"abcdefg\""
      ]
     },
     "execution_count": 43,
     "metadata": {},
     "output_type": "execute_result"
    }
   ],
   "source": [
    "sort(Array(sdata[1,1:10]),by = length)"
   ]
  },
  {
   "cell_type": "code",
   "execution_count": 45,
   "id": "3eb25326-98af-4c97-9173-9500ba155197",
   "metadata": {},
   "outputs": [
    {
     "data": {
      "text/plain": [
       "2"
      ]
     },
     "execution_count": 45,
     "metadata": {},
     "output_type": "execute_result"
    }
   ],
   "source": [
    "a = \"cfg\"\n",
    "b = \"abcef\"\n",
    "sum(collect(a) .∈ [collect(b)])"
   ]
  },
  {
   "cell_type": "code",
   "execution_count": 46,
   "id": "71a04529-8c3c-4dd9-a1fc-8b7c44da6c2d",
   "metadata": {},
   "outputs": [
    {
     "data": {
      "text/plain": [
       "digit_overlap (generic function with 1 method)"
      ]
     },
     "execution_count": 46,
     "metadata": {},
     "output_type": "execute_result"
    }
   ],
   "source": [
    "digit_overlap(a,b) = sum(collect(a) .∈ [collect(b)])"
   ]
  },
  {
   "cell_type": "code",
   "execution_count": 47,
   "id": "d2f2e147-6d7f-4aab-8caf-f4518e269d07",
   "metadata": {},
   "outputs": [
    {
     "data": {
      "text/plain": [
       "2"
      ]
     },
     "execution_count": 47,
     "metadata": {},
     "output_type": "execute_result"
    }
   ],
   "source": [
    "digit_overlap(\"cfg\",\"abcef\")"
   ]
  },
  {
   "cell_type": "code",
   "execution_count": 48,
   "id": "137d0289-f05e-45b3-8e08-37a87f058c28",
   "metadata": {},
   "outputs": [
    {
     "data": {
      "text/plain": [
       "decode_digits (generic function with 1 method)"
      ]
     },
     "execution_count": 48,
     "metadata": {},
     "output_type": "execute_result"
    }
   ],
   "source": [
    "function decode_digits(encoded)\n",
    "    decoded = Dict()\n",
    "    enc = sort(Array(encoded), by=length)\n",
    "    decoded[enc[1]] = 1\n",
    "    decoded[enc[2]] = 7\n",
    "    decoded[enc[3]] = 4\n",
    "    decoded[enc[10]] = 8\n",
    "    for i in 4:6 # 5 segment elements\n",
    "        if digit_overlap(enc[2],enc[i]) == 3 # 7 is contained\n",
    "            decoded[enc[i]] = 3\n",
    "        elseif digit_overlap(enc[3],enc[i]) == 2 # overlap with 4 is only two\n",
    "            decoded[enc[i]] = 2\n",
    "        else\n",
    "            decoded[enc[i]] = 5\n",
    "        end\n",
    "    end\n",
    "    for i in 7:9 # 6 segment elements\n",
    "        if digit_overlap(enc[2],enc[i]) == 2 # 7 is not contained\n",
    "            decoded[enc[i]] = 6\n",
    "        elseif digit_overlap(enc[3],enc[i]) == 4 # 4 is contained\n",
    "            decoded[enc[i]] = 9\n",
    "        else\n",
    "            decoded[enc[i]] = 0\n",
    "        end\n",
    "    end\n",
    "    return decoded\n",
    "end"
   ]
  },
  {
   "cell_type": "code",
   "execution_count": 50,
   "id": "c36a4b53-7880-49c2-9bcc-c6949858a15d",
   "metadata": {},
   "outputs": [
    {
     "data": {
      "text/plain": [
       "Dict{Any, Any} with 10 entries:\n",
       "  \"abcef\"   => 5\n",
       "  \"abcdef\"  => 6\n",
       "  \"abcdefg\" => 8\n",
       "  \"abcfg\"   => 3\n",
       "  \"bcdefg\"  => 0\n",
       "  \"abcefg\"  => 9\n",
       "  \"abcdg\"   => 2\n",
       "  \"cfg\"     => 7\n",
       "  \"aefg\"    => 4\n",
       "  \"fg\"      => 1"
      ]
     },
     "execution_count": 50,
     "metadata": {},
     "output_type": "execute_result"
    }
   ],
   "source": [
    "dd = decode_digits(sdata[1,1:10])"
   ]
  },
  {
   "cell_type": "code",
   "execution_count": 53,
   "id": "bce55378-1a1b-4e48-95b1-1ebd76dd32e5",
   "metadata": {},
   "outputs": [
    {
     "data": {
      "text/plain": [
       "7609"
      ]
     },
     "execution_count": 53,
     "metadata": {},
     "output_type": "execute_result"
    }
   ],
   "source": [
    "parse(Int,join([dd[x] for x in sdata[1,12:end]]))"
   ]
  },
  {
   "cell_type": "code",
   "execution_count": 54,
   "id": "7f5ac593-e060-4acc-9a21-32142eb50fe8",
   "metadata": {},
   "outputs": [
    {
     "data": {
      "text/plain": [
       "908067"
      ]
     },
     "execution_count": 54,
     "metadata": {},
     "output_type": "execute_result"
    }
   ],
   "source": [
    "total = 0\n",
    "for r in eachrow(sdata)\n",
    "    dd = decode_digits(r[1:10])\n",
    "    total += parse(Int,join([dd[x] for x in r[12:end]]))\n",
    "end\n",
    "total"
   ]
  },
  {
   "cell_type": "code",
   "execution_count": null,
   "id": "bde09387-e86f-41e8-9ffd-348176d2aff7",
   "metadata": {},
   "outputs": [],
   "source": []
  }
 ],
 "metadata": {
  "kernelspec": {
   "display_name": "Julia 1.6.1",
   "language": "julia",
   "name": "julia-1.6"
  },
  "language_info": {
   "file_extension": ".jl",
   "mimetype": "application/julia",
   "name": "julia",
   "version": "1.6.1"
  }
 },
 "nbformat": 4,
 "nbformat_minor": 5
}
