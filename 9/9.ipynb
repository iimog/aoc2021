{
 "cells": [
  {
   "cell_type": "code",
   "execution_count": 11,
   "id": "420e752e-4b9f-480e-96b5-502f80300903",
   "metadata": {},
   "outputs": [
    {
     "data": {
      "text/plain": [
       "100-element Vector{Vector{Char}}:\n",
       " ['9', '9', '8', '7', '6', '3', '2', '1', '2', '3'  …  '8', '9', '9', '8', '7', '6', '5', '4', '3', '2']\n",
       " ['9', '8', '7', '6', '5', '4', '1', '0', '1', '9'  …  '9', '8', '9', '9', '8', '9', '3', '2', '1', '0']\n",
       " ['9', '9', '9', '7', '6', '3', '2', '1', '2', '3'  …  '6', '7', '8', '9', '9', '8', '9', '3', '2', '3']\n",
       " ['9', '8', '7', '6', '5', '4', '3', '2', '9', '9'  …  '7', '8', '9', '9', '8', '7', '8', '9', '3', '9']\n",
       " ['9', '9', '8', '7', '6', '5', '4', '9', '8', '6'  …  '4', '7', '8', '9', '7', '6', '7', '9', '9', '8']\n",
       " ['8', '7', '9', '8', '7', '6', '9', '8', '7', '5'  …  '5', '6', '7', '8', '9', '5', '7', '9', '8', '7']\n",
       " ['7', '6', '5', '9', '8', '7', '9', '9', '7', '6'  …  '8', '9', '8', '9', '3', '4', '9', '7', '9', '6']\n",
       " ['8', '5', '4', '2', '9', '8', '9', '9', '8', '3'  …  '7', '8', '9', '3', '2', '9', '8', '6', '5', '4']\n",
       " ['7', '6', '2', '1', '0', '9', '5', '6', '9', '9'  …  '8', '9', '5', '2', '1', '4', '9', '7', '6', '5']\n",
       " ['9', '8', '7', '3', '2', '3', '4', '5', '9', '8'  …  '9', '9', '4', '3', '2', '3', '9', '8', '7', '6']\n",
       " ['8', '7', '5', '4', '3', '4', '5', '6', '7', '9'  …  '9', '8', '5', '4', '3', '4', '5', '9', '8', '7']\n",
       " ['9', '8', '6', '7', '4', '5', '6', '7', '9', '4'  …  '8', '7', '6', '5', '6', '6', '7', '8', '9', '8']\n",
       " ['9', '8', '7', '8', '5', '8', '7', '8', '9', '3'  …  '9', '9', '8', '6', '7', '9', '8', '9', '8', '9']\n",
       " ⋮\n",
       " ['8', '9', '2', '9', '4', '6', '9', '9', '7', '6'  …  '8', '9', '8', '9', '4', '3', '2', '3', '6', '7']\n",
       " ['9', '2', '1', '2', '3', '9', '8', '9', '6', '5'  …  '9', '4', '7', '8', '9', '4', '9', '4', '5', '6']\n",
       " ['2', '1', '0', '1', '9', '8', '7', '8', '5', '4'  …  '1', '2', '6', '7', '8', '9', '8', '9', '6', '7']\n",
       " ['3', '2', '3', '9', '8', '7', '6', '5', '4', '3'  …  '5', '3', '4', '9', '9', '8', '7', '9', '9', '8']\n",
       " ['4', '6', '4', '5', '9', '8', '9', '9', '7', '6'  …  '3', '4', '9', '8', '8', '7', '6', '7', '8', '9']\n",
       " ['6', '9', '5', '6', '7', '9', '9', '8', '6', '5'  …  '4', '9', '8', '7', '6', '5', '5', '8', '9', '7']\n",
       " ['9', '8', '9', '7', '8', '9', '9', '9', '7', '6'  …  '6', '8', '9', '8', '5', '4', '3', '4', '5', '6']\n",
       " ['8', '7', '8', '9', '9', '8', '8', '9', '8', '9'  …  '7', '9', '9', '7', '6', '5', '2', '3', '4', '5']\n",
       " ['7', '6', '7', '9', '8', '6', '7', '8', '9', '8'  …  '9', '8', '7', '6', '5', '4', '3', '4', '5', '8']\n",
       " ['4', '5', '6', '8', '9', '8', '9', '9', '7', '9'  …  '4', '9', '8', '7', '6', '7', '4', '5', '6', '7']\n",
       " ['3', '5', '6', '7', '8', '9', '9', '8', '6', '5'  …  '3', '4', '9', '9', '7', '8', '7', '6', '8', '8']\n",
       " ['4', '6', '7', '8', '9', '8', '7', '6', '5', '4'  …  '6', '5', '6', '9', '8', '9', '8', '7', '8', '9']"
      ]
     },
     "execution_count": 11,
     "metadata": {},
     "output_type": "execute_result"
    }
   ],
   "source": [
    "lines = collect.(readlines(\"input\"))"
   ]
  },
  {
   "cell_type": "code",
   "execution_count": 23,
   "id": "18335c0a-7568-4ab3-8d05-c32e2ef70b61",
   "metadata": {},
   "outputs": [
    {
     "data": {
      "text/plain": [
       "100×100 transpose(::Matrix{Int64}) with eltype Int64:\n",
       " 9  9  8  7  6  3  2  1  2  3  9  8  9  …  8  7  8  9  9  8  7  6  5  4  3  2\n",
       " 9  8  7  6  5  4  1  0  1  9  8  7  8     9  6  9  8  9  9  8  9  3  2  1  0\n",
       " 9  9  9  7  6  3  2  1  2  3  9  6  9     4  5  6  7  8  9  9  8  9  3  2  3\n",
       " 9  8  7  6  5  4  3  2  9  9  8  5  8     1  6  7  8  9  9  8  7  8  9  3  9\n",
       " 9  9  8  7  6  5  4  9  8  6  7  4  5     2  3  4  7  8  9  7  6  7  9  9  8\n",
       " 8  7  9  8  7  6  9  8  7  5  4  3  5  …  3  4  5  6  7  8  9  5  7  9  8  7\n",
       " 7  6  5  9  8  7  9  9  7  6  3  2  9     6  5  8  9  8  9  3  4  9  7  9  6\n",
       " 8  5  4  2  9  8  9  9  8  3  2  1  2     5  6  7  8  9  3  2  9  8  6  5  4\n",
       " 7  6  2  1  0  9  5  6  9  9  3  4  5     8  7  8  9  5  2  1  4  9  7  6  5\n",
       " 9  8  7  3  2  3  4  5  9  8  7  6  6     9  8  9  9  4  3  2  3  9  8  7  6\n",
       " 8  7  5  4  3  4  5  6  7  9  8  9  7  …  7  9  9  8  5  4  3  4  5  9  8  7\n",
       " 9  8  6  7  4  5  6  7  9  4  9  9  8     6  9  8  7  6  5  6  6  7  8  9  8\n",
       " 9  8  7  8  5  8  7  8  9  3  4  9  9     5  9  9  9  8  6  7  9  8  9  8  9\n",
       " ⋮              ⋮              ⋮        ⋱        ⋮              ⋮           \n",
       " 8  9  2  9  4  6  9  9  7  6  8  6  7     3  9  8  9  8  9  4  3  2  3  6  7\n",
       " 9  2  1  2  3  9  8  9  6  5  6  5  8     2  1  9  4  7  8  9  4  9  4  5  6\n",
       " 2  1  0  1  9  8  7  8  5  4  3  4  3  …  5  0  1  2  6  7  8  9  8  9  6  7\n",
       " 3  2  3  9  8  7  6  5  4  3  2  1  2     4  1  5  3  4  9  9  8  7  9  9  8\n",
       " 4  6  4  5  9  8  9  9  7  6  1  0  1     3  2  3  4  9  8  8  7  6  7  8  9\n",
       " 6  9  5  6  7  9  9  8  6  5  4  2  3     4  4  4  9  8  7  6  5  5  8  9  7\n",
       " 9  8  9  7  8  9  9  9  7  6  5  6  7     9  7  6  8  9  8  5  4  3  4  5  6\n",
       " 8  7  8  9  9  8  8  9  8  9  6  8  9  …  8  9  7  9  9  7  6  5  2  3  4  5\n",
       " 7  6  7  9  8  6  7  8  9  8  7  8  9     9  4  9  8  7  6  5  4  3  4  5  8\n",
       " 4  5  6  8  9  8  9  9  7  9  8  9  3     4  3  4  9  8  7  6  7  4  5  6  7\n",
       " 3  5  6  7  8  9  9  8  6  5  9  1  2     9  2  3  4  9  9  7  8  7  6  8  8\n",
       " 4  6  7  8  9  8  7  6  5  4  3  2  3     4  3  6  5  6  9  8  9  8  7  8  9"
      ]
     },
     "execution_count": 23,
     "metadata": {},
     "output_type": "execute_result"
    }
   ],
   "source": [
    "heights = parse.(Int,reduce(hcat, lines)) |> transpose"
   ]
  },
  {
   "cell_type": "code",
   "execution_count": 30,
   "id": "1449e8f1-5788-44a4-8fbd-0a3cb9849cc3",
   "metadata": {},
   "outputs": [
    {
     "data": {
      "text/plain": [
       "102×102 Matrix{Int64}:\n",
       " 10  10  10  10  10  10  10  10  10  …  10  10  10  10  10  10  10  10  10\n",
       " 10   9   9   8   7   6   3   2   1      9   8   7   6   5   4   3   2  10\n",
       " 10   9   8   7   6   5   4   1   0      9   9   8   9   3   2   1   0  10\n",
       " 10   9   9   9   7   6   3   2   1      8   9   9   8   9   3   2   3  10\n",
       " 10   9   8   7   6   5   4   3   2      9   9   8   7   8   9   3   9  10\n",
       " 10   9   9   8   7   6   5   4   9  …   8   9   7   6   7   9   9   8  10\n",
       " 10   8   7   9   8   7   6   9   8      7   8   9   5   7   9   8   7  10\n",
       " 10   7   6   5   9   8   7   9   9      8   9   3   4   9   7   9   6  10\n",
       " 10   8   5   4   2   9   8   9   9      9   3   2   9   8   6   5   4  10\n",
       " 10   7   6   2   1   0   9   5   6      5   2   1   4   9   7   6   5  10\n",
       " 10   9   8   7   3   2   3   4   5  …   4   3   2   3   9   8   7   6  10\n",
       " 10   8   7   5   4   3   4   5   6      5   4   3   4   5   9   8   7  10\n",
       " 10   9   8   6   7   4   5   6   7      6   5   6   6   7   8   9   8  10\n",
       "  ⋮                   ⋮              ⋱           ⋮                   ⋮  \n",
       " 10   9   2   1   2   3   9   8   9  …   7   8   9   4   9   4   5   6  10\n",
       " 10   2   1   0   1   9   8   7   8      6   7   8   9   8   9   6   7  10\n",
       " 10   3   2   3   9   8   7   6   5      4   9   9   8   7   9   9   8  10\n",
       " 10   4   6   4   5   9   8   9   9      9   8   8   7   6   7   8   9  10\n",
       " 10   6   9   5   6   7   9   9   8      8   7   6   5   5   8   9   7  10\n",
       " 10   9   8   9   7   8   9   9   9  …   9   8   5   4   3   4   5   6  10\n",
       " 10   8   7   8   9   9   8   8   9      9   7   6   5   2   3   4   5  10\n",
       " 10   7   6   7   9   8   6   7   8      7   6   5   4   3   4   5   8  10\n",
       " 10   4   5   6   8   9   8   9   9      8   7   6   7   4   5   6   7  10\n",
       " 10   3   5   6   7   8   9   9   8      9   9   7   8   7   6   8   8  10\n",
       " 10   4   6   7   8   9   8   7   6  …   6   9   8   9   8   7   8   9  10\n",
       " 10  10  10  10  10  10  10  10  10     10  10  10  10  10  10  10  10  10"
      ]
     },
     "execution_count": 30,
     "metadata": {},
     "output_type": "execute_result"
    }
   ],
   "source": [
    "# pad array to avoid edge cases\n",
    "pheights = zeros(Int, size(heights) .+ 2) .+ 10\n",
    "pheights[2:end-1,2:end-1] .= heights\n",
    "pheights"
   ]
  },
  {
   "cell_type": "code",
   "execution_count": 32,
   "id": "a4db7560-0102-45fa-9fa2-7a4698122afa",
   "metadata": {},
   "outputs": [
    {
     "data": {
      "text/plain": [
       "475"
      ]
     },
     "execution_count": 32,
     "metadata": {},
     "output_type": "execute_result"
    }
   ],
   "source": [
    "score = 0\n",
    "for i in 2:size(pheights)[1]-1\n",
    "    for j in 2:size(pheights)[2]-1\n",
    "        current = pheights[i,j]\n",
    "        if current < min(pheights[i-1,j],pheights[i,j-1],pheights[i+1,j],pheights[i,j+1])\n",
    "            score += current + 1\n",
    "        end\n",
    "    end\n",
    "end\n",
    "score"
   ]
  },
  {
   "cell_type": "markdown",
   "id": "846cc699-d2e5-424f-b07c-e849a5dc1924",
   "metadata": {},
   "source": [
    "## Part II"
   ]
  },
  {
   "cell_type": "code",
   "execution_count": 37,
   "id": "8b77a9d8-6836-4cce-bab0-acef933cbfa4",
   "metadata": {},
   "outputs": [],
   "source": [
    "# Get lowpoint locations\n",
    "lowpoints = []\n",
    "for i in 2:size(pheights)[1]-1\n",
    "    for j in 2:size(pheights)[2]-1\n",
    "        current = pheights[i,j]\n",
    "        if current < min(pheights[i-1,j],pheights[i,j-1],pheights[i+1,j],pheights[i,j+1])\n",
    "            push!(lowpoints, (i,j)) # in coordinates with padding\n",
    "        end\n",
    "    end\n",
    "end"
   ]
  },
  {
   "cell_type": "code",
   "execution_count": 38,
   "id": "8313439a-b918-4320-8fcb-0eadfa33bb39",
   "metadata": {},
   "outputs": [
    {
     "data": {
      "text/plain": [
       "205-element Vector{Any}:\n",
       " (2, 15)\n",
       " (2, 34)\n",
       " (2, 64)\n",
       " (2, 76)\n",
       " (3, 9)\n",
       " (3, 25)\n",
       " (3, 101)\n",
       " (4, 42)\n",
       " (4, 80)\n",
       " (5, 58)\n",
       " (5, 71)\n",
       " (5, 89)\n",
       " (6, 52)\n",
       " ⋮\n",
       " (96, 73)\n",
       " (97, 98)\n",
       " (98, 7)\n",
       " (98, 87)\n",
       " (99, 22)\n",
       " (100, 2)\n",
       " (100, 13)\n",
       " (100, 91)\n",
       " (101, 31)\n",
       " (101, 50)\n",
       " (101, 62)\n",
       " (101, 82)"
      ]
     },
     "execution_count": 38,
     "metadata": {},
     "output_type": "execute_result"
    }
   ],
   "source": [
    "lowpoints"
   ]
  },
  {
   "cell_type": "code",
   "execution_count": 45,
   "id": "a4d350ca-6052-435a-82f7-72a78ae92c04",
   "metadata": {},
   "outputs": [
    {
     "data": {
      "text/plain": [
       "neighbors (generic function with 1 method)"
      ]
     },
     "execution_count": 45,
     "metadata": {},
     "output_type": "execute_result"
    }
   ],
   "source": [
    "neighbors((a,b)) = [(a-1,b),(a,b-1),(a+1,b),(a,b+1)]"
   ]
  },
  {
   "cell_type": "code",
   "execution_count": 46,
   "id": "71fa6b7a-723f-443d-b172-36277318bdf8",
   "metadata": {},
   "outputs": [
    {
     "data": {
      "text/plain": [
       "4-element Vector{Tuple{Int64, Int64}}:\n",
       " (0, 2)\n",
       " (1, 1)\n",
       " (2, 2)\n",
       " (1, 3)"
      ]
     },
     "execution_count": 46,
     "metadata": {},
     "output_type": "execute_result"
    }
   ],
   "source": [
    "neighbors((1,2))"
   ]
  },
  {
   "cell_type": "code",
   "execution_count": 73,
   "id": "62a8164d-6f11-4ee6-8ac9-7e71ac556102",
   "metadata": {},
   "outputs": [
    {
     "data": {
      "text/plain": [
       "basin_size (generic function with 1 method)"
      ]
     },
     "execution_count": 73,
     "metadata": {},
     "output_type": "execute_result"
    }
   ],
   "source": [
    "function basin_size(pheights, startpoint)\n",
    "    basin = Set([startpoint])\n",
    "    not_basin = Set([])\n",
    "    to_explore = neighbors(startpoint)\n",
    "    while length(to_explore) > 0\n",
    "        pos = pop!(to_explore)\n",
    "        if pheights[pos[1],pos[2]] .< 9\n",
    "            push!(basin, pos)\n",
    "            push!(to_explore, (setdiff(Set(neighbors(pos)),union(basin,not_basin)))...)\n",
    "        else\n",
    "            push!(not_basin, pos)\n",
    "        end\n",
    "    end\n",
    "    return length(basin)\n",
    "end"
   ]
  },
  {
   "cell_type": "code",
   "execution_count": 74,
   "id": "fbe89745-04ce-40a0-8549-b0ba7502ce36",
   "metadata": {},
   "outputs": [
    {
     "data": {
      "text/plain": [
       "10"
      ]
     },
     "execution_count": 74,
     "metadata": {},
     "output_type": "execute_result"
    }
   ],
   "source": [
    "basin_size(pheights,lowpoints[1])"
   ]
  },
  {
   "cell_type": "code",
   "execution_count": 77,
   "id": "f62bb2d5-a95e-432b-9999-4a60b1eaa9ff",
   "metadata": {},
   "outputs": [
    {
     "data": {
      "text/plain": [
       "205-element Vector{Int64}:\n",
       "   2\n",
       "   2\n",
       "   2\n",
       "   2\n",
       "   2\n",
       "   2\n",
       "   2\n",
       "   2\n",
       "   3\n",
       "   3\n",
       "   3\n",
       "   3\n",
       "   3\n",
       "   ⋮\n",
       "  87\n",
       "  88\n",
       "  89\n",
       "  89\n",
       "  90\n",
       "  91\n",
       "  93\n",
       "  96\n",
       "  98\n",
       " 101\n",
       " 102\n",
       " 106"
      ]
     },
     "execution_count": 77,
     "metadata": {},
     "output_type": "execute_result"
    }
   ],
   "source": [
    "sort([basin_size(pheights, l) for l in lowpoints])"
   ]
  },
  {
   "cell_type": "code",
   "execution_count": 78,
   "id": "dbe9f62f-72db-4f6d-9feb-f9de1a91fdc8",
   "metadata": {},
   "outputs": [
    {
     "data": {
      "text/plain": [
       "1092012"
      ]
     },
     "execution_count": 78,
     "metadata": {},
     "output_type": "execute_result"
    }
   ],
   "source": [
    "101*102*106"
   ]
  },
  {
   "cell_type": "markdown",
   "id": "14f26eb1-c88f-485a-a0b1-73cdb57a4389",
   "metadata": {},
   "source": [
    "### Experiments\n",
    "\n",
    "just to see how julia works"
   ]
  },
  {
   "cell_type": "code",
   "execution_count": 42,
   "id": "ba679ffb-53a6-4663-824b-836588ca3b8e",
   "metadata": {},
   "outputs": [
    {
     "data": {
      "text/plain": [
       "Set{Tuple{Int64, Int64}} with 2 elements:\n",
       "  (1, 2)\n",
       "  (2, 3)"
      ]
     },
     "execution_count": 42,
     "metadata": {},
     "output_type": "execute_result"
    }
   ],
   "source": [
    "p = Set([(1,2),(2,3)])"
   ]
  },
  {
   "cell_type": "code",
   "execution_count": 47,
   "id": "737327ec-4447-4d62-90cd-7183e3d0143e",
   "metadata": {},
   "outputs": [
    {
     "data": {
      "text/plain": [
       "Set{Tuple{Int64, Int64}} with 2 elements:\n",
       "  (4, 5)\n",
       "  (1, 2)"
      ]
     },
     "execution_count": 47,
     "metadata": {},
     "output_type": "execute_result"
    }
   ],
   "source": [
    "q = Set([(1,2),(4,5)])"
   ]
  },
  {
   "cell_type": "code",
   "execution_count": 50,
   "id": "1ca3e431-7207-4dda-a6ef-98994630c520",
   "metadata": {},
   "outputs": [
    {
     "data": {
      "text/plain": [
       "Set{Tuple{Int64, Int64}} with 1 element:\n",
       "  (4, 5)"
      ]
     },
     "execution_count": 50,
     "metadata": {},
     "output_type": "execute_result"
    }
   ],
   "source": [
    "setdiff(q,p)"
   ]
  },
  {
   "cell_type": "code",
   "execution_count": 53,
   "id": "63a903ed-5904-4c11-92ac-2536922511d3",
   "metadata": {},
   "outputs": [
    {
     "data": {
      "text/plain": [
       "3-element Vector{Tuple{Int64, Int64}}:\n",
       " (1, 2)\n",
       " (2, 3)\n",
       " (3, 4)"
      ]
     },
     "execution_count": 53,
     "metadata": {},
     "output_type": "execute_result"
    }
   ],
   "source": [
    "t = [(1,2)]\n",
    "push!(t, [(2,3),(3,4)]...)\n",
    "t"
   ]
  },
  {
   "cell_type": "code",
   "execution_count": null,
   "id": "9edf2b04-968e-40cb-b08e-9387803f0e39",
   "metadata": {},
   "outputs": [],
   "source": []
  }
 ],
 "metadata": {
  "kernelspec": {
   "display_name": "Julia 1.6.1",
   "language": "julia",
   "name": "julia-1.6"
  },
  "language_info": {
   "file_extension": ".jl",
   "mimetype": "application/julia",
   "name": "julia",
   "version": "1.6.1"
  }
 },
 "nbformat": 4,
 "nbformat_minor": 5
}
